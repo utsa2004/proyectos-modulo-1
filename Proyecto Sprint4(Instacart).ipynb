{
 "cells": [
  {
   "cell_type": "markdown",
   "id": "67a16821-28b3-44b1-b91c-02bf05b62f8e",
   "metadata": {},
   "source": [
    "<div class=\"alert alert-block alert-success\">\n",
    "<b>Comentario general del revisor</b> <a class=\"tocSkip\"></a><br />\n",
    "Status del proyecto: <b>Aprobado</b>\n",
    "</div>\n"
   ]
  },
  {
   "cell_type": "markdown",
   "id": "06927ae0-0878-412f-9643-da841e6a9242",
   "metadata": {},
   "source": [
    "¡Hola!<br />\n",
    "Soy **Francisco Cortés**, estoy contento de revisar tu proyecto y ser parte de tu proceso de aprendizaje.\n",
    "A lo largo del texto, haré algunas observaciones sobre mejoras en el código y también haré comentarios sobre tus percepciones sobre el tema. Si existe algún error en el código, no te preocupes, estoy aquí para ayudarte a mejorarlo, en la primera iteración te lo señalaré para que tengas la oportunidad de corregirlo, pero si aún no encuentras una solución para esta tarea, te daré una pista más precisa en la próxima iteración y también algunos ejemplos prácticos. Estaré abierto a retroalimentación y discusiones sobre el tema.<br />\n",
    "Encontrarás mis comentarios a continuación - **por favor no los muevas, modifiques o borres**.\n",
    "Revisaré cuidadosamente tu código para comprobar que se han cumplido con los requisitos y te proporcionaré mis comentarios en cajas verdes, amarillas o rojas como esta:\n",
    "\n",
    "<div class=\"alert alert-block alert-success\">\n",
    "<b>Comentario del revisor</b> <a class=\"tocSkip\"></a>\n",
    "\n",
    "Si la ejecución fue perfecta succesfully.\n",
    "</div>\n",
    "\n",
    "<div class=\"alert alert-block alert-warning\">\n",
    "<b>Comentario del revisor</b> <a class=\"tocSkip\"></a>\n",
    "\n",
    "Si existe alguna recomendación para que tu código mejore.\n",
    "</div>\n",
    "\n",
    "<div class=\"alert alert-block alert-danger\">\n",
    "\n",
    "<b>Comentario del revisor</b> <a class=\"tocSkip\"></a>\n",
    "\n",
    "Si existen correcciones necesarias para cumplir con los requisitos. El trabajo no puede ser aceptado si hay alguna caja roja.\n",
    "</div>\n",
    "\n",
    "Puedes responderme de la siguiente manera:\n",
    "\n",
    "<div class=\"alert alert-block alert-info\">\n",
    "<b>Respuesta del estudiante.</b> <a class=\"tocSkip\"></a>\n",
    "</div>\n"
   ]
  },
  {
   "cell_type": "markdown",
   "id": "3Xg_RQfnafXz",
   "metadata": {
    "id": "3Xg_RQfnafXz"
   },
   "source": [
    "# ¡Llena ese carrito!"
   ]
  },
  {
   "cell_type": "markdown",
   "id": "mhIvmmkW414q",
   "metadata": {
    "id": "mhIvmmkW414q"
   },
   "source": [
    "# Introducción\n",
    "\n",
    "Instacart es una plataforma de entregas de comestibles donde la clientela puede registrar un pedido y hacer que se lo entreguen, similar a Uber Eats y Door Dash.\n",
    "El conjunto de datos que te hemos proporcionado tiene modificaciones del original. Redujimos el tamaño del conjunto para que tus cálculos se hicieran más rápido e introdujimos valores ausentes y duplicados. Tuvimos cuidado de conservar las distribuciones de los datos originales cuando hicimos los cambios.\n",
    "\n",
    "Debes completar tres pasos. Para cada uno de ellos, escribe una breve introducción que refleje con claridad cómo pretendes resolver cada paso, y escribe párrafos explicatorios que justifiquen tus decisiones al tiempo que avanzas en tu solución.  También escribe una conclusión que resuma tus hallazgos y elecciones.\n"
   ]
  },
  {
   "cell_type": "markdown",
   "id": "3MbyzpOQZ5Or",
   "metadata": {
    "id": "3MbyzpOQZ5Or",
    "jp-MarkdownHeadingCollapsed": true
   },
   "source": [
    "## Diccionario de datos\n",
    "\n",
    "Hay cinco tablas en el conjunto de datos, y tendrás que usarlas todas para hacer el preprocesamiento de datos y el análisis exploratorio de datos. A continuación se muestra un diccionario de datos que enumera las columnas de cada tabla y describe los datos que contienen.\n",
    "\n",
    "- `instacart_orders.csv`: cada fila corresponde a un pedido en la aplicación Instacart.\n",
    "    - `'order_id'`: número de ID que identifica de manera única cada pedido.\n",
    "    - `'user_id'`: número de ID que identifica de manera única la cuenta de cada cliente.\n",
    "    - `'order_number'`: el número de veces que este cliente ha hecho un pedido.\n",
    "    - `'order_dow'`: día de la semana en que se hizo el pedido (0 si es domingo).\n",
    "    - `'order_hour_of_day'`: hora del día en que se hizo el pedido.\n",
    "    - `'days_since_prior_order'`: número de días transcurridos desde que este cliente hizo su pedido anterior.\n",
    "- `products.csv`: cada fila corresponde a un producto único que pueden comprar los clientes.\n",
    "    - `'product_id'`: número ID que identifica de manera única cada producto.\n",
    "    - `'product_name'`: nombre del producto.\n",
    "    - `'aisle_id'`: número ID que identifica de manera única cada categoría de pasillo de víveres.\n",
    "    - `'department_id'`: número ID que identifica de manera única cada departamento de víveres.\n",
    "- `order_products.csv`: cada fila corresponde a un artículo pedido en un pedido.\n",
    "    - `'order_id'`: número de ID que identifica de manera única cada pedido.\n",
    "    - `'product_id'`: número ID que identifica de manera única cada producto.\n",
    "    - `'add_to_cart_order'`: el orden secuencial en el que se añadió cada artículo en el carrito.\n",
    "    - `'reordered'`: 0 si el cliente nunca ha pedido este producto antes, 1 si lo ha pedido.\n",
    "- `aisles.csv`\n",
    "    - `'aisle_id'`: número ID que identifica de manera única cada categoría de pasillo de víveres.\n",
    "    - `'aisle'`: nombre del pasillo.\n",
    "- `departments.csv`\n",
    "    - `'department_id'`: número ID que identifica de manera única cada departamento de víveres.\n",
    "    - `'department'`: nombre del departamento."
   ]
  },
  {
   "cell_type": "markdown",
   "id": "n3Ha_cNSZ8lK",
   "metadata": {
    "id": "n3Ha_cNSZ8lK"
   },
   "source": [
    "# Paso 1. Descripción de los datos\n",
    "\n",
    "Lee los archivos de datos (`/datasets/instacart_orders.csv`, `/datasets/products.csv`, `/datasets/aisles.csv`, `/datasets/departments.csv` y `/datasets/order_products.csv`) con `pd.read_csv()` usando los parámetros adecuados para leer los datos correctamente. Verifica la información para cada DataFrame creado.\n"
   ]
  },
  {
   "cell_type": "markdown",
   "id": "OmlQPLlyaAfR",
   "metadata": {
    "id": "OmlQPLlyaAfR"
   },
   "source": [
    "## Plan de solución\n",
    "\n",
    "Escribe aquí tu plan de solución para el Paso 1. Descripción de los datos.\n",
    "\n",
    "Lo primero que haré es importar las librerías de pandas, para poder realizar la mayor parte de mi codificación, incluyendo inicialmente, la lectura y preprocesamiento de datos. En segundo término importaré la librería Numpy en caso que se me presente situaciones donde tenga que validar la conversión de valores de un tipo de datos a otro. Finalmente, necesito importar la librería de matplotlib debido a que el proyecto me pide la creación y entrega de diferentes tipos de gráficos. \n",
    "\n",
    "Para la creación de los 5 Dataframes relacionados a cada tabla, pienso llamar cada Dataframe de acuerdo al nombre que tiene cada archivo CSV, esto es: 1)orders, 2)products, 3)aisles, 4)departments y 5)order_products.\n",
    "\n",
    "Una vez que estén creados cada Dataframe revisaré cada uno de ellos con los métodos \"info\" y \"head\" y tener una viualización inicial de como se encuentran los datos en cada tabla, y empezar a trabajar en su depuración."
   ]
  },
  {
   "cell_type": "code",
   "execution_count": 1,
   "id": "fbf1adab",
   "metadata": {
    "id": "fbf1adab"
   },
   "outputs": [],
   "source": [
    "# importar librerías\n",
    "import pandas as pd\n",
    "import numpy as np\n",
    "from matplotlib import pyplot as plt"
   ]
  },
  {
   "cell_type": "code",
   "execution_count": 2,
   "id": "ad36396d",
   "metadata": {
    "id": "ad36396d"
   },
   "outputs": [],
   "source": [
    "# leer conjuntos de datos en los DataFrames\n",
    "orders = pd.read_csv(\"/datasets/instacart_orders.csv\", sep=\";\")\n",
    "products = pd.read_csv(\"/datasets/products.csv\", sep=\";\")\n",
    "aisles = pd.read_csv(\"/datasets/aisles.csv\", sep=\";\")\n",
    "departments = pd.read_csv(\"/datasets/departments.csv\", sep=\";\")\n",
    "order_products = pd.read_csv(\"/datasets/order_products.csv\", sep=\";\")"
   ]
  },
  {
   "cell_type": "code",
   "execution_count": 3,
   "id": "ad6a1efa",
   "metadata": {
    "id": "ad6a1efa"
   },
   "outputs": [
    {
     "name": "stdout",
     "output_type": "stream",
     "text": [
      "<class 'pandas.core.frame.DataFrame'>\n",
      "RangeIndex: 478967 entries, 0 to 478966\n",
      "Data columns (total 6 columns):\n",
      " #   Column                  Non-Null Count   Dtype  \n",
      "---  ------                  --------------   -----  \n",
      " 0   order_id                478967 non-null  int64  \n",
      " 1   user_id                 478967 non-null  int64  \n",
      " 2   order_number            478967 non-null  int64  \n",
      " 3   order_dow               478967 non-null  int64  \n",
      " 4   order_hour_of_day       478967 non-null  int64  \n",
      " 5   days_since_prior_order  450148 non-null  float64\n",
      "dtypes: float64(1), int64(5)\n",
      "memory usage: 21.9 MB\n"
     ]
    },
    {
     "data": {
      "text/plain": [
       "<bound method NDFrame.head of         order_id  user_id  order_number  order_dow  order_hour_of_day  \\\n",
       "0        1515936   183418            11          6                 13   \n",
       "1        1690866   163593             5          5                 12   \n",
       "2        1454967    39980             4          5                 19   \n",
       "3        1768857    82516            56          0                 20   \n",
       "4        3007858   196724             2          4                 12   \n",
       "...          ...      ...           ...        ...                ...   \n",
       "478962   3210681     5617             5          1                 14   \n",
       "478963   3270802   112087             2          3                 13   \n",
       "478964    885349    82944            16          2                 11   \n",
       "478965    216274     4391             3          3                  8   \n",
       "478966   2071924     1730            18          1                 14   \n",
       "\n",
       "        days_since_prior_order  \n",
       "0                         30.0  \n",
       "1                          9.0  \n",
       "2                          2.0  \n",
       "3                         10.0  \n",
       "4                         17.0  \n",
       "...                        ...  \n",
       "478962                     7.0  \n",
       "478963                     6.0  \n",
       "478964                     6.0  \n",
       "478965                     8.0  \n",
       "478966                    15.0  \n",
       "\n",
       "[478967 rows x 6 columns]>"
      ]
     },
     "execution_count": 3,
     "metadata": {},
     "output_type": "execute_result"
    }
   ],
   "source": [
    "# mostrar información del DataFrame\n",
    "orders.info(show_counts=True)\n",
    "orders.head"
   ]
  },
  {
   "cell_type": "code",
   "execution_count": 4,
   "id": "5a4ed752-62ed-40d7-a496-bbe8c45fc208",
   "metadata": {},
   "outputs": [
    {
     "data": {
      "text/html": [
       "<div>\n",
       "<style scoped>\n",
       "    .dataframe tbody tr th:only-of-type {\n",
       "        vertical-align: middle;\n",
       "    }\n",
       "\n",
       "    .dataframe tbody tr th {\n",
       "        vertical-align: top;\n",
       "    }\n",
       "\n",
       "    .dataframe thead th {\n",
       "        text-align: right;\n",
       "    }\n",
       "</style>\n",
       "<table border=\"1\" class=\"dataframe\">\n",
       "  <thead>\n",
       "    <tr style=\"text-align: right;\">\n",
       "      <th></th>\n",
       "      <th>order_id</th>\n",
       "      <th>user_id</th>\n",
       "      <th>order_number</th>\n",
       "      <th>order_dow</th>\n",
       "      <th>order_hour_of_day</th>\n",
       "      <th>days_since_prior_order</th>\n",
       "    </tr>\n",
       "  </thead>\n",
       "  <tbody>\n",
       "    <tr>\n",
       "      <th>389323</th>\n",
       "      <td>1229382</td>\n",
       "      <td>158034</td>\n",
       "      <td>1</td>\n",
       "      <td>6</td>\n",
       "      <td>12</td>\n",
       "      <td>NaN</td>\n",
       "    </tr>\n",
       "    <tr>\n",
       "      <th>355396</th>\n",
       "      <td>1978149</td>\n",
       "      <td>65078</td>\n",
       "      <td>19</td>\n",
       "      <td>6</td>\n",
       "      <td>15</td>\n",
       "      <td>17.0</td>\n",
       "    </tr>\n",
       "    <tr>\n",
       "      <th>71896</th>\n",
       "      <td>1132540</td>\n",
       "      <td>142964</td>\n",
       "      <td>3</td>\n",
       "      <td>3</td>\n",
       "      <td>22</td>\n",
       "      <td>2.0</td>\n",
       "    </tr>\n",
       "    <tr>\n",
       "      <th>35203</th>\n",
       "      <td>1018153</td>\n",
       "      <td>196469</td>\n",
       "      <td>4</td>\n",
       "      <td>5</td>\n",
       "      <td>10</td>\n",
       "      <td>22.0</td>\n",
       "    </tr>\n",
       "    <tr>\n",
       "      <th>431066</th>\n",
       "      <td>782700</td>\n",
       "      <td>132290</td>\n",
       "      <td>14</td>\n",
       "      <td>5</td>\n",
       "      <td>17</td>\n",
       "      <td>23.0</td>\n",
       "    </tr>\n",
       "    <tr>\n",
       "      <th>399912</th>\n",
       "      <td>288522</td>\n",
       "      <td>195427</td>\n",
       "      <td>39</td>\n",
       "      <td>1</td>\n",
       "      <td>11</td>\n",
       "      <td>3.0</td>\n",
       "    </tr>\n",
       "    <tr>\n",
       "      <th>257796</th>\n",
       "      <td>1250773</td>\n",
       "      <td>17455</td>\n",
       "      <td>10</td>\n",
       "      <td>1</td>\n",
       "      <td>13</td>\n",
       "      <td>7.0</td>\n",
       "    </tr>\n",
       "  </tbody>\n",
       "</table>\n",
       "</div>"
      ],
      "text/plain": [
       "        order_id  user_id  order_number  order_dow  order_hour_of_day  \\\n",
       "389323   1229382   158034             1          6                 12   \n",
       "355396   1978149    65078            19          6                 15   \n",
       "71896    1132540   142964             3          3                 22   \n",
       "35203    1018153   196469             4          5                 10   \n",
       "431066    782700   132290            14          5                 17   \n",
       "399912    288522   195427            39          1                 11   \n",
       "257796   1250773    17455            10          1                 13   \n",
       "\n",
       "        days_since_prior_order  \n",
       "389323                     NaN  \n",
       "355396                    17.0  \n",
       "71896                      2.0  \n",
       "35203                     22.0  \n",
       "431066                    23.0  \n",
       "399912                     3.0  \n",
       "257796                     7.0  "
      ]
     },
     "execution_count": 4,
     "metadata": {},
     "output_type": "execute_result"
    }
   ],
   "source": [
    "orders.sample(7) #Realizando validación que los datos en las filas de la columna \"days_since_prior_order\" \n",
    "                 #terminan en .0"
   ]
  },
  {
   "cell_type": "code",
   "execution_count": 5,
   "id": "5130e05e",
   "metadata": {
    "id": "5130e05e"
   },
   "outputs": [
    {
     "name": "stdout",
     "output_type": "stream",
     "text": [
      "<class 'pandas.core.frame.DataFrame'>\n",
      "RangeIndex: 49694 entries, 0 to 49693\n",
      "Data columns (total 4 columns):\n",
      " #   Column         Non-Null Count  Dtype \n",
      "---  ------         --------------  ----- \n",
      " 0   product_id     49694 non-null  int64 \n",
      " 1   product_name   48436 non-null  object\n",
      " 2   aisle_id       49694 non-null  int64 \n",
      " 3   department_id  49694 non-null  int64 \n",
      "dtypes: int64(3), object(1)\n",
      "memory usage: 1.5+ MB\n"
     ]
    },
    {
     "data": {
      "text/plain": [
       "<bound method NDFrame.head of        product_id                                       product_name  \\\n",
       "0               1                         Chocolate Sandwich Cookies   \n",
       "1               2                                   All-Seasons Salt   \n",
       "2               3               Robust Golden Unsweetened Oolong Tea   \n",
       "3               4  Smart Ones Classic Favorites Mini Rigatoni Wit...   \n",
       "4               5                          Green Chile Anytime Sauce   \n",
       "...           ...                                                ...   \n",
       "49689       49690                      HIGH PERFORMANCE ENERGY DRINK   \n",
       "49690       49691                      ORIGINAL PANCAKE & WAFFLE MIX   \n",
       "49691       49692    ORGANIC INSTANT OATMEAL LIGHT MAPLE BROWN SUGAR   \n",
       "49692       49693                             SPRING WATER BODY WASH   \n",
       "49693       49694                            BURRITO- STEAK & CHEESE   \n",
       "\n",
       "       aisle_id  department_id  \n",
       "0            61             19  \n",
       "1           104             13  \n",
       "2            94              7  \n",
       "3            38              1  \n",
       "4             5             13  \n",
       "...         ...            ...  \n",
       "49689        64              7  \n",
       "49690       130             14  \n",
       "49691       130             14  \n",
       "49692       127             11  \n",
       "49693        38              1  \n",
       "\n",
       "[49694 rows x 4 columns]>"
      ]
     },
     "execution_count": 5,
     "metadata": {},
     "output_type": "execute_result"
    }
   ],
   "source": [
    "# mostrar información del DataFrame\n",
    "products.info()\n",
    "products.head"
   ]
  },
  {
   "cell_type": "code",
   "execution_count": 6,
   "id": "0c6e58a2-e1d6-48df-a5a0-85c1b37f6a2b",
   "metadata": {},
   "outputs": [
    {
     "data": {
      "text/plain": [
       "Index(['product_id', 'product_name', 'aisle_id', 'department_id'], dtype='object')"
      ]
     },
     "execution_count": 6,
     "metadata": {},
     "output_type": "execute_result"
    }
   ],
   "source": [
    "products.columns #Agregue esta línea de código porque tenía duda si el nombre de la columna \"product_name\" \n",
    "                 #estaba bien escrito. Aparecía un simbolo \\ al final con espacio al llamar a \"head\".\n",
    "                 #Confirme que está correctamente escrito."
   ]
  },
  {
   "cell_type": "code",
   "execution_count": 7,
   "id": "d8370c05",
   "metadata": {
    "id": "d8370c05"
   },
   "outputs": [
    {
     "name": "stdout",
     "output_type": "stream",
     "text": [
      "<class 'pandas.core.frame.DataFrame'>\n",
      "RangeIndex: 134 entries, 0 to 133\n",
      "Data columns (total 2 columns):\n",
      " #   Column    Non-Null Count  Dtype \n",
      "---  ------    --------------  ----- \n",
      " 0   aisle_id  134 non-null    int64 \n",
      " 1   aisle     134 non-null    object\n",
      "dtypes: int64(1), object(1)\n",
      "memory usage: 2.2+ KB\n"
     ]
    },
    {
     "data": {
      "text/plain": [
       "<bound method NDFrame.head of      aisle_id                       aisle\n",
       "0           1       prepared soups salads\n",
       "1           2           specialty cheeses\n",
       "2           3         energy granola bars\n",
       "3           4               instant foods\n",
       "4           5  marinades meat preparation\n",
       "..        ...                         ...\n",
       "129       130    hot cereal pancake mixes\n",
       "130       131                   dry pasta\n",
       "131       132                      beauty\n",
       "132       133  muscles joints pain relief\n",
       "133       134  specialty wines champagnes\n",
       "\n",
       "[134 rows x 2 columns]>"
      ]
     },
     "execution_count": 7,
     "metadata": {},
     "output_type": "execute_result"
    }
   ],
   "source": [
    "# mostrar información del DataFrame\n",
    "aisles.info()\n",
    "aisles.head"
   ]
  },
  {
   "cell_type": "code",
   "execution_count": 8,
   "id": "59e2090f",
   "metadata": {
    "id": "59e2090f"
   },
   "outputs": [
    {
     "name": "stdout",
     "output_type": "stream",
     "text": [
      "<class 'pandas.core.frame.DataFrame'>\n",
      "RangeIndex: 21 entries, 0 to 20\n",
      "Data columns (total 2 columns):\n",
      " #   Column         Non-Null Count  Dtype \n",
      "---  ------         --------------  ----- \n",
      " 0   department_id  21 non-null     int64 \n",
      " 1   department     21 non-null     object\n",
      "dtypes: int64(1), object(1)\n",
      "memory usage: 464.0+ bytes\n"
     ]
    },
    {
     "data": {
      "text/plain": [
       "<bound method NDFrame.head of     department_id       department\n",
       "0               1           frozen\n",
       "1               2            other\n",
       "2               3           bakery\n",
       "3               4          produce\n",
       "4               5          alcohol\n",
       "5               6    international\n",
       "6               7        beverages\n",
       "7               8             pets\n",
       "8               9  dry goods pasta\n",
       "9              10             bulk\n",
       "10             11    personal care\n",
       "11             12     meat seafood\n",
       "12             13           pantry\n",
       "13             14        breakfast\n",
       "14             15     canned goods\n",
       "15             16       dairy eggs\n",
       "16             17        household\n",
       "17             18           babies\n",
       "18             19           snacks\n",
       "19             20             deli\n",
       "20             21          missing>"
      ]
     },
     "execution_count": 8,
     "metadata": {},
     "output_type": "execute_result"
    }
   ],
   "source": [
    "# mostrar información del DataFrame\n",
    "departments.info()\n",
    "departments.head"
   ]
  },
  {
   "cell_type": "code",
   "execution_count": 9,
   "id": "6fc81694",
   "metadata": {
    "id": "6fc81694"
   },
   "outputs": [
    {
     "name": "stdout",
     "output_type": "stream",
     "text": [
      "<class 'pandas.core.frame.DataFrame'>\n",
      "RangeIndex: 4545007 entries, 0 to 4545006\n",
      "Data columns (total 4 columns):\n",
      " #   Column             Non-Null Count    Dtype  \n",
      "---  ------             --------------    -----  \n",
      " 0   order_id           4545007 non-null  int64  \n",
      " 1   product_id         4545007 non-null  int64  \n",
      " 2   add_to_cart_order  4544171 non-null  float64\n",
      " 3   reordered          4545007 non-null  int64  \n",
      "dtypes: float64(1), int64(3)\n",
      "memory usage: 138.7 MB\n"
     ]
    },
    {
     "data": {
      "text/plain": [
       "<bound method NDFrame.head of          order_id  product_id  add_to_cart_order  reordered\n",
       "0         2141543       11440               17.0          0\n",
       "1          567889        1560                1.0          1\n",
       "2         2261212       26683                1.0          1\n",
       "3          491251        8670               35.0          1\n",
       "4         2571142        1940                5.0          1\n",
       "...           ...         ...                ...        ...\n",
       "4545002    577211       15290               12.0          1\n",
       "4545003   1219554       21914                9.0          0\n",
       "4545004    692640       47766                4.0          1\n",
       "4545005    319435         691                8.0          1\n",
       "4545006   1398151       28733                9.0          0\n",
       "\n",
       "[4545007 rows x 4 columns]>"
      ]
     },
     "execution_count": 9,
     "metadata": {},
     "output_type": "execute_result"
    }
   ],
   "source": [
    "# mostrar información del DataFrame\n",
    "order_products.info(show_counts=True)\n",
    "order_products.head"
   ]
  },
  {
   "cell_type": "code",
   "execution_count": 10,
   "id": "23440e99-1e17-475a-9d7b-bbddbaaca2a2",
   "metadata": {},
   "outputs": [
    {
     "data": {
      "text/html": [
       "<div>\n",
       "<style scoped>\n",
       "    .dataframe tbody tr th:only-of-type {\n",
       "        vertical-align: middle;\n",
       "    }\n",
       "\n",
       "    .dataframe tbody tr th {\n",
       "        vertical-align: top;\n",
       "    }\n",
       "\n",
       "    .dataframe thead th {\n",
       "        text-align: right;\n",
       "    }\n",
       "</style>\n",
       "<table border=\"1\" class=\"dataframe\">\n",
       "  <thead>\n",
       "    <tr style=\"text-align: right;\">\n",
       "      <th></th>\n",
       "      <th>order_id</th>\n",
       "      <th>product_id</th>\n",
       "      <th>add_to_cart_order</th>\n",
       "      <th>reordered</th>\n",
       "    </tr>\n",
       "  </thead>\n",
       "  <tbody>\n",
       "    <tr>\n",
       "      <th>2544171</th>\n",
       "      <td>2210665</td>\n",
       "      <td>49628</td>\n",
       "      <td>11.0</td>\n",
       "      <td>0</td>\n",
       "    </tr>\n",
       "    <tr>\n",
       "      <th>1465815</th>\n",
       "      <td>2293662</td>\n",
       "      <td>25588</td>\n",
       "      <td>16.0</td>\n",
       "      <td>0</td>\n",
       "    </tr>\n",
       "    <tr>\n",
       "      <th>2208595</th>\n",
       "      <td>2395643</td>\n",
       "      <td>6740</td>\n",
       "      <td>9.0</td>\n",
       "      <td>1</td>\n",
       "    </tr>\n",
       "    <tr>\n",
       "      <th>2533014</th>\n",
       "      <td>1755391</td>\n",
       "      <td>48808</td>\n",
       "      <td>3.0</td>\n",
       "      <td>0</td>\n",
       "    </tr>\n",
       "    <tr>\n",
       "      <th>1852609</th>\n",
       "      <td>2146509</td>\n",
       "      <td>5973</td>\n",
       "      <td>15.0</td>\n",
       "      <td>0</td>\n",
       "    </tr>\n",
       "    <tr>\n",
       "      <th>1403223</th>\n",
       "      <td>2349412</td>\n",
       "      <td>33000</td>\n",
       "      <td>9.0</td>\n",
       "      <td>1</td>\n",
       "    </tr>\n",
       "    <tr>\n",
       "      <th>524113</th>\n",
       "      <td>973981</td>\n",
       "      <td>6187</td>\n",
       "      <td>8.0</td>\n",
       "      <td>0</td>\n",
       "    </tr>\n",
       "  </tbody>\n",
       "</table>\n",
       "</div>"
      ],
      "text/plain": [
       "         order_id  product_id  add_to_cart_order  reordered\n",
       "2544171   2210665       49628               11.0          0\n",
       "1465815   2293662       25588               16.0          0\n",
       "2208595   2395643        6740                9.0          1\n",
       "2533014   1755391       48808                3.0          0\n",
       "1852609   2146509        5973               15.0          0\n",
       "1403223   2349412       33000                9.0          1\n",
       "524113     973981        6187                8.0          0"
      ]
     },
     "execution_count": 10,
     "metadata": {},
     "output_type": "execute_result"
    }
   ],
   "source": [
    "order_products.sample(7) #Lo uso para confirmar que las filas en \"add_to_cart_order\" terminan en .0"
   ]
  },
  {
   "cell_type": "markdown",
   "id": "42f1c458-754b-4ec0-b8cf-98b37ea74a6b",
   "metadata": {},
   "source": [
    "<div class=\"alert alert-block alert-success\">\n",
    "<b>Comentario del revisor</b> <a class=\"tocSkip\"></a><br />\n",
    "Correcto!<br/>\n",
    "Buena manera de leer los datos y buenas observaciones iniciales.<br/>\n",
    "    \n",
    "   \n",
    "</div>\n"
   ]
  },
  {
   "cell_type": "markdown",
   "id": "t75BD19oaR5f",
   "metadata": {
    "id": "t75BD19oaR5f",
    "jp-MarkdownHeadingCollapsed": true
   },
   "source": [
    "## Conclusiones\n",
    "\n",
    "Escribe aquí tus conclusiones intermedias sobre el Paso 1. Descripción de los datos.\n",
    "\n",
    "Al momento de llamar los métodos \"info\" y \"head\" para la lectura de los datos correspondientes a cada Dataframe, me di cuenta que los datos estaban concentrados en una sola columna que contenía diversa información que debería ser dividida por varias columnas individuales. El problema es que cada archivo tenía un delimitador particular que no permitía una lectura adecuada de la información, todos tenían el delimitador de \";\", situación que corregí usando el parámetro \"sep\". Enseguida corrobore que los nombres de las columnas señaladas en las instrucciones del proyecto las visualizará identicamente después de aplicar el parámetro \"sep\" y volviera a llamar a \"info y \"head\", lo cual coincidió al 100%. \n",
    "\n",
    "Me fije que en primera instancia al llamar a \"info\" para el Dataframe de \"order_products\", efectivamente no se arrojó la información de los valores no nulos, se omitió la columna \"Non-Null Count\", por lo que de acuerdo a las indicaciones previas del proyecto incluí el parámetro \"show_counts=True\" al llamar a \"info\" -esto es, orders.info(show_counts=True)-, y en esta ocasión si me mostró la columna con los valores no nulos. Realicé la comprobación con el Dataframe \"orders\", que es el siguiente con mayor número de filas equivalentes a 478,967, sin embargo note que al menos para este caso, la información mostrada fue exactamente la misma sin incluir el parámetro \"show_counts=True\". La diferencia entre el Dataframe con mayor número de filas con respecto al segundo es casi equivalente de 10 veces más filas, por lo que me sirve para tener una referencia de cuando aplicar el parámetro \"show_counts=True\" al llamar a \"info\" en otros proyectos, en basea la cantidad de filas que contenga un Dataframe.\n",
    "\n",
    "Otra situación que observe fue la notable diferencia existente  en los números de filas de cada Dataframe, pasando de 4 millones del más grande, a 478,967 del segundo, 49,694 del tercero, y tan solo 134 y 21 filas en los últimos dos Dataframes.\n",
    "\n",
    "Los nombres de las columnas en los 5 Dataframes los observo escritos correctamente todos con minúsculas, sin espacios en blanco al principio y final de los nombres, y utilizando el caracter de guión bajo para unir nombres de columnas con más de 1 palabra.\n",
    "\n",
    "A continuación comparto una revisión de cada Dataframe de acuerdo al número de valores nulos y la naturaleza de los tipos de datos de cada columna.\n",
    "\n",
    "1) Dataframe “orders”\n",
    "   \n",
    "Tiene la columna \"days_since_prior_order\" con un total de 28,819 valores nulos.\n",
    "\n",
    "En cuanto al tipo de datos en sus columnas, la columna “order_dow”, considero que puede manejarse de tipo \"object\", para que se muestre el nombre del día y no el número de la semana, ya que puede ser confuso debido a que regularmente no se manejan los días de la semana de forma númerica y puede ser complicado que este manejo de datos de días de forma númerica lo entiendan las personas a quienes se les va a presentar el proyecto.\n",
    "\n",
    "La columna “days_since_prior_order” debe manejarse como número entero o “int64”, ya que los días no se dividen por porciones decimales, y se demuestra porque todos los datos númericos en cada fila terminan en .0.\n",
    "\n",
    "2) Dataframe “products”\n",
    "   \n",
    "Tiene la columna “product_name” con un total de 1,258 valores nulos.\n",
    "\n",
    "Los tipos de datos asociados a cada columna los considero correctos. Sin embargo, observo que en la columna “producto_name” existen nombres completamente en mayúsculas, y otras filas con nombres escritos con la primera palabra en Mayúsculas y el resto en minúsculas. \n",
    "\n",
    "3) Dataframe “aisles”, y\n",
    "4) Dataframe “departments”\n",
    "\n",
    "No tienen valores nulos y los tipos de datos de sus columnas están correctos.\n",
    "\n",
    "5) Dataframe “order_products”\n",
    "\n",
    "Tiene la columna add_to_cart_order con un total de 836 valores nulos.\n",
    "\n",
    "Considero que podría cambiarse los datos en la columna “add_to_cart_order” de float64 a int64, debido a que se aprecia que todos los datos númericos de las filas terminan en .0\n",
    "\n",
    "\n"
   ]
  },
  {
   "cell_type": "markdown",
   "id": "8RJHqxVmaVsF",
   "metadata": {
    "id": "8RJHqxVmaVsF"
   },
   "source": [
    "# Paso 2. Preprocesamiento de los datos\n",
    "\n",
    "Preprocesa los datos de la siguiente manera:\n",
    "\n",
    "- Verifica y corrige los tipos de datos (por ejemplo, asegúrate de que las columnas de ID sean números enteros).\n",
    "- Identifica y completa los valores ausentes.\n",
    "- Identifica y elimina los valores duplicados.\n",
    "\n",
    "Asegúrate de explicar qué tipos de valores ausentes y duplicados encontraste, cómo los completaste o eliminaste y por qué usaste esos métodos. ¿Por qué crees que estos valores ausentes y duplicados pueden haber estado presentes en el conjunto de datos?"
   ]
  },
  {
   "cell_type": "markdown",
   "id": "p6poABZQaZYb",
   "metadata": {
    "id": "p6poABZQaZYb"
   },
   "source": [
    "## Plan de solución\n",
    "\n",
    "Escribe aquí tu plan para el Paso 2. Preprocesamiento de los datos.\n",
    "\n",
    "Tengo que revisar y corregir 3 temas primordiales:\n",
    "\n",
    "1) La revisión y tratamiento de los valores ausentes presentes en los Dataframes \"orders\", \"products\" y \"order_products\". El análisis respectivo sobre los valores ausentes debe llevarme a tomar una decisión del criterio para sustituir estos valores o en eliminar las filas donde se tienen valores Nan.\n",
    "\n",
    "2) El análisis y depuración en su caso, de valores duplicados explicitos y explícitos. Primero eliminar aquellas filas cuyos datos se encuentren completamente repetidos en todas las columnas. Asimismo, evaluar si existen casos de columnas individuales que tengan datos duplicados, y si es necesario eliminar los duplicados, o no hacerlo sino afectan el resultado final que se está buscando.\n",
    "\n",
    "3) Señale en mi conclusión del Paso 1 de Descripción de Datos, que puede cambiarse potencialmente el tipo de datos que tienen de origen ciertas columnas. Más específicamente tendría que analizar los siguientes casos:\n",
    "\n",
    "   a) Dataframe \"orders\"\n",
    "\n",
    "       -Columna \"order_dow\", convertir de int64 a object\n",
    "       -Columna \"days_since_prior_order\", convertir float64 a int64\n",
    "\n",
    "   b) Dataframe \"order_products\"\n",
    "\n",
    "       -Columna \"add_to_cart_order\", convertir de float64 a int64\n",
    "\n",
    "Finalmente, mencione también líneas arriba en la conclusión inicial, que en la columna \"product_name\" existen diferencias en como se encuentran escritos los nombres, unos en minúsuculas y otros cuyas palabras empiezan con mayúsculas y el resto con minúsculas. Esta situación se puede corregir pasando todas las palabras a minúsculas para mayor claridad.\n",
    "   \n",
    "   \n",
    "\n"
   ]
  },
  {
   "cell_type": "markdown",
   "id": "07357848-dc64-4156-9cc3-01ff4365226d",
   "metadata": {
    "id": "07357848-dc64-4156-9cc3-01ff4365226d"
   },
   "source": [
    "## Encuentra y elimina los valores duplicados (y describe cómo tomaste tus decisiones)."
   ]
  },
  {
   "cell_type": "markdown",
   "id": "f179f0a9",
   "metadata": {
    "id": "f179f0a9"
   },
   "source": [
    "### `orders` data frame"
   ]
  },
  {
   "cell_type": "code",
   "execution_count": 11,
   "id": "30b60d6b-988f-494a-ac27-d795676aa7dd",
   "metadata": {},
   "outputs": [
    {
     "name": "stdout",
     "output_type": "stream",
     "text": [
      "15\n"
     ]
    },
    {
     "data": {
      "text/html": [
       "<div>\n",
       "<style scoped>\n",
       "    .dataframe tbody tr th:only-of-type {\n",
       "        vertical-align: middle;\n",
       "    }\n",
       "\n",
       "    .dataframe tbody tr th {\n",
       "        vertical-align: top;\n",
       "    }\n",
       "\n",
       "    .dataframe thead th {\n",
       "        text-align: right;\n",
       "    }\n",
       "</style>\n",
       "<table border=\"1\" class=\"dataframe\">\n",
       "  <thead>\n",
       "    <tr style=\"text-align: right;\">\n",
       "      <th></th>\n",
       "      <th>order_id</th>\n",
       "      <th>user_id</th>\n",
       "      <th>order_number</th>\n",
       "      <th>order_dow</th>\n",
       "      <th>order_hour_of_day</th>\n",
       "      <th>days_since_prior_order</th>\n",
       "    </tr>\n",
       "  </thead>\n",
       "  <tbody>\n",
       "    <tr>\n",
       "      <th>30371</th>\n",
       "      <td>1918001</td>\n",
       "      <td>188546</td>\n",
       "      <td>14</td>\n",
       "      <td>3</td>\n",
       "      <td>2</td>\n",
       "      <td>16.0</td>\n",
       "    </tr>\n",
       "    <tr>\n",
       "      <th>99462</th>\n",
       "      <td>794638</td>\n",
       "      <td>50898</td>\n",
       "      <td>24</td>\n",
       "      <td>3</td>\n",
       "      <td>2</td>\n",
       "      <td>2.0</td>\n",
       "    </tr>\n",
       "    <tr>\n",
       "      <th>119251</th>\n",
       "      <td>408114</td>\n",
       "      <td>68324</td>\n",
       "      <td>4</td>\n",
       "      <td>3</td>\n",
       "      <td>2</td>\n",
       "      <td>18.0</td>\n",
       "    </tr>\n",
       "    <tr>\n",
       "      <th>142258</th>\n",
       "      <td>2845099</td>\n",
       "      <td>31189</td>\n",
       "      <td>11</td>\n",
       "      <td>3</td>\n",
       "      <td>2</td>\n",
       "      <td>7.0</td>\n",
       "    </tr>\n",
       "    <tr>\n",
       "      <th>145574</th>\n",
       "      <td>794638</td>\n",
       "      <td>50898</td>\n",
       "      <td>24</td>\n",
       "      <td>3</td>\n",
       "      <td>2</td>\n",
       "      <td>2.0</td>\n",
       "    </tr>\n",
       "    <tr>\n",
       "      <th>164581</th>\n",
       "      <td>1112182</td>\n",
       "      <td>202304</td>\n",
       "      <td>84</td>\n",
       "      <td>3</td>\n",
       "      <td>2</td>\n",
       "      <td>6.0</td>\n",
       "    </tr>\n",
       "    <tr>\n",
       "      <th>200059</th>\n",
       "      <td>1782114</td>\n",
       "      <td>106752</td>\n",
       "      <td>1</td>\n",
       "      <td>3</td>\n",
       "      <td>2</td>\n",
       "      <td>NaN</td>\n",
       "    </tr>\n",
       "    <tr>\n",
       "      <th>204042</th>\n",
       "      <td>2125197</td>\n",
       "      <td>14050</td>\n",
       "      <td>48</td>\n",
       "      <td>3</td>\n",
       "      <td>2</td>\n",
       "      <td>3.0</td>\n",
       "    </tr>\n",
       "    <tr>\n",
       "      <th>215294</th>\n",
       "      <td>2160484</td>\n",
       "      <td>107525</td>\n",
       "      <td>16</td>\n",
       "      <td>3</td>\n",
       "      <td>2</td>\n",
       "      <td>30.0</td>\n",
       "    </tr>\n",
       "    <tr>\n",
       "      <th>223105</th>\n",
       "      <td>2160484</td>\n",
       "      <td>107525</td>\n",
       "      <td>16</td>\n",
       "      <td>3</td>\n",
       "      <td>2</td>\n",
       "      <td>30.0</td>\n",
       "    </tr>\n",
       "    <tr>\n",
       "      <th>230807</th>\n",
       "      <td>1918001</td>\n",
       "      <td>188546</td>\n",
       "      <td>14</td>\n",
       "      <td>3</td>\n",
       "      <td>2</td>\n",
       "      <td>16.0</td>\n",
       "    </tr>\n",
       "    <tr>\n",
       "      <th>242618</th>\n",
       "      <td>1021560</td>\n",
       "      <td>53767</td>\n",
       "      <td>3</td>\n",
       "      <td>3</td>\n",
       "      <td>2</td>\n",
       "      <td>9.0</td>\n",
       "    </tr>\n",
       "    <tr>\n",
       "      <th>250626</th>\n",
       "      <td>467134</td>\n",
       "      <td>63189</td>\n",
       "      <td>21</td>\n",
       "      <td>3</td>\n",
       "      <td>2</td>\n",
       "      <td>2.0</td>\n",
       "    </tr>\n",
       "    <tr>\n",
       "      <th>257934</th>\n",
       "      <td>1919531</td>\n",
       "      <td>191501</td>\n",
       "      <td>32</td>\n",
       "      <td>3</td>\n",
       "      <td>2</td>\n",
       "      <td>7.0</td>\n",
       "    </tr>\n",
       "    <tr>\n",
       "      <th>259636</th>\n",
       "      <td>2282673</td>\n",
       "      <td>86751</td>\n",
       "      <td>49</td>\n",
       "      <td>3</td>\n",
       "      <td>2</td>\n",
       "      <td>2.0</td>\n",
       "    </tr>\n",
       "    <tr>\n",
       "      <th>266232</th>\n",
       "      <td>1782114</td>\n",
       "      <td>106752</td>\n",
       "      <td>1</td>\n",
       "      <td>3</td>\n",
       "      <td>2</td>\n",
       "      <td>NaN</td>\n",
       "    </tr>\n",
       "    <tr>\n",
       "      <th>273805</th>\n",
       "      <td>1112182</td>\n",
       "      <td>202304</td>\n",
       "      <td>84</td>\n",
       "      <td>3</td>\n",
       "      <td>2</td>\n",
       "      <td>6.0</td>\n",
       "    </tr>\n",
       "    <tr>\n",
       "      <th>284038</th>\n",
       "      <td>2845099</td>\n",
       "      <td>31189</td>\n",
       "      <td>11</td>\n",
       "      <td>3</td>\n",
       "      <td>2</td>\n",
       "      <td>7.0</td>\n",
       "    </tr>\n",
       "    <tr>\n",
       "      <th>311713</th>\n",
       "      <td>1021560</td>\n",
       "      <td>53767</td>\n",
       "      <td>3</td>\n",
       "      <td>3</td>\n",
       "      <td>2</td>\n",
       "      <td>9.0</td>\n",
       "    </tr>\n",
       "    <tr>\n",
       "      <th>314427</th>\n",
       "      <td>1286742</td>\n",
       "      <td>183220</td>\n",
       "      <td>48</td>\n",
       "      <td>3</td>\n",
       "      <td>2</td>\n",
       "      <td>4.0</td>\n",
       "    </tr>\n",
       "    <tr>\n",
       "      <th>321100</th>\n",
       "      <td>408114</td>\n",
       "      <td>68324</td>\n",
       "      <td>4</td>\n",
       "      <td>3</td>\n",
       "      <td>2</td>\n",
       "      <td>18.0</td>\n",
       "    </tr>\n",
       "    <tr>\n",
       "      <th>323900</th>\n",
       "      <td>1919531</td>\n",
       "      <td>191501</td>\n",
       "      <td>32</td>\n",
       "      <td>3</td>\n",
       "      <td>2</td>\n",
       "      <td>7.0</td>\n",
       "    </tr>\n",
       "    <tr>\n",
       "      <th>324868</th>\n",
       "      <td>2232988</td>\n",
       "      <td>82565</td>\n",
       "      <td>1</td>\n",
       "      <td>3</td>\n",
       "      <td>2</td>\n",
       "      <td>NaN</td>\n",
       "    </tr>\n",
       "    <tr>\n",
       "      <th>345917</th>\n",
       "      <td>2232988</td>\n",
       "      <td>82565</td>\n",
       "      <td>1</td>\n",
       "      <td>3</td>\n",
       "      <td>2</td>\n",
       "      <td>NaN</td>\n",
       "    </tr>\n",
       "    <tr>\n",
       "      <th>354993</th>\n",
       "      <td>391768</td>\n",
       "      <td>57671</td>\n",
       "      <td>19</td>\n",
       "      <td>3</td>\n",
       "      <td>2</td>\n",
       "      <td>10.0</td>\n",
       "    </tr>\n",
       "    <tr>\n",
       "      <th>371905</th>\n",
       "      <td>391768</td>\n",
       "      <td>57671</td>\n",
       "      <td>19</td>\n",
       "      <td>3</td>\n",
       "      <td>2</td>\n",
       "      <td>10.0</td>\n",
       "    </tr>\n",
       "    <tr>\n",
       "      <th>394347</th>\n",
       "      <td>467134</td>\n",
       "      <td>63189</td>\n",
       "      <td>21</td>\n",
       "      <td>3</td>\n",
       "      <td>2</td>\n",
       "      <td>2.0</td>\n",
       "    </tr>\n",
       "    <tr>\n",
       "      <th>411408</th>\n",
       "      <td>1286742</td>\n",
       "      <td>183220</td>\n",
       "      <td>48</td>\n",
       "      <td>3</td>\n",
       "      <td>2</td>\n",
       "      <td>4.0</td>\n",
       "    </tr>\n",
       "    <tr>\n",
       "      <th>415163</th>\n",
       "      <td>2282673</td>\n",
       "      <td>86751</td>\n",
       "      <td>49</td>\n",
       "      <td>3</td>\n",
       "      <td>2</td>\n",
       "      <td>2.0</td>\n",
       "    </tr>\n",
       "    <tr>\n",
       "      <th>441599</th>\n",
       "      <td>2125197</td>\n",
       "      <td>14050</td>\n",
       "      <td>48</td>\n",
       "      <td>3</td>\n",
       "      <td>2</td>\n",
       "      <td>3.0</td>\n",
       "    </tr>\n",
       "  </tbody>\n",
       "</table>\n",
       "</div>"
      ],
      "text/plain": [
       "        order_id  user_id  order_number  order_dow  order_hour_of_day  \\\n",
       "30371    1918001   188546            14          3                  2   \n",
       "99462     794638    50898            24          3                  2   \n",
       "119251    408114    68324             4          3                  2   \n",
       "142258   2845099    31189            11          3                  2   \n",
       "145574    794638    50898            24          3                  2   \n",
       "164581   1112182   202304            84          3                  2   \n",
       "200059   1782114   106752             1          3                  2   \n",
       "204042   2125197    14050            48          3                  2   \n",
       "215294   2160484   107525            16          3                  2   \n",
       "223105   2160484   107525            16          3                  2   \n",
       "230807   1918001   188546            14          3                  2   \n",
       "242618   1021560    53767             3          3                  2   \n",
       "250626    467134    63189            21          3                  2   \n",
       "257934   1919531   191501            32          3                  2   \n",
       "259636   2282673    86751            49          3                  2   \n",
       "266232   1782114   106752             1          3                  2   \n",
       "273805   1112182   202304            84          3                  2   \n",
       "284038   2845099    31189            11          3                  2   \n",
       "311713   1021560    53767             3          3                  2   \n",
       "314427   1286742   183220            48          3                  2   \n",
       "321100    408114    68324             4          3                  2   \n",
       "323900   1919531   191501            32          3                  2   \n",
       "324868   2232988    82565             1          3                  2   \n",
       "345917   2232988    82565             1          3                  2   \n",
       "354993    391768    57671            19          3                  2   \n",
       "371905    391768    57671            19          3                  2   \n",
       "394347    467134    63189            21          3                  2   \n",
       "411408   1286742   183220            48          3                  2   \n",
       "415163   2282673    86751            49          3                  2   \n",
       "441599   2125197    14050            48          3                  2   \n",
       "\n",
       "        days_since_prior_order  \n",
       "30371                     16.0  \n",
       "99462                      2.0  \n",
       "119251                    18.0  \n",
       "142258                     7.0  \n",
       "145574                     2.0  \n",
       "164581                     6.0  \n",
       "200059                     NaN  \n",
       "204042                     3.0  \n",
       "215294                    30.0  \n",
       "223105                    30.0  \n",
       "230807                    16.0  \n",
       "242618                     9.0  \n",
       "250626                     2.0  \n",
       "257934                     7.0  \n",
       "259636                     2.0  \n",
       "266232                     NaN  \n",
       "273805                     6.0  \n",
       "284038                     7.0  \n",
       "311713                     9.0  \n",
       "314427                     4.0  \n",
       "321100                    18.0  \n",
       "323900                     7.0  \n",
       "324868                     NaN  \n",
       "345917                     NaN  \n",
       "354993                    10.0  \n",
       "371905                    10.0  \n",
       "394347                     2.0  \n",
       "411408                     4.0  \n",
       "415163                     2.0  \n",
       "441599                     3.0  "
      ]
     },
     "execution_count": 11,
     "metadata": {},
     "output_type": "execute_result"
    }
   ],
   "source": [
    "# Revisa si hay pedidos duplicados\n",
    "print(orders.duplicated().sum())\n",
    "orders[orders.duplicated(keep=False)]"
   ]
  },
  {
   "cell_type": "markdown",
   "id": "PEkwUX_gvt5A",
   "metadata": {
    "id": "PEkwUX_gvt5A"
   },
   "source": [
    "¿Tienes líneas duplicadas? Si sí, ¿qué tienen en común?\n",
    "\n",
    "Si, hay 15 líneas duplicadas, y fueron de pedidos registrados el día miércoles a las 2:00 a.m."
   ]
  },
  {
   "cell_type": "code",
   "execution_count": 12,
   "id": "0d44de5d",
   "metadata": {
    "id": "0d44de5d"
   },
   "outputs": [
    {
     "data": {
      "text/html": [
       "<div>\n",
       "<style scoped>\n",
       "    .dataframe tbody tr th:only-of-type {\n",
       "        vertical-align: middle;\n",
       "    }\n",
       "\n",
       "    .dataframe tbody tr th {\n",
       "        vertical-align: top;\n",
       "    }\n",
       "\n",
       "    .dataframe thead th {\n",
       "        text-align: right;\n",
       "    }\n",
       "</style>\n",
       "<table border=\"1\" class=\"dataframe\">\n",
       "  <thead>\n",
       "    <tr style=\"text-align: right;\">\n",
       "      <th></th>\n",
       "      <th>order_id</th>\n",
       "      <th>user_id</th>\n",
       "      <th>order_number</th>\n",
       "      <th>order_dow</th>\n",
       "      <th>order_hour_of_day</th>\n",
       "      <th>days_since_prior_order</th>\n",
       "    </tr>\n",
       "  </thead>\n",
       "  <tbody>\n",
       "    <tr>\n",
       "      <th>4838</th>\n",
       "      <td>2766110</td>\n",
       "      <td>162084</td>\n",
       "      <td>41</td>\n",
       "      <td>3</td>\n",
       "      <td>2</td>\n",
       "      <td>16.0</td>\n",
       "    </tr>\n",
       "    <tr>\n",
       "      <th>5156</th>\n",
       "      <td>2190225</td>\n",
       "      <td>138285</td>\n",
       "      <td>18</td>\n",
       "      <td>3</td>\n",
       "      <td>2</td>\n",
       "      <td>11.0</td>\n",
       "    </tr>\n",
       "    <tr>\n",
       "      <th>15506</th>\n",
       "      <td>553049</td>\n",
       "      <td>58599</td>\n",
       "      <td>13</td>\n",
       "      <td>3</td>\n",
       "      <td>2</td>\n",
       "      <td>7.0</td>\n",
       "    </tr>\n",
       "    <tr>\n",
       "      <th>18420</th>\n",
       "      <td>382357</td>\n",
       "      <td>120200</td>\n",
       "      <td>19</td>\n",
       "      <td>3</td>\n",
       "      <td>2</td>\n",
       "      <td>11.0</td>\n",
       "    </tr>\n",
       "    <tr>\n",
       "      <th>24691</th>\n",
       "      <td>690242</td>\n",
       "      <td>77357</td>\n",
       "      <td>2</td>\n",
       "      <td>3</td>\n",
       "      <td>2</td>\n",
       "      <td>9.0</td>\n",
       "    </tr>\n",
       "    <tr>\n",
       "      <th>...</th>\n",
       "      <td>...</td>\n",
       "      <td>...</td>\n",
       "      <td>...</td>\n",
       "      <td>...</td>\n",
       "      <td>...</td>\n",
       "      <td>...</td>\n",
       "    </tr>\n",
       "    <tr>\n",
       "      <th>457013</th>\n",
       "      <td>3384021</td>\n",
       "      <td>14881</td>\n",
       "      <td>6</td>\n",
       "      <td>3</td>\n",
       "      <td>2</td>\n",
       "      <td>30.0</td>\n",
       "    </tr>\n",
       "    <tr>\n",
       "      <th>458816</th>\n",
       "      <td>910166</td>\n",
       "      <td>164782</td>\n",
       "      <td>18</td>\n",
       "      <td>3</td>\n",
       "      <td>2</td>\n",
       "      <td>4.0</td>\n",
       "    </tr>\n",
       "    <tr>\n",
       "      <th>459635</th>\n",
       "      <td>1680532</td>\n",
       "      <td>106435</td>\n",
       "      <td>6</td>\n",
       "      <td>3</td>\n",
       "      <td>2</td>\n",
       "      <td>21.0</td>\n",
       "    </tr>\n",
       "    <tr>\n",
       "      <th>468324</th>\n",
       "      <td>222962</td>\n",
       "      <td>54979</td>\n",
       "      <td>59</td>\n",
       "      <td>3</td>\n",
       "      <td>2</td>\n",
       "      <td>3.0</td>\n",
       "    </tr>\n",
       "    <tr>\n",
       "      <th>477526</th>\n",
       "      <td>2592344</td>\n",
       "      <td>46860</td>\n",
       "      <td>38</td>\n",
       "      <td>3</td>\n",
       "      <td>2</td>\n",
       "      <td>3.0</td>\n",
       "    </tr>\n",
       "  </tbody>\n",
       "</table>\n",
       "<p>121 rows × 6 columns</p>\n",
       "</div>"
      ],
      "text/plain": [
       "        order_id  user_id  order_number  order_dow  order_hour_of_day  \\\n",
       "4838     2766110   162084            41          3                  2   \n",
       "5156     2190225   138285            18          3                  2   \n",
       "15506     553049    58599            13          3                  2   \n",
       "18420     382357   120200            19          3                  2   \n",
       "24691     690242    77357             2          3                  2   \n",
       "...          ...      ...           ...        ...                ...   \n",
       "457013   3384021    14881             6          3                  2   \n",
       "458816    910166   164782            18          3                  2   \n",
       "459635   1680532   106435             6          3                  2   \n",
       "468324    222962    54979            59          3                  2   \n",
       "477526   2592344    46860            38          3                  2   \n",
       "\n",
       "        days_since_prior_order  \n",
       "4838                      16.0  \n",
       "5156                      11.0  \n",
       "15506                      7.0  \n",
       "18420                     11.0  \n",
       "24691                      9.0  \n",
       "...                        ...  \n",
       "457013                    30.0  \n",
       "458816                     4.0  \n",
       "459635                    21.0  \n",
       "468324                     3.0  \n",
       "477526                     3.0  \n",
       "\n",
       "[121 rows x 6 columns]"
      ]
     },
     "execution_count": 12,
     "metadata": {},
     "output_type": "execute_result"
    }
   ],
   "source": [
    "# Basándote en tus hallazgos,\n",
    "# Verifica todos los pedidos que se hicieron el miércoles a las 2:00 a.m.\n",
    "orders[(orders[\"order_dow\"] == 3) & (orders[\"order_hour_of_day\"] == 2)]"
   ]
  },
  {
   "cell_type": "markdown",
   "id": "vu2OWyoqwOx5",
   "metadata": {
    "id": "vu2OWyoqwOx5"
   },
   "source": [
    "¿Qué sugiere este resultado?\n",
    "\n",
    "Observo que se registraron 91 pedidos más que no registaron problemas, adicionales a los 15 que tienen duplicaciones, por lo que me lleva a pensar que posiblemente hubo una falla en el sistema a esa hora que causo la duplicación. Generalmente las actualizaciones de los sistemas se realizan por las madrugadas y eso pudo impactar."
   ]
  },
  {
   "cell_type": "code",
   "execution_count": 13,
   "id": "480563c7",
   "metadata": {
    "id": "480563c7"
   },
   "outputs": [],
   "source": [
    "# Elimina los pedidos duplicados\n",
    "orders = orders.drop_duplicates().reset_index(drop=True)\n"
   ]
  },
  {
   "cell_type": "code",
   "execution_count": 14,
   "id": "0b2396a2",
   "metadata": {
    "id": "0b2396a2"
   },
   "outputs": [
    {
     "data": {
      "text/plain": [
       "0"
      ]
     },
     "execution_count": 14,
     "metadata": {},
     "output_type": "execute_result"
    }
   ],
   "source": [
    "# Vuelve a verificar si hay filas duplicadas\n",
    "orders.duplicated().sum()\n"
   ]
  },
  {
   "cell_type": "code",
   "execution_count": 15,
   "id": "f6113ef1",
   "metadata": {
    "id": "f6113ef1"
   },
   "outputs": [
    {
     "data": {
      "text/html": [
       "<div>\n",
       "<style scoped>\n",
       "    .dataframe tbody tr th:only-of-type {\n",
       "        vertical-align: middle;\n",
       "    }\n",
       "\n",
       "    .dataframe tbody tr th {\n",
       "        vertical-align: top;\n",
       "    }\n",
       "\n",
       "    .dataframe thead th {\n",
       "        text-align: right;\n",
       "    }\n",
       "</style>\n",
       "<table border=\"1\" class=\"dataframe\">\n",
       "  <thead>\n",
       "    <tr style=\"text-align: right;\">\n",
       "      <th></th>\n",
       "      <th>order_id</th>\n",
       "      <th>user_id</th>\n",
       "      <th>order_number</th>\n",
       "      <th>order_dow</th>\n",
       "      <th>order_hour_of_day</th>\n",
       "      <th>days_since_prior_order</th>\n",
       "    </tr>\n",
       "  </thead>\n",
       "  <tbody>\n",
       "  </tbody>\n",
       "</table>\n",
       "</div>"
      ],
      "text/plain": [
       "Empty DataFrame\n",
       "Columns: [order_id, user_id, order_number, order_dow, order_hour_of_day, days_since_prior_order]\n",
       "Index: []"
      ]
     },
     "execution_count": 15,
     "metadata": {},
     "output_type": "execute_result"
    }
   ],
   "source": [
    "# Vuelve a verificar únicamente si hay IDs duplicados de pedidos\n",
    "orders[orders.duplicated(subset=[\"order_id\"])]\n"
   ]
  },
  {
   "cell_type": "markdown",
   "id": "5e8905ae",
   "metadata": {
    "id": "5e8905ae"
   },
   "source": [
    "Describe brevemente tus hallazgos y lo que hiciste con ellos\n",
    "\n",
    "Se detecto que para el Dataframe \"orders\" habían 15 filas de pedidos duplicados, los cuales pudieron producirse por una falla del sistema por haberse presentado a las 2 a.m.. Se asume esto porque hay otros peddos que se registaron a esa misma hora y no presentaron duplicaciones. Como comentario adicional, dos filas tenían valores nulos en la columna \"days_since_prior_order\". Se eliminaron las filas duplicadas llamando al método drop_duplicates() y se corroboró que ya no existían filas duplicadas tomando la columna \"order_id\" como referencia."
   ]
  },
  {
   "cell_type": "markdown",
   "id": "c47ef948-3379-4d2a-acdc-0e90fe57bfd6",
   "metadata": {},
   "source": [
    "<div class=\"alert alert-block alert-success\">\n",
    "<b>Comentario del revisor</b> <a class=\"tocSkip\"></a><br />\n",
    "Bien hecho!<br/>\n",
    "Los duplicados fueron eliminados correctamente\n",
    "</div>\n"
   ]
  },
  {
   "cell_type": "markdown",
   "id": "45e6bc46",
   "metadata": {
    "id": "45e6bc46"
   },
   "source": [
    "### `products` data frame"
   ]
  },
  {
   "cell_type": "code",
   "execution_count": 16,
   "id": "5f526b5b-8175-46fa-a0fd-441767d50e64",
   "metadata": {
    "id": "5f526b5b-8175-46fa-a0fd-441767d50e64"
   },
   "outputs": [
    {
     "name": "stdout",
     "output_type": "stream",
     "text": [
      "0\n"
     ]
    }
   ],
   "source": [
    "# Verifica si hay filas totalmente duplicadas\n",
    "print(products.duplicated().sum())\n"
   ]
  },
  {
   "cell_type": "code",
   "execution_count": 17,
   "id": "172057ba-bbb1-48a7-93e2-3fe1cc0e495f",
   "metadata": {},
   "outputs": [
    {
     "data": {
      "text/html": [
       "<div>\n",
       "<style scoped>\n",
       "    .dataframe tbody tr th:only-of-type {\n",
       "        vertical-align: middle;\n",
       "    }\n",
       "\n",
       "    .dataframe tbody tr th {\n",
       "        vertical-align: top;\n",
       "    }\n",
       "\n",
       "    .dataframe thead th {\n",
       "        text-align: right;\n",
       "    }\n",
       "</style>\n",
       "<table border=\"1\" class=\"dataframe\">\n",
       "  <thead>\n",
       "    <tr style=\"text-align: right;\">\n",
       "      <th></th>\n",
       "      <th>product_id</th>\n",
       "      <th>product_name</th>\n",
       "      <th>aisle_id</th>\n",
       "      <th>department_id</th>\n",
       "    </tr>\n",
       "  </thead>\n",
       "  <tbody>\n",
       "  </tbody>\n",
       "</table>\n",
       "</div>"
      ],
      "text/plain": [
       "Empty DataFrame\n",
       "Columns: [product_id, product_name, aisle_id, department_id]\n",
       "Index: []"
      ]
     },
     "execution_count": 17,
     "metadata": {},
     "output_type": "execute_result"
    }
   ],
   "source": [
    "# Revisa únicamente si hay ID de productos duplicados\n",
    "products[products.duplicated(subset=[\"product_id\"])]\n"
   ]
  },
  {
   "cell_type": "code",
   "execution_count": 18,
   "id": "88daa4f4",
   "metadata": {
    "id": "88daa4f4"
   },
   "outputs": [
    {
     "data": {
      "text/plain": [
       "Series([], Name: product_id, dtype: int64)"
      ]
     },
     "execution_count": 18,
     "metadata": {},
     "output_type": "execute_result"
    }
   ],
   "source": [
    "# Revisa únicamente si hay ID de productos duplicados\n",
    "# Otra alternativa de verificar si hay duplicados, pero regresando solo la información de la columna \"product_id\"\n",
    "products[\"product_id\"][products[\"product_id\"].duplicated()] \n",
    "\n"
   ]
  },
  {
   "cell_type": "code",
   "execution_count": 19,
   "id": "c773f0bf",
   "metadata": {
    "id": "c773f0bf"
   },
   "outputs": [
    {
     "data": {
      "text/html": [
       "<div>\n",
       "<style scoped>\n",
       "    .dataframe tbody tr th:only-of-type {\n",
       "        vertical-align: middle;\n",
       "    }\n",
       "\n",
       "    .dataframe tbody tr th {\n",
       "        vertical-align: top;\n",
       "    }\n",
       "\n",
       "    .dataframe thead th {\n",
       "        text-align: right;\n",
       "    }\n",
       "</style>\n",
       "<table border=\"1\" class=\"dataframe\">\n",
       "  <thead>\n",
       "    <tr style=\"text-align: right;\">\n",
       "      <th></th>\n",
       "      <th>product_id</th>\n",
       "      <th>product_name</th>\n",
       "      <th>aisle_id</th>\n",
       "      <th>department_id</th>\n",
       "    </tr>\n",
       "  </thead>\n",
       "  <tbody>\n",
       "    <tr>\n",
       "      <th>20553</th>\n",
       "      <td>20554</td>\n",
       "      <td>MISO-CUP SAVORY SOUP WITH SEAWEED</td>\n",
       "      <td>69</td>\n",
       "      <td>15</td>\n",
       "    </tr>\n",
       "    <tr>\n",
       "      <th>19912</th>\n",
       "      <td>19913</td>\n",
       "      <td>SUNNY ORANGE GINGER TEA</td>\n",
       "      <td>94</td>\n",
       "      <td>7</td>\n",
       "    </tr>\n",
       "    <tr>\n",
       "      <th>47534</th>\n",
       "      <td>47535</td>\n",
       "      <td>APPLES + BLUEBERRIES BARS</td>\n",
       "      <td>3</td>\n",
       "      <td>19</td>\n",
       "    </tr>\n",
       "    <tr>\n",
       "      <th>8558</th>\n",
       "      <td>8559</td>\n",
       "      <td>ACTI-FRESH BODY SHAPE THIN UNSCENTED PANTILINERS</td>\n",
       "      <td>126</td>\n",
       "      <td>11</td>\n",
       "    </tr>\n",
       "    <tr>\n",
       "      <th>883</th>\n",
       "      <td>884</td>\n",
       "      <td>DRIED PARSLEY FLAKES</td>\n",
       "      <td>104</td>\n",
       "      <td>13</td>\n",
       "    </tr>\n",
       "  </tbody>\n",
       "</table>\n",
       "</div>"
      ],
      "text/plain": [
       "       product_id                                      product_name  aisle_id  \\\n",
       "20553       20554                 MISO-CUP SAVORY SOUP WITH SEAWEED        69   \n",
       "19912       19913                           SUNNY ORANGE GINGER TEA        94   \n",
       "47534       47535                         APPLES + BLUEBERRIES BARS         3   \n",
       "8558         8559  ACTI-FRESH BODY SHAPE THIN UNSCENTED PANTILINERS       126   \n",
       "883           884                              DRIED PARSLEY FLAKES       104   \n",
       "\n",
       "       department_id  \n",
       "20553             15  \n",
       "19912              7  \n",
       "47534             19  \n",
       "8558              11  \n",
       "883               13  "
      ]
     },
     "execution_count": 19,
     "metadata": {},
     "output_type": "execute_result"
    }
   ],
   "source": [
    "# Revisa únicamente si hay nombres duplicados de productos (convierte los nombres a letras mayúsculas para compararlos mejor)\n",
    "products[\"product_name\"] = products[\"product_name\"].str.upper()\n",
    "products.sample(5) # Verificando que se realizaron los cambios a mayúsculas a los nombres \n"
   ]
  },
  {
   "cell_type": "code",
   "execution_count": 20,
   "id": "01efd02e",
   "metadata": {
    "id": "01efd02e"
   },
   "outputs": [
    {
     "data": {
      "text/html": [
       "<div>\n",
       "<style scoped>\n",
       "    .dataframe tbody tr th:only-of-type {\n",
       "        vertical-align: middle;\n",
       "    }\n",
       "\n",
       "    .dataframe tbody tr th {\n",
       "        vertical-align: top;\n",
       "    }\n",
       "\n",
       "    .dataframe thead th {\n",
       "        text-align: right;\n",
       "    }\n",
       "</style>\n",
       "<table border=\"1\" class=\"dataframe\">\n",
       "  <thead>\n",
       "    <tr style=\"text-align: right;\">\n",
       "      <th></th>\n",
       "      <th>product_id</th>\n",
       "      <th>product_name</th>\n",
       "      <th>aisle_id</th>\n",
       "      <th>department_id</th>\n",
       "    </tr>\n",
       "  </thead>\n",
       "  <tbody>\n",
       "  </tbody>\n",
       "</table>\n",
       "</div>"
      ],
      "text/plain": [
       "Empty DataFrame\n",
       "Columns: [product_id, product_name, aisle_id, department_id]\n",
       "Index: []"
      ]
     },
     "execution_count": 20,
     "metadata": {},
     "output_type": "execute_result"
    }
   ],
   "source": [
    "# Revisa si hay nombres duplicados de productos no faltantes\n",
    "products[products.duplicated(subset=[\"product_id\"])]\n"
   ]
  },
  {
   "cell_type": "markdown",
   "id": "9da8d293",
   "metadata": {
    "id": "9da8d293"
   },
   "source": [
    "Describe brevemente tus hallazgos y lo que hiciste con ellos.\n",
    "\n",
    "Al iniciar a ejecutar los códigos llamando al método \"duplicated\", observe que el Dataframe \"products\" no tenía valores duplicados explicitos, y posteriormente, al convertir los nombres a mayúsculas de todas las filas de la columna \"product_name\", también verifique que no habían duplicados implícitos al llamar al método \"duplicated\". Con esto, corregí la observación que realice en mis conclusiones iniciales que habían inconsistencias de mayúsculas y minúsculas en la columna \"product_name\" pertenenciente al Dataframe \"products\"."
   ]
  },
  {
   "cell_type": "markdown",
   "id": "55646865-4564-4e9d-93f7-c3214da45f7e",
   "metadata": {},
   "source": [
    "<div class=\"alert alert-block alert-success\">\n",
    "<b>Comentario del revisor</b> <a class=\"tocSkip\"></a><br />\n",
    "Bien hecho!<br/>\n",
    "Los datos han sido revisados apropiadamente\n",
    "</div>\n"
   ]
  },
  {
   "cell_type": "markdown",
   "id": "60f30db1",
   "metadata": {
    "id": "60f30db1"
   },
   "source": [
    "### `departments` data frame"
   ]
  },
  {
   "cell_type": "code",
   "execution_count": 21,
   "id": "fb410ad4-0fbf-4b80-bb09-23fdea79afe3",
   "metadata": {
    "id": "fb410ad4-0fbf-4b80-bb09-23fdea79afe3"
   },
   "outputs": [
    {
     "data": {
      "text/plain": [
       "0"
      ]
     },
     "execution_count": 21,
     "metadata": {},
     "output_type": "execute_result"
    }
   ],
   "source": [
    "# Revisa si hay filas totalmente duplicadas\n",
    "departments.duplicated().sum()"
   ]
  },
  {
   "cell_type": "code",
   "execution_count": 22,
   "id": "332b12bb",
   "metadata": {
    "id": "332b12bb"
   },
   "outputs": [
    {
     "data": {
      "text/html": [
       "<div>\n",
       "<style scoped>\n",
       "    .dataframe tbody tr th:only-of-type {\n",
       "        vertical-align: middle;\n",
       "    }\n",
       "\n",
       "    .dataframe tbody tr th {\n",
       "        vertical-align: top;\n",
       "    }\n",
       "\n",
       "    .dataframe thead th {\n",
       "        text-align: right;\n",
       "    }\n",
       "</style>\n",
       "<table border=\"1\" class=\"dataframe\">\n",
       "  <thead>\n",
       "    <tr style=\"text-align: right;\">\n",
       "      <th></th>\n",
       "      <th>department_id</th>\n",
       "      <th>department</th>\n",
       "    </tr>\n",
       "  </thead>\n",
       "  <tbody>\n",
       "  </tbody>\n",
       "</table>\n",
       "</div>"
      ],
      "text/plain": [
       "Empty DataFrame\n",
       "Columns: [department_id, department]\n",
       "Index: []"
      ]
     },
     "execution_count": 22,
     "metadata": {},
     "output_type": "execute_result"
    }
   ],
   "source": [
    "# Revisa únicamente si hay IDs duplicadas de departamentos\n",
    "departments[departments.duplicated(subset=[\"department\"])]"
   ]
  },
  {
   "cell_type": "markdown",
   "id": "bd30d78e",
   "metadata": {
    "id": "bd30d78e"
   },
   "source": [
    "Describe brevemente tus hallazgos y lo que hiciste con ellos.\n",
    "\n",
    "El Dataframe \"departments\" está limpio de duplicaciones, se llamo al método \"duplicated\" para realizar la revisión y confirmación de que no existen filas duplicadas."
   ]
  },
  {
   "cell_type": "markdown",
   "id": "889349c1",
   "metadata": {
    "id": "889349c1"
   },
   "source": [
    "### `aisles` data frame"
   ]
  },
  {
   "cell_type": "code",
   "execution_count": 23,
   "id": "9da89fb9-4679-40f5-ad0d-c34df753a3f8",
   "metadata": {
    "id": "9da89fb9-4679-40f5-ad0d-c34df753a3f8"
   },
   "outputs": [
    {
     "data": {
      "text/plain": [
       "0"
      ]
     },
     "execution_count": 23,
     "metadata": {},
     "output_type": "execute_result"
    }
   ],
   "source": [
    "# Revisa si hay filas totalmente duplicadas\n",
    "aisles.duplicated().sum()"
   ]
  },
  {
   "cell_type": "code",
   "execution_count": 24,
   "id": "da7c2822",
   "metadata": {
    "id": "da7c2822"
   },
   "outputs": [
    {
     "data": {
      "text/html": [
       "<div>\n",
       "<style scoped>\n",
       "    .dataframe tbody tr th:only-of-type {\n",
       "        vertical-align: middle;\n",
       "    }\n",
       "\n",
       "    .dataframe tbody tr th {\n",
       "        vertical-align: top;\n",
       "    }\n",
       "\n",
       "    .dataframe thead th {\n",
       "        text-align: right;\n",
       "    }\n",
       "</style>\n",
       "<table border=\"1\" class=\"dataframe\">\n",
       "  <thead>\n",
       "    <tr style=\"text-align: right;\">\n",
       "      <th></th>\n",
       "      <th>aisle_id</th>\n",
       "      <th>aisle</th>\n",
       "    </tr>\n",
       "  </thead>\n",
       "  <tbody>\n",
       "  </tbody>\n",
       "</table>\n",
       "</div>"
      ],
      "text/plain": [
       "Empty DataFrame\n",
       "Columns: [aisle_id, aisle]\n",
       "Index: []"
      ]
     },
     "execution_count": 24,
     "metadata": {},
     "output_type": "execute_result"
    }
   ],
   "source": [
    "# Revisa únicamente si hay IDs duplicadas de pasillos\n",
    "aisles[aisles.duplicated(subset=[\"aisle\"])]"
   ]
  },
  {
   "cell_type": "markdown",
   "id": "ac63826f",
   "metadata": {
    "id": "ac63826f"
   },
   "source": [
    "Describe brevemente tus hallazgos y lo que hiciste con ellos.\n",
    "\n",
    "El Dataframe \"aisles\" está limpio de duplicaciones, se llamo al método \"duplicated\" para realizar la revisión y confirmación de que no existen filas duplicadas."
   ]
  },
  {
   "cell_type": "markdown",
   "id": "274cd06a",
   "metadata": {
    "id": "274cd06a"
   },
   "source": [
    "### `order_products` data frame"
   ]
  },
  {
   "cell_type": "code",
   "execution_count": 25,
   "id": "52326689-84a8-4b8f-a881-7c68780f62c9",
   "metadata": {
    "id": "52326689-84a8-4b8f-a881-7c68780f62c9"
   },
   "outputs": [
    {
     "data": {
      "text/plain": [
       "0"
      ]
     },
     "execution_count": 25,
     "metadata": {},
     "output_type": "execute_result"
    }
   ],
   "source": [
    "# Revisa si hay filas totalmente duplicadas\n",
    "order_products.duplicated().sum()\n"
   ]
  },
  {
   "cell_type": "code",
   "execution_count": 26,
   "id": "7b861391",
   "metadata": {
    "id": "7b861391"
   },
   "outputs": [
    {
     "data": {
      "text/html": [
       "<div>\n",
       "<style scoped>\n",
       "    .dataframe tbody tr th:only-of-type {\n",
       "        vertical-align: middle;\n",
       "    }\n",
       "\n",
       "    .dataframe tbody tr th {\n",
       "        vertical-align: top;\n",
       "    }\n",
       "\n",
       "    .dataframe thead th {\n",
       "        text-align: right;\n",
       "    }\n",
       "</style>\n",
       "<table border=\"1\" class=\"dataframe\">\n",
       "  <thead>\n",
       "    <tr style=\"text-align: right;\">\n",
       "      <th></th>\n",
       "      <th>order_id</th>\n",
       "      <th>product_id</th>\n",
       "      <th>add_to_cart_order</th>\n",
       "      <th>reordered</th>\n",
       "    </tr>\n",
       "  </thead>\n",
       "  <tbody>\n",
       "    <tr>\n",
       "      <th>0</th>\n",
       "      <td>2141543</td>\n",
       "      <td>11440</td>\n",
       "      <td>17.0</td>\n",
       "      <td>0</td>\n",
       "    </tr>\n",
       "    <tr>\n",
       "      <th>1</th>\n",
       "      <td>567889</td>\n",
       "      <td>1560</td>\n",
       "      <td>1.0</td>\n",
       "      <td>1</td>\n",
       "    </tr>\n",
       "    <tr>\n",
       "      <th>2</th>\n",
       "      <td>2261212</td>\n",
       "      <td>26683</td>\n",
       "      <td>1.0</td>\n",
       "      <td>1</td>\n",
       "    </tr>\n",
       "    <tr>\n",
       "      <th>3</th>\n",
       "      <td>491251</td>\n",
       "      <td>8670</td>\n",
       "      <td>35.0</td>\n",
       "      <td>1</td>\n",
       "    </tr>\n",
       "    <tr>\n",
       "      <th>4</th>\n",
       "      <td>2571142</td>\n",
       "      <td>1940</td>\n",
       "      <td>5.0</td>\n",
       "      <td>1</td>\n",
       "    </tr>\n",
       "    <tr>\n",
       "      <th>...</th>\n",
       "      <td>...</td>\n",
       "      <td>...</td>\n",
       "      <td>...</td>\n",
       "      <td>...</td>\n",
       "    </tr>\n",
       "    <tr>\n",
       "      <th>4545002</th>\n",
       "      <td>577211</td>\n",
       "      <td>15290</td>\n",
       "      <td>12.0</td>\n",
       "      <td>1</td>\n",
       "    </tr>\n",
       "    <tr>\n",
       "      <th>4545003</th>\n",
       "      <td>1219554</td>\n",
       "      <td>21914</td>\n",
       "      <td>9.0</td>\n",
       "      <td>0</td>\n",
       "    </tr>\n",
       "    <tr>\n",
       "      <th>4545004</th>\n",
       "      <td>692640</td>\n",
       "      <td>47766</td>\n",
       "      <td>4.0</td>\n",
       "      <td>1</td>\n",
       "    </tr>\n",
       "    <tr>\n",
       "      <th>4545005</th>\n",
       "      <td>319435</td>\n",
       "      <td>691</td>\n",
       "      <td>8.0</td>\n",
       "      <td>1</td>\n",
       "    </tr>\n",
       "    <tr>\n",
       "      <th>4545006</th>\n",
       "      <td>1398151</td>\n",
       "      <td>28733</td>\n",
       "      <td>9.0</td>\n",
       "      <td>0</td>\n",
       "    </tr>\n",
       "  </tbody>\n",
       "</table>\n",
       "<p>4523160 rows × 4 columns</p>\n",
       "</div>"
      ],
      "text/plain": [
       "         order_id  product_id  add_to_cart_order  reordered\n",
       "0         2141543       11440               17.0          0\n",
       "1          567889        1560                1.0          1\n",
       "2         2261212       26683                1.0          1\n",
       "3          491251        8670               35.0          1\n",
       "4         2571142        1940                5.0          1\n",
       "...           ...         ...                ...        ...\n",
       "4545002    577211       15290               12.0          1\n",
       "4545003   1219554       21914                9.0          0\n",
       "4545004    692640       47766                4.0          1\n",
       "4545005    319435         691                8.0          1\n",
       "4545006   1398151       28733                9.0          0\n",
       "\n",
       "[4523160 rows x 4 columns]"
      ]
     },
     "execution_count": 26,
     "metadata": {},
     "output_type": "execute_result"
    }
   ],
   "source": [
    "# Vuelve a verificar si hay cualquier otro duplicado engañoso\n",
    "# Se verifica si no existen otro duplicado verificando la información de la columna de los pedidos \"order_id\"\n",
    "order_products[order_products.duplicated(subset=[\"order_id\"], keep=False)]\n"
   ]
  },
  {
   "cell_type": "code",
   "execution_count": 27,
   "id": "d9c382ec-f7fa-4fd6-a7bc-27eef3f5cfe5",
   "metadata": {},
   "outputs": [
    {
     "data": {
      "text/html": [
       "<div>\n",
       "<style scoped>\n",
       "    .dataframe tbody tr th:only-of-type {\n",
       "        vertical-align: middle;\n",
       "    }\n",
       "\n",
       "    .dataframe tbody tr th {\n",
       "        vertical-align: top;\n",
       "    }\n",
       "\n",
       "    .dataframe thead th {\n",
       "        text-align: right;\n",
       "    }\n",
       "</style>\n",
       "<table border=\"1\" class=\"dataframe\">\n",
       "  <thead>\n",
       "    <tr style=\"text-align: right;\">\n",
       "      <th></th>\n",
       "      <th>order_id</th>\n",
       "      <th>product_id</th>\n",
       "      <th>add_to_cart_order</th>\n",
       "      <th>reordered</th>\n",
       "    </tr>\n",
       "  </thead>\n",
       "  <tbody>\n",
       "    <tr>\n",
       "      <th>0</th>\n",
       "      <td>2141543</td>\n",
       "      <td>11440</td>\n",
       "      <td>17.0</td>\n",
       "      <td>0</td>\n",
       "    </tr>\n",
       "    <tr>\n",
       "      <th>1</th>\n",
       "      <td>567889</td>\n",
       "      <td>1560</td>\n",
       "      <td>1.0</td>\n",
       "      <td>1</td>\n",
       "    </tr>\n",
       "    <tr>\n",
       "      <th>2</th>\n",
       "      <td>2261212</td>\n",
       "      <td>26683</td>\n",
       "      <td>1.0</td>\n",
       "      <td>1</td>\n",
       "    </tr>\n",
       "    <tr>\n",
       "      <th>3</th>\n",
       "      <td>491251</td>\n",
       "      <td>8670</td>\n",
       "      <td>35.0</td>\n",
       "      <td>1</td>\n",
       "    </tr>\n",
       "    <tr>\n",
       "      <th>4</th>\n",
       "      <td>2571142</td>\n",
       "      <td>1940</td>\n",
       "      <td>5.0</td>\n",
       "      <td>1</td>\n",
       "    </tr>\n",
       "    <tr>\n",
       "      <th>...</th>\n",
       "      <td>...</td>\n",
       "      <td>...</td>\n",
       "      <td>...</td>\n",
       "      <td>...</td>\n",
       "    </tr>\n",
       "    <tr>\n",
       "      <th>4545002</th>\n",
       "      <td>577211</td>\n",
       "      <td>15290</td>\n",
       "      <td>12.0</td>\n",
       "      <td>1</td>\n",
       "    </tr>\n",
       "    <tr>\n",
       "      <th>4545003</th>\n",
       "      <td>1219554</td>\n",
       "      <td>21914</td>\n",
       "      <td>9.0</td>\n",
       "      <td>0</td>\n",
       "    </tr>\n",
       "    <tr>\n",
       "      <th>4545004</th>\n",
       "      <td>692640</td>\n",
       "      <td>47766</td>\n",
       "      <td>4.0</td>\n",
       "      <td>1</td>\n",
       "    </tr>\n",
       "    <tr>\n",
       "      <th>4545005</th>\n",
       "      <td>319435</td>\n",
       "      <td>691</td>\n",
       "      <td>8.0</td>\n",
       "      <td>1</td>\n",
       "    </tr>\n",
       "    <tr>\n",
       "      <th>4545006</th>\n",
       "      <td>1398151</td>\n",
       "      <td>28733</td>\n",
       "      <td>9.0</td>\n",
       "      <td>0</td>\n",
       "    </tr>\n",
       "  </tbody>\n",
       "</table>\n",
       "<p>4539960 rows × 4 columns</p>\n",
       "</div>"
      ],
      "text/plain": [
       "         order_id  product_id  add_to_cart_order  reordered\n",
       "0         2141543       11440               17.0          0\n",
       "1          567889        1560                1.0          1\n",
       "2         2261212       26683                1.0          1\n",
       "3          491251        8670               35.0          1\n",
       "4         2571142        1940                5.0          1\n",
       "...           ...         ...                ...        ...\n",
       "4545002    577211       15290               12.0          1\n",
       "4545003   1219554       21914                9.0          0\n",
       "4545004    692640       47766                4.0          1\n",
       "4545005    319435         691                8.0          1\n",
       "4545006   1398151       28733                9.0          0\n",
       "\n",
       "[4539960 rows x 4 columns]"
      ]
     },
     "execution_count": 27,
     "metadata": {},
     "output_type": "execute_result"
    }
   ],
   "source": [
    "# Se verifica si no existen otro duplicado verificando la información de la columna de los pedidos \"product_id\"\n",
    "order_products[order_products.duplicated(subset=[\"product_id\"], keep=False)]"
   ]
  },
  {
   "cell_type": "markdown",
   "id": "0b890492",
   "metadata": {
    "id": "0b890492"
   },
   "source": [
    "Describe brevemente tus hallazgos y lo que hiciste con ellos.\n",
    "\n",
    "Al llamar al método \"duplicated\" y aplicarlo a todo el Dataframe \"order_products\", observo que indica que no hay datos duplicados. Sin embargo, al momento de pasar duplicated, solo a una columna como \"order_id\" y/o product_id\", sales muchas filas con valores duplicados de cada columna.\n",
    "\n",
    "Esto me indica que no hay duplicados en el Dataframe \"order_products\", esto es, no existen dos filas que contengan datos idénticos en todas las columnas en todo el Dataframe. Sin embargo, si existen números de pedidos y/o número de ID de productos que si se repiten en sus columnas particulares. Esto me puede indicar que en un número de pedido puede repetirse pero con información de un ID de producto diferente y/o un mismo producto puede aparecer en varios pedidos.  En resumen, el que un pedido y/o producto se duplique, no implica que existan filas duplicadas, ya que cada fila representa una combinación única de pedido y producto por lo tanto, no hay valores duplicados."
   ]
  },
  {
   "cell_type": "markdown",
   "id": "50f90c55-cbbd-4480-8e64-e5110bb3a80b",
   "metadata": {},
   "source": [
    "<div class=\"alert alert-block alert-success\">\n",
    "<b>Comentario del revisor</b> <a class=\"tocSkip\"></a><br />\n",
    "Correcto!<br/>\n",
    "Estos últimos dataframes no cuentan con filas totalmente duplicadas.\n",
    "\n",
    "</div>\n"
   ]
  },
  {
   "cell_type": "markdown",
   "id": "1e46de76",
   "metadata": {
    "id": "1e46de76"
   },
   "source": [
    "## Encuentra y elimina los valores ausentes\n",
    "\n",
    "Al trabajar con valores duplicados, pudimos observar que también nos falta investigar valores ausentes:\n",
    "\n",
    "* La columna `'product_name'` de la tabla products.\n",
    "* La columna `'days_since_prior_order'` de la tabla orders.\n",
    "* La columna `'add_to_cart_order'` de la tabla order_productos."
   ]
  },
  {
   "cell_type": "markdown",
   "id": "c0aebd78",
   "metadata": {
    "id": "c0aebd78"
   },
   "source": [
    "### `products` data frame"
   ]
  },
  {
   "cell_type": "code",
   "execution_count": 28,
   "id": "fe4a8b0f",
   "metadata": {
    "id": "fe4a8b0f"
   },
   "outputs": [
    {
     "data": {
      "text/html": [
       "<div>\n",
       "<style scoped>\n",
       "    .dataframe tbody tr th:only-of-type {\n",
       "        vertical-align: middle;\n",
       "    }\n",
       "\n",
       "    .dataframe tbody tr th {\n",
       "        vertical-align: top;\n",
       "    }\n",
       "\n",
       "    .dataframe thead th {\n",
       "        text-align: right;\n",
       "    }\n",
       "</style>\n",
       "<table border=\"1\" class=\"dataframe\">\n",
       "  <thead>\n",
       "    <tr style=\"text-align: right;\">\n",
       "      <th></th>\n",
       "      <th>product_id</th>\n",
       "      <th>product_name</th>\n",
       "      <th>aisle_id</th>\n",
       "      <th>department_id</th>\n",
       "    </tr>\n",
       "  </thead>\n",
       "  <tbody>\n",
       "    <tr>\n",
       "      <th>37</th>\n",
       "      <td>38</td>\n",
       "      <td>NaN</td>\n",
       "      <td>100</td>\n",
       "      <td>21</td>\n",
       "    </tr>\n",
       "    <tr>\n",
       "      <th>71</th>\n",
       "      <td>72</td>\n",
       "      <td>NaN</td>\n",
       "      <td>100</td>\n",
       "      <td>21</td>\n",
       "    </tr>\n",
       "    <tr>\n",
       "      <th>109</th>\n",
       "      <td>110</td>\n",
       "      <td>NaN</td>\n",
       "      <td>100</td>\n",
       "      <td>21</td>\n",
       "    </tr>\n",
       "    <tr>\n",
       "      <th>296</th>\n",
       "      <td>297</td>\n",
       "      <td>NaN</td>\n",
       "      <td>100</td>\n",
       "      <td>21</td>\n",
       "    </tr>\n",
       "    <tr>\n",
       "      <th>416</th>\n",
       "      <td>417</td>\n",
       "      <td>NaN</td>\n",
       "      <td>100</td>\n",
       "      <td>21</td>\n",
       "    </tr>\n",
       "    <tr>\n",
       "      <th>...</th>\n",
       "      <td>...</td>\n",
       "      <td>...</td>\n",
       "      <td>...</td>\n",
       "      <td>...</td>\n",
       "    </tr>\n",
       "    <tr>\n",
       "      <th>49552</th>\n",
       "      <td>49553</td>\n",
       "      <td>NaN</td>\n",
       "      <td>100</td>\n",
       "      <td>21</td>\n",
       "    </tr>\n",
       "    <tr>\n",
       "      <th>49574</th>\n",
       "      <td>49575</td>\n",
       "      <td>NaN</td>\n",
       "      <td>100</td>\n",
       "      <td>21</td>\n",
       "    </tr>\n",
       "    <tr>\n",
       "      <th>49640</th>\n",
       "      <td>49641</td>\n",
       "      <td>NaN</td>\n",
       "      <td>100</td>\n",
       "      <td>21</td>\n",
       "    </tr>\n",
       "    <tr>\n",
       "      <th>49663</th>\n",
       "      <td>49664</td>\n",
       "      <td>NaN</td>\n",
       "      <td>100</td>\n",
       "      <td>21</td>\n",
       "    </tr>\n",
       "    <tr>\n",
       "      <th>49668</th>\n",
       "      <td>49669</td>\n",
       "      <td>NaN</td>\n",
       "      <td>100</td>\n",
       "      <td>21</td>\n",
       "    </tr>\n",
       "  </tbody>\n",
       "</table>\n",
       "<p>1258 rows × 4 columns</p>\n",
       "</div>"
      ],
      "text/plain": [
       "       product_id product_name  aisle_id  department_id\n",
       "37             38          NaN       100             21\n",
       "71             72          NaN       100             21\n",
       "109           110          NaN       100             21\n",
       "296           297          NaN       100             21\n",
       "416           417          NaN       100             21\n",
       "...           ...          ...       ...            ...\n",
       "49552       49553          NaN       100             21\n",
       "49574       49575          NaN       100             21\n",
       "49640       49641          NaN       100             21\n",
       "49663       49664          NaN       100             21\n",
       "49668       49669          NaN       100             21\n",
       "\n",
       "[1258 rows x 4 columns]"
      ]
     },
     "execution_count": 28,
     "metadata": {},
     "output_type": "execute_result"
    }
   ],
   "source": [
    "# Encuentra los valores ausentes en la columna 'product_name'\n",
    "productos_ausentes = products[products[\"product_name\"].isna()]\n",
    "productos_ausentes"
   ]
  },
  {
   "cell_type": "markdown",
   "id": "-A6x1AbJhjkp",
   "metadata": {
    "id": "-A6x1AbJhjkp"
   },
   "source": [
    "Describe brevemente cuáles son tus hallazgos.\n",
    "\n",
    "Se nos confirma que esta columna \"product_name\" tiene un total de 1,258 valores ausentes, y tales valores ausentes se relacionan con el pasillo de viveres número 100 y y con el departamnento de viveres número 21."
   ]
  },
  {
   "cell_type": "code",
   "execution_count": 29,
   "id": "e96167bc",
   "metadata": {
    "id": "e96167bc"
   },
   "outputs": [
    {
     "data": {
      "text/plain": [
       "1258"
      ]
     },
     "execution_count": 29,
     "metadata": {},
     "output_type": "execute_result"
    }
   ],
   "source": [
    "#  ¿Todos los nombres de productos ausentes están relacionados con el pasillo con ID 100?\n",
    "validacion = (productos_ausentes[\"aisle_id\"] == 100).sum()\n",
    "validacion"
   ]
  },
  {
   "cell_type": "markdown",
   "id": "WRpIfXRphpSL",
   "metadata": {
    "id": "WRpIfXRphpSL"
   },
   "source": [
    "Describe brevemente cuáles son tus hallazgos.\n",
    "\n",
    "Puedo confirmar que las 1,258 filas de datos ausentes del nombre del producto que están en la columna \"product_name\" se relaciona al 100% con el pasillo con ID 100. Lo pude realizar al relacionar y sumar los productos ausentes con el pasillo con ID 100.\n"
   ]
  },
  {
   "cell_type": "code",
   "execution_count": 30,
   "id": "8fd0a541",
   "metadata": {
    "id": "8fd0a541"
   },
   "outputs": [
    {
     "data": {
      "text/plain": [
       "1258"
      ]
     },
     "execution_count": 30,
     "metadata": {},
     "output_type": "execute_result"
    }
   ],
   "source": [
    "# ¿Todos los nombres de productos ausentes están relacionados con el departamento con ID 21?\n",
    "validacion_2 = (productos_ausentes[\"department_id\"] == 21).sum()\n",
    "validacion_2"
   ]
  },
  {
   "cell_type": "markdown",
   "id": "qDpdYn1Fht_I",
   "metadata": {
    "id": "qDpdYn1Fht_I"
   },
   "source": [
    "Describe brevemente cuáles son tus hallazgos.\n",
    "\n",
    "Puedo confirmar que las 1,258 filas de datos ausentes del nombre del producto que están en la columna \"product_name\" se relaciona al 100% con el departamento con ID 21. Lo pude realizar al relacionar y sumar los productos ausentes con el departamento con ID 21.\n"
   ]
  },
  {
   "cell_type": "code",
   "execution_count": 31,
   "id": "325c3464",
   "metadata": {
    "id": "325c3464"
   },
   "outputs": [
    {
     "data": {
      "text/html": [
       "<div>\n",
       "<style scoped>\n",
       "    .dataframe tbody tr th:only-of-type {\n",
       "        vertical-align: middle;\n",
       "    }\n",
       "\n",
       "    .dataframe tbody tr th {\n",
       "        vertical-align: top;\n",
       "    }\n",
       "\n",
       "    .dataframe thead th {\n",
       "        text-align: right;\n",
       "    }\n",
       "</style>\n",
       "<table border=\"1\" class=\"dataframe\">\n",
       "  <thead>\n",
       "    <tr style=\"text-align: right;\">\n",
       "      <th></th>\n",
       "      <th>product_id</th>\n",
       "      <th>product_name</th>\n",
       "      <th>aisle_id</th>\n",
       "      <th>department_id</th>\n",
       "      <th>aisle</th>\n",
       "      <th>department</th>\n",
       "    </tr>\n",
       "  </thead>\n",
       "  <tbody>\n",
       "    <tr>\n",
       "      <th>0</th>\n",
       "      <td>38</td>\n",
       "      <td>NaN</td>\n",
       "      <td>100</td>\n",
       "      <td>21</td>\n",
       "      <td>missing</td>\n",
       "      <td>missing</td>\n",
       "    </tr>\n",
       "    <tr>\n",
       "      <th>1</th>\n",
       "      <td>72</td>\n",
       "      <td>NaN</td>\n",
       "      <td>100</td>\n",
       "      <td>21</td>\n",
       "      <td>missing</td>\n",
       "      <td>missing</td>\n",
       "    </tr>\n",
       "    <tr>\n",
       "      <th>2</th>\n",
       "      <td>110</td>\n",
       "      <td>NaN</td>\n",
       "      <td>100</td>\n",
       "      <td>21</td>\n",
       "      <td>missing</td>\n",
       "      <td>missing</td>\n",
       "    </tr>\n",
       "    <tr>\n",
       "      <th>3</th>\n",
       "      <td>297</td>\n",
       "      <td>NaN</td>\n",
       "      <td>100</td>\n",
       "      <td>21</td>\n",
       "      <td>missing</td>\n",
       "      <td>missing</td>\n",
       "    </tr>\n",
       "    <tr>\n",
       "      <th>4</th>\n",
       "      <td>417</td>\n",
       "      <td>NaN</td>\n",
       "      <td>100</td>\n",
       "      <td>21</td>\n",
       "      <td>missing</td>\n",
       "      <td>missing</td>\n",
       "    </tr>\n",
       "    <tr>\n",
       "      <th>...</th>\n",
       "      <td>...</td>\n",
       "      <td>...</td>\n",
       "      <td>...</td>\n",
       "      <td>...</td>\n",
       "      <td>...</td>\n",
       "      <td>...</td>\n",
       "    </tr>\n",
       "    <tr>\n",
       "      <th>1253</th>\n",
       "      <td>49553</td>\n",
       "      <td>NaN</td>\n",
       "      <td>100</td>\n",
       "      <td>21</td>\n",
       "      <td>missing</td>\n",
       "      <td>missing</td>\n",
       "    </tr>\n",
       "    <tr>\n",
       "      <th>1254</th>\n",
       "      <td>49575</td>\n",
       "      <td>NaN</td>\n",
       "      <td>100</td>\n",
       "      <td>21</td>\n",
       "      <td>missing</td>\n",
       "      <td>missing</td>\n",
       "    </tr>\n",
       "    <tr>\n",
       "      <th>1255</th>\n",
       "      <td>49641</td>\n",
       "      <td>NaN</td>\n",
       "      <td>100</td>\n",
       "      <td>21</td>\n",
       "      <td>missing</td>\n",
       "      <td>missing</td>\n",
       "    </tr>\n",
       "    <tr>\n",
       "      <th>1256</th>\n",
       "      <td>49664</td>\n",
       "      <td>NaN</td>\n",
       "      <td>100</td>\n",
       "      <td>21</td>\n",
       "      <td>missing</td>\n",
       "      <td>missing</td>\n",
       "    </tr>\n",
       "    <tr>\n",
       "      <th>1257</th>\n",
       "      <td>49669</td>\n",
       "      <td>NaN</td>\n",
       "      <td>100</td>\n",
       "      <td>21</td>\n",
       "      <td>missing</td>\n",
       "      <td>missing</td>\n",
       "    </tr>\n",
       "  </tbody>\n",
       "</table>\n",
       "<p>1258 rows × 6 columns</p>\n",
       "</div>"
      ],
      "text/plain": [
       "      product_id product_name  aisle_id  department_id    aisle department\n",
       "0             38          NaN       100             21  missing    missing\n",
       "1             72          NaN       100             21  missing    missing\n",
       "2            110          NaN       100             21  missing    missing\n",
       "3            297          NaN       100             21  missing    missing\n",
       "4            417          NaN       100             21  missing    missing\n",
       "...          ...          ...       ...            ...      ...        ...\n",
       "1253       49553          NaN       100             21  missing    missing\n",
       "1254       49575          NaN       100             21  missing    missing\n",
       "1255       49641          NaN       100             21  missing    missing\n",
       "1256       49664          NaN       100             21  missing    missing\n",
       "1257       49669          NaN       100             21  missing    missing\n",
       "\n",
       "[1258 rows x 6 columns]"
      ]
     },
     "execution_count": 31,
     "metadata": {},
     "output_type": "execute_result"
    }
   ],
   "source": [
    "# Usa las tablas department y aisle para revisar los datos del pasillo con ID 100 y el departamento con ID 21.\n",
    "filtered_products = products.query(\"aisle_id == 100 and department_id == 21\")\n",
    "merged_aisle_id = filtered_products.merge(aisles, on=\"aisle_id\", how=\"left\")\n",
    "result = merged_aisle_id.merge(departments, on=\"department_id\", how=\"left\")\n",
    "result\n"
   ]
  },
  {
   "cell_type": "markdown",
   "id": "nqhSTUPhhvEJ",
   "metadata": {
    "id": "nqhSTUPhhvEJ"
   },
   "source": [
    "Describe brevemente cuáles son tus hallazgos.\n",
    "\n",
    "Con este resultado, realizamos una validación que nos dice que los 1,258 valores ausentes existentes en la columna \"product_name\" del Dataframe \"products\" que se relacionan con el pasillo con ID 100 y con el departamento con ID 21, son los mismos valores que también faltan en los Dataframes \"aisles\", con el ID 100 de la columna \"aisle_id\" y en el Dataframe \"departments\" con el ID 21 en la columna \"department_id\"."
   ]
  },
  {
   "cell_type": "code",
   "execution_count": 32,
   "id": "6b295120",
   "metadata": {
    "id": "6b295120"
   },
   "outputs": [
    {
     "data": {
      "text/html": [
       "<div>\n",
       "<style scoped>\n",
       "    .dataframe tbody tr th:only-of-type {\n",
       "        vertical-align: middle;\n",
       "    }\n",
       "\n",
       "    .dataframe tbody tr th {\n",
       "        vertical-align: top;\n",
       "    }\n",
       "\n",
       "    .dataframe thead th {\n",
       "        text-align: right;\n",
       "    }\n",
       "</style>\n",
       "<table border=\"1\" class=\"dataframe\">\n",
       "  <thead>\n",
       "    <tr style=\"text-align: right;\">\n",
       "      <th></th>\n",
       "      <th>product_id</th>\n",
       "      <th>product_name</th>\n",
       "      <th>aisle_id</th>\n",
       "      <th>department_id</th>\n",
       "    </tr>\n",
       "  </thead>\n",
       "  <tbody>\n",
       "    <tr>\n",
       "      <th>45919</th>\n",
       "      <td>45920</td>\n",
       "      <td>SPEARMINT</td>\n",
       "      <td>46</td>\n",
       "      <td>19</td>\n",
       "    </tr>\n",
       "    <tr>\n",
       "      <th>15856</th>\n",
       "      <td>15857</td>\n",
       "      <td>MEDIUM JALFREZI CURRY SIMMER SAUCE</td>\n",
       "      <td>76</td>\n",
       "      <td>6</td>\n",
       "    </tr>\n",
       "    <tr>\n",
       "      <th>7983</th>\n",
       "      <td>7984</td>\n",
       "      <td>HONEY AND LEMON THROAT &amp; CHEST MENTHOL LOZENGES</td>\n",
       "      <td>47</td>\n",
       "      <td>11</td>\n",
       "    </tr>\n",
       "    <tr>\n",
       "      <th>46347</th>\n",
       "      <td>46348</td>\n",
       "      <td>Unknown</td>\n",
       "      <td>100</td>\n",
       "      <td>21</td>\n",
       "    </tr>\n",
       "    <tr>\n",
       "      <th>34625</th>\n",
       "      <td>34626</td>\n",
       "      <td>ORIGINAL DIPPIN' SAUCE</td>\n",
       "      <td>5</td>\n",
       "      <td>13</td>\n",
       "    </tr>\n",
       "    <tr>\n",
       "      <th>34626</th>\n",
       "      <td>34627</td>\n",
       "      <td>PREMIUM APPLE CIDER</td>\n",
       "      <td>31</td>\n",
       "      <td>7</td>\n",
       "    </tr>\n",
       "    <tr>\n",
       "      <th>26142</th>\n",
       "      <td>26143</td>\n",
       "      <td>ORGANIC LAVENDER HAND SANITIZER</td>\n",
       "      <td>25</td>\n",
       "      <td>11</td>\n",
       "    </tr>\n",
       "    <tr>\n",
       "      <th>26124</th>\n",
       "      <td>26125</td>\n",
       "      <td>THICK-SLICED CHICKEN DINNER IN GRAVY/THICK-SLI...</td>\n",
       "      <td>40</td>\n",
       "      <td>8</td>\n",
       "    </tr>\n",
       "    <tr>\n",
       "      <th>4648</th>\n",
       "      <td>4649</td>\n",
       "      <td>EXTRA SOFT BATHROOM TISSUE</td>\n",
       "      <td>54</td>\n",
       "      <td>17</td>\n",
       "    </tr>\n",
       "    <tr>\n",
       "      <th>15734</th>\n",
       "      <td>15735</td>\n",
       "      <td>BREAD &amp; BUTTER SPEARS MILDLY SWEET FRESH PACK ...</td>\n",
       "      <td>110</td>\n",
       "      <td>13</td>\n",
       "    </tr>\n",
       "  </tbody>\n",
       "</table>\n",
       "</div>"
      ],
      "text/plain": [
       "       product_id                                       product_name  \\\n",
       "45919       45920                                          SPEARMINT   \n",
       "15856       15857                 MEDIUM JALFREZI CURRY SIMMER SAUCE   \n",
       "7983         7984    HONEY AND LEMON THROAT & CHEST MENTHOL LOZENGES   \n",
       "46347       46348                                            Unknown   \n",
       "34625       34626                             ORIGINAL DIPPIN' SAUCE   \n",
       "34626       34627                                PREMIUM APPLE CIDER   \n",
       "26142       26143                    ORGANIC LAVENDER HAND SANITIZER   \n",
       "26124       26125  THICK-SLICED CHICKEN DINNER IN GRAVY/THICK-SLI...   \n",
       "4648         4649                         EXTRA SOFT BATHROOM TISSUE   \n",
       "15734       15735  BREAD & BUTTER SPEARS MILDLY SWEET FRESH PACK ...   \n",
       "\n",
       "       aisle_id  department_id  \n",
       "45919        46             19  \n",
       "15856        76              6  \n",
       "7983         47             11  \n",
       "46347       100             21  \n",
       "34625         5             13  \n",
       "34626        31              7  \n",
       "26142        25             11  \n",
       "26124        40              8  \n",
       "4648         54             17  \n",
       "15734       110             13  "
      ]
     },
     "execution_count": 32,
     "metadata": {},
     "output_type": "execute_result"
    }
   ],
   "source": [
    "# Completa los nombres de productos ausentes con 'Unknown'\n",
    "products[\"product_name\"].fillna(\"Unknown\", inplace=True)\n",
    "products.sample(10, random_state=50)\n"
   ]
  },
  {
   "cell_type": "markdown",
   "id": "6c105487-0b95-4f73-8723-616952a1a3ff",
   "metadata": {},
   "source": [
    "<div class=\"alert alert-block alert-success\">\n",
    "<b>Comentario del revisor</b> <a class=\"tocSkip\"></a><br />\n",
    "Bien hecho!<br/>\n",
    "La manera de encontrar los valores ausentes y reemplazarlos con un valor generico es correcta\n",
    "</div>\n"
   ]
  },
  {
   "cell_type": "markdown",
   "id": "fc70e5ad",
   "metadata": {
    "id": "fc70e5ad"
   },
   "source": [
    "Describe brevemente tus hallazgos y lo que hiciste con ellos.\n",
    "\n",
    "Realicé la sustitución de valores NaN en la columna \"product_name\" por la palabra \"Unknown\" en el Dataframe \"products\". Después llame al método \"sample\" con el parámetro \"random_state\" para validar que se realizaron las sustituciones, y de paso se confirma nuevamente, al observar el resultado arrojado en la fila del \"product_id\" con número 46,348, que los valores ausentes se relacionan con valores del \"aisle_id\" = 100, y el \"department_id\" = 21"
   ]
  },
  {
   "cell_type": "markdown",
   "id": "7eb45c86",
   "metadata": {
    "id": "7eb45c86"
   },
   "source": [
    "### `orders` data frame"
   ]
  },
  {
   "cell_type": "code",
   "execution_count": 33,
   "id": "93e41d96",
   "metadata": {
    "id": "93e41d96"
   },
   "outputs": [
    {
     "data": {
      "text/html": [
       "<div>\n",
       "<style scoped>\n",
       "    .dataframe tbody tr th:only-of-type {\n",
       "        vertical-align: middle;\n",
       "    }\n",
       "\n",
       "    .dataframe tbody tr th {\n",
       "        vertical-align: top;\n",
       "    }\n",
       "\n",
       "    .dataframe thead th {\n",
       "        text-align: right;\n",
       "    }\n",
       "</style>\n",
       "<table border=\"1\" class=\"dataframe\">\n",
       "  <thead>\n",
       "    <tr style=\"text-align: right;\">\n",
       "      <th></th>\n",
       "      <th>order_id</th>\n",
       "      <th>user_id</th>\n",
       "      <th>order_number</th>\n",
       "      <th>order_dow</th>\n",
       "      <th>order_hour_of_day</th>\n",
       "      <th>days_since_prior_order</th>\n",
       "    </tr>\n",
       "  </thead>\n",
       "  <tbody>\n",
       "    <tr>\n",
       "      <th>28</th>\n",
       "      <td>133707</td>\n",
       "      <td>182261</td>\n",
       "      <td>1</td>\n",
       "      <td>3</td>\n",
       "      <td>10</td>\n",
       "      <td>NaN</td>\n",
       "    </tr>\n",
       "    <tr>\n",
       "      <th>96</th>\n",
       "      <td>787445</td>\n",
       "      <td>25685</td>\n",
       "      <td>1</td>\n",
       "      <td>6</td>\n",
       "      <td>18</td>\n",
       "      <td>NaN</td>\n",
       "    </tr>\n",
       "    <tr>\n",
       "      <th>100</th>\n",
       "      <td>294410</td>\n",
       "      <td>111449</td>\n",
       "      <td>1</td>\n",
       "      <td>0</td>\n",
       "      <td>19</td>\n",
       "      <td>NaN</td>\n",
       "    </tr>\n",
       "    <tr>\n",
       "      <th>103</th>\n",
       "      <td>2869915</td>\n",
       "      <td>123958</td>\n",
       "      <td>1</td>\n",
       "      <td>4</td>\n",
       "      <td>16</td>\n",
       "      <td>NaN</td>\n",
       "    </tr>\n",
       "    <tr>\n",
       "      <th>104</th>\n",
       "      <td>2521921</td>\n",
       "      <td>42286</td>\n",
       "      <td>1</td>\n",
       "      <td>3</td>\n",
       "      <td>18</td>\n",
       "      <td>NaN</td>\n",
       "    </tr>\n",
       "    <tr>\n",
       "      <th>...</th>\n",
       "      <td>...</td>\n",
       "      <td>...</td>\n",
       "      <td>...</td>\n",
       "      <td>...</td>\n",
       "      <td>...</td>\n",
       "      <td>...</td>\n",
       "    </tr>\n",
       "    <tr>\n",
       "      <th>478880</th>\n",
       "      <td>2589657</td>\n",
       "      <td>205028</td>\n",
       "      <td>1</td>\n",
       "      <td>0</td>\n",
       "      <td>16</td>\n",
       "      <td>NaN</td>\n",
       "    </tr>\n",
       "    <tr>\n",
       "      <th>478881</th>\n",
       "      <td>2222353</td>\n",
       "      <td>141211</td>\n",
       "      <td>1</td>\n",
       "      <td>2</td>\n",
       "      <td>13</td>\n",
       "      <td>NaN</td>\n",
       "    </tr>\n",
       "    <tr>\n",
       "      <th>478907</th>\n",
       "      <td>2272807</td>\n",
       "      <td>204154</td>\n",
       "      <td>1</td>\n",
       "      <td>1</td>\n",
       "      <td>15</td>\n",
       "      <td>NaN</td>\n",
       "    </tr>\n",
       "    <tr>\n",
       "      <th>478911</th>\n",
       "      <td>2499542</td>\n",
       "      <td>68810</td>\n",
       "      <td>1</td>\n",
       "      <td>4</td>\n",
       "      <td>19</td>\n",
       "      <td>NaN</td>\n",
       "    </tr>\n",
       "    <tr>\n",
       "      <th>478930</th>\n",
       "      <td>1387033</td>\n",
       "      <td>22496</td>\n",
       "      <td>1</td>\n",
       "      <td>5</td>\n",
       "      <td>14</td>\n",
       "      <td>NaN</td>\n",
       "    </tr>\n",
       "  </tbody>\n",
       "</table>\n",
       "<p>28817 rows × 6 columns</p>\n",
       "</div>"
      ],
      "text/plain": [
       "        order_id  user_id  order_number  order_dow  order_hour_of_day  \\\n",
       "28        133707   182261             1          3                 10   \n",
       "96        787445    25685             1          6                 18   \n",
       "100       294410   111449             1          0                 19   \n",
       "103      2869915   123958             1          4                 16   \n",
       "104      2521921    42286             1          3                 18   \n",
       "...          ...      ...           ...        ...                ...   \n",
       "478880   2589657   205028             1          0                 16   \n",
       "478881   2222353   141211             1          2                 13   \n",
       "478907   2272807   204154             1          1                 15   \n",
       "478911   2499542    68810             1          4                 19   \n",
       "478930   1387033    22496             1          5                 14   \n",
       "\n",
       "        days_since_prior_order  \n",
       "28                         NaN  \n",
       "96                         NaN  \n",
       "100                        NaN  \n",
       "103                        NaN  \n",
       "104                        NaN  \n",
       "...                        ...  \n",
       "478880                     NaN  \n",
       "478881                     NaN  \n",
       "478907                     NaN  \n",
       "478911                     NaN  \n",
       "478930                     NaN  \n",
       "\n",
       "[28817 rows x 6 columns]"
      ]
     },
     "execution_count": 33,
     "metadata": {},
     "output_type": "execute_result"
    }
   ],
   "source": [
    "# Encuentra los valores ausentes\n",
    "ausente_orders = orders[orders[\"days_since_prior_order\"].isna()]\n",
    "ausente_orders"
   ]
  },
  {
   "cell_type": "code",
   "execution_count": 34,
   "id": "166e5a86",
   "metadata": {
    "id": "166e5a86"
   },
   "outputs": [
    {
     "data": {
      "text/plain": [
       "0"
      ]
     },
     "execution_count": 34,
     "metadata": {},
     "output_type": "execute_result"
    }
   ],
   "source": [
    "# ¿Hay algún valor ausente que no sea el primer pedido del cliente?\n",
    "validacion_orders = (ausente_orders[\"order_number\"] != 1).sum()\n",
    "validacion_orders"
   ]
  },
  {
   "cell_type": "markdown",
   "id": "14785278-1406-41d1-9ef5-f4defc59b4c6",
   "metadata": {},
   "source": [
    "<div class=\"alert alert-block alert-success\">\n",
    "<b>Comentario del revisor</b> <a class=\"tocSkip\"></a><br />\n",
    "Bien hecho!<br/>\n",
    "Buena manera de revisar los datos y encontrar que no hay ausentes que no sean un primer pedido\n",
    "</div>\n"
   ]
  },
  {
   "cell_type": "markdown",
   "id": "4e23d089",
   "metadata": {
    "id": "4e23d089"
   },
   "source": [
    "Describe brevemente tus hallazgos y lo que hiciste con ellos.\n",
    "\n",
    "Las filas de valores ausentes en la columna \"days_since_prior_order\" fueron de un total de 28,817, hay dos valores ausentes menos de los que tenía el Dataframe original, esto es, 28,819, debido a que en un código previo, se eliminaron dos filas que tenían datos duplicados. \n",
    "\n",
    "Por otro lado, todos los valores ausentes de la columna \"days_since_prior_order\" se relacionan con el primer pedido del cliente, ya que al momento de sumar los valores ausentes en la columna \"days_since_prior_order\" asociándolos con los pedidos que no fueran el primero de la columna \"order_number\" el resultado fue de 0, lo que indica que todos los valores ausentes se relacionan al primer pedido.\n",
    "\n"
   ]
  },
  {
   "cell_type": "markdown",
   "id": "69dc9ca4",
   "metadata": {
    "id": "69dc9ca4"
   },
   "source": [
    "### `order_products` data frame"
   ]
  },
  {
   "cell_type": "code",
   "execution_count": 35,
   "id": "b8240253",
   "metadata": {
    "id": "b8240253"
   },
   "outputs": [
    {
     "data": {
      "text/html": [
       "<div>\n",
       "<style scoped>\n",
       "    .dataframe tbody tr th:only-of-type {\n",
       "        vertical-align: middle;\n",
       "    }\n",
       "\n",
       "    .dataframe tbody tr th {\n",
       "        vertical-align: top;\n",
       "    }\n",
       "\n",
       "    .dataframe thead th {\n",
       "        text-align: right;\n",
       "    }\n",
       "</style>\n",
       "<table border=\"1\" class=\"dataframe\">\n",
       "  <thead>\n",
       "    <tr style=\"text-align: right;\">\n",
       "      <th></th>\n",
       "      <th>order_id</th>\n",
       "      <th>product_id</th>\n",
       "      <th>add_to_cart_order</th>\n",
       "      <th>reordered</th>\n",
       "    </tr>\n",
       "  </thead>\n",
       "  <tbody>\n",
       "    <tr>\n",
       "      <th>737</th>\n",
       "      <td>2449164</td>\n",
       "      <td>5068</td>\n",
       "      <td>NaN</td>\n",
       "      <td>0</td>\n",
       "    </tr>\n",
       "    <tr>\n",
       "      <th>9926</th>\n",
       "      <td>1968313</td>\n",
       "      <td>43867</td>\n",
       "      <td>NaN</td>\n",
       "      <td>0</td>\n",
       "    </tr>\n",
       "    <tr>\n",
       "      <th>14394</th>\n",
       "      <td>2926893</td>\n",
       "      <td>11688</td>\n",
       "      <td>NaN</td>\n",
       "      <td>0</td>\n",
       "    </tr>\n",
       "    <tr>\n",
       "      <th>16418</th>\n",
       "      <td>1717990</td>\n",
       "      <td>4142</td>\n",
       "      <td>NaN</td>\n",
       "      <td>0</td>\n",
       "    </tr>\n",
       "    <tr>\n",
       "      <th>30114</th>\n",
       "      <td>1959075</td>\n",
       "      <td>42828</td>\n",
       "      <td>NaN</td>\n",
       "      <td>1</td>\n",
       "    </tr>\n",
       "    <tr>\n",
       "      <th>...</th>\n",
       "      <td>...</td>\n",
       "      <td>...</td>\n",
       "      <td>...</td>\n",
       "      <td>...</td>\n",
       "    </tr>\n",
       "    <tr>\n",
       "      <th>4505662</th>\n",
       "      <td>1800005</td>\n",
       "      <td>7411</td>\n",
       "      <td>NaN</td>\n",
       "      <td>0</td>\n",
       "    </tr>\n",
       "    <tr>\n",
       "      <th>4511400</th>\n",
       "      <td>1633337</td>\n",
       "      <td>260</td>\n",
       "      <td>NaN</td>\n",
       "      <td>0</td>\n",
       "    </tr>\n",
       "    <tr>\n",
       "      <th>4517562</th>\n",
       "      <td>404157</td>\n",
       "      <td>9517</td>\n",
       "      <td>NaN</td>\n",
       "      <td>0</td>\n",
       "    </tr>\n",
       "    <tr>\n",
       "      <th>4534112</th>\n",
       "      <td>1673227</td>\n",
       "      <td>17835</td>\n",
       "      <td>NaN</td>\n",
       "      <td>0</td>\n",
       "    </tr>\n",
       "    <tr>\n",
       "      <th>4535739</th>\n",
       "      <td>1832957</td>\n",
       "      <td>17949</td>\n",
       "      <td>NaN</td>\n",
       "      <td>1</td>\n",
       "    </tr>\n",
       "  </tbody>\n",
       "</table>\n",
       "<p>836 rows × 4 columns</p>\n",
       "</div>"
      ],
      "text/plain": [
       "         order_id  product_id  add_to_cart_order  reordered\n",
       "737       2449164        5068                NaN          0\n",
       "9926      1968313       43867                NaN          0\n",
       "14394     2926893       11688                NaN          0\n",
       "16418     1717990        4142                NaN          0\n",
       "30114     1959075       42828                NaN          1\n",
       "...           ...         ...                ...        ...\n",
       "4505662   1800005        7411                NaN          0\n",
       "4511400   1633337         260                NaN          0\n",
       "4517562    404157        9517                NaN          0\n",
       "4534112   1673227       17835                NaN          0\n",
       "4535739   1832957       17949                NaN          1\n",
       "\n",
       "[836 rows x 4 columns]"
      ]
     },
     "execution_count": 35,
     "metadata": {},
     "output_type": "execute_result"
    }
   ],
   "source": [
    "# Encuentra los valores ausentes\n",
    "order_products[order_products[\"add_to_cart_order\"].isna()]"
   ]
  },
  {
   "cell_type": "code",
   "execution_count": 36,
   "id": "9a78e5ee",
   "metadata": {
    "id": "9a78e5ee"
   },
   "outputs": [
    {
     "name": "stdout",
     "output_type": "stream",
     "text": [
      "Para la columna 'add_to_cart_order' el valor mínimo es de: 1.0 y el valor máximo es de: 64.0\n"
     ]
    }
   ],
   "source": [
    "# ¿Cuáles son los valores mínimos y máximos en esta columna?\n",
    "mínimo = order_products[\"add_to_cart_order\"].min()\n",
    "máximo = order_products[\"add_to_cart_order\"].max()\n",
    "print(f\"Para la columna 'add_to_cart_order' el valor mínimo es de: {mínimo} y el valor máximo es de: {máximo}\")"
   ]
  },
  {
   "cell_type": "markdown",
   "id": "-Z2Ja215jW78",
   "metadata": {
    "id": "-Z2Ja215jW78"
   },
   "source": [
    "Describe brevemente cuáles son tus hallazgos.\n",
    "\n",
    "La columna \"add_to_cart_order\" tiene un total de 836 filas con datos ausentes, como lo observe durante la primera parte de Descripción de Datos. \n",
    "\n",
    "Asimismo, el orden de como se fueron agregando productos al carrito de compras van desde solo 1 producto hasta el pedido más grande donde se agregaron 64 artículos al carrito."
   ]
  },
  {
   "cell_type": "code",
   "execution_count": 37,
   "id": "ab9d0c2b",
   "metadata": {
    "id": "ab9d0c2b"
   },
   "outputs": [
    {
     "data": {
      "text/plain": [
       "737      2449164\n",
       "9926     1968313\n",
       "14394    2926893\n",
       "16418    1717990\n",
       "30114    1959075\n",
       "Name: order_id, dtype: int64"
      ]
     },
     "execution_count": 37,
     "metadata": {},
     "output_type": "execute_result"
    }
   ],
   "source": [
    "# Guarda todas las IDs de pedidos que tengan un valor ausente en 'add_to_cart_order'\n",
    "pedidos_con_valor_ausente = order_products[order_products[\"add_to_cart_order\"].isna()]\n",
    "id_pedidos_con_valor_ausente = pedidos_con_valor_ausente[\"order_id\"]\n",
    "id_pedidos_con_valor_ausente.head()"
   ]
  },
  {
   "cell_type": "code",
   "execution_count": 38,
   "id": "2940b230-0022-4a55-8e6d-2472d118bbc1",
   "metadata": {},
   "outputs": [
    {
     "name": "stdout",
     "output_type": "stream",
     "text": [
      "No, hay pedidos con valores ausentes que tienen 64 productos o menos.\n"
     ]
    }
   ],
   "source": [
    "# ¿Todos los pedidos con valores ausentes tienen más de 64 productos?\n",
    "#Filtrar las filas donde \"add_to_cart_order\" es nulo\n",
    "pedidos_con_valor_ausente = order_products[order_products[\"add_to_cart_order\"].isna()]\n",
    "# Agrupar por \"order_id\" y contar la cantidad de productos en cada pedido usando size\n",
    "conteo_productos_por_pedido = pedidos_con_valor_ausente.groupby(\"order_id\").size()\n",
    "# Verificar si todos los pedidos tienen más de 64 productos\n",
    "todos_mas_de_64 = (conteo_productos_por_pedido > 64).all()\n",
    "if todos_mas_de_64:\n",
    "    print(\"Sí, todos los pedidos con valores ausentes tienen más de 64 productos.\")\n",
    "else:\n",
    "    print(\"No, hay pedidos con valores ausentes que tienen 64 productos o menos.\")\n"
   ]
  },
  {
   "cell_type": "markdown",
   "id": "da852391-d82c-4a60-a11f-cdb39eb7ccf9",
   "metadata": {},
   "source": [
    "<div class=\"alert alert-block alert-warning\">\n",
    "<b>Comentario del revisor</b> <a class=\"tocSkip\"></a><br />\n",
    "Cuidado!<br/>\n",
    "    \n",
    "El valor minimo para ordenes que tienen valores nulos es `65`, te dejo el código en la celda de abajo\n",
    "</div>\n"
   ]
  },
  {
   "cell_type": "code",
   "execution_count": 39,
   "id": "2169dc17-60de-4a44-8f68-93ce57a353c9",
   "metadata": {},
   "outputs": [
    {
     "data": {
      "text/plain": [
       "65"
      ]
     },
     "execution_count": 39,
     "metadata": {},
     "output_type": "execute_result"
    }
   ],
   "source": [
    "# Código del revisor\n",
    "order_products[order_products['order_id'].isin(pedidos_con_valor_ausente['order_id'])].groupby('order_id')['product_id'].count().min()"
   ]
  },
  {
   "cell_type": "code",
   "execution_count": 40,
   "id": "413fdd01-1e61-49d1-8462-9655124cb1eb",
   "metadata": {},
   "outputs": [],
   "source": [
    "# Agrupa todos los pedidos con datos ausentes por su ID de pedido.\n",
    "pedidos_con_valor_ausente = order_products[order_products[\"add_to_cart_order\"].isna()]\n",
    "pedidos_agrupados_por_IDPedido = pedidos_con_valor_ausente.groupby(\"order_id\")\n"
   ]
  },
  {
   "cell_type": "code",
   "execution_count": 41,
   "id": "54c31695",
   "metadata": {
    "id": "54c31695"
   },
   "outputs": [
    {
     "name": "stdout",
     "output_type": "stream",
     "text": [
      "order_id\n",
      "9310        1\n",
      "61355      63\n",
      "102236     31\n",
      "129627      5\n",
      "165801      6\n",
      "           ..\n",
      "2999801     6\n",
      "3125735    22\n",
      "3308010    51\n",
      "3347453     7\n",
      "3383594     5\n",
      "Name: product_id, Length: 70, dtype: int64\n",
      "El valor mínimo de productos en un pedido es: 1 el valor máximo es de: 63\n"
     ]
    }
   ],
   "source": [
    "# Cuenta el número de 'product_id' en cada pedido y revisa el valor mínimo del conteo.\n",
    "número_de_product_id_por_pedido = pedidos_con_valor_ausente.groupby(\"order_id\")[\"product_id\"].nunique()\n",
    "print(número_de_product_id_por_pedido)\n",
    "mínimo = número_de_product_id_por_pedido.min()\n",
    "máximo = número_de_product_id_por_pedido.max()\n",
    "print(\"El valor mínimo de productos en un pedido es:\", mínimo, \"el valor máximo es de:\", máximo)\n"
   ]
  },
  {
   "cell_type": "markdown",
   "id": "p9V6pddtjglj",
   "metadata": {
    "id": "p9V6pddtjglj"
   },
   "source": [
    "Describe brevemente cuáles son tus hallazgos.\n",
    "\n",
    "Se observa para la columna \"add_to_cart_order\" que no existen pedidos con valores ausentes que sean mayores a 64 productos cuando se añaden de forma secuencial al carrito, validando que el valor máximo para esa columna es de 64. \n",
    "\n",
    "Adicionalmente, de acuerdo a la última instrucción de código donde nos piden contar el número de \"product_id\" en cada pedido, y su valor mínimo, también calcule el valor máximo, y como se ve en el resultado en líneas arriba, el valor máximo es de 63 artículos por pedido y no de 64 que calculamos anteriormente relacionado con el orden secuencial de añadir artículos al carrito. Pienso que esta diferencia puede deberse que en ese pedido y/o pedidos que tienen un total de 64 artículos, una persona pudo repetir el agregar unos de esos productos en el carrito,lo cual tendría que confirmarse. Puedo concluir hasta este momento, y por realizar la confirmación respectiva, que solamente hay 63 artículos únicos o no repetidos que están incluidos como valor máximo en un pedido."
   ]
  },
  {
   "cell_type": "code",
   "execution_count": 42,
   "id": "7a987d08",
   "metadata": {
    "id": "7a987d08"
   },
   "outputs": [
    {
     "name": "stdout",
     "output_type": "stream",
     "text": [
      "<class 'pandas.core.frame.DataFrame'>\n",
      "RangeIndex: 4545007 entries, 0 to 4545006\n",
      "Data columns (total 4 columns):\n",
      " #   Column             Dtype\n",
      "---  ------             -----\n",
      " 0   order_id           int64\n",
      " 1   product_id         int64\n",
      " 2   add_to_cart_order  int64\n",
      " 3   reordered          int64\n",
      "dtypes: int64(4)\n",
      "memory usage: 138.7 MB\n",
      "None\n"
     ]
    }
   ],
   "source": [
    "# Remplaza los valores ausentes en la columna 'add_to_cart? con 999 y convierte la columna al tipo entero.\n",
    "order_products[\"add_to_cart_order\"].fillna(999, inplace=True)\n",
    "order_products[\"add_to_cart_order\"] = order_products[\"add_to_cart_order\"].astype(int)\n",
    "print(order_products.info())\n"
   ]
  },
  {
   "cell_type": "markdown",
   "id": "4786e04f-d65c-4bd0-babd-b86f591be4d6",
   "metadata": {},
   "source": [
    "<div class=\"alert alert-block alert-success\">\n",
    "<b>Comentario del revisor</b> <a class=\"tocSkip\"></a><br />\n",
    "Bien hecho!<br/>\n",
    "La manera de encontrar los valores ausentes y reemplazarlos con un valor generico es correcta\n",
    "</div>\n"
   ]
  },
  {
   "cell_type": "markdown",
   "id": "fea4bcc7",
   "metadata": {
    "id": "fea4bcc7"
   },
   "source": [
    "Describe brevemente tus hallazgos y lo que hiciste con ellos.\n",
    "\n",
    "Se realizó la sustitución de los valores ausentes en la columna \"add_to_cart_order\" con el número 999, ya que al ser un valor tan alto no está dentro del rango de números reales de productos en el Dataframe, y sería muy fácil de identificar y excluir para cálculos posteriores Adicionalmente se realizó la conversión del tipo de datos de la columna de \"add_to_cart_order\", tal como lo había observado anteriormente, ya que no tenía sentido que la secuencia de ingresar los productos al carrito se manejarán con decimales."
   ]
  },
  {
   "cell_type": "markdown",
   "id": "RnplPFY1gSrb",
   "metadata": {
    "id": "RnplPFY1gSrb"
   },
   "source": [
    "## Conclusiones\n",
    "\n",
    "Escribe aquí tus conclusiones intermedias sobre el Paso 2. Preprocesamiento de los datos\n",
    "\n",
    "Respecto a mi plan de solución, pude realizar las siguientes modificaciones:\n",
    "\n",
    "1) En cuanto a valores ausentes de los Dataframes:\n",
    "   \n",
    "    a) Dataframe  “orders”\t\n",
    "No se realizó ninguna modificación a los valores ausentes de la columna “days_since_prior_order”, solo se determinó que todos los valores ausentes se relacionan con el primer pedido del cliente.  Esta determinación fue clave para no modificar los valores ausentes, ya que no puede haber días transcurridos antes del primer pedido, ya que por lógica no hay pedidos que antecedan al primero, por lo que el primer pedido tendrá una naturaleza de ausente.\n",
    "\n",
    "    b) Dataframe “products”\n",
    "Se reemplazaron los valores ausentes en la columna “product_name” con la palabra “Unknown”, ya que no se tenía información de los nombres de los productos en las filas y no se quiso que se perdiera la información de las otras columnas de las filas.\n",
    "\n",
    "    c) Dataframe “order_products”\n",
    "Se reemplazaron los valores ausentes en la columna “add_to_cart_order” con el número “999”, después de determinar que el número máximo de productos agregados a un carrito fue de 64. La cantidad de 999 es suficiente mayor para distinguirse del dato de productos agregados de 1 a 64, por lo cual puede ser fácilmente visible, para no incluir ese número en los cálculos que necesitemos realizar.\n",
    "\n",
    "2) Valores Duplicados\n",
    "\n",
    "   \n",
    "    a) Dataframe  “orders”\t\n",
    "Se eliminaron 15 filas con valores duplicados que se presentaron el día miércoles a las 2 a.m., como se verifico que se registraron 91 pedidos adicionales en ese mismo día y hora, la duplicación pudo deberse a un error del sistema. No se encontraron valores duplicados implícitos.\n",
    "\n",
    "    b) Dataframe “order_products”\n",
    "No presento duplicados explícitos, esto es, que hubiese dos filas repetidas con los mismos valores en cada columna. Se realizó una prueba para detectar duplicados engañosos con las columnas de “order_id” y de “producto_id”, las cuales ambas por separado, si tuvieron filas con pedidos y con productos que se repiten, sin embargo, esta situación no presenta un problema ya que cada fila representa una combinación única de pedido y producto.\n",
    "\n",
    "Los restantes Dataframes no presentaron valores duplicados explícitos ni implícitos.\n",
    "\n",
    "3) Cambios en los tipos de datos de columnas en los Dataframes.\n",
    "   \n",
    "Solo se realizó el siguiente cambio: en el Dataframe \"order_products\", columna \"add_to_cart_order\", se convirtió los datos de float64 a int64, ya que el orden secuencial terminaba originalmente en .0\n",
    "       \n",
    "Mis cambios sugeridos en el Dataframe “orders” no se realizaron, los cuales eran: columna \"order_dow\", convertir de int64 a object, y en la columna \"days_since_prior_order\", convertir float64 a int64. Puedo pensar que no se realizó el cambio, debido a que en el resto del proyecto, no se realizarán cálculos que requieran que estos tipos de datos sean del tipo Datetime.\n",
    "\n",
    "\n",
    "Finalmente, se realizó la modificación en la columna “product_name” convirtiendo todos los nombres a mayúsculas, para depurar las inconsistencias previas de la escritura de nombres entre mayúsculas y minúsculas. Mi recomendación había sido convertir todas las palabas de los nombres a minúsculas.\n",
    "\n",
    "\n"
   ]
  },
  {
   "cell_type": "markdown",
   "id": "UjrOIwTcz3ri",
   "metadata": {
    "id": "UjrOIwTcz3ri",
    "jp-MarkdownHeadingCollapsed": true
   },
   "source": [
    "# Paso 3. Análisis de los datos\n",
    "\n",
    "Una vez los datos estén procesados y listos, haz el siguiente análisis:"
   ]
  },
  {
   "cell_type": "markdown",
   "id": "turkish-kidney",
   "metadata": {
    "id": "turkish-kidney"
   },
   "source": [
    "# [A] Fácil (deben completarse todos para aprobar)\n",
    "\n",
    "1. Verifica que los valores en las columnas `'order_hour_of_day'` y `'order_dow'` en la tabla orders sean razonables (es decir, `'order_hour_of_day'` oscile entre 0 y 23 y `'order_dow'` oscile entre 0 y 6).\n",
    "2. Crea un gráfico que muestre el número de personas que hacen pedidos dependiendo de la hora del día.\n",
    "3. Crea un gráfico que muestre qué día de la semana la gente hace sus compras.\n",
    "4. Crea un gráfico que muestre el tiempo que la gente espera hasta hacer su siguiente pedido, y comenta sobre los valores mínimos y máximos."
   ]
  },
  {
   "cell_type": "markdown",
   "id": "short-capability",
   "metadata": {
    "id": "short-capability"
   },
   "source": [
    "### [A1] Verifica que los valores sean sensibles"
   ]
  },
  {
   "cell_type": "code",
   "execution_count": 44,
   "id": "growing-fruit",
   "metadata": {
    "id": "growing-fruit"
   },
   "outputs": [
    {
     "name": "stdout",
     "output_type": "stream",
     "text": [
      "El valor mínimo de la columna 'order_hour_of_day' es: 0, y el valor máximo es de: 23\n"
     ]
    },
    {
     "data": {
      "text/plain": [
       "dtype('int64')"
      ]
     },
     "execution_count": 44,
     "metadata": {},
     "output_type": "execute_result"
    }
   ],
   "source": [
    "min = orders[\"order_hour_of_day\"].min()\n",
    "max = orders[\"order_hour_of_day\"].max()\n",
    "print(f\"El valor mínimo de la columna 'order_hour_of_day' es: {min}, y el valor máximo es de: {max}\")\n",
    "orders[\"order_hour_of_day\"].dtype"
   ]
  },
  {
   "cell_type": "code",
   "execution_count": 45,
   "id": "accessory-malaysia",
   "metadata": {
    "id": "accessory-malaysia"
   },
   "outputs": [
    {
     "name": "stdout",
     "output_type": "stream",
     "text": [
      "El valor mínimo de la columna 'order_dow' es: 0, y el valor máximo es de: 6\n"
     ]
    },
    {
     "data": {
      "text/plain": [
       "dtype('int64')"
      ]
     },
     "execution_count": 45,
     "metadata": {},
     "output_type": "execute_result"
    }
   ],
   "source": [
    "min = orders[\"order_dow\"].min()\n",
    "max = orders[\"order_dow\"].max()\n",
    "print(f\"El valor mínimo de la columna 'order_dow' es: {min}, y el valor máximo es de: {max}\")\n",
    "orders[\"order_dow\"].dtype"
   ]
  },
  {
   "cell_type": "markdown",
   "id": "191b74a2-9a82-4b7b-8979-f59f75bf5f2e",
   "metadata": {},
   "source": [
    "<div class=\"alert alert-block alert-success\">\n",
    "<b>Comentario del revisor</b> <a class=\"tocSkip\"></a><br />\n",
    "Bien hecho!<br/>\n",
    "Se verificó que los datos sean sensibles correctamente\n",
    "</div>\n"
   ]
  },
  {
   "cell_type": "markdown",
   "id": "hmR2GNQ6lCsX",
   "metadata": {
    "id": "hmR2GNQ6lCsX"
   },
   "source": [
    "Escribe aquí tus conclusiones\n",
    "\n",
    "Los valores de ambas columnas oscilan entre los rangos señalados, de 0 a 23 para la columna \"order_hour_of_day\" y de 0 a 6 para la columna \"order_dow\". Sin embargo, estoy observando que desde el origen de las dos tablas, el tipo de datos es 'int64' para ambas columnas y puesto que son columnas que manejan datos de horas y días, podría ser más pertinente convertirlos al tipo datetime, en caso que más adelante necesitemos realizar operaciones con esos valores."
   ]
  },
  {
   "cell_type": "markdown",
   "id": "a6743a70",
   "metadata": {
    "id": "a6743a70"
   },
   "source": [
    "### [A2] Para cada hora del día, ¿cuántas personas hacen órdenes?"
   ]
  },
  {
   "cell_type": "code",
   "execution_count": 46,
   "id": "a36cca27",
   "metadata": {
    "id": "a36cca27"
   },
   "outputs": [
    {
     "data": {
      "image/png": "[encoded data removed]",
      "text/plain": [
       "<Figure size 800x500 with 1 Axes>"
      ]
     },
     "metadata": {},
     "output_type": "display_data"
    }
   ],
   "source": [
    "ordenes_por_persona_hora = orders.groupby(\"order_hour_of_day\")[\"user_id\"].nunique()\n",
    "\n",
    "ordenes_por_persona_hora.plot(x=\"order_hour_of_day\", \n",
    "            y=\"user_id\",\n",
    "            kind=\"bar\",\n",
    "            title=\"Número de Personas que hacen Pedidos por Hora\",\n",
    "            xlabel=\"Horas\",\n",
    "            ylabel=\"Número de Personas\",\n",
    "            legend=False,\n",
    "            color=\"green\",\n",
    "            rot=0,                              \n",
    "            figsize=[8,5])\n",
    "plt.show()"
   ]
  },
  {
   "cell_type": "markdown",
   "id": "9d7f4e18-dc47-4afa-8fb8-8a0269bd73a7",
   "metadata": {},
   "source": [
    "<div class=\"alert alert-block alert-success\">\n",
    "<b>Comentario del revisor</b> <a class=\"tocSkip\"></a><br />\n",
    "Bien hecho!<br/>\n",
    "Buena manera de presentar los datos\n",
    "</div>\n"
   ]
  },
  {
   "cell_type": "markdown",
   "id": "11270eed",
   "metadata": {
    "id": "11270eed"
   },
   "source": [
    "Escribe aquí tus conclusiones\n",
    "\n",
    "Los horarios donde existen los niveles más elevados de compras que hacen las personas durante el día es entre las 8 y 19 horas, con picos de actividad de compra entre 10 y 16 horas, siendo la hora de mayor concentración de personas haciendo pedidos el de las 15 horas. Estos son rangos de horarios regulares de negocio y de oficina, donde se pueden realizar compras de productos."
   ]
  },
  {
   "cell_type": "markdown",
   "id": "documented-command",
   "metadata": {
    "id": "documented-command"
   },
   "source": [
    "### [A3] ¿Qué día de la semana compran víveres las personas?"
   ]
  },
  {
   "cell_type": "code",
   "execution_count": 47,
   "id": "chief-digit",
   "metadata": {
    "id": "chief-digit"
   },
   "outputs": [
    {
     "data": {
      "image/png": "[encoded data removed]",
      "text/plain": [
       "<Figure size 800x500 with 1 Axes>"
      ]
     },
     "metadata": {},
     "output_type": "display_data"
    }
   ],
   "source": [
    "ordenes_por_persona_día = orders.groupby(\"order_dow\")[\"user_id\"].nunique()\n",
    "\n",
    "ordenes_por_persona_día.plot(x=\"order_dow\",\n",
    "            y=\"user_id\",\n",
    "            kind=\"bar\",\n",
    "            title=\"Número de Personas que Compran Despensa por Día\",\n",
    "            xlabel=\"Días\",\n",
    "            ylabel=\"Número de Personas\",\n",
    "            legend=False,\n",
    "            color=\"orange\",\n",
    "            rot=0,\n",
    "            figsize=[8,5])\n",
    "plt.show()"
   ]
  },
  {
   "cell_type": "markdown",
   "id": "33c5e04e-635a-4d08-b1cf-d6f0285d82d4",
   "metadata": {},
   "source": [
    "<div class=\"alert alert-block alert-success\">\n",
    "<b>Comentario del revisor</b> <a class=\"tocSkip\"></a><br />\n",
    "Correcto!<br/>\n",
    "Los domingos son los días preferidos de los clientes\n",
    "</div>\n"
   ]
  },
  {
   "cell_type": "markdown",
   "id": "dominant-lightning",
   "metadata": {
    "id": "dominant-lightning"
   },
   "source": [
    "Escribe aquí tus conclusiones\n",
    "\n",
    "El domingo es el día de la semana con mayor número de personas que compran su despensa, lo cual es lógico porque es el día de descanso por excelencia de la mayor parte de las personas y aprovechan su tiempo para realizar compras. El siguiente día es el lunes, puede tener cierta lógica que sea el segundo día de mayor volumen, ya que el personal de compras y abastecimientos de empresas puede aprovechar para realizar el surtido de productos de la oficina y/o del negocio para toda la semana. "
   ]
  },
  {
   "cell_type": "markdown",
   "id": "cutting-concert",
   "metadata": {
    "id": "cutting-concert"
   },
   "source": [
    "### [A4] ¿Cuánto tiempo esperan las personas hasta hacer otro pedido? Comenta sobre los valores mínimos y máximos."
   ]
  },
  {
   "cell_type": "code",
   "execution_count": 48,
   "id": "c231f523",
   "metadata": {
    "id": "c231f523"
   },
   "outputs": [
    {
     "name": "stdout",
     "output_type": "stream",
     "text": [
      "1.0     20179\n",
      "2.0     27138\n",
      "3.0     30224\n",
      "4.0     31006\n",
      "5.0     30096\n",
      "6.0     33930\n",
      "7.0     44577\n",
      "8.0     25361\n",
      "9.0     16753\n",
      "10.0    13309\n",
      "11.0    11467\n",
      "12.0    10658\n",
      "13.0    11737\n",
      "14.0    13992\n",
      "15.0     9416\n",
      "16.0     6587\n",
      "17.0     5498\n",
      "18.0     4971\n",
      "19.0     4939\n",
      "20.0     5302\n",
      "21.0     6448\n",
      "22.0     4514\n",
      "23.0     3337\n",
      "24.0     3015\n",
      "25.0     2711\n",
      "26.0     2640\n",
      "27.0     2986\n",
      "28.0     3745\n",
      "29.0     2673\n",
      "30.0    51337\n",
      "Name: days_since_prior_order, dtype: int64\n"
     ]
    },
    {
     "data": {
      "image/png": "[encoded data removed]",
      "text/plain": [
       "<Figure size 800x500 with 1 Axes>"
      ]
     },
     "metadata": {},
     "output_type": "display_data"
    }
   ],
   "source": [
    "pedido_no_es_el_primero = orders[orders[\"days_since_prior_order\"] > 0]\n",
    "filtro_pedidos = pedido_no_es_el_primero[\"days_since_prior_order\"]\n",
    "orden_de_tiempos = filtro_pedidos.value_counts().sort_index()\n",
    "print(orden_de_tiempos)\n",
    "\n",
    "\n",
    "filtro_pedidos.plot(kind=\"hist\",\n",
    "            title=\"Días de Espera En Realizar Otro Pedido\",\n",
    "            ylabel=\"Frecuencia\",\n",
    "            bins=30,\n",
    "            color=\"purple\",                                    \n",
    "            figsize=[8,5])\n",
    "plt.show()"
   ]
  },
  {
   "cell_type": "markdown",
   "id": "ba1c609b-c15a-4f5e-bcd8-c4653744972d",
   "metadata": {},
   "source": [
    "<div class=\"alert alert-block alert-success\">\n",
    "<b>Comentario del revisor</b> <a class=\"tocSkip\"></a><br />\n",
    "Los resultados son correctos\n",
    "<br />\n",
    "Hasta este punto no podemos saber si realmente los usuarios esperan 30 días para realizar otra compra o es el sistema el que agrupa todas las compras que sean mayores a 30 días en el día 30. Con la gráfica podemos observar que la mayoría de usuarios se concentra entre 1 y 9 días donde después los números descienden gradualmente\n",
    "</div>\n"
   ]
  },
  {
   "cell_type": "markdown",
   "id": "discrete-vertex",
   "metadata": {
    "id": "discrete-vertex"
   },
   "source": [
    "Escribe aquí tus conclusiones\n",
    "\n",
    "Podemos observar que el valor mínimo para realizar un pedido es de 1 día, que representa casi un 5% del total de la frecuencia de pedidos, y el valor máximo es de 30 días, y en ese día entran casi un 12% de la frecuencia de pedidos realizados en el mes, con un total de frecuencia de 51,337 casos, lo que me hace pensar que los clientes esperan un mes, o 30 días, antes de realizar otro pedido."
   ]
  },
  {
   "cell_type": "markdown",
   "id": "tight-staff",
   "metadata": {
    "id": "tight-staff"
   },
   "source": [
    "# [B] Intermedio (deben completarse todos para aprobar)\n",
    "\n",
    "1. ¿Existe alguna diferencia entre las distribuciones `'order_hour_of_day'` de los miércoles y los sábados? Traza gráficos de barra de `'order_hour_of_day'` para ambos días en la misma figura y describe las diferencias que observes.\n",
    "2. Grafica la distribución para el número de órdenes que hacen los clientes (es decir, cuántos clientes hicieron solo 1 pedido, cuántos hicieron 2, cuántos 3, y así sucesivamente...).\n",
    "3. ¿Cuáles son los 20 principales productos que se piden con más frecuencia (muestra su identificación y nombre)?"
   ]
  },
  {
   "cell_type": "markdown",
   "id": "packed-classic",
   "metadata": {
    "id": "packed-classic"
   },
   "source": [
    "### [B1] Diferencia entre miércoles y sábados para  `'order_hour_of_day'`. Traza gráficos de barra para los dos días y describe las diferencias que veas."
   ]
  },
  {
   "cell_type": "code",
   "execution_count": 49,
   "id": "d89b8403",
   "metadata": {
    "id": "d89b8403"
   },
   "outputs": [],
   "source": [
    "pedidos_de_miercoles = orders[orders[\"order_dow\"] == 3]\n",
    "pedidos_de_sabados =  orders[orders[\"order_dow\"] == 6]\n"
   ]
  },
  {
   "cell_type": "code",
   "execution_count": 50,
   "id": "94e54e8a",
   "metadata": {
    "id": "94e54e8a"
   },
   "outputs": [],
   "source": [
    "usuarios_miercoles = pedidos_de_miercoles.groupby(\"order_hour_of_day\")[\"user_id\"].nunique()\n",
    "usuarios_sabado = pedidos_de_sabados.groupby(\"order_hour_of_day\")[\"user_id\"].nunique()\n"
   ]
  },
  {
   "cell_type": "code",
   "execution_count": 51,
   "id": "797c90a8",
   "metadata": {
    "id": "797c90a8"
   },
   "outputs": [],
   "source": [
    "diferencia_días = pd.DataFrame({\n",
    "    'Miércoles': usuarios_miercoles,\n",
    "    'Sábado': usuarios_sabado\n",
    "})\n"
   ]
  },
  {
   "cell_type": "code",
   "execution_count": 52,
   "id": "35bcea30",
   "metadata": {
    "id": "35bcea30"
   },
   "outputs": [
    {
     "data": {
      "image/png": "[encoded data removed]",
      "text/plain": [
       "<Figure size 800x500 with 1 Axes>"
      ]
     },
     "metadata": {},
     "output_type": "display_data"
    }
   ],
   "source": [
    "diferencia_días.plot(kind=\"bar\",\n",
    "            title=\"Número de Personas que Compran Despensa por Horas los Miércoles y Sábados\",\n",
    "            xlabel=\"Horas\",\n",
    "            ylabel=\"Número de Personas\",\n",
    "            color=[\"orange\",\"blue\"],\n",
    "            rot=0,\n",
    "            figsize=[8,5])\n",
    "\n",
    "plt.legend([\"Miércoles\", \"Sábado\"])\n",
    "plt.show()"
   ]
  },
  {
   "cell_type": "markdown",
   "id": "charitable-congo",
   "metadata": {
    "id": "charitable-congo"
   },
   "source": [
    "Escribe aquí tus conclusiones\n",
    "\n",
    "Los patrones de compras en los dos días son muy similares en casi todas las horas, sin embargo, las diferencias más marcadas se observan en las horas que van del mediodía a las 2 p.m., donde hay un mayor volumen de personas que hacen pedidos el día sábado, durante ese lapso."
   ]
  },
  {
   "cell_type": "markdown",
   "id": "2781c6ec-8108-4359-9c7e-5253b5d19f60",
   "metadata": {},
   "source": [
    "<div class=\"alert alert-block alert-success\">\n",
    "<b>Comentario del revisor</b> <a class=\"tocSkip\"></a><br />\n",
    "Bien hecho!\n",
    "<br />\n",
    "Buena manera de mostrar los resultados de ambos días en una misma grafica\n",
    "</div>\n"
   ]
  },
  {
   "cell_type": "markdown",
   "id": "e3891143",
   "metadata": {
    "id": "e3891143"
   },
   "source": [
    "### [B2] ¿Cuál es la distribución para el número de pedidos por cliente?"
   ]
  },
  {
   "cell_type": "code",
   "execution_count": 53,
   "id": "d8c26c23",
   "metadata": {
    "id": "d8c26c23"
   },
   "outputs": [
    {
     "name": "stdout",
     "output_type": "stream",
     "text": [
      "user_id\n",
      "2         2\n",
      "4         2\n",
      "5         1\n",
      "6         2\n",
      "7         2\n",
      "         ..\n",
      "206203    1\n",
      "206206    7\n",
      "206207    5\n",
      "206208    9\n",
      "206209    2\n",
      "Name: order_id, Length: 157437, dtype: int64\n"
     ]
    },
    {
     "data": {
      "text/plain": [
       "157437"
      ]
     },
     "execution_count": 53,
     "metadata": {},
     "output_type": "execute_result"
    }
   ],
   "source": [
    "distribucion_cliente = orders.groupby(\"user_id\")[\"order_id\"].count()\n",
    "print(distribucion_cliente)\n",
    "numero_user_id = orders[\"user_id\"].nunique() # Para saber el número total de \"user_id\"\n",
    "numero_user_id"
   ]
  },
  {
   "cell_type": "code",
   "execution_count": 54,
   "id": "00e69a66",
   "metadata": {
    "id": "00e69a66"
   },
   "outputs": [
    {
     "data": {
      "image/png": "[encoded data removed]",
      "text/plain": [
       "<Figure size 800x500 with 1 Axes>"
      ]
     },
     "metadata": {},
     "output_type": "display_data"
    }
   ],
   "source": [
    "distribucion_cliente.plot(kind=\"hist\",\n",
    "            title=\"Número de Pedidos por Cliente\",\n",
    "            ylabel=\"Frecuencia\",\n",
    "            bins=30,\n",
    "            color=\"purple\",                                    \n",
    "            figsize=[8,5])\n",
    "plt.show()"
   ]
  },
  {
   "cell_type": "markdown",
   "id": "d2eff7d5",
   "metadata": {
    "id": "d2eff7d5"
   },
   "source": [
    "Escribe aquí tus conclusiones\n",
    "\n",
    "De los 157,437 user_id registrados por clientes, se puede observar que existe una alta concentración de pedidos realizados por los clientes en los primeros días, lo que puede indicar que pueden repetir los pedidos en los primeros días, este patrón de compras disminuye a lo largo de los días, ya que existen muy pocos pedidos que se realizan en un intervalo de tiempo mayor, esto es, en este caso, mayor a 10 días. En resumen, esto nos indica fuerte volumen de compras en los primeros días de la semana."
   ]
  },
  {
   "cell_type": "markdown",
   "id": "56ba4c05-1cfd-4541-b139-ff8cc6c107ae",
   "metadata": {},
   "source": [
    "<div class=\"alert alert-block alert-success\">\n",
    "<b>Comentario del revisor</b> <a class=\"tocSkip\"></a><br />\n",
    "Correcto!<br/> \n",
    "\n",
    "La mayoría de usuarios no ha hecho muchos pedidos, buenas observaciones.\n",
    "\n",
    "</div>\n"
   ]
  },
  {
   "cell_type": "markdown",
   "id": "54a0319c",
   "metadata": {
    "id": "54a0319c"
   },
   "source": [
    "### [B3] ¿Cuáles son los 20 productos más populares (muestra su ID y nombre)?"
   ]
  },
  {
   "cell_type": "code",
   "execution_count": 55,
   "id": "88c084df-81ac-4703-86fb-36a39f873081",
   "metadata": {},
   "outputs": [
    {
     "data": {
      "text/plain": [
       "Int64Index([24852, 13176, 21137, 21903, 47209, 47766, 47626, 16797, 26209,\n",
       "            27845, 27966, 22935, 24964, 45007, 39275, 49683, 28204,  5876,\n",
       "             8277, 40706],\n",
       "           dtype='int64')"
      ]
     },
     "execution_count": 55,
     "metadata": {},
     "output_type": "execute_result"
    }
   ],
   "source": [
    "productos_top = order_products[\"product_id\"].value_counts().head(20)\n",
    "productos_top_index = productos_top.index\n",
    "productos_top_index"
   ]
  },
  {
   "cell_type": "code",
   "execution_count": 56,
   "id": "universal-facial",
   "metadata": {
    "id": "universal-facial"
   },
   "outputs": [],
   "source": [
    "detalle_productos_top = products[products['product_id'].isin(productos_top_index)][['product_id', 'product_name']].reset_index(drop=True)"
   ]
  },
  {
   "cell_type": "code",
   "execution_count": 57,
   "id": "bbcdd20b",
   "metadata": {
    "id": "bbcdd20b"
   },
   "outputs": [
    {
     "data": {
      "text/html": [
       "<div>\n",
       "<style scoped>\n",
       "    .dataframe tbody tr th:only-of-type {\n",
       "        vertical-align: middle;\n",
       "    }\n",
       "\n",
       "    .dataframe tbody tr th {\n",
       "        vertical-align: top;\n",
       "    }\n",
       "\n",
       "    .dataframe thead th {\n",
       "        text-align: right;\n",
       "    }\n",
       "</style>\n",
       "<table border=\"1\" class=\"dataframe\">\n",
       "  <thead>\n",
       "    <tr style=\"text-align: right;\">\n",
       "      <th></th>\n",
       "      <th>product_id</th>\n",
       "      <th>product_name</th>\n",
       "    </tr>\n",
       "  </thead>\n",
       "  <tbody>\n",
       "    <tr>\n",
       "      <th>0</th>\n",
       "      <td>5876</td>\n",
       "      <td>ORGANIC LEMON</td>\n",
       "    </tr>\n",
       "    <tr>\n",
       "      <th>1</th>\n",
       "      <td>8277</td>\n",
       "      <td>APPLE HONEYCRISP ORGANIC</td>\n",
       "    </tr>\n",
       "    <tr>\n",
       "      <th>2</th>\n",
       "      <td>13176</td>\n",
       "      <td>BAG OF ORGANIC BANANAS</td>\n",
       "    </tr>\n",
       "    <tr>\n",
       "      <th>3</th>\n",
       "      <td>16797</td>\n",
       "      <td>STRAWBERRIES</td>\n",
       "    </tr>\n",
       "    <tr>\n",
       "      <th>4</th>\n",
       "      <td>21137</td>\n",
       "      <td>ORGANIC STRAWBERRIES</td>\n",
       "    </tr>\n",
       "    <tr>\n",
       "      <th>5</th>\n",
       "      <td>21903</td>\n",
       "      <td>ORGANIC BABY SPINACH</td>\n",
       "    </tr>\n",
       "    <tr>\n",
       "      <th>6</th>\n",
       "      <td>22935</td>\n",
       "      <td>ORGANIC YELLOW ONION</td>\n",
       "    </tr>\n",
       "    <tr>\n",
       "      <th>7</th>\n",
       "      <td>24852</td>\n",
       "      <td>BANANA</td>\n",
       "    </tr>\n",
       "    <tr>\n",
       "      <th>8</th>\n",
       "      <td>24964</td>\n",
       "      <td>ORGANIC GARLIC</td>\n",
       "    </tr>\n",
       "    <tr>\n",
       "      <th>9</th>\n",
       "      <td>26209</td>\n",
       "      <td>LIMES</td>\n",
       "    </tr>\n",
       "    <tr>\n",
       "      <th>10</th>\n",
       "      <td>27845</td>\n",
       "      <td>ORGANIC WHOLE MILK</td>\n",
       "    </tr>\n",
       "    <tr>\n",
       "      <th>11</th>\n",
       "      <td>27966</td>\n",
       "      <td>ORGANIC RASPBERRIES</td>\n",
       "    </tr>\n",
       "    <tr>\n",
       "      <th>12</th>\n",
       "      <td>28204</td>\n",
       "      <td>ORGANIC FUJI APPLE</td>\n",
       "    </tr>\n",
       "    <tr>\n",
       "      <th>13</th>\n",
       "      <td>39275</td>\n",
       "      <td>ORGANIC BLUEBERRIES</td>\n",
       "    </tr>\n",
       "    <tr>\n",
       "      <th>14</th>\n",
       "      <td>40706</td>\n",
       "      <td>ORGANIC GRAPE TOMATOES</td>\n",
       "    </tr>\n",
       "    <tr>\n",
       "      <th>15</th>\n",
       "      <td>45007</td>\n",
       "      <td>ORGANIC ZUCCHINI</td>\n",
       "    </tr>\n",
       "    <tr>\n",
       "      <th>16</th>\n",
       "      <td>47209</td>\n",
       "      <td>ORGANIC HASS AVOCADO</td>\n",
       "    </tr>\n",
       "    <tr>\n",
       "      <th>17</th>\n",
       "      <td>47626</td>\n",
       "      <td>LARGE LEMON</td>\n",
       "    </tr>\n",
       "    <tr>\n",
       "      <th>18</th>\n",
       "      <td>47766</td>\n",
       "      <td>ORGANIC AVOCADO</td>\n",
       "    </tr>\n",
       "    <tr>\n",
       "      <th>19</th>\n",
       "      <td>49683</td>\n",
       "      <td>CUCUMBER KIRBY</td>\n",
       "    </tr>\n",
       "  </tbody>\n",
       "</table>\n",
       "</div>"
      ],
      "text/plain": [
       "    product_id              product_name\n",
       "0         5876             ORGANIC LEMON\n",
       "1         8277  APPLE HONEYCRISP ORGANIC\n",
       "2        13176    BAG OF ORGANIC BANANAS\n",
       "3        16797              STRAWBERRIES\n",
       "4        21137      ORGANIC STRAWBERRIES\n",
       "5        21903      ORGANIC BABY SPINACH\n",
       "6        22935      ORGANIC YELLOW ONION\n",
       "7        24852                    BANANA\n",
       "8        24964            ORGANIC GARLIC\n",
       "9        26209                     LIMES\n",
       "10       27845        ORGANIC WHOLE MILK\n",
       "11       27966       ORGANIC RASPBERRIES\n",
       "12       28204        ORGANIC FUJI APPLE\n",
       "13       39275       ORGANIC BLUEBERRIES\n",
       "14       40706    ORGANIC GRAPE TOMATOES\n",
       "15       45007          ORGANIC ZUCCHINI\n",
       "16       47209      ORGANIC HASS AVOCADO\n",
       "17       47626               LARGE LEMON\n",
       "18       47766           ORGANIC AVOCADO\n",
       "19       49683            CUCUMBER KIRBY"
      ]
     },
     "execution_count": 57,
     "metadata": {},
     "output_type": "execute_result"
    }
   ],
   "source": [
    "detalle_productos_top"
   ]
  },
  {
   "cell_type": "markdown",
   "id": "7df00f47",
   "metadata": {
    "id": "7df00f47"
   },
   "source": [
    "Escribe aquí tus conclusiones\n",
    "\n",
    "Puedo identificar que los artículos más populares dentro del catálogo de la empresa instacart se relacionan con productos naturales, distribuidos entre un listado de frutas, verduras y legumbres."
   ]
  },
  {
   "cell_type": "markdown",
   "id": "gross-theme",
   "metadata": {
    "id": "gross-theme"
   },
   "source": [
    "# [C] Difícil (deben completarse todos para aprobar)\n",
    "\n",
    "1. ¿Cuántos artículos suelen comprar las personas en un pedido? ¿Cómo es la distribución?\n",
    "2. ¿Cuáles son los 20 principales artículos que vuelven a pedirse con mayor frecuencia (muestra sus nombres e IDs de los productos)?\n",
    "3. Para cada producto, ¿cuál es la tasa de repetición del pedido (número de repeticiones de pedido/total de pedidos?\n",
    "4. Para cada cliente, ¿qué proporción de los productos que pidió ya los había pedido? Calcula la tasa de repetición de pedido para cada usuario en lugar de para cada producto.\n",
    "5. ¿Cuáles son los 20 principales artículos que la gente pone primero en sus carritos (muestra las IDs de los productos, sus nombres, y el número de veces en que fueron el primer artículo en añadirse al carrito)?"
   ]
  },
  {
   "cell_type": "markdown",
   "id": "romantic-deposit",
   "metadata": {
    "id": "romantic-deposit"
   },
   "source": [
    "### [C1] ¿Cuántos artículos compran normalmente las personas en un pedido? ¿Cómo es la distribución?"
   ]
  },
  {
   "cell_type": "code",
   "execution_count": 58,
   "id": "virtual-punch",
   "metadata": {
    "id": "virtual-punch"
   },
   "outputs": [],
   "source": [
    "# Agrupar por 'order_id' para contar cuántos productos hay en cada pedido\n",
    "articulos_por_pedido = order_products.groupby('order_id').size()\n"
   ]
  },
  {
   "cell_type": "code",
   "execution_count": 59,
   "id": "sensitive-breathing",
   "metadata": {
    "id": "sensitive-breathing"
   },
   "outputs": [
    {
     "data": {
      "text/plain": [
       "count    450046.000000\n",
       "mean         10.098983\n",
       "std           7.540206\n",
       "min           1.000000\n",
       "25%           5.000000\n",
       "50%           8.000000\n",
       "75%          14.000000\n",
       "max         127.000000\n",
       "dtype: float64"
      ]
     },
     "execution_count": 59,
     "metadata": {},
     "output_type": "execute_result"
    }
   ],
   "source": [
    "articulos_por_pedido.describe()"
   ]
  },
  {
   "cell_type": "code",
   "execution_count": 60,
   "id": "completed-frank",
   "metadata": {
    "id": "completed-frank"
   },
   "outputs": [
    {
     "data": {
      "image/png": "[encoded data removed]",
      "text/plain": [
       "<Figure size 800x500 with 1 Axes>"
      ]
     },
     "metadata": {},
     "output_type": "display_data"
    }
   ],
   "source": [
    "articulos_por_pedido.plot(kind=\"hist\",\n",
    "            title=\"Cantidad de Artículos Que Compran Normalmente las Personas en un Pedido\",\n",
    "            ylabel=\"Frecuencia\",\n",
    "            bins=30,\n",
    "            color=\"BlueViolet\",                                    \n",
    "            figsize=[8,5])\n",
    "plt.show()"
   ]
  },
  {
   "cell_type": "markdown",
   "id": "1e1f7285-3845-483c-9ed1-5f2cb6825660",
   "metadata": {},
   "source": [
    "<div class=\"alert alert-block alert-success\">\n",
    "<b>Comentario del revisor</b> <a class=\"tocSkip\"></a><br />\n",
    "Bien hecho, el resultado es correcto, los usuarios suelen pedir alrededor de 10 articulos\n",
    "</div>\n"
   ]
  },
  {
   "cell_type": "markdown",
   "id": "designed-mortality",
   "metadata": {
    "id": "designed-mortality"
   },
   "source": [
    "Escribe aquí tus conclusiones\n",
    "\n",
    "Se tiene la referencia de 450,046 artículos, con un valor mínimo de 1 artículo por pedido y 127 artículos en 1 pedido como valor máximo. El promedio es de aproximadamente 10 artículos comprados. Podemos asumir que las personas compran pocos artículos en un pedido. El mayor volumen por pedido se observa entre 1 a 10 articulos. Podemos observar que a medida que nos movemos a la derecha del histograma, van disminuyendo la cantidad de artículos que se compran en un pedido, bajando notoriamente despúes de 10 artículos por pedido. Los pedidos con 40 articulos o más tienden a cero. \n",
    "\n",
    "En resumen, podemos detectar compras pequeñas frecuentes, por lo que el mercado primordial de instacart es preferentemente minorista. Tienen un área de oportunidad para trabajar en promover la venta mayorista, que eleve la cantidad de productos por carrito."
   ]
  },
  {
   "cell_type": "markdown",
   "id": "5e6b5537",
   "metadata": {
    "id": "5e6b5537"
   },
   "source": [
    "### [C2] ¿Cuáles son los 20 principales artículos que vuelven a pedirse con mayor frecuencia (muestra sus nombres e IDs de los productos)?"
   ]
  },
  {
   "cell_type": "code",
   "execution_count": 61,
   "id": "9374e55a",
   "metadata": {
    "id": "9374e55a"
   },
   "outputs": [],
   "source": [
    "# Agrupar por producto para calcular total de pedidos y reordenados\n",
    "product_stats = order_products.groupby('product_id').agg(\n",
    "    total_pedidos=('order_id', 'count'),   # todos los pedidos del producto\n",
    "    reordenados=('reordered', 'sum')       # cuántos fueron reordenados\n",
    ").reset_index()"
   ]
  },
  {
   "cell_type": "code",
   "execution_count": 62,
   "id": "possible-change",
   "metadata": {
    "id": "possible-change",
    "scrolled": true
   },
   "outputs": [],
   "source": [
    "# Calcular proporción de reordenados\n",
    "product_stats['proporcion_reordenados'] = product_stats['reordenados'] / product_stats['total_pedidos']\n"
   ]
  },
  {
   "cell_type": "code",
   "execution_count": 63,
   "id": "professional-surfing",
   "metadata": {
    "id": "professional-surfing",
    "scrolled": true
   },
   "outputs": [],
   "source": [
    "# Obtener los 20 productos con mayor proporción de reordenados\n",
    "top_reordenados = product_stats.sort_values(by='proporcion_reordenados', ascending=False).head(20)\n"
   ]
  },
  {
   "cell_type": "code",
   "execution_count": 64,
   "id": "48dd3658",
   "metadata": {
    "id": "48dd3658"
   },
   "outputs": [
    {
     "name": "stdout",
     "output_type": "stream",
     "text": [
      "    product_id                                       product_name\n",
      "0        14721                            BONE STRENGTH TAKE CARE\n",
      "1        20949                           VANILLA SANDWICH COOKIES\n",
      "2         6723                                   PALMIERS- PETITE\n",
      "3         6732                  NATURALLY SPARKLING MINERAL WATER\n",
      "4        45088  CALIFORNIA DILL POLLEN & GARLIC GOAT CHEESE & ...\n",
      "5        45078                                       POMEGRANATEA\n",
      "6        21016       PARCHMENT LINED 8 IN X 3.75 IN X 2.5 IN PANS\n",
      "7        21005                        PEANUT BUTTER PIE ICE CREAM\n",
      "8        35192                         CHOCOLATE SOY MILK SINGLES\n",
      "9        35197  MOCHA CHOCOLATE CHIP  ORGANIC NON-DAIRY FROZEN...\n",
      "10        6810                        RASPBERRY GOJI PALEO PRINTS\n",
      "11       45040                                 HEAD LOCK MEGA GEL\n",
      "12       45035                               COFFEE FLAVOR YOGURT\n",
      "13       27373                                     MEAT LOAF MEAL\n",
      "14       30748                           CHEESE & GARLIC CROUTONS\n",
      "15       45031                 SUGAR FREE HAZELNUT COFFEE CREAMER\n",
      "16       35137  SUPERIOR PREFERENCE FADE-DEFYING COLOR + SHINE...\n",
      "17       30747                   DENTOTAPE® UNFLAVORED WAXED TAPE\n",
      "18       35228                       MARVELOUS MUFFINS BAKING MIX\n",
      "19       35229                             BEAN & CHEESE BURRITOS\n"
     ]
    }
   ],
   "source": [
    "# Unir con nombres de productos\n",
    "top_reordenados = top_reordenados.merge(products[['product_id', 'product_name']], on='product_id', how='left')\n",
    "\n",
    "print(top_reordenados[['product_id', 'product_name']])\n"
   ]
  },
  {
   "cell_type": "markdown",
   "id": "80e70c74",
   "metadata": {
    "id": "80e70c74"
   },
   "source": [
    "Escribe aquí tus conclusiones\n",
    "\n",
    "Esta lista nos muestra que los 20 productos top que más se reordenan, son productos procesados. Es posible que los consumidores compren con frecuencia estos productos diariamente como parte de sus dietas de almuerzos que consumen en sus trabajos; en consecuencia, es probable que los pedidos de estos productos sean altos de lunes a viernes durante horas de oficina. Adicionalmente, observo que ninguno de estos productos se relacionan a los 20 productos más populares, los cuales se asocian más a productos más naturales, como frutas, verduras y/o legumbres, que las personas compran en mayores cantidades y en menos ocasiones durante la semana."
   ]
  },
  {
   "cell_type": "markdown",
   "id": "9d312b14",
   "metadata": {
    "id": "9d312b14"
   },
   "source": [
    "### [C3] Para cada producto, ¿cuál es la proporción de las veces que se pide y que se vuelve a pedir?"
   ]
  },
  {
   "cell_type": "code",
   "execution_count": 65,
   "id": "social-individual",
   "metadata": {
    "id": "social-individual"
   },
   "outputs": [
    {
     "name": "stdout",
     "output_type": "stream",
     "text": [
      "    product_id                                       product_name  \\\n",
      "0        14721                            BONE STRENGTH TAKE CARE   \n",
      "1        20949                           VANILLA SANDWICH COOKIES   \n",
      "2         6723                                   PALMIERS- PETITE   \n",
      "3         6732                  NATURALLY SPARKLING MINERAL WATER   \n",
      "4        45088  CALIFORNIA DILL POLLEN & GARLIC GOAT CHEESE & ...   \n",
      "5        45078                                       POMEGRANATEA   \n",
      "6        21016       PARCHMENT LINED 8 IN X 3.75 IN X 2.5 IN PANS   \n",
      "7        21005                        PEANUT BUTTER PIE ICE CREAM   \n",
      "8        35192                         CHOCOLATE SOY MILK SINGLES   \n",
      "9        35197  MOCHA CHOCOLATE CHIP  ORGANIC NON-DAIRY FROZEN...   \n",
      "10        6810                        RASPBERRY GOJI PALEO PRINTS   \n",
      "11       45040                                 HEAD LOCK MEGA GEL   \n",
      "12       45035                               COFFEE FLAVOR YOGURT   \n",
      "13       27373                                     MEAT LOAF MEAL   \n",
      "14       30748                           CHEESE & GARLIC CROUTONS   \n",
      "15       45031                 SUGAR FREE HAZELNUT COFFEE CREAMER   \n",
      "16       35137  SUPERIOR PREFERENCE FADE-DEFYING COLOR + SHINE...   \n",
      "17       30747                   DENTOTAPE® UNFLAVORED WAXED TAPE   \n",
      "18       35228                       MARVELOUS MUFFINS BAKING MIX   \n",
      "19       35229                             BEAN & CHEESE BURRITOS   \n",
      "\n",
      "    proporcion_reordenados  \n",
      "0                      1.0  \n",
      "1                      1.0  \n",
      "2                      1.0  \n",
      "3                      1.0  \n",
      "4                      1.0  \n",
      "5                      1.0  \n",
      "6                      1.0  \n",
      "7                      1.0  \n",
      "8                      1.0  \n",
      "9                      1.0  \n",
      "10                     1.0  \n",
      "11                     1.0  \n",
      "12                     1.0  \n",
      "13                     1.0  \n",
      "14                     1.0  \n",
      "15                     1.0  \n",
      "16                     1.0  \n",
      "17                     1.0  \n",
      "18                     1.0  \n",
      "19                     1.0  \n"
     ]
    }
   ],
   "source": [
    "\n",
    "\n",
    "# Mostrar los resultados, agregando la columna de proporciones(\"proporcion_reordenados\")\n",
    "print(top_reordenados[['product_id', 'product_name', 'proporcion_reordenados']])\n"
   ]
  },
  {
   "cell_type": "markdown",
   "id": "I10dEIAyldcO",
   "metadata": {
    "id": "I10dEIAyldcO"
   },
   "source": [
    "Escribe aquí tus conclusiones\n",
    "\n",
    "Estos valores de proporciones nos indican que para estos productos cuyos valores se acercan a 1, son los que casi siempre se vuelven a pedir. "
   ]
  },
  {
   "cell_type": "markdown",
   "id": "subject-boxing",
   "metadata": {
    "id": "subject-boxing"
   },
   "source": [
    "### [C4] Para cada cliente, ¿qué proporción de sus productos ya los había pedido?"
   ]
  },
  {
   "cell_type": "code",
   "execution_count": 66,
   "id": "3b1cccf0-48f6-408b-b32d-d13e49384c83",
   "metadata": {},
   "outputs": [
    {
     "name": "stdout",
     "output_type": "stream",
     "text": [
      "        user_id  proporcion_productos_ya_pedidos\n",
      "0             2                         0.038462\n",
      "1             4                         0.000000\n",
      "2             5                         0.666667\n",
      "3             6                         0.000000\n",
      "4             7                         0.944444\n",
      "...         ...                              ...\n",
      "149621   206203                         0.222222\n",
      "149622   206206                         0.690476\n",
      "149623   206207                         0.815000\n",
      "149624   206208                         0.731443\n",
      "149625   206209                         0.347222\n",
      "\n",
      "[149626 rows x 2 columns]\n",
      "count    149626.000000\n",
      "mean          0.504727\n",
      "std           0.294123\n",
      "min           0.000000\n",
      "25%           0.285714\n",
      "50%           0.527190\n",
      "75%           0.738095\n",
      "max           1.000000\n",
      "Name: proporcion_productos_ya_pedidos, dtype: float64\n"
     ]
    }
   ],
   "source": [
    "# 1. Unir Dataframes order_products con orders para tener user_id en cada producto\n",
    "merged_dataframes = order_products.merge(orders[['order_id', 'user_id']], on='order_id', how='left')\n",
    "\n",
    "# 2. Agrupar por usuario y pedido, calcular la proporción de productos reordenados en cada pedido\n",
    "proporciones = merged_dataframes.groupby(['user_id', 'order_id'])['reordered'].mean().reset_index()\n",
    "\n",
    "# 3. Para cada usuario, calcular la media de esas proporciones\n",
    "proporcion_por_cliente = proporciones.groupby('user_id')['reordered'].mean().reset_index()\n",
    "\n",
    "# Renombrar la columna para mayor claridad\n",
    "proporcion_por_cliente.rename(columns={'reordered': 'proporcion_productos_ya_pedidos'}, inplace=True)\n",
    "\n",
    "print(proporcion_por_cliente)\n",
    "# Mostrar los resultados estadísticos generales \n",
    "print(proporcion_por_cliente[\"proporcion_productos_ya_pedidos\"].describe())"
   ]
  },
  {
   "cell_type": "markdown",
   "id": "3f9aa11b-83dd-4f41-81b5-b0c17efcfc62",
   "metadata": {},
   "source": [
    "<div class=\"alert alert-block alert-success\">\n",
    "<b>Comentario del revisor</b> <a class=\"tocSkip\"></a><br />\n",
    "Correcto!<br/>\n",
    "Buena manera de realizar las proporciones\n",
    "</div>\n"
   ]
  },
  {
   "cell_type": "markdown",
   "id": "BgJSvXDsleXz",
   "metadata": {
    "id": "BgJSvXDsleXz"
   },
   "source": [
    "Escribe aquí tus conclusiones\n",
    "\n",
    "Estos datos nos indican que hay un espectro muy amplio de valores, tan bajos como el mínimo de 0, y tan altos como el máximo de 1, con una media justo a la mitad del rango de valores, es decir, de 0.50. Esta dispersión nos indica que para valores cercanos a 1 como el usuario 4, puede indicar que la mayor parte de sus productos ya han sido pedidos con anterioridad, lo cual, puede sugerir que un cliente ya conoce el catálogo de productos de instacart, sabe que comprar y le gustan los productos que sigue comprando, indicando cierto grado de fidelización. \n",
    "\n",
    "Por el contrario, valores cercanos a cero y/o cero, como el del usuario con \"user_id\" número 6, señalan que estos clientes pueden presentar las siguientes situaciones:\n",
    "\n",
    "1) Apenas estar conociendo el catálogo de instacart, lo que representa un cliente nuevo, por lo mismo, dichos clientes pueden estar explorando la compra de diferentes productos en cada ocasión que visitan la aplicación.\n",
    "   \n",
    "2) Es un cliente que no compra con frecuencia esos productos y quizás lo compre en otra tienda, por lo que no es un cliente fidelizado. Es probable que existen condiciones de precio, calidad, promociones y/o familiaridad con la aplicación, que no le motivan a comprar con frecuencia. Estos clientes representan una área de oportunidad para elevar las ventas de instacart, para lo cual, se tendrían que conocer las razones por las cuales estos consumidores no compran con mayor regularidad. "
   ]
  },
  {
   "cell_type": "markdown",
   "id": "92d35137",
   "metadata": {
    "id": "92d35137"
   },
   "source": [
    "### [C5] ¿Cuáles son los 20 principales artículos que las personas ponen primero en sus carritos?"
   ]
  },
  {
   "cell_type": "code",
   "execution_count": 67,
   "id": "03518735-0dbf-4f7c-90ca-84907769f6e3",
   "metadata": {},
   "outputs": [
    {
     "name": "stdout",
     "output_type": "stream",
     "text": [
      "Int64Index([24852, 13176, 27845, 21137, 47209, 21903, 47766, 19660, 16797,\n",
      "            27966, 44632, 49235, 47626,   196, 38689, 26209, 12341,  5785,\n",
      "            27086, 22935],\n",
      "           dtype='int64')\n"
     ]
    },
    {
     "data": {
      "text/html": [
       "<div>\n",
       "<style scoped>\n",
       "    .dataframe tbody tr th:only-of-type {\n",
       "        vertical-align: middle;\n",
       "    }\n",
       "\n",
       "    .dataframe tbody tr th {\n",
       "        vertical-align: top;\n",
       "    }\n",
       "\n",
       "    .dataframe thead th {\n",
       "        text-align: right;\n",
       "    }\n",
       "</style>\n",
       "<table border=\"1\" class=\"dataframe\">\n",
       "  <thead>\n",
       "    <tr style=\"text-align: right;\">\n",
       "      <th></th>\n",
       "      <th>product_id</th>\n",
       "      <th>product_name</th>\n",
       "    </tr>\n",
       "  </thead>\n",
       "  <tbody>\n",
       "    <tr>\n",
       "      <th>0</th>\n",
       "      <td>196</td>\n",
       "      <td>SODA</td>\n",
       "    </tr>\n",
       "    <tr>\n",
       "      <th>1</th>\n",
       "      <td>5785</td>\n",
       "      <td>ORGANIC REDUCED FAT 2% MILK</td>\n",
       "    </tr>\n",
       "    <tr>\n",
       "      <th>2</th>\n",
       "      <td>12341</td>\n",
       "      <td>HASS AVOCADOS</td>\n",
       "    </tr>\n",
       "    <tr>\n",
       "      <th>3</th>\n",
       "      <td>13176</td>\n",
       "      <td>BAG OF ORGANIC BANANAS</td>\n",
       "    </tr>\n",
       "    <tr>\n",
       "      <th>4</th>\n",
       "      <td>16797</td>\n",
       "      <td>STRAWBERRIES</td>\n",
       "    </tr>\n",
       "    <tr>\n",
       "      <th>5</th>\n",
       "      <td>19660</td>\n",
       "      <td>SPRING WATER</td>\n",
       "    </tr>\n",
       "    <tr>\n",
       "      <th>6</th>\n",
       "      <td>21137</td>\n",
       "      <td>ORGANIC STRAWBERRIES</td>\n",
       "    </tr>\n",
       "    <tr>\n",
       "      <th>7</th>\n",
       "      <td>21903</td>\n",
       "      <td>ORGANIC BABY SPINACH</td>\n",
       "    </tr>\n",
       "    <tr>\n",
       "      <th>8</th>\n",
       "      <td>22935</td>\n",
       "      <td>ORGANIC YELLOW ONION</td>\n",
       "    </tr>\n",
       "    <tr>\n",
       "      <th>9</th>\n",
       "      <td>24852</td>\n",
       "      <td>BANANA</td>\n",
       "    </tr>\n",
       "    <tr>\n",
       "      <th>10</th>\n",
       "      <td>26209</td>\n",
       "      <td>LIMES</td>\n",
       "    </tr>\n",
       "    <tr>\n",
       "      <th>11</th>\n",
       "      <td>27086</td>\n",
       "      <td>HALF &amp; HALF</td>\n",
       "    </tr>\n",
       "    <tr>\n",
       "      <th>12</th>\n",
       "      <td>27845</td>\n",
       "      <td>ORGANIC WHOLE MILK</td>\n",
       "    </tr>\n",
       "    <tr>\n",
       "      <th>13</th>\n",
       "      <td>27966</td>\n",
       "      <td>ORGANIC RASPBERRIES</td>\n",
       "    </tr>\n",
       "    <tr>\n",
       "      <th>14</th>\n",
       "      <td>38689</td>\n",
       "      <td>ORGANIC REDUCED FAT MILK</td>\n",
       "    </tr>\n",
       "    <tr>\n",
       "      <th>15</th>\n",
       "      <td>44632</td>\n",
       "      <td>SPARKLING WATER GRAPEFRUIT</td>\n",
       "    </tr>\n",
       "    <tr>\n",
       "      <th>16</th>\n",
       "      <td>47209</td>\n",
       "      <td>ORGANIC HASS AVOCADO</td>\n",
       "    </tr>\n",
       "    <tr>\n",
       "      <th>17</th>\n",
       "      <td>47626</td>\n",
       "      <td>LARGE LEMON</td>\n",
       "    </tr>\n",
       "    <tr>\n",
       "      <th>18</th>\n",
       "      <td>47766</td>\n",
       "      <td>ORGANIC AVOCADO</td>\n",
       "    </tr>\n",
       "    <tr>\n",
       "      <th>19</th>\n",
       "      <td>49235</td>\n",
       "      <td>ORGANIC HALF &amp; HALF</td>\n",
       "    </tr>\n",
       "  </tbody>\n",
       "</table>\n",
       "</div>"
      ],
      "text/plain": [
       "    product_id                 product_name\n",
       "0          196                         SODA\n",
       "1         5785  ORGANIC REDUCED FAT 2% MILK\n",
       "2        12341                HASS AVOCADOS\n",
       "3        13176       BAG OF ORGANIC BANANAS\n",
       "4        16797                 STRAWBERRIES\n",
       "5        19660                 SPRING WATER\n",
       "6        21137         ORGANIC STRAWBERRIES\n",
       "7        21903         ORGANIC BABY SPINACH\n",
       "8        22935         ORGANIC YELLOW ONION\n",
       "9        24852                       BANANA\n",
       "10       26209                        LIMES\n",
       "11       27086                  HALF & HALF\n",
       "12       27845           ORGANIC WHOLE MILK\n",
       "13       27966          ORGANIC RASPBERRIES\n",
       "14       38689     ORGANIC REDUCED FAT MILK\n",
       "15       44632   SPARKLING WATER GRAPEFRUIT\n",
       "16       47209         ORGANIC HASS AVOCADO\n",
       "17       47626                  LARGE LEMON\n",
       "18       47766              ORGANIC AVOCADO\n",
       "19       49235          ORGANIC HALF & HALF"
      ]
     },
     "execution_count": 67,
     "metadata": {},
     "output_type": "execute_result"
    }
   ],
   "source": [
    "# Filtrar los productos que fueron añadidos primero en el carrito\n",
    "primeros_productos = order_products[order_products['add_to_cart_order'] == 1]\n",
    "\n",
    "# Contar cuántas veces aparece cada producto como primer artículo\n",
    "top_product_counts = primeros_productos['product_id'].value_counts()\n",
    "\n",
    "# Obtener los 20 productos más frecuentes como primer artículo\n",
    "top_20_product_ids = top_product_counts.head(20).index\n",
    "print(top_20_product_ids)\n",
    "\n",
    "# Filtrar en la tabla de productos para obtener los detalles de estos productos\n",
    "top_20_products = products[products['product_id'].isin(top_20_product_ids)][['product_id', 'product_name']].reset_index(drop=True)\n",
    "top_20_products\n"
   ]
  },
  {
   "cell_type": "markdown",
   "id": "bf16ee2f-5fac-4e65-a7a1-adf3c23f2b53",
   "metadata": {},
   "source": [
    "<div class=\"alert alert-block alert-warning\">\n",
    "<b>Comentario del revisor</b> <a class=\"tocSkip\"></a><br />\n",
    "Cuidado!<br/>\n",
    "\n",
    "En los ejercicios `B3`, `C2` y `C5` no se estan mostrando los nombres de los productos correctamente, aunque el conteo si es correcto, te dejo una forma en como puedes obtener los nombres que corresponden\n",
    "</div>\n"
   ]
  },
  {
   "cell_type": "code",
   "execution_count": 68,
   "id": "e25bf386-106e-4087-bf8c-26fc6cf3c300",
   "metadata": {},
   "outputs": [
    {
     "name": "stdout",
     "output_type": "stream",
     "text": [
      "    product_id                 product_name  reorder_count\n",
      "0        24852                       BANANA          15562\n",
      "1        13176       BAG OF ORGANIC BANANAS          11026\n",
      "2        27845           ORGANIC WHOLE MILK           4363\n",
      "3        21137         ORGANIC STRAWBERRIES           3946\n",
      "4        47209         ORGANIC HASS AVOCADO           3390\n",
      "5        21903         ORGANIC BABY SPINACH           3336\n",
      "6        47766              ORGANIC AVOCADO           3044\n",
      "7        19660                 SPRING WATER           2336\n",
      "8        16797                 STRAWBERRIES           2308\n",
      "9        27966          ORGANIC RASPBERRIES           2024\n",
      "10       44632   SPARKLING WATER GRAPEFRUIT           1914\n",
      "11       49235          ORGANIC HALF & HALF           1797\n",
      "12       47626                  LARGE LEMON           1737\n",
      "13         196                         SODA           1733\n",
      "14       38689     ORGANIC REDUCED FAT MILK           1397\n",
      "15       26209                        LIMES           1370\n",
      "16       12341                HASS AVOCADOS           1340\n",
      "17        5785  ORGANIC REDUCED FAT 2% MILK           1310\n",
      "18       27086                  HALF & HALF           1309\n",
      "19       22935         ORGANIC YELLOW ONION           1246\n"
     ]
    }
   ],
   "source": [
    "productos_reordenados = order_products[order_products['add_to_cart_order'] == 1]\n",
    "\n",
    "productos_reordenados_counts = productos_reordenados['product_id'].value_counts().head(20)\n",
    "\n",
    "top_20_reordenados = productos_reordenados_counts.reset_index()\n",
    "\n",
    "top_20_reordenados.columns = ['product_id', 'reorder_count']\n",
    "\n",
    "top_20_reordenados = top_20_reordenados.merge(products[['product_id', 'product_name']], on='product_id', how='left')\n",
    "\n",
    "print(top_20_reordenados[['product_id', 'product_name', 'reorder_count']])"
   ]
  },
  {
   "cell_type": "markdown",
   "id": "28ce9872",
   "metadata": {
    "id": "28ce9872"
   },
   "source": [
    "Escribe aquí tus conclusiones\n",
    "\n",
    "Lo que puedo observar es que los primeros 20 productos que las personas ponen primero en sus carritos son de artículos similares a los más populares comprados, que se asocian a productos naturales como lo he mencionado anteriormente. Los consumidores pueden comprar estos productos para tener una mejor alimentación, y por ende, pueden tener un mejor impacto en la salud de las personas. Con esa información, podría ofertarse otros productos complementarios relacionados con estos, que ayuden a las personas en mejorar su bienestar corporal."
   ]
  },
  {
   "cell_type": "markdown",
   "id": "uITbFCEoDosC",
   "metadata": {
    "id": "uITbFCEoDosC"
   },
   "source": [
    "### Conclusion general del proyecto:\n",
    "\n",
    "Se realizó una revisión general de la información contenida en los archivos de la empresa instacart. Se llevo a cabo una depuración de valores duplicados y ausentes, y la conversión de tipos de datos de una columna. \n",
    "\n",
    "Posteriormente, se procedió al análisis de los datos contenidos en las tablas. De dicho análisis podemos determinar lo siguiente:\n",
    "\n",
    "1) Instacart es una empresa minorista, ya que la mayor parte de las compras realizadas por sus clientes implican la compra de pocos artículos, con una media de 10 artículos comprados. Estas compras se realizan en los primeros días de la semana. Después del día 10, baja considerablemente el volumen de compras, de hecho, los consumidores tienden a resurtirse a los 30 días, esto es, al mes.\n",
    "\n",
    "2) Los productos más populares son productos naturales como frutas, vegetales y legumbres. Coincide que algunos de estos productos naturales son los primeros que colocan los clientes en sus carritos, por lo cual, deben de ser de excelente calidad. Asimismo, hay una serie de productos procesados consumibles que son los que más se reordenan, presumiblemente, por personal de oficinas para consumo de sus comidas diarias. Su consumo debe ser alto de lunes a viernes en horario laboral tradicional. \n",
    "\n",
    "3) En cuanto a los patrones de compra de los productos, se observa lo siguiente:\n",
    "\n",
    "    a) Existe un rango muy amplio de recompra de productos, van de un espectro de clientes que realizan una recompra de un producto con mucha frecuencia, y consumidores que apenas repiten la compra de un producto realizado con anterioridad.\n",
    "\n",
    "   \n",
    "    b)\tLos días de la semana con mayor volumen de ventas son los domingos y los lunes.\n",
    "\n",
    "   \n",
    "    c)\tEl mayor volumen de compras durante el día, es entre las 10 a.m. y las 4 p.m.\n",
    "\n",
    "   \n",
    "De estas observaciones, puedo concluir que instacart tiene que colocar un alto volumen de ventas de sus productos más vendidos para que pueda tener utilidades, por que estos productos son de bajo costo y poco margen de utilidad. \n",
    "\n",
    "Debido a esta razón, existe un área de oportunidad para que pueda expandir la venta de productos de mayor margen de utilidad, incrementar la cantidad de productos por pedidos, emprender acciones que incrementen la fidelización de clientes para que realicen recompras de productos con mayor frecuencia. Por último, es importante, que se incentiven las compras de los clientes despúes de los primeros 10 días del mes.\n"
   ]
  },
  {
   "cell_type": "markdown",
   "id": "ad63f24e-db59-4264-b9b2-480f9530e2ad",
   "metadata": {},
   "source": [
    "## Comentario general del revisor\n",
    "<div class=\"alert alert-block alert-success\">\n",
    "<b>Comentario del revisor</b> <a class=\"tocSkip\"></a><br />\n",
    "Has realizado un buen trabajo, me doy cuenta de que has aplicado los conocimientos que has adquirido durante el curso, las conclusiones a las que llegaste son buenas y los procedimientos realizados son correctos. Considero que este es un proyecto que se empieza a asemejar más a algún proyecto que te pidan en un trabajo, a partir de análisis de este tipo se pueden diseñar estrategias de marketing específicas para ciertos productos o se pueden optimizar los procesos internos para tener disponibles más rápidamente los productos que se venden más seguido.<br/>\n",
    "    \n",
    "\n",
    "Continúa con el buen trabajo y mucho éxito en el siguiente Sprint!\n",
    "</div>\n",
    "\n"
   ]
  },
  {
   "cell_type": "code",
   "execution_count": 69,
   "id": "68d05765-3382-4575-80bf-bb3122a11b28",
   "metadata": {},
   "outputs": [
    {
     "ename": "SyntaxError",
     "evalue": "invalid syntax (1202510971.py, line 1)",
     "output_type": "error",
     "traceback": [
      "\u001b[0;36m  Cell \u001b[0;32mIn[69], line 1\u001b[0;36m\u001b[0m\n\u001b[0;31m    <div class=\"alert alert-block alert-success\">\u001b[0m\n\u001b[0m    ^\u001b[0m\n\u001b[0;31mSyntaxError\u001b[0m\u001b[0;31m:\u001b[0m invalid syntax\n"
     ]
    }
   ],
   "source": [
    "<div class=\"alert alert-block alert-success\">\n",
    "<b>Aspectos positivos del proyecto</b> <a class=\"tocSkip\"></a><br />\n",
    "\n",
    "- Las observaciones intermedias, así como las conclusiones finales me parecen bastante detalladas\n",
    "- Las graficas utilizadas me parecen del tipo correcto\n",
    "\n",
    "    \n",
    "</div>\n",
    "\n",
    "    m"
   ]
  },
  {
   "cell_type": "code",
   "execution_count": null,
   "id": "dd685dd5-ddff-4ce1-9eb1-c77c38076b09",
   "metadata": {},
   "outputs": [],
   "source": []
  }
 ],
 "metadata": {
  "colab": {
   "provenance": [
    {
     "file_id": "1aLGZ19-GYem3LZdYHuzuwYIeSw_tr0AT",
     "timestamp": 1689682143157
    }
   ]
  },
  "kernelspec": {
   "display_name": "Python 3 (ipykernel)",
   "language": "python",
   "name": "python3"
  },
  "language_info": {
   "codemirror_mode": {
    "name": "ipython",
    "version": 3
   },
   "file_extension": ".py",
   "mimetype": "text/x-python",
   "name": "python",
   "nbconvert_exporter": "python",
   "pygments_lexer": "ipython3",
   "version": "3.9.23"
  },
  "vscode": {
   "interpreter": {
    "hash": "01a7be9ec63e704a62cefc5fe7a4756944464ee731be31632bdf42a4cb4688cf"
   }
  }
 },
 "nbformat": 4,
 "nbformat_minor": 5
}
