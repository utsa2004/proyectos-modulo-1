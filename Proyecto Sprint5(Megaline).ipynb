{
 "cells": [
  {
   "cell_type": "markdown",
   "metadata": {},
   "source": [
    "\n",
    "¡Hola, Oscar!\n",
    "\n",
    "Mi nombre es Tonatiuh Cruz. Me complace revisar tu proyecto hoy.\n",
    "\n",
    "Al identificar cualquier error inicialmente, simplemente los destacaré. Te animo a localizar y abordar los problemas de forma independiente como parte de tu preparación para un rol como data-analyst. En un entorno profesional, tu líder de equipo seguiría un enfoque similar. Si encuentras la tarea desafiante, proporcionaré una pista más específica en la próxima iteración.\n",
    "\n",
    "Encontrarás mis comentarios a continuación - **por favor no los muevas, modifiques o elimines**.\n",
    "\n",
    "Puedes encontrar mis comentarios en cajas verdes, amarillas o rojas como esta:\n",
    "\n",
    "<div class=\"alert alert-block alert-success\">\n",
    "<b>Comentario del revisor</b> <a class=\"tocSkip\"></a>\n",
    "\n",
    "Éxito. Todo está hecho correctamente.\n",
    "</div>\n",
    "\n",
    "<div class=\"alert alert-block alert-warning\">\n",
    "<b>Comentario del revisor</b> <a class=\"tocSkip\"></a>\n",
    "\n",
    "Observaciones. Algunas recomendaciones.\n",
    "</div>\n",
    "\n",
    "<div class=\"alert alert-block alert-danger\">\n",
    "<b>Comentario del revisor</b> <a class=\"tocSkip\"></a>\n",
    "\n",
    "Necesita corrección. El bloque requiere algunas correcciones. El trabajo no puede ser aceptado con comentarios en rojo.\n",
    "</div>\n",
    "\n",
    "Puedes responderme utilizando esto:\n",
    "\n",
    "<div class=\"alert alert-block alert-info\">\n",
    "<b>Respuesta del estudiante.</b> <a class=\"tocSkip\"></a>\n",
    "\n"
   ]
  },
  {
   "cell_type": "markdown",
   "metadata": {
    "id": "3rYiDeEH0q0f"
   },
   "source": [
    "# ¿Cuál es la mejor tarifa?\n",
    "\n",
    "Trabajas como analista para el operador de telecomunicaciones Megaline. La empresa ofrece a sus clientes dos tarifas de prepago, Surf y Ultimate. El departamento comercial quiere saber cuál de las tarifas genera más ingresos para poder ajustar el presupuesto de publicidad.\n",
    "\n",
    "Vas a realizar un análisis preliminar de las tarifas basado en una selección de clientes relativamente pequeña. Tendrás los datos de 500 clientes de Megaline: quiénes son los clientes, de dónde son, qué tarifa usan, así como la cantidad de llamadas que hicieron y los mensajes de texto que enviaron en 2018. Tu trabajo es analizar el comportamiento de los clientes y determinar qué tarifa de prepago genera más ingresos."
   ]
  },
  {
   "cell_type": "markdown",
   "metadata": {},
   "source": [
    "Introspectiva del Proyecto\n",
    "\n",
    "La compañía de telecomunicaciones Megaline busca determinar cuál de sus dos tarifas de prepago, Surf o Ultimate, genera más ingresos, con el fin de ajustar su presupuesto de publicidad y optimizar sus estrategias comerciales. Para ello, se analizarán datos de 500 clientes correspondientes al año 2018, incluyendo información personal y actividades de consumo.\n",
    "\n",
    "Inicialmente, revisaré los datos contenidos en los cinco dataframes entregados, verificando la pertinencia de los formatos (por ejemplo, convertir fechas a formato Datetime o datos a números si fuera necesario). También identificaré y trataré datos ausentes y valores duplicados, asegurando la calidad de la información.\n",
    "\n",
    "Luego, agruparé los datos de llamadas, mensajes e internet por usuario para fusionarlos en una tabla consolidada, que me permitirá calcular:\n",
    "\n",
    "Número de llamadas y minutos totales por mes.\n",
    "Número de mensajes enviados por mes.\n",
    "Volumen de datos consumidos por mes.\n",
    "\n",
    "A partir de estos datos, calcularé los ingresos mensuales por usuario, considerando los minutos, mensajes y datos excedentes respecto a los planes, multiplicando por los precios correspondientes y sumando la cuota mensual del plan.\n",
    "\n",
    "Con estos datos preparados, describiré el comportamiento mensual de los clientes en términos de consumo e ingresos promedio por tipo de plan, utilizando medidas estadísticas como medias, varianzas y desviaciones estándar, además de visualizaciones como histogramas y diagramas de caja.\n",
    "\n",
    "Finalmente, plantearé dos hipótesis de interés: una sobre si existen diferencias en los ingresos entre las tarifas Surf y Ultimate, y otra sobre si los ingresos varían entre regiones (por ejemplo, Nueva York/Nueva Jersey versus otras áreas). Para ello, aplicaré pruebas t de Student para comparar medias, siempre verificando los supuestos de normalidad y homogeneidad de varianzas, con un nivel de confianza del 95%.\n",
    "\n",
    "Este análisis me permitirá identificar cuál tarifa es más rentable y comprender mejor el comportamiento de los clientes en diferentes regiones, aportando información valiosa para la toma de decisiones estratégicas de Megaline.\n",
    "\n"
   ]
  },
  {
   "cell_type": "markdown",
   "metadata": {
    "id": "MQi4IPy70q0y"
   },
   "source": [
    "## Inicialización"
   ]
  },
  {
   "cell_type": "code",
   "execution_count": 2,
   "metadata": {
    "id": "MtYIuBxu0q0z"
   },
   "outputs": [],
   "source": [
    "# Cargar todas las librerías\n",
    "import pandas as pd\n",
    "import numpy as np\n",
    "from matplotlib import pyplot as plt\n",
    "import seaborn as sns\n",
    "from scipy import stats as st\n",
    "import math as mt\n",
    "\n"
   ]
  },
  {
   "cell_type": "markdown",
   "metadata": {},
   "source": [
    "<div class=\"alert alert-block alert-success\">\n",
    "<b>Comentario revisor</b> <a class=\"tocSkip\"></a>\n",
    "\n",
    "Gran trabajo con la carga de math para hacer el redondeo con otros métodos"
   ]
  },
  {
   "cell_type": "markdown",
   "metadata": {
    "id": "4ysWWC5i0q00"
   },
   "source": [
    "## Cargar datos"
   ]
  },
  {
   "cell_type": "code",
   "execution_count": 3,
   "metadata": {
    "id": "CCqPW7rS0q01"
   },
   "outputs": [],
   "source": [
    "# Carga los archivos de datos en diferentes DataFrames\n",
    "users = pd.read_csv(\"/datasets/megaline_users.csv\")\n",
    "calls = pd.read_csv(\"/datasets/megaline_calls.csv\")\n",
    "internet = pd.read_csv(\"/datasets/megaline_internet.csv\")\n",
    "messages = pd.read_csv(\"/datasets/megaline_messages.csv\")\n",
    "plans = pd.read_csv(\"/datasets/megaline_plans.csv\")\n"
   ]
  },
  {
   "cell_type": "markdown",
   "metadata": {
    "id": "69qqoJ3r0q01"
   },
   "source": [
    "## Preparar los datos"
   ]
  },
  {
   "cell_type": "code",
   "execution_count": 4,
   "metadata": {},
   "outputs": [
    {
     "name": "stdout",
     "output_type": "stream",
     "text": [
      "<class 'pandas.core.frame.DataFrame'>\n",
      "RangeIndex: 500 entries, 0 to 499\n",
      "Data columns (total 8 columns):\n",
      " #   Column      Non-Null Count  Dtype \n",
      "---  ------      --------------  ----- \n",
      " 0   user_id     500 non-null    int64 \n",
      " 1   first_name  500 non-null    object\n",
      " 2   last_name   500 non-null    object\n",
      " 3   age         500 non-null    int64 \n",
      " 4   city        500 non-null    object\n",
      " 5   reg_date    500 non-null    object\n",
      " 6   plan        500 non-null    object\n",
      " 7   churn_date  34 non-null     object\n",
      "dtypes: int64(2), object(6)\n",
      "memory usage: 31.4+ KB\n",
      "None\n"
     ]
    },
    {
     "data": {
      "text/html": [
       "<div>\n",
       "<style scoped>\n",
       "    .dataframe tbody tr th:only-of-type {\n",
       "        vertical-align: middle;\n",
       "    }\n",
       "\n",
       "    .dataframe tbody tr th {\n",
       "        vertical-align: top;\n",
       "    }\n",
       "\n",
       "    .dataframe thead th {\n",
       "        text-align: right;\n",
       "    }\n",
       "</style>\n",
       "<table border=\"1\" class=\"dataframe\">\n",
       "  <thead>\n",
       "    <tr style=\"text-align: right;\">\n",
       "      <th></th>\n",
       "      <th>user_id</th>\n",
       "      <th>first_name</th>\n",
       "      <th>last_name</th>\n",
       "      <th>age</th>\n",
       "      <th>city</th>\n",
       "      <th>reg_date</th>\n",
       "      <th>plan</th>\n",
       "      <th>churn_date</th>\n",
       "    </tr>\n",
       "  </thead>\n",
       "  <tbody>\n",
       "    <tr>\n",
       "      <th>446</th>\n",
       "      <td>1446</td>\n",
       "      <td>Pasquale</td>\n",
       "      <td>Ball</td>\n",
       "      <td>52</td>\n",
       "      <td>Austin-Round Rock-Georgetown, TX MSA</td>\n",
       "      <td>2018-09-10</td>\n",
       "      <td>surf</td>\n",
       "      <td>NaN</td>\n",
       "    </tr>\n",
       "    <tr>\n",
       "      <th>147</th>\n",
       "      <td>1147</td>\n",
       "      <td>Duncan</td>\n",
       "      <td>Malone</td>\n",
       "      <td>71</td>\n",
       "      <td>Urban Honolulu, HI MSA</td>\n",
       "      <td>2018-04-30</td>\n",
       "      <td>surf</td>\n",
       "      <td>NaN</td>\n",
       "    </tr>\n",
       "    <tr>\n",
       "      <th>314</th>\n",
       "      <td>1314</td>\n",
       "      <td>Brice</td>\n",
       "      <td>Morgan</td>\n",
       "      <td>35</td>\n",
       "      <td>Los Angeles-Long Beach-Anaheim, CA MSA</td>\n",
       "      <td>2018-03-06</td>\n",
       "      <td>ultimate</td>\n",
       "      <td>NaN</td>\n",
       "    </tr>\n",
       "    <tr>\n",
       "      <th>414</th>\n",
       "      <td>1414</td>\n",
       "      <td>Georgianne</td>\n",
       "      <td>Herring</td>\n",
       "      <td>30</td>\n",
       "      <td>Urban Honolulu, HI MSA</td>\n",
       "      <td>2018-03-03</td>\n",
       "      <td>surf</td>\n",
       "      <td>2018-09-01</td>\n",
       "    </tr>\n",
       "    <tr>\n",
       "      <th>476</th>\n",
       "      <td>1476</td>\n",
       "      <td>Tammara</td>\n",
       "      <td>Dorsey</td>\n",
       "      <td>24</td>\n",
       "      <td>Los Angeles-Long Beach-Anaheim, CA MSA</td>\n",
       "      <td>2018-06-10</td>\n",
       "      <td>ultimate</td>\n",
       "      <td>NaN</td>\n",
       "    </tr>\n",
       "  </tbody>\n",
       "</table>\n",
       "</div>"
      ],
      "text/plain": [
       "     user_id  first_name last_name  age  \\\n",
       "446     1446    Pasquale      Ball   52   \n",
       "147     1147      Duncan    Malone   71   \n",
       "314     1314       Brice    Morgan   35   \n",
       "414     1414  Georgianne   Herring   30   \n",
       "476     1476     Tammara    Dorsey   24   \n",
       "\n",
       "                                       city    reg_date      plan  churn_date  \n",
       "446    Austin-Round Rock-Georgetown, TX MSA  2018-09-10      surf         NaN  \n",
       "147                  Urban Honolulu, HI MSA  2018-04-30      surf         NaN  \n",
       "314  Los Angeles-Long Beach-Anaheim, CA MSA  2018-03-06  ultimate         NaN  \n",
       "414                  Urban Honolulu, HI MSA  2018-03-03      surf  2018-09-01  \n",
       "476  Los Angeles-Long Beach-Anaheim, CA MSA  2018-06-10  ultimate         NaN  "
      ]
     },
     "execution_count": 4,
     "metadata": {},
     "output_type": "execute_result"
    }
   ],
   "source": [
    "print(users.info())\n",
    "users.sample(5, random_state=38)"
   ]
  },
  {
   "cell_type": "code",
   "execution_count": 5,
   "metadata": {},
   "outputs": [
    {
     "data": {
      "text/plain": [
       "0"
      ]
     },
     "execution_count": 5,
     "metadata": {},
     "output_type": "execute_result"
    }
   ],
   "source": [
    "users.duplicated().sum()"
   ]
  },
  {
   "cell_type": "code",
   "execution_count": 6,
   "metadata": {},
   "outputs": [
    {
     "name": "stdout",
     "output_type": "stream",
     "text": [
      "<class 'pandas.core.frame.DataFrame'>\n",
      "RangeIndex: 137735 entries, 0 to 137734\n",
      "Data columns (total 4 columns):\n",
      " #   Column     Non-Null Count   Dtype  \n",
      "---  ------     --------------   -----  \n",
      " 0   id         137735 non-null  object \n",
      " 1   user_id    137735 non-null  int64  \n",
      " 2   call_date  137735 non-null  object \n",
      " 3   duration   137735 non-null  float64\n",
      "dtypes: float64(1), int64(1), object(2)\n",
      "memory usage: 4.2+ MB\n",
      "None\n"
     ]
    },
    {
     "data": {
      "text/html": [
       "<div>\n",
       "<style scoped>\n",
       "    .dataframe tbody tr th:only-of-type {\n",
       "        vertical-align: middle;\n",
       "    }\n",
       "\n",
       "    .dataframe tbody tr th {\n",
       "        vertical-align: top;\n",
       "    }\n",
       "\n",
       "    .dataframe thead th {\n",
       "        text-align: right;\n",
       "    }\n",
       "</style>\n",
       "<table border=\"1\" class=\"dataframe\">\n",
       "  <thead>\n",
       "    <tr style=\"text-align: right;\">\n",
       "      <th></th>\n",
       "      <th>id</th>\n",
       "      <th>user_id</th>\n",
       "      <th>call_date</th>\n",
       "      <th>duration</th>\n",
       "    </tr>\n",
       "  </thead>\n",
       "  <tbody>\n",
       "    <tr>\n",
       "      <th>52288</th>\n",
       "      <td>1187_481</td>\n",
       "      <td>1187</td>\n",
       "      <td>2018-12-12</td>\n",
       "      <td>0.00</td>\n",
       "    </tr>\n",
       "    <tr>\n",
       "      <th>30634</th>\n",
       "      <td>1114_568</td>\n",
       "      <td>1114</td>\n",
       "      <td>2018-10-21</td>\n",
       "      <td>1.05</td>\n",
       "    </tr>\n",
       "    <tr>\n",
       "      <th>54228</th>\n",
       "      <td>1196_106</td>\n",
       "      <td>1196</td>\n",
       "      <td>2018-07-23</td>\n",
       "      <td>5.67</td>\n",
       "    </tr>\n",
       "    <tr>\n",
       "      <th>110372</th>\n",
       "      <td>1389_454</td>\n",
       "      <td>1389</td>\n",
       "      <td>2018-05-12</td>\n",
       "      <td>11.49</td>\n",
       "    </tr>\n",
       "    <tr>\n",
       "      <th>109600</th>\n",
       "      <td>1386_60</td>\n",
       "      <td>1386</td>\n",
       "      <td>2018-11-24</td>\n",
       "      <td>0.00</td>\n",
       "    </tr>\n",
       "  </tbody>\n",
       "</table>\n",
       "</div>"
      ],
      "text/plain": [
       "              id  user_id   call_date  duration\n",
       "52288   1187_481     1187  2018-12-12      0.00\n",
       "30634   1114_568     1114  2018-10-21      1.05\n",
       "54228   1196_106     1196  2018-07-23      5.67\n",
       "110372  1389_454     1389  2018-05-12     11.49\n",
       "109600   1386_60     1386  2018-11-24      0.00"
      ]
     },
     "execution_count": 6,
     "metadata": {},
     "output_type": "execute_result"
    }
   ],
   "source": [
    "print(calls.info())\n",
    "calls.sample(5, random_state=42)"
   ]
  },
  {
   "cell_type": "code",
   "execution_count": 7,
   "metadata": {},
   "outputs": [
    {
     "name": "stdout",
     "output_type": "stream",
     "text": [
      "<class 'pandas.core.frame.DataFrame'>\n",
      "RangeIndex: 104825 entries, 0 to 104824\n",
      "Data columns (total 4 columns):\n",
      " #   Column        Non-Null Count   Dtype  \n",
      "---  ------        --------------   -----  \n",
      " 0   id            104825 non-null  object \n",
      " 1   user_id       104825 non-null  int64  \n",
      " 2   session_date  104825 non-null  object \n",
      " 3   mb_used       104825 non-null  float64\n",
      "dtypes: float64(1), int64(1), object(2)\n",
      "memory usage: 3.2+ MB\n",
      "None\n"
     ]
    },
    {
     "data": {
      "text/html": [
       "<div>\n",
       "<style scoped>\n",
       "    .dataframe tbody tr th:only-of-type {\n",
       "        vertical-align: middle;\n",
       "    }\n",
       "\n",
       "    .dataframe tbody tr th {\n",
       "        vertical-align: top;\n",
       "    }\n",
       "\n",
       "    .dataframe thead th {\n",
       "        text-align: right;\n",
       "    }\n",
       "</style>\n",
       "<table border=\"1\" class=\"dataframe\">\n",
       "  <thead>\n",
       "    <tr style=\"text-align: right;\">\n",
       "      <th></th>\n",
       "      <th>id</th>\n",
       "      <th>user_id</th>\n",
       "      <th>session_date</th>\n",
       "      <th>mb_used</th>\n",
       "    </tr>\n",
       "  </thead>\n",
       "  <tbody>\n",
       "    <tr>\n",
       "      <th>19221</th>\n",
       "      <td>1086_10</td>\n",
       "      <td>1086</td>\n",
       "      <td>2018-12-31</td>\n",
       "      <td>0.00</td>\n",
       "    </tr>\n",
       "    <tr>\n",
       "      <th>3819</th>\n",
       "      <td>1022_230</td>\n",
       "      <td>1022</td>\n",
       "      <td>2018-08-20</td>\n",
       "      <td>478.28</td>\n",
       "    </tr>\n",
       "    <tr>\n",
       "      <th>35462</th>\n",
       "      <td>1160_166</td>\n",
       "      <td>1160</td>\n",
       "      <td>2018-09-30</td>\n",
       "      <td>0.00</td>\n",
       "    </tr>\n",
       "    <tr>\n",
       "      <th>55649</th>\n",
       "      <td>1252_7</td>\n",
       "      <td>1252</td>\n",
       "      <td>2018-11-23</td>\n",
       "      <td>4.99</td>\n",
       "    </tr>\n",
       "    <tr>\n",
       "      <th>34975</th>\n",
       "      <td>1157_62</td>\n",
       "      <td>1157</td>\n",
       "      <td>2018-09-28</td>\n",
       "      <td>584.52</td>\n",
       "    </tr>\n",
       "  </tbody>\n",
       "</table>\n",
       "</div>"
      ],
      "text/plain": [
       "             id  user_id session_date  mb_used\n",
       "19221   1086_10     1086   2018-12-31     0.00\n",
       "3819   1022_230     1022   2018-08-20   478.28\n",
       "35462  1160_166     1160   2018-09-30     0.00\n",
       "55649    1252_7     1252   2018-11-23     4.99\n",
       "34975   1157_62     1157   2018-09-28   584.52"
      ]
     },
     "execution_count": 7,
     "metadata": {},
     "output_type": "execute_result"
    }
   ],
   "source": [
    "print(internet.info())\n",
    "internet.sample(5, random_state=41)"
   ]
  },
  {
   "cell_type": "code",
   "execution_count": 8,
   "metadata": {},
   "outputs": [
    {
     "name": "stdout",
     "output_type": "stream",
     "text": [
      "<class 'pandas.core.frame.DataFrame'>\n",
      "RangeIndex: 76051 entries, 0 to 76050\n",
      "Data columns (total 3 columns):\n",
      " #   Column        Non-Null Count  Dtype \n",
      "---  ------        --------------  ----- \n",
      " 0   id            76051 non-null  object\n",
      " 1   user_id       76051 non-null  int64 \n",
      " 2   message_date  76051 non-null  object\n",
      "dtypes: int64(1), object(2)\n",
      "memory usage: 1.7+ MB\n",
      "None\n"
     ]
    },
    {
     "data": {
      "text/html": [
       "<div>\n",
       "<style scoped>\n",
       "    .dataframe tbody tr th:only-of-type {\n",
       "        vertical-align: middle;\n",
       "    }\n",
       "\n",
       "    .dataframe tbody tr th {\n",
       "        vertical-align: top;\n",
       "    }\n",
       "\n",
       "    .dataframe thead th {\n",
       "        text-align: right;\n",
       "    }\n",
       "</style>\n",
       "<table border=\"1\" class=\"dataframe\">\n",
       "  <thead>\n",
       "    <tr style=\"text-align: right;\">\n",
       "      <th></th>\n",
       "      <th>id</th>\n",
       "      <th>user_id</th>\n",
       "      <th>message_date</th>\n",
       "    </tr>\n",
       "  </thead>\n",
       "  <tbody>\n",
       "    <tr>\n",
       "      <th>3121</th>\n",
       "      <td>1035_75</td>\n",
       "      <td>1035</td>\n",
       "      <td>2018-12-28</td>\n",
       "    </tr>\n",
       "    <tr>\n",
       "      <th>24581</th>\n",
       "      <td>1145_436</td>\n",
       "      <td>1145</td>\n",
       "      <td>2018-09-22</td>\n",
       "    </tr>\n",
       "    <tr>\n",
       "      <th>72223</th>\n",
       "      <td>1468_41</td>\n",
       "      <td>1468</td>\n",
       "      <td>2018-09-12</td>\n",
       "    </tr>\n",
       "    <tr>\n",
       "      <th>26930</th>\n",
       "      <td>1164_180</td>\n",
       "      <td>1164</td>\n",
       "      <td>2018-11-08</td>\n",
       "    </tr>\n",
       "    <tr>\n",
       "      <th>12201</th>\n",
       "      <td>1080_204</td>\n",
       "      <td>1080</td>\n",
       "      <td>2018-08-19</td>\n",
       "    </tr>\n",
       "  </tbody>\n",
       "</table>\n",
       "</div>"
      ],
      "text/plain": [
       "             id  user_id message_date\n",
       "3121    1035_75     1035   2018-12-28\n",
       "24581  1145_436     1145   2018-09-22\n",
       "72223   1468_41     1468   2018-09-12\n",
       "26930  1164_180     1164   2018-11-08\n",
       "12201  1080_204     1080   2018-08-19"
      ]
     },
     "execution_count": 8,
     "metadata": {},
     "output_type": "execute_result"
    }
   ],
   "source": [
    "print(messages.info())\n",
    "messages.sample(5, random_state=40)"
   ]
  },
  {
   "cell_type": "code",
   "execution_count": 9,
   "metadata": {},
   "outputs": [
    {
     "name": "stdout",
     "output_type": "stream",
     "text": [
      "<class 'pandas.core.frame.DataFrame'>\n",
      "RangeIndex: 2 entries, 0 to 1\n",
      "Data columns (total 8 columns):\n",
      " #   Column                 Non-Null Count  Dtype  \n",
      "---  ------                 --------------  -----  \n",
      " 0   messages_included      2 non-null      int64  \n",
      " 1   mb_per_month_included  2 non-null      int64  \n",
      " 2   minutes_included       2 non-null      int64  \n",
      " 3   usd_monthly_pay        2 non-null      int64  \n",
      " 4   usd_per_gb             2 non-null      int64  \n",
      " 5   usd_per_message        2 non-null      float64\n",
      " 6   usd_per_minute         2 non-null      float64\n",
      " 7   plan_name              2 non-null      object \n",
      "dtypes: float64(2), int64(5), object(1)\n",
      "memory usage: 256.0+ bytes\n",
      "None\n"
     ]
    },
    {
     "data": {
      "text/html": [
       "<div>\n",
       "<style scoped>\n",
       "    .dataframe tbody tr th:only-of-type {\n",
       "        vertical-align: middle;\n",
       "    }\n",
       "\n",
       "    .dataframe tbody tr th {\n",
       "        vertical-align: top;\n",
       "    }\n",
       "\n",
       "    .dataframe thead th {\n",
       "        text-align: right;\n",
       "    }\n",
       "</style>\n",
       "<table border=\"1\" class=\"dataframe\">\n",
       "  <thead>\n",
       "    <tr style=\"text-align: right;\">\n",
       "      <th></th>\n",
       "      <th>messages_included</th>\n",
       "      <th>mb_per_month_included</th>\n",
       "      <th>minutes_included</th>\n",
       "      <th>usd_monthly_pay</th>\n",
       "      <th>usd_per_gb</th>\n",
       "      <th>usd_per_message</th>\n",
       "      <th>usd_per_minute</th>\n",
       "      <th>plan_name</th>\n",
       "    </tr>\n",
       "  </thead>\n",
       "  <tbody>\n",
       "    <tr>\n",
       "      <th>0</th>\n",
       "      <td>50</td>\n",
       "      <td>15360</td>\n",
       "      <td>500</td>\n",
       "      <td>20</td>\n",
       "      <td>10</td>\n",
       "      <td>0.03</td>\n",
       "      <td>0.03</td>\n",
       "      <td>surf</td>\n",
       "    </tr>\n",
       "    <tr>\n",
       "      <th>1</th>\n",
       "      <td>1000</td>\n",
       "      <td>30720</td>\n",
       "      <td>3000</td>\n",
       "      <td>70</td>\n",
       "      <td>7</td>\n",
       "      <td>0.01</td>\n",
       "      <td>0.01</td>\n",
       "      <td>ultimate</td>\n",
       "    </tr>\n",
       "  </tbody>\n",
       "</table>\n",
       "</div>"
      ],
      "text/plain": [
       "   messages_included  mb_per_month_included  minutes_included  \\\n",
       "0                 50                  15360               500   \n",
       "1               1000                  30720              3000   \n",
       "\n",
       "   usd_monthly_pay  usd_per_gb  usd_per_message  usd_per_minute plan_name  \n",
       "0               20          10             0.03            0.03      surf  \n",
       "1               70           7             0.01            0.01  ultimate  "
      ]
     },
     "execution_count": 9,
     "metadata": {},
     "output_type": "execute_result"
    }
   ],
   "source": [
    "print(plans.info())\n",
    "plans.head()"
   ]
  },
  {
   "cell_type": "code",
   "execution_count": 10,
   "metadata": {},
   "outputs": [
    {
     "data": {
      "text/plain": [
       "0"
      ]
     },
     "execution_count": 10,
     "metadata": {},
     "output_type": "execute_result"
    }
   ],
   "source": [
    "plans.duplicated().sum()"
   ]
  },
  {
   "cell_type": "markdown",
   "metadata": {
    "id": "ohBhimvH0q01"
   },
   "source": [
    "## Tarifas"
   ]
  },
  {
   "cell_type": "code",
   "execution_count": 11,
   "metadata": {
    "id": "GptqP3Q40q02"
   },
   "outputs": [
    {
     "name": "stdout",
     "output_type": "stream",
     "text": [
      "<class 'pandas.core.frame.DataFrame'>\n",
      "RangeIndex: 2 entries, 0 to 1\n",
      "Data columns (total 8 columns):\n",
      " #   Column                 Non-Null Count  Dtype  \n",
      "---  ------                 --------------  -----  \n",
      " 0   messages_included      2 non-null      int64  \n",
      " 1   mb_per_month_included  2 non-null      int64  \n",
      " 2   minutes_included       2 non-null      int64  \n",
      " 3   usd_monthly_pay        2 non-null      int64  \n",
      " 4   usd_per_gb             2 non-null      int64  \n",
      " 5   usd_per_message        2 non-null      float64\n",
      " 6   usd_per_minute         2 non-null      float64\n",
      " 7   plan_name              2 non-null      object \n",
      "dtypes: float64(2), int64(5), object(1)\n",
      "memory usage: 256.0+ bytes\n"
     ]
    }
   ],
   "source": [
    "# Imprime la información general/resumida sobre el DataFrame de las tarifas\n",
    "plans.info()"
   ]
  },
  {
   "cell_type": "code",
   "execution_count": 12,
   "metadata": {
    "id": "64xzjwL70q02"
   },
   "outputs": [
    {
     "data": {
      "text/html": [
       "<div>\n",
       "<style scoped>\n",
       "    .dataframe tbody tr th:only-of-type {\n",
       "        vertical-align: middle;\n",
       "    }\n",
       "\n",
       "    .dataframe tbody tr th {\n",
       "        vertical-align: top;\n",
       "    }\n",
       "\n",
       "    .dataframe thead th {\n",
       "        text-align: right;\n",
       "    }\n",
       "</style>\n",
       "<table border=\"1\" class=\"dataframe\">\n",
       "  <thead>\n",
       "    <tr style=\"text-align: right;\">\n",
       "      <th></th>\n",
       "      <th>messages_included</th>\n",
       "      <th>mb_per_month_included</th>\n",
       "      <th>minutes_included</th>\n",
       "      <th>usd_monthly_pay</th>\n",
       "      <th>usd_per_gb</th>\n",
       "      <th>usd_per_message</th>\n",
       "      <th>usd_per_minute</th>\n",
       "      <th>plan_name</th>\n",
       "    </tr>\n",
       "  </thead>\n",
       "  <tbody>\n",
       "    <tr>\n",
       "      <th>0</th>\n",
       "      <td>50</td>\n",
       "      <td>15360</td>\n",
       "      <td>500</td>\n",
       "      <td>20</td>\n",
       "      <td>10</td>\n",
       "      <td>0.03</td>\n",
       "      <td>0.03</td>\n",
       "      <td>surf</td>\n",
       "    </tr>\n",
       "    <tr>\n",
       "      <th>1</th>\n",
       "      <td>1000</td>\n",
       "      <td>30720</td>\n",
       "      <td>3000</td>\n",
       "      <td>70</td>\n",
       "      <td>7</td>\n",
       "      <td>0.01</td>\n",
       "      <td>0.01</td>\n",
       "      <td>ultimate</td>\n",
       "    </tr>\n",
       "  </tbody>\n",
       "</table>\n",
       "</div>"
      ],
      "text/plain": [
       "   messages_included  mb_per_month_included  minutes_included  \\\n",
       "0                 50                  15360               500   \n",
       "1               1000                  30720              3000   \n",
       "\n",
       "   usd_monthly_pay  usd_per_gb  usd_per_message  usd_per_minute plan_name  \n",
       "0               20          10             0.03            0.03      surf  \n",
       "1               70           7             0.01            0.01  ultimate  "
      ]
     },
     "execution_count": 12,
     "metadata": {},
     "output_type": "execute_result"
    }
   ],
   "source": [
    "# Imprime una muestra de los datos para las tarifas\n",
    "plans.head()\n"
   ]
  },
  {
   "cell_type": "code",
   "execution_count": 13,
   "metadata": {},
   "outputs": [
    {
     "data": {
      "text/plain": [
       "0"
      ]
     },
     "execution_count": 13,
     "metadata": {},
     "output_type": "execute_result"
    }
   ],
   "source": [
    "plans.duplicated().sum()"
   ]
  },
  {
   "cell_type": "markdown",
   "metadata": {},
   "source": [
    "OBSERVACIONES GENERALES DE LOS DATOS DEL DATAFRAME \"PLANS\"\n",
    "\n",
    "La tabla \"plans\" muestra información específica sobre lo que contiene el plan asociado tanto a la tarifa Surf (fila 0), y la tarifa Ultimate (fila 1). La información de la tarifa se visualiza en cada columna, según el tipo de dato. \n",
    "\n",
    "Analizando los tipos de datos, nos encontramos con lo siguiente. El nombre del plan es de tipo \"objeto\". Los mensajes, datos incluidos en megabytes, minutos, pagos mensuales en dólares y precio por gygabyte todos correctamente presentados en \"int64\". Finalmente, los precios  en dólares por exceder la tarifa de prepago, tanto en minutos como por mensaje, están presentados correctamente en decimales o \"float64\". Como es una tabla informativa, y solo dos filas, no hay datos ausentes, ni duplicados.\n",
    "\n",
    "El problema que presenta esta tabla es que Megaline redondea el consumo de datos de megabytes a gigabytes, y por lo tanto, se tendría que crear una columna con la conversión a gigabytes, y posteriormente, pasar la columna a tipo entero \"int64\"."
   ]
  },
  {
   "cell_type": "markdown",
   "metadata": {
    "collapsed": false,
    "id": "R3C05i1l0q03",
    "jupyter": {
     "outputs_hidden": false
    }
   },
   "source": [
    "## Corregir datos"
   ]
  },
  {
   "cell_type": "code",
   "execution_count": 14,
   "metadata": {
    "id": "Y7SVmjGn0q03"
   },
   "outputs": [
    {
     "data": {
      "text/html": [
       "<div>\n",
       "<style scoped>\n",
       "    .dataframe tbody tr th:only-of-type {\n",
       "        vertical-align: middle;\n",
       "    }\n",
       "\n",
       "    .dataframe tbody tr th {\n",
       "        vertical-align: top;\n",
       "    }\n",
       "\n",
       "    .dataframe thead th {\n",
       "        text-align: right;\n",
       "    }\n",
       "</style>\n",
       "<table border=\"1\" class=\"dataframe\">\n",
       "  <thead>\n",
       "    <tr style=\"text-align: right;\">\n",
       "      <th></th>\n",
       "      <th>messages_included</th>\n",
       "      <th>mb_per_month_included</th>\n",
       "      <th>minutes_included</th>\n",
       "      <th>usd_monthly_pay</th>\n",
       "      <th>usd_per_gb</th>\n",
       "      <th>usd_per_message</th>\n",
       "      <th>usd_per_minute</th>\n",
       "      <th>plan_name</th>\n",
       "      <th>gb_per_month_included</th>\n",
       "    </tr>\n",
       "  </thead>\n",
       "  <tbody>\n",
       "    <tr>\n",
       "      <th>0</th>\n",
       "      <td>50</td>\n",
       "      <td>15360</td>\n",
       "      <td>500</td>\n",
       "      <td>20</td>\n",
       "      <td>10</td>\n",
       "      <td>0.03</td>\n",
       "      <td>0.03</td>\n",
       "      <td>surf</td>\n",
       "      <td>15.0</td>\n",
       "    </tr>\n",
       "    <tr>\n",
       "      <th>1</th>\n",
       "      <td>1000</td>\n",
       "      <td>30720</td>\n",
       "      <td>3000</td>\n",
       "      <td>70</td>\n",
       "      <td>7</td>\n",
       "      <td>0.01</td>\n",
       "      <td>0.01</td>\n",
       "      <td>ultimate</td>\n",
       "      <td>30.0</td>\n",
       "    </tr>\n",
       "  </tbody>\n",
       "</table>\n",
       "</div>"
      ],
      "text/plain": [
       "   messages_included  mb_per_month_included  minutes_included  \\\n",
       "0                 50                  15360               500   \n",
       "1               1000                  30720              3000   \n",
       "\n",
       "   usd_monthly_pay  usd_per_gb  usd_per_message  usd_per_minute plan_name  \\\n",
       "0               20          10             0.03            0.03      surf   \n",
       "1               70           7             0.01            0.01  ultimate   \n",
       "\n",
       "   gb_per_month_included  \n",
       "0                   15.0  \n",
       "1                   30.0  "
      ]
     },
     "execution_count": 14,
     "metadata": {},
     "output_type": "execute_result"
    }
   ],
   "source": [
    "plans[\"gb_per_month_included\"] = plans[\"mb_per_month_included\"] / 1024\n",
    "plans.head()"
   ]
  },
  {
   "cell_type": "markdown",
   "metadata": {},
   "source": [
    "<div class=\"alert alert-block alert-success\">\n",
    "<b>Comentario del revisor</b> <a class=\"tocSkip\"></a>\n",
    "\n",
    "Muy buen trabajo!! Es correcto considerar que 1024 megabytes son 1 gigabytes.\n",
    "    \n",
    "</div>"
   ]
  },
  {
   "cell_type": "markdown",
   "metadata": {
    "id": "LJir7bml0q03"
   },
   "source": [
    "## Enriquecer los datos"
   ]
  },
  {
   "cell_type": "code",
   "execution_count": 15,
   "metadata": {
    "id": "gfcIEuXV0q04"
   },
   "outputs": [
    {
     "name": "stdout",
     "output_type": "stream",
     "text": [
      "<class 'pandas.core.frame.DataFrame'>\n",
      "RangeIndex: 2 entries, 0 to 1\n",
      "Data columns (total 9 columns):\n",
      " #   Column                 Non-Null Count  Dtype  \n",
      "---  ------                 --------------  -----  \n",
      " 0   messages_included      2 non-null      int64  \n",
      " 1   mb_per_month_included  2 non-null      int64  \n",
      " 2   minutes_included       2 non-null      int64  \n",
      " 3   usd_monthly_pay        2 non-null      int64  \n",
      " 4   usd_per_gb             2 non-null      int64  \n",
      " 5   usd_per_message        2 non-null      float64\n",
      " 6   usd_per_minute         2 non-null      float64\n",
      " 7   plan_name              2 non-null      object \n",
      " 8   gb_per_month_included  2 non-null      int64  \n",
      "dtypes: float64(2), int64(6), object(1)\n",
      "memory usage: 272.0+ bytes\n",
      "None\n"
     ]
    },
    {
     "data": {
      "text/html": [
       "<div>\n",
       "<style scoped>\n",
       "    .dataframe tbody tr th:only-of-type {\n",
       "        vertical-align: middle;\n",
       "    }\n",
       "\n",
       "    .dataframe tbody tr th {\n",
       "        vertical-align: top;\n",
       "    }\n",
       "\n",
       "    .dataframe thead th {\n",
       "        text-align: right;\n",
       "    }\n",
       "</style>\n",
       "<table border=\"1\" class=\"dataframe\">\n",
       "  <thead>\n",
       "    <tr style=\"text-align: right;\">\n",
       "      <th></th>\n",
       "      <th>messages_included</th>\n",
       "      <th>mb_per_month_included</th>\n",
       "      <th>minutes_included</th>\n",
       "      <th>usd_monthly_pay</th>\n",
       "      <th>usd_per_gb</th>\n",
       "      <th>usd_per_message</th>\n",
       "      <th>usd_per_minute</th>\n",
       "      <th>plan_name</th>\n",
       "      <th>gb_per_month_included</th>\n",
       "    </tr>\n",
       "  </thead>\n",
       "  <tbody>\n",
       "    <tr>\n",
       "      <th>0</th>\n",
       "      <td>50</td>\n",
       "      <td>15360</td>\n",
       "      <td>500</td>\n",
       "      <td>20</td>\n",
       "      <td>10</td>\n",
       "      <td>0.03</td>\n",
       "      <td>0.03</td>\n",
       "      <td>surf</td>\n",
       "      <td>15</td>\n",
       "    </tr>\n",
       "    <tr>\n",
       "      <th>1</th>\n",
       "      <td>1000</td>\n",
       "      <td>30720</td>\n",
       "      <td>3000</td>\n",
       "      <td>70</td>\n",
       "      <td>7</td>\n",
       "      <td>0.01</td>\n",
       "      <td>0.01</td>\n",
       "      <td>ultimate</td>\n",
       "      <td>30</td>\n",
       "    </tr>\n",
       "  </tbody>\n",
       "</table>\n",
       "</div>"
      ],
      "text/plain": [
       "   messages_included  mb_per_month_included  minutes_included  \\\n",
       "0                 50                  15360               500   \n",
       "1               1000                  30720              3000   \n",
       "\n",
       "   usd_monthly_pay  usd_per_gb  usd_per_message  usd_per_minute plan_name  \\\n",
       "0               20          10             0.03            0.03      surf   \n",
       "1               70           7             0.01            0.01  ultimate   \n",
       "\n",
       "   gb_per_month_included  \n",
       "0                     15  \n",
       "1                     30  "
      ]
     },
     "execution_count": 15,
     "metadata": {},
     "output_type": "execute_result"
    }
   ],
   "source": [
    "plans[\"gb_per_month_included\"] = plans[\"gb_per_month_included\"].astype(int)\n",
    "print(plans.info())\n",
    "plans.head()"
   ]
  },
  {
   "cell_type": "markdown",
   "metadata": {
    "id": "1n2X6WXf0q04"
   },
   "source": [
    "## Usuarios/as"
   ]
  },
  {
   "cell_type": "code",
   "execution_count": 16,
   "metadata": {
    "id": "2NgjWFqx0q05"
   },
   "outputs": [
    {
     "name": "stdout",
     "output_type": "stream",
     "text": [
      "<class 'pandas.core.frame.DataFrame'>\n",
      "RangeIndex: 500 entries, 0 to 499\n",
      "Data columns (total 8 columns):\n",
      " #   Column      Non-Null Count  Dtype \n",
      "---  ------      --------------  ----- \n",
      " 0   user_id     500 non-null    int64 \n",
      " 1   first_name  500 non-null    object\n",
      " 2   last_name   500 non-null    object\n",
      " 3   age         500 non-null    int64 \n",
      " 4   city        500 non-null    object\n",
      " 5   reg_date    500 non-null    object\n",
      " 6   plan        500 non-null    object\n",
      " 7   churn_date  34 non-null     object\n",
      "dtypes: int64(2), object(6)\n",
      "memory usage: 31.4+ KB\n"
     ]
    }
   ],
   "source": [
    "# Imprime la información general/resumida sobre el DataFrame de usuarios\n",
    "users.info()\n"
   ]
  },
  {
   "cell_type": "code",
   "execution_count": 17,
   "metadata": {
    "id": "1IN1L9uh0q05"
   },
   "outputs": [
    {
     "data": {
      "text/html": [
       "<div>\n",
       "<style scoped>\n",
       "    .dataframe tbody tr th:only-of-type {\n",
       "        vertical-align: middle;\n",
       "    }\n",
       "\n",
       "    .dataframe tbody tr th {\n",
       "        vertical-align: top;\n",
       "    }\n",
       "\n",
       "    .dataframe thead th {\n",
       "        text-align: right;\n",
       "    }\n",
       "</style>\n",
       "<table border=\"1\" class=\"dataframe\">\n",
       "  <thead>\n",
       "    <tr style=\"text-align: right;\">\n",
       "      <th></th>\n",
       "      <th>user_id</th>\n",
       "      <th>first_name</th>\n",
       "      <th>last_name</th>\n",
       "      <th>age</th>\n",
       "      <th>city</th>\n",
       "      <th>reg_date</th>\n",
       "      <th>plan</th>\n",
       "      <th>churn_date</th>\n",
       "    </tr>\n",
       "  </thead>\n",
       "  <tbody>\n",
       "    <tr>\n",
       "      <th>446</th>\n",
       "      <td>1446</td>\n",
       "      <td>Pasquale</td>\n",
       "      <td>Ball</td>\n",
       "      <td>52</td>\n",
       "      <td>Austin-Round Rock-Georgetown, TX MSA</td>\n",
       "      <td>2018-09-10</td>\n",
       "      <td>surf</td>\n",
       "      <td>NaN</td>\n",
       "    </tr>\n",
       "    <tr>\n",
       "      <th>147</th>\n",
       "      <td>1147</td>\n",
       "      <td>Duncan</td>\n",
       "      <td>Malone</td>\n",
       "      <td>71</td>\n",
       "      <td>Urban Honolulu, HI MSA</td>\n",
       "      <td>2018-04-30</td>\n",
       "      <td>surf</td>\n",
       "      <td>NaN</td>\n",
       "    </tr>\n",
       "    <tr>\n",
       "      <th>314</th>\n",
       "      <td>1314</td>\n",
       "      <td>Brice</td>\n",
       "      <td>Morgan</td>\n",
       "      <td>35</td>\n",
       "      <td>Los Angeles-Long Beach-Anaheim, CA MSA</td>\n",
       "      <td>2018-03-06</td>\n",
       "      <td>ultimate</td>\n",
       "      <td>NaN</td>\n",
       "    </tr>\n",
       "    <tr>\n",
       "      <th>414</th>\n",
       "      <td>1414</td>\n",
       "      <td>Georgianne</td>\n",
       "      <td>Herring</td>\n",
       "      <td>30</td>\n",
       "      <td>Urban Honolulu, HI MSA</td>\n",
       "      <td>2018-03-03</td>\n",
       "      <td>surf</td>\n",
       "      <td>2018-09-01</td>\n",
       "    </tr>\n",
       "    <tr>\n",
       "      <th>476</th>\n",
       "      <td>1476</td>\n",
       "      <td>Tammara</td>\n",
       "      <td>Dorsey</td>\n",
       "      <td>24</td>\n",
       "      <td>Los Angeles-Long Beach-Anaheim, CA MSA</td>\n",
       "      <td>2018-06-10</td>\n",
       "      <td>ultimate</td>\n",
       "      <td>NaN</td>\n",
       "    </tr>\n",
       "  </tbody>\n",
       "</table>\n",
       "</div>"
      ],
      "text/plain": [
       "     user_id  first_name last_name  age  \\\n",
       "446     1446    Pasquale      Ball   52   \n",
       "147     1147      Duncan    Malone   71   \n",
       "314     1314       Brice    Morgan   35   \n",
       "414     1414  Georgianne   Herring   30   \n",
       "476     1476     Tammara    Dorsey   24   \n",
       "\n",
       "                                       city    reg_date      plan  churn_date  \n",
       "446    Austin-Round Rock-Georgetown, TX MSA  2018-09-10      surf         NaN  \n",
       "147                  Urban Honolulu, HI MSA  2018-04-30      surf         NaN  \n",
       "314  Los Angeles-Long Beach-Anaheim, CA MSA  2018-03-06  ultimate         NaN  \n",
       "414                  Urban Honolulu, HI MSA  2018-03-03      surf  2018-09-01  \n",
       "476  Los Angeles-Long Beach-Anaheim, CA MSA  2018-06-10  ultimate         NaN  "
      ]
     },
     "execution_count": 17,
     "metadata": {},
     "output_type": "execute_result"
    }
   ],
   "source": [
    "# Imprime una muestra de datos para usuarios\n",
    "users.sample(5, random_state=38)\n"
   ]
  },
  {
   "cell_type": "code",
   "execution_count": 18,
   "metadata": {},
   "outputs": [
    {
     "data": {
      "text/plain": [
       "0"
      ]
     },
     "execution_count": 18,
     "metadata": {},
     "output_type": "execute_result"
    }
   ],
   "source": [
    "users.duplicated().sum()"
   ]
  },
  {
   "cell_type": "markdown",
   "metadata": {},
   "source": [
    "OBSERVACIONES GENERALES DE LOS DATOS DEL DATAFRAME \"USERS\"\n",
    "\n",
    "En el Dataframe \"users\" observo que existen datos ausentes solamente en la columna \"churn_date\", sin embargo, eso significa que los usuarios siguen usando los servicios al momento que se extrajo la información, de acuerdo a lo informado por la empresa previamente. Ante esta situación, procederé a mantener estos valores NaN que me indicarán que los clientes siguen activos.\n",
    "\n",
    "Cambiaré las columnas \"reg-date\" y \"churn_date\" de tipo de datos \"object\" a \"datetime\", así como la columna \"user_id\" de \"int_64\" a \"object\".\n",
    "\n",
    "No existen datos duplicados.\n",
    "\n",
    "Tengo que hacer un cambio en el nombre de la columna \"plan\" a \"plan_name\". Este paso será importante al realizar una fusión posterior, ya que la columna similar del dataframe \"plans\" tiene el nombre de \"plan_name\"."
   ]
  },
  {
   "cell_type": "markdown",
   "metadata": {
    "id": "BX5FQh_I0q06"
   },
   "source": [
    "### Corregir los datos"
   ]
  },
  {
   "cell_type": "code",
   "execution_count": 19,
   "metadata": {
    "id": "yUqX-K0C0q07"
   },
   "outputs": [
    {
     "name": "stdout",
     "output_type": "stream",
     "text": [
      "<class 'pandas.core.frame.DataFrame'>\n",
      "RangeIndex: 500 entries, 0 to 499\n",
      "Data columns (total 8 columns):\n",
      " #   Column      Non-Null Count  Dtype         \n",
      "---  ------      --------------  -----         \n",
      " 0   user_id     500 non-null    object        \n",
      " 1   first_name  500 non-null    object        \n",
      " 2   last_name   500 non-null    object        \n",
      " 3   age         500 non-null    int64         \n",
      " 4   city        500 non-null    object        \n",
      " 5   reg_date    500 non-null    datetime64[ns]\n",
      " 6   plan        500 non-null    object        \n",
      " 7   churn_date  34 non-null     datetime64[ns]\n",
      "dtypes: datetime64[ns](2), int64(1), object(5)\n",
      "memory usage: 31.4+ KB\n"
     ]
    }
   ],
   "source": [
    "users[\"reg_date\"] = pd.to_datetime(users[\"reg_date\"])\n",
    "users[\"churn_date\"] = pd.to_datetime(users[\"churn_date\"])\n",
    "users[\"user_id\"] = users[\"user_id\"].astype(str)\n",
    "users.info()"
   ]
  },
  {
   "cell_type": "markdown",
   "metadata": {},
   "source": [
    "<div class=\"alert alert-block alert-warning\">\n",
    "<b>Comentario Revisor</b> <a class=\"tocSkip\"></a>\n",
    "\n",
    "En todos los casos en los que cambiamos el tipo de variable a datetime, te recomiendo agregar el argumento \"format='%Y-%m-%d'\" dentro de la función to_datetime(). De esta manera, puedes asegurarte siempre de que el formato de la fecha que deseas cambiar sea el que necesitas.\n",
    "</div>"
   ]
  },
  {
   "cell_type": "markdown",
   "metadata": {
    "id": "ycwuARJp0q07"
   },
   "source": [
    "### Enriquecer los datos"
   ]
  },
  {
   "cell_type": "code",
   "execution_count": 20,
   "metadata": {
    "id": "iq0AaBS90q08"
   },
   "outputs": [],
   "source": [
    "# Camnbiar el nombre de la columna \"plan\" a \"plan_name\" para realizar una fusión posterior\n",
    "users = users.rename(columns={\"plan\" : \"plan_name\"})\n"
   ]
  },
  {
   "cell_type": "code",
   "execution_count": 21,
   "metadata": {},
   "outputs": [
    {
     "name": "stdout",
     "output_type": "stream",
     "text": [
      "<class 'pandas.core.frame.DataFrame'>\n",
      "RangeIndex: 500 entries, 0 to 499\n",
      "Data columns (total 8 columns):\n",
      " #   Column      Non-Null Count  Dtype         \n",
      "---  ------      --------------  -----         \n",
      " 0   user_id     500 non-null    object        \n",
      " 1   first_name  500 non-null    object        \n",
      " 2   last_name   500 non-null    object        \n",
      " 3   age         500 non-null    int64         \n",
      " 4   city        500 non-null    object        \n",
      " 5   reg_date    500 non-null    datetime64[ns]\n",
      " 6   plan_name   500 non-null    object        \n",
      " 7   churn_date  34 non-null     datetime64[ns]\n",
      "dtypes: datetime64[ns](2), int64(1), object(5)\n",
      "memory usage: 31.4+ KB\n"
     ]
    }
   ],
   "source": [
    "users.info()"
   ]
  },
  {
   "cell_type": "markdown",
   "metadata": {
    "id": "o7MeKCid0q08"
   },
   "source": [
    "## Llamadas"
   ]
  },
  {
   "cell_type": "code",
   "execution_count": 22,
   "metadata": {
    "id": "6dDlnoDm0q08"
   },
   "outputs": [
    {
     "name": "stdout",
     "output_type": "stream",
     "text": [
      "<class 'pandas.core.frame.DataFrame'>\n",
      "RangeIndex: 137735 entries, 0 to 137734\n",
      "Data columns (total 4 columns):\n",
      " #   Column     Non-Null Count   Dtype  \n",
      "---  ------     --------------   -----  \n",
      " 0   id         137735 non-null  object \n",
      " 1   user_id    137735 non-null  int64  \n",
      " 2   call_date  137735 non-null  object \n",
      " 3   duration   137735 non-null  float64\n",
      "dtypes: float64(1), int64(1), object(2)\n",
      "memory usage: 4.2+ MB\n"
     ]
    }
   ],
   "source": [
    "# Imprime la información general/resumida sobre el DataFrame de las llamadas\n",
    "calls.info()\n"
   ]
  },
  {
   "cell_type": "code",
   "execution_count": 23,
   "metadata": {
    "id": "kuh1vlNB0q09"
   },
   "outputs": [
    {
     "data": {
      "text/html": [
       "<div>\n",
       "<style scoped>\n",
       "    .dataframe tbody tr th:only-of-type {\n",
       "        vertical-align: middle;\n",
       "    }\n",
       "\n",
       "    .dataframe tbody tr th {\n",
       "        vertical-align: top;\n",
       "    }\n",
       "\n",
       "    .dataframe thead th {\n",
       "        text-align: right;\n",
       "    }\n",
       "</style>\n",
       "<table border=\"1\" class=\"dataframe\">\n",
       "  <thead>\n",
       "    <tr style=\"text-align: right;\">\n",
       "      <th></th>\n",
       "      <th>id</th>\n",
       "      <th>user_id</th>\n",
       "      <th>call_date</th>\n",
       "      <th>duration</th>\n",
       "    </tr>\n",
       "  </thead>\n",
       "  <tbody>\n",
       "    <tr>\n",
       "      <th>52288</th>\n",
       "      <td>1187_481</td>\n",
       "      <td>1187</td>\n",
       "      <td>2018-12-12</td>\n",
       "      <td>0.00</td>\n",
       "    </tr>\n",
       "    <tr>\n",
       "      <th>30634</th>\n",
       "      <td>1114_568</td>\n",
       "      <td>1114</td>\n",
       "      <td>2018-10-21</td>\n",
       "      <td>1.05</td>\n",
       "    </tr>\n",
       "    <tr>\n",
       "      <th>54228</th>\n",
       "      <td>1196_106</td>\n",
       "      <td>1196</td>\n",
       "      <td>2018-07-23</td>\n",
       "      <td>5.67</td>\n",
       "    </tr>\n",
       "    <tr>\n",
       "      <th>110372</th>\n",
       "      <td>1389_454</td>\n",
       "      <td>1389</td>\n",
       "      <td>2018-05-12</td>\n",
       "      <td>11.49</td>\n",
       "    </tr>\n",
       "    <tr>\n",
       "      <th>109600</th>\n",
       "      <td>1386_60</td>\n",
       "      <td>1386</td>\n",
       "      <td>2018-11-24</td>\n",
       "      <td>0.00</td>\n",
       "    </tr>\n",
       "  </tbody>\n",
       "</table>\n",
       "</div>"
      ],
      "text/plain": [
       "              id  user_id   call_date  duration\n",
       "52288   1187_481     1187  2018-12-12      0.00\n",
       "30634   1114_568     1114  2018-10-21      1.05\n",
       "54228   1196_106     1196  2018-07-23      5.67\n",
       "110372  1389_454     1389  2018-05-12     11.49\n",
       "109600   1386_60     1386  2018-11-24      0.00"
      ]
     },
     "execution_count": 23,
     "metadata": {},
     "output_type": "execute_result"
    }
   ],
   "source": [
    "# Imprime una muestra de datos para las llamadas\n",
    "calls.sample(5, random_state=42)\n"
   ]
  },
  {
   "cell_type": "code",
   "execution_count": 24,
   "metadata": {},
   "outputs": [
    {
     "data": {
      "text/plain": [
       "0"
      ]
     },
     "execution_count": 24,
     "metadata": {},
     "output_type": "execute_result"
    }
   ],
   "source": [
    "calls.duplicated().sum()"
   ]
  },
  {
   "cell_type": "markdown",
   "metadata": {},
   "source": [
    "OBSERVACIONES GENERALES DE LOS DATOS DEL DATAFRAME \"CALLS\"\n",
    "\n",
    "El Dataframe \"calls\", no presenta valores ausentes ni duplicados. \n",
    "\n",
    "Cambiaré la columna \"call_date\" de \"object\" a \"Datetime\", y la columna \"user_id\" de \"int_64\" a \"object\".\n",
    "\n",
    "Finalmente, necesitaré crear una columna nueva que se filtre por meses, y crear otra columna que redondee los segundos a minutos y conventir los datos de la columna en tipo \"entero\". Esto es necesario, porque Megaline tiene la política de redondear cada llamada de segundos a minutos, aunque solo dure 1 segundo.\n",
    "\n",
    "Me llama la atención que existen llamadas con duraciones de minutos de 0, lo cual puede evidenciar o problemas para concretar la llamadas y/o que el usuario haya colgado de inmediato, esto es un tema que Megaline tendrá que revisar.\n",
    "\n"
   ]
  },
  {
   "cell_type": "markdown",
   "metadata": {
    "id": "S7hzxmbX0q0-"
   },
   "source": [
    "### Corregir los datos"
   ]
  },
  {
   "cell_type": "code",
   "execution_count": 25,
   "metadata": {
    "id": "S2r8xA4f0q0-"
   },
   "outputs": [
    {
     "name": "stdout",
     "output_type": "stream",
     "text": [
      "<class 'pandas.core.frame.DataFrame'>\n",
      "RangeIndex: 137735 entries, 0 to 137734\n",
      "Data columns (total 4 columns):\n",
      " #   Column     Non-Null Count   Dtype         \n",
      "---  ------     --------------   -----         \n",
      " 0   id         137735 non-null  object        \n",
      " 1   user_id    137735 non-null  object        \n",
      " 2   call_date  137735 non-null  datetime64[ns]\n",
      " 3   duration   137735 non-null  float64       \n",
      "dtypes: datetime64[ns](1), float64(1), object(2)\n",
      "memory usage: 4.2+ MB\n"
     ]
    }
   ],
   "source": [
    "calls[\"call_date\"] = pd.to_datetime(calls[\"call_date\"])\n",
    "calls[\"user_id\"] = calls[\"user_id\"].astype(str)\n",
    "calls.info()"
   ]
  },
  {
   "cell_type": "markdown",
   "metadata": {
    "id": "KrMgTrlG0q0_"
   },
   "source": [
    "### Enriquecer los datos"
   ]
  },
  {
   "cell_type": "code",
   "execution_count": 26,
   "metadata": {
    "id": "iZ1avpA_0q0_"
   },
   "outputs": [],
   "source": [
    "# Crear una columna nueva que muestre la información de los \"meses\".\n",
    "calls[\"months\"] = calls[\"call_date\"].dt.month\n",
    "\n",
    "# Crear una columna nueva que redondee los segundos a minutos.\n",
    "calls[\"calls_rounded_to_minutes\"] = np.ceil(calls[\"duration\"]) \n",
    "\n",
    "# Se convierten la columna \"calls_rounded_to_minutes\" en tipo \"entero\".\n",
    "calls[\"calls_rounded_to_minutes\"] = calls[\"calls_rounded_to_minutes\"].astype(int)\n",
    "\n"
   ]
  },
  {
   "cell_type": "markdown",
   "metadata": {},
   "source": [
    "<div class=\"alert alert-block alert-success\">\n",
    "<b>Comentario del revisor</b> <a class=\"tocSkip\"></a>\n",
    "\n",
    "Muy buen trabajo en redondear la duración de las llamadas.\n",
    "    \n",
    "</div>"
   ]
  },
  {
   "cell_type": "markdown",
   "metadata": {
    "id": "mOUZSi180q0_"
   },
   "source": [
    "## Mensajes"
   ]
  },
  {
   "cell_type": "code",
   "execution_count": 27,
   "metadata": {
    "id": "R-bYJpdV0q1A"
   },
   "outputs": [
    {
     "name": "stdout",
     "output_type": "stream",
     "text": [
      "<class 'pandas.core.frame.DataFrame'>\n",
      "RangeIndex: 76051 entries, 0 to 76050\n",
      "Data columns (total 3 columns):\n",
      " #   Column        Non-Null Count  Dtype \n",
      "---  ------        --------------  ----- \n",
      " 0   id            76051 non-null  object\n",
      " 1   user_id       76051 non-null  int64 \n",
      " 2   message_date  76051 non-null  object\n",
      "dtypes: int64(1), object(2)\n",
      "memory usage: 1.7+ MB\n"
     ]
    }
   ],
   "source": [
    "# Imprime la información general/resumida sobre el DataFrame de los mensajes\n",
    "messages.info()\n"
   ]
  },
  {
   "cell_type": "code",
   "execution_count": 28,
   "metadata": {
    "id": "mCEl2iGE0q1A"
   },
   "outputs": [
    {
     "data": {
      "text/html": [
       "<div>\n",
       "<style scoped>\n",
       "    .dataframe tbody tr th:only-of-type {\n",
       "        vertical-align: middle;\n",
       "    }\n",
       "\n",
       "    .dataframe tbody tr th {\n",
       "        vertical-align: top;\n",
       "    }\n",
       "\n",
       "    .dataframe thead th {\n",
       "        text-align: right;\n",
       "    }\n",
       "</style>\n",
       "<table border=\"1\" class=\"dataframe\">\n",
       "  <thead>\n",
       "    <tr style=\"text-align: right;\">\n",
       "      <th></th>\n",
       "      <th>id</th>\n",
       "      <th>user_id</th>\n",
       "      <th>message_date</th>\n",
       "    </tr>\n",
       "  </thead>\n",
       "  <tbody>\n",
       "    <tr>\n",
       "      <th>3121</th>\n",
       "      <td>1035_75</td>\n",
       "      <td>1035</td>\n",
       "      <td>2018-12-28</td>\n",
       "    </tr>\n",
       "    <tr>\n",
       "      <th>24581</th>\n",
       "      <td>1145_436</td>\n",
       "      <td>1145</td>\n",
       "      <td>2018-09-22</td>\n",
       "    </tr>\n",
       "    <tr>\n",
       "      <th>72223</th>\n",
       "      <td>1468_41</td>\n",
       "      <td>1468</td>\n",
       "      <td>2018-09-12</td>\n",
       "    </tr>\n",
       "    <tr>\n",
       "      <th>26930</th>\n",
       "      <td>1164_180</td>\n",
       "      <td>1164</td>\n",
       "      <td>2018-11-08</td>\n",
       "    </tr>\n",
       "    <tr>\n",
       "      <th>12201</th>\n",
       "      <td>1080_204</td>\n",
       "      <td>1080</td>\n",
       "      <td>2018-08-19</td>\n",
       "    </tr>\n",
       "  </tbody>\n",
       "</table>\n",
       "</div>"
      ],
      "text/plain": [
       "             id  user_id message_date\n",
       "3121    1035_75     1035   2018-12-28\n",
       "24581  1145_436     1145   2018-09-22\n",
       "72223   1468_41     1468   2018-09-12\n",
       "26930  1164_180     1164   2018-11-08\n",
       "12201  1080_204     1080   2018-08-19"
      ]
     },
     "execution_count": 28,
     "metadata": {},
     "output_type": "execute_result"
    }
   ],
   "source": [
    "# Imprime una muestra de datos para los mensajes\n",
    "messages.sample(5, random_state=40)\n"
   ]
  },
  {
   "cell_type": "code",
   "execution_count": 29,
   "metadata": {},
   "outputs": [
    {
     "data": {
      "text/plain": [
       "0"
      ]
     },
     "execution_count": 29,
     "metadata": {},
     "output_type": "execute_result"
    }
   ],
   "source": [
    "messages.duplicated().sum()"
   ]
  },
  {
   "cell_type": "markdown",
   "metadata": {},
   "source": [
    "OBSERVACIONES GENERALES DE LOS DATOS DEL DATAFRAME \"MESSAGES\"\n",
    "\n",
    "En el Dataframe \"messages\" no hay valores ausentes ni duplicados.\n",
    "\n",
    "Se convertirá la columna \"user_id\" de tipo \"int64\" a \"object\" y la columna \"message_date\" de \"object\" a \"datetime\".\n",
    "\n",
    "Finalmente, agregaré una columna nueva donde se visualize la información de los meses."
   ]
  },
  {
   "cell_type": "markdown",
   "metadata": {
    "id": "Sprfak900q1B"
   },
   "source": [
    "### Corregir los datos"
   ]
  },
  {
   "cell_type": "code",
   "execution_count": 30,
   "metadata": {
    "id": "vsllvkoa0q1B"
   },
   "outputs": [
    {
     "name": "stdout",
     "output_type": "stream",
     "text": [
      "<class 'pandas.core.frame.DataFrame'>\n",
      "RangeIndex: 76051 entries, 0 to 76050\n",
      "Data columns (total 3 columns):\n",
      " #   Column        Non-Null Count  Dtype         \n",
      "---  ------        --------------  -----         \n",
      " 0   id            76051 non-null  object        \n",
      " 1   user_id       76051 non-null  object        \n",
      " 2   message_date  76051 non-null  datetime64[ns]\n",
      "dtypes: datetime64[ns](1), object(2)\n",
      "memory usage: 1.7+ MB\n"
     ]
    }
   ],
   "source": [
    "messages[\"user_id\"] = messages[\"user_id\"].astype(str)\n",
    "messages[\"message_date\"] = pd.to_datetime(messages[\"message_date\"])\n",
    "messages.info()"
   ]
  },
  {
   "cell_type": "markdown",
   "metadata": {
    "id": "HvLid7iD0q1B"
   },
   "source": [
    "### Enriquecer los datos"
   ]
  },
  {
   "cell_type": "code",
   "execution_count": 31,
   "metadata": {
    "id": "zYEXZac10q1C"
   },
   "outputs": [],
   "source": [
    "# Crear una columna nueva que muestre la información de los \"meses\"\n",
    "messages[\"months\"] = messages[\"message_date\"].dt.month\n"
   ]
  },
  {
   "cell_type": "markdown",
   "metadata": {
    "id": "bStkaxn40q1C"
   },
   "source": [
    "## Internet"
   ]
  },
  {
   "cell_type": "code",
   "execution_count": 32,
   "metadata": {
    "id": "e-Uz5qyn0q1C"
   },
   "outputs": [
    {
     "name": "stdout",
     "output_type": "stream",
     "text": [
      "<class 'pandas.core.frame.DataFrame'>\n",
      "RangeIndex: 104825 entries, 0 to 104824\n",
      "Data columns (total 4 columns):\n",
      " #   Column        Non-Null Count   Dtype  \n",
      "---  ------        --------------   -----  \n",
      " 0   id            104825 non-null  object \n",
      " 1   user_id       104825 non-null  int64  \n",
      " 2   session_date  104825 non-null  object \n",
      " 3   mb_used       104825 non-null  float64\n",
      "dtypes: float64(1), int64(1), object(2)\n",
      "memory usage: 3.2+ MB\n"
     ]
    }
   ],
   "source": [
    "# Imprime la información general/resumida sobre el DataFrame de internet\n",
    "internet.info()\n"
   ]
  },
  {
   "cell_type": "code",
   "execution_count": 33,
   "metadata": {
    "id": "9r3x_XLw0q1C"
   },
   "outputs": [
    {
     "data": {
      "text/html": [
       "<div>\n",
       "<style scoped>\n",
       "    .dataframe tbody tr th:only-of-type {\n",
       "        vertical-align: middle;\n",
       "    }\n",
       "\n",
       "    .dataframe tbody tr th {\n",
       "        vertical-align: top;\n",
       "    }\n",
       "\n",
       "    .dataframe thead th {\n",
       "        text-align: right;\n",
       "    }\n",
       "</style>\n",
       "<table border=\"1\" class=\"dataframe\">\n",
       "  <thead>\n",
       "    <tr style=\"text-align: right;\">\n",
       "      <th></th>\n",
       "      <th>id</th>\n",
       "      <th>user_id</th>\n",
       "      <th>session_date</th>\n",
       "      <th>mb_used</th>\n",
       "    </tr>\n",
       "  </thead>\n",
       "  <tbody>\n",
       "    <tr>\n",
       "      <th>19221</th>\n",
       "      <td>1086_10</td>\n",
       "      <td>1086</td>\n",
       "      <td>2018-12-31</td>\n",
       "      <td>0.00</td>\n",
       "    </tr>\n",
       "    <tr>\n",
       "      <th>3819</th>\n",
       "      <td>1022_230</td>\n",
       "      <td>1022</td>\n",
       "      <td>2018-08-20</td>\n",
       "      <td>478.28</td>\n",
       "    </tr>\n",
       "    <tr>\n",
       "      <th>35462</th>\n",
       "      <td>1160_166</td>\n",
       "      <td>1160</td>\n",
       "      <td>2018-09-30</td>\n",
       "      <td>0.00</td>\n",
       "    </tr>\n",
       "    <tr>\n",
       "      <th>55649</th>\n",
       "      <td>1252_7</td>\n",
       "      <td>1252</td>\n",
       "      <td>2018-11-23</td>\n",
       "      <td>4.99</td>\n",
       "    </tr>\n",
       "    <tr>\n",
       "      <th>34975</th>\n",
       "      <td>1157_62</td>\n",
       "      <td>1157</td>\n",
       "      <td>2018-09-28</td>\n",
       "      <td>584.52</td>\n",
       "    </tr>\n",
       "  </tbody>\n",
       "</table>\n",
       "</div>"
      ],
      "text/plain": [
       "             id  user_id session_date  mb_used\n",
       "19221   1086_10     1086   2018-12-31     0.00\n",
       "3819   1022_230     1022   2018-08-20   478.28\n",
       "35462  1160_166     1160   2018-09-30     0.00\n",
       "55649    1252_7     1252   2018-11-23     4.99\n",
       "34975   1157_62     1157   2018-09-28   584.52"
      ]
     },
     "execution_count": 33,
     "metadata": {},
     "output_type": "execute_result"
    }
   ],
   "source": [
    "# Imprime una muestra de datos para el tráfico de internet\n",
    "internet.sample(5, random_state=41)\n"
   ]
  },
  {
   "cell_type": "code",
   "execution_count": 34,
   "metadata": {},
   "outputs": [
    {
     "data": {
      "text/plain": [
       "0"
      ]
     },
     "execution_count": 34,
     "metadata": {},
     "output_type": "execute_result"
    }
   ],
   "source": [
    "internet.duplicated().sum()"
   ]
  },
  {
   "cell_type": "markdown",
   "metadata": {},
   "source": [
    "OBSERVACIONES GENERALES DE LOS DATOS DEL DATAFRAME \"INTERNET\"\n",
    "\n",
    "El Dataframe \"internet\", no presenta valores ausentes ni duplicados. \n",
    "\n",
    "Cambiaré la columna \"session_date\" de \"object\" a \"Datetime\", y la columna \"user_id\" de \"int_64\" a \"object\".\n",
    "\n",
    "Finalmente, agregaré una columna nueva donde se visualize la información de los meses, y otra columna, para obtener la información por \"gb\", dividiendo la columna \"mb_used\" entre 1,024(MB). Esto es necesario para poder realizar el redondeo mensual del tráfico web por usuario, y así poder realizar el cálculo del consumo de datos excedentes al mes.\n"
   ]
  },
  {
   "cell_type": "markdown",
   "metadata": {
    "id": "yA0tkPFg0q1D"
   },
   "source": [
    "### Corregir los datos"
   ]
  },
  {
   "cell_type": "code",
   "execution_count": 35,
   "metadata": {
    "id": "zVeanzdd0q1E"
   },
   "outputs": [
    {
     "name": "stdout",
     "output_type": "stream",
     "text": [
      "<class 'pandas.core.frame.DataFrame'>\n",
      "RangeIndex: 104825 entries, 0 to 104824\n",
      "Data columns (total 4 columns):\n",
      " #   Column        Non-Null Count   Dtype         \n",
      "---  ------        --------------   -----         \n",
      " 0   id            104825 non-null  object        \n",
      " 1   user_id       104825 non-null  object        \n",
      " 2   session_date  104825 non-null  datetime64[ns]\n",
      " 3   mb_used       104825 non-null  float64       \n",
      "dtypes: datetime64[ns](1), float64(1), object(2)\n",
      "memory usage: 3.2+ MB\n"
     ]
    }
   ],
   "source": [
    "internet[\"session_date\"] = pd.to_datetime(internet[\"session_date\"])\n",
    "internet[\"user_id\"] = internet[\"user_id\"].astype(str)\n",
    "internet.info()"
   ]
  },
  {
   "cell_type": "markdown",
   "metadata": {
    "id": "e8_mLF4a0q1E"
   },
   "source": [
    "### Enriquecer los datos"
   ]
  },
  {
   "cell_type": "code",
   "execution_count": 36,
   "metadata": {
    "id": "ESiYPIEK0q1E"
   },
   "outputs": [],
   "source": [
    "# Crear una columna nueva que muestre la información de los \"meses\"\n",
    "internet[\"months\"] = internet[\"session_date\"].dt.month\n",
    "\n",
    "# Se crea una columna con el dato de los \"gb\" usados, dividiendo la columna mb_used / 1024(MB)\n",
    "internet[\"gb_used\"] = internet[\"mb_used\"] / 1024\n",
    "\n"
   ]
  },
  {
   "cell_type": "markdown",
   "metadata": {
    "id": "3UA2cqIW0q1E"
   },
   "source": [
    "## Estudiar las condiciones de las tarifas"
   ]
  },
  {
   "cell_type": "markdown",
   "metadata": {
    "id": "i409op8p0q1F"
   },
   "source": [
    "# Imprime las condiciones de la tarifa y asegúrate de que te quedan claras\n",
    "Surf\n",
    "\n",
    "Pago mensual: $20.\n",
    "\n",
    "500 minutos al mes, 50 SMS y 15 GB de datos.\n",
    "\n",
    "Si se exceden los límites del paquete:\n",
    "\n",
    "1 minuto: 3 centavos.\n",
    "1 SMS: 3 centavos.\n",
    "1 GB de datos: $10.\n",
    "\n",
    "Ultimate\n",
    "\n",
    "Pago mensual: $70.\n",
    "\n",
    "3000 minutos al mes, 1000 SMS y 30 GB de datos.\n",
    "\n",
    "Si se exceden los límites del paquete:\n",
    "\n",
    "1 minuto: 1 centavo.\n",
    "1 SMS: 1 centavo.\n",
    "1 GB de datos: $7.\n",
    "\n"
   ]
  },
  {
   "cell_type": "code",
   "execution_count": 37,
   "metadata": {},
   "outputs": [
    {
     "data": {
      "text/html": [
       "<div>\n",
       "<style scoped>\n",
       "    .dataframe tbody tr th:only-of-type {\n",
       "        vertical-align: middle;\n",
       "    }\n",
       "\n",
       "    .dataframe tbody tr th {\n",
       "        vertical-align: top;\n",
       "    }\n",
       "\n",
       "    .dataframe thead th {\n",
       "        text-align: right;\n",
       "    }\n",
       "</style>\n",
       "<table border=\"1\" class=\"dataframe\">\n",
       "  <thead>\n",
       "    <tr style=\"text-align: right;\">\n",
       "      <th></th>\n",
       "      <th>messages_included</th>\n",
       "      <th>mb_per_month_included</th>\n",
       "      <th>minutes_included</th>\n",
       "      <th>usd_monthly_pay</th>\n",
       "      <th>usd_per_gb</th>\n",
       "      <th>usd_per_message</th>\n",
       "      <th>usd_per_minute</th>\n",
       "      <th>plan_name</th>\n",
       "      <th>gb_per_month_included</th>\n",
       "    </tr>\n",
       "  </thead>\n",
       "  <tbody>\n",
       "    <tr>\n",
       "      <th>0</th>\n",
       "      <td>50</td>\n",
       "      <td>15360</td>\n",
       "      <td>500</td>\n",
       "      <td>20</td>\n",
       "      <td>10</td>\n",
       "      <td>0.03</td>\n",
       "      <td>0.03</td>\n",
       "      <td>surf</td>\n",
       "      <td>15</td>\n",
       "    </tr>\n",
       "    <tr>\n",
       "      <th>1</th>\n",
       "      <td>1000</td>\n",
       "      <td>30720</td>\n",
       "      <td>3000</td>\n",
       "      <td>70</td>\n",
       "      <td>7</td>\n",
       "      <td>0.01</td>\n",
       "      <td>0.01</td>\n",
       "      <td>ultimate</td>\n",
       "      <td>30</td>\n",
       "    </tr>\n",
       "  </tbody>\n",
       "</table>\n",
       "</div>"
      ],
      "text/plain": [
       "   messages_included  mb_per_month_included  minutes_included  \\\n",
       "0                 50                  15360               500   \n",
       "1               1000                  30720              3000   \n",
       "\n",
       "   usd_monthly_pay  usd_per_gb  usd_per_message  usd_per_minute plan_name  \\\n",
       "0               20          10             0.03            0.03      surf   \n",
       "1               70           7             0.01            0.01  ultimate   \n",
       "\n",
       "   gb_per_month_included  \n",
       "0                     15  \n",
       "1                     30  "
      ]
     },
     "execution_count": 37,
     "metadata": {},
     "output_type": "execute_result"
    }
   ],
   "source": [
    "plans.head()"
   ]
  },
  {
   "cell_type": "markdown",
   "metadata": {
    "id": "hMR1tP5d0q1F"
   },
   "source": [
    "## Agregar datos por usuario\n",
    "\n",
    "\n"
   ]
  },
  {
   "cell_type": "code",
   "execution_count": 38,
   "metadata": {
    "id": "A332cedB0q1G"
   },
   "outputs": [
    {
     "data": {
      "text/html": [
       "<div>\n",
       "<style scoped>\n",
       "    .dataframe tbody tr th:only-of-type {\n",
       "        vertical-align: middle;\n",
       "    }\n",
       "\n",
       "    .dataframe tbody tr th {\n",
       "        vertical-align: top;\n",
       "    }\n",
       "\n",
       "    .dataframe thead th {\n",
       "        text-align: right;\n",
       "    }\n",
       "</style>\n",
       "<table border=\"1\" class=\"dataframe\">\n",
       "  <thead>\n",
       "    <tr style=\"text-align: right;\">\n",
       "      <th></th>\n",
       "      <th>user_id</th>\n",
       "      <th>months</th>\n",
       "      <th>calls_number</th>\n",
       "    </tr>\n",
       "  </thead>\n",
       "  <tbody>\n",
       "    <tr>\n",
       "      <th>0</th>\n",
       "      <td>1000</td>\n",
       "      <td>12</td>\n",
       "      <td>16</td>\n",
       "    </tr>\n",
       "    <tr>\n",
       "      <th>1</th>\n",
       "      <td>1001</td>\n",
       "      <td>8</td>\n",
       "      <td>27</td>\n",
       "    </tr>\n",
       "    <tr>\n",
       "      <th>2</th>\n",
       "      <td>1001</td>\n",
       "      <td>9</td>\n",
       "      <td>49</td>\n",
       "    </tr>\n",
       "    <tr>\n",
       "      <th>3</th>\n",
       "      <td>1001</td>\n",
       "      <td>10</td>\n",
       "      <td>65</td>\n",
       "    </tr>\n",
       "    <tr>\n",
       "      <th>4</th>\n",
       "      <td>1001</td>\n",
       "      <td>11</td>\n",
       "      <td>64</td>\n",
       "    </tr>\n",
       "  </tbody>\n",
       "</table>\n",
       "</div>"
      ],
      "text/plain": [
       "  user_id  months  calls_number\n",
       "0    1000      12            16\n",
       "1    1001       8            27\n",
       "2    1001       9            49\n",
       "3    1001      10            65\n",
       "4    1001      11            64"
      ]
     },
     "execution_count": 38,
     "metadata": {},
     "output_type": "execute_result"
    }
   ],
   "source": [
    "# Calcula el número de llamadas hechas por cada usuario al mes. Guarda el resultado.\n",
    "calls_number = calls.groupby([\"user_id\", \"months\"])[\"id\"].count().reset_index().rename(columns={\"id\" : \"calls_number\"})\n",
    "calls_number.head()"
   ]
  },
  {
   "cell_type": "markdown",
   "metadata": {},
   "source": [
    "\n",
    "<div class=\"alert alert-block alert-warning\">\n",
    "\n",
    "<b>Comentario revisor</b> <a class=\"tocSkip\"></a>\n",
    "\n",
    "Si bien es correcta la forma de agrupar para sacar la duración de las llamadas por cada ususario, para proximas ocasiones puedes hacer uso de la siguiente forma:\n",
    "    \n",
    "    pivot_calls = calls.pivot_table(index=['user_id', 'month'],\n",
    "                                values=['duration'],\n",
    "                                aggfunc=['sum','count']).reset_index()\n",
    "\n",
    "</div>"
   ]
  },
  {
   "cell_type": "code",
   "execution_count": 39,
   "metadata": {
    "id": "aw2cmuql0q1G"
   },
   "outputs": [
    {
     "data": {
      "text/html": [
       "<div>\n",
       "<style scoped>\n",
       "    .dataframe tbody tr th:only-of-type {\n",
       "        vertical-align: middle;\n",
       "    }\n",
       "\n",
       "    .dataframe tbody tr th {\n",
       "        vertical-align: top;\n",
       "    }\n",
       "\n",
       "    .dataframe thead th {\n",
       "        text-align: right;\n",
       "    }\n",
       "</style>\n",
       "<table border=\"1\" class=\"dataframe\">\n",
       "  <thead>\n",
       "    <tr style=\"text-align: right;\">\n",
       "      <th></th>\n",
       "      <th>user_id</th>\n",
       "      <th>months</th>\n",
       "      <th>minutes_used_per_user_monthly</th>\n",
       "    </tr>\n",
       "  </thead>\n",
       "  <tbody>\n",
       "    <tr>\n",
       "      <th>0</th>\n",
       "      <td>1000</td>\n",
       "      <td>12</td>\n",
       "      <td>124</td>\n",
       "    </tr>\n",
       "    <tr>\n",
       "      <th>1</th>\n",
       "      <td>1001</td>\n",
       "      <td>8</td>\n",
       "      <td>182</td>\n",
       "    </tr>\n",
       "    <tr>\n",
       "      <th>2</th>\n",
       "      <td>1001</td>\n",
       "      <td>9</td>\n",
       "      <td>315</td>\n",
       "    </tr>\n",
       "    <tr>\n",
       "      <th>3</th>\n",
       "      <td>1001</td>\n",
       "      <td>10</td>\n",
       "      <td>393</td>\n",
       "    </tr>\n",
       "    <tr>\n",
       "      <th>4</th>\n",
       "      <td>1001</td>\n",
       "      <td>11</td>\n",
       "      <td>426</td>\n",
       "    </tr>\n",
       "  </tbody>\n",
       "</table>\n",
       "</div>"
      ],
      "text/plain": [
       "  user_id  months  minutes_used_per_user_monthly\n",
       "0    1000      12                            124\n",
       "1    1001       8                            182\n",
       "2    1001       9                            315\n",
       "3    1001      10                            393\n",
       "4    1001      11                            426"
      ]
     },
     "execution_count": 39,
     "metadata": {},
     "output_type": "execute_result"
    }
   ],
   "source": [
    "# Calcula la cantidad de minutos usados por cada usuario al mes. Guarda el resultado.\n",
    "calls_minutes_per_user = calls.groupby([\"user_id\", \"months\"])[\"calls_rounded_to_minutes\"].sum().reset_index().rename(columns={\"calls_rounded_to_minutes\" : \"minutes_used_per_user_monthly\"})\n",
    "calls_minutes_per_user.head()\n"
   ]
  },
  {
   "cell_type": "code",
   "execution_count": 40,
   "metadata": {},
   "outputs": [
    {
     "data": {
      "text/html": [
       "<div>\n",
       "<style scoped>\n",
       "    .dataframe tbody tr th:only-of-type {\n",
       "        vertical-align: middle;\n",
       "    }\n",
       "\n",
       "    .dataframe tbody tr th {\n",
       "        vertical-align: top;\n",
       "    }\n",
       "\n",
       "    .dataframe thead th {\n",
       "        text-align: right;\n",
       "    }\n",
       "</style>\n",
       "<table border=\"1\" class=\"dataframe\">\n",
       "  <thead>\n",
       "    <tr style=\"text-align: right;\">\n",
       "      <th></th>\n",
       "      <th>user_id</th>\n",
       "      <th>months</th>\n",
       "      <th>messages_number_sent_monthly</th>\n",
       "    </tr>\n",
       "  </thead>\n",
       "  <tbody>\n",
       "    <tr>\n",
       "      <th>0</th>\n",
       "      <td>1000</td>\n",
       "      <td>12</td>\n",
       "      <td>11</td>\n",
       "    </tr>\n",
       "    <tr>\n",
       "      <th>1</th>\n",
       "      <td>1001</td>\n",
       "      <td>8</td>\n",
       "      <td>30</td>\n",
       "    </tr>\n",
       "    <tr>\n",
       "      <th>2</th>\n",
       "      <td>1001</td>\n",
       "      <td>9</td>\n",
       "      <td>44</td>\n",
       "    </tr>\n",
       "    <tr>\n",
       "      <th>3</th>\n",
       "      <td>1001</td>\n",
       "      <td>10</td>\n",
       "      <td>53</td>\n",
       "    </tr>\n",
       "    <tr>\n",
       "      <th>4</th>\n",
       "      <td>1001</td>\n",
       "      <td>11</td>\n",
       "      <td>36</td>\n",
       "    </tr>\n",
       "  </tbody>\n",
       "</table>\n",
       "</div>"
      ],
      "text/plain": [
       "  user_id  months  messages_number_sent_monthly\n",
       "0    1000      12                            11\n",
       "1    1001       8                            30\n",
       "2    1001       9                            44\n",
       "3    1001      10                            53\n",
       "4    1001      11                            36"
      ]
     },
     "execution_count": 40,
     "metadata": {},
     "output_type": "execute_result"
    }
   ],
   "source": [
    "# Calcula el número de mensajes enviados por cada usuario al mes. Guarda el resultado.\n",
    "messages_sent_per_user = messages.groupby([\"user_id\", \"months\"])[\"id\"].count().reset_index().rename(columns={\"id\" : \"messages_number_sent_monthly\"})\n",
    "messages_sent_per_user.head()\n"
   ]
  },
  {
   "cell_type": "code",
   "execution_count": 41,
   "metadata": {
    "id": "H1AqN2eG0q1H"
   },
   "outputs": [
    {
     "data": {
      "text/html": [
       "<div>\n",
       "<style scoped>\n",
       "    .dataframe tbody tr th:only-of-type {\n",
       "        vertical-align: middle;\n",
       "    }\n",
       "\n",
       "    .dataframe tbody tr th {\n",
       "        vertical-align: top;\n",
       "    }\n",
       "\n",
       "    .dataframe thead th {\n",
       "        text-align: right;\n",
       "    }\n",
       "</style>\n",
       "<table border=\"1\" class=\"dataframe\">\n",
       "  <thead>\n",
       "    <tr style=\"text-align: right;\">\n",
       "      <th></th>\n",
       "      <th>user_id</th>\n",
       "      <th>months</th>\n",
       "      <th>rounded_gb_used_per_user_monthly</th>\n",
       "    </tr>\n",
       "  </thead>\n",
       "  <tbody>\n",
       "    <tr>\n",
       "      <th>0</th>\n",
       "      <td>1000</td>\n",
       "      <td>12</td>\n",
       "      <td>2</td>\n",
       "    </tr>\n",
       "    <tr>\n",
       "      <th>1</th>\n",
       "      <td>1001</td>\n",
       "      <td>8</td>\n",
       "      <td>7</td>\n",
       "    </tr>\n",
       "    <tr>\n",
       "      <th>2</th>\n",
       "      <td>1001</td>\n",
       "      <td>9</td>\n",
       "      <td>14</td>\n",
       "    </tr>\n",
       "    <tr>\n",
       "      <th>3</th>\n",
       "      <td>1001</td>\n",
       "      <td>10</td>\n",
       "      <td>22</td>\n",
       "    </tr>\n",
       "    <tr>\n",
       "      <th>4</th>\n",
       "      <td>1001</td>\n",
       "      <td>11</td>\n",
       "      <td>19</td>\n",
       "    </tr>\n",
       "  </tbody>\n",
       "</table>\n",
       "</div>"
      ],
      "text/plain": [
       "  user_id  months  rounded_gb_used_per_user_monthly\n",
       "0    1000      12                                 2\n",
       "1    1001       8                                 7\n",
       "2    1001       9                                14\n",
       "3    1001      10                                22\n",
       "4    1001      11                                19"
      ]
     },
     "execution_count": 41,
     "metadata": {},
     "output_type": "execute_result"
    }
   ],
   "source": [
    "# Calcula el volumen del tráfico de Internet usado por cada usuario al mes. Guarda el resultado.\n",
    "internet_minutes_per_user = internet.groupby([\"user_id\", \"months\"])[\"gb_used\"].sum().reset_index().rename(columns={\"gb_used\" : \"gb_used_per_user_monthly\"})\n",
    "# Se realiza el redondeo de \"gb\"\n",
    "internet_minutes_per_user[\"gb_used_per_user_monthly\"] = np.ceil(internet_minutes_per_user[\"gb_used_per_user_monthly\"])\n",
    "# Se convierten los datos a tipo \"entero\"\n",
    "internet_minutes_per_user[\"gb_used_per_user_monthly\"] = internet_minutes_per_user[\"gb_used_per_user_monthly\"].astype(int)\n",
    "# Se renombra la columna \"gb_used_per_user_monthly\" a \"rounded_gb_used_per_user_monthly\"\n",
    "internet_minutes_per_user.columns = [\"user_id\", \"months\", \"rounded_gb_used_per_user_monthly\"]\n",
    "# Se imprimen las primeras 5 filas del Database \"internet_minutes_per_user\"\n",
    "internet_minutes_per_user.head()\n"
   ]
  },
  {
   "cell_type": "code",
   "execution_count": 42,
   "metadata": {
    "id": "FW99ykyf0q1H"
   },
   "outputs": [
    {
     "data": {
      "text/html": [
       "<div>\n",
       "<style scoped>\n",
       "    .dataframe tbody tr th:only-of-type {\n",
       "        vertical-align: middle;\n",
       "    }\n",
       "\n",
       "    .dataframe tbody tr th {\n",
       "        vertical-align: top;\n",
       "    }\n",
       "\n",
       "    .dataframe thead th {\n",
       "        text-align: right;\n",
       "    }\n",
       "</style>\n",
       "<table border=\"1\" class=\"dataframe\">\n",
       "  <thead>\n",
       "    <tr style=\"text-align: right;\">\n",
       "      <th></th>\n",
       "      <th>user_id</th>\n",
       "      <th>months</th>\n",
       "      <th>calls_number</th>\n",
       "      <th>minutes_used_per_user_monthly</th>\n",
       "      <th>messages_number_sent_monthly</th>\n",
       "      <th>rounded_gb_used_per_user_monthly</th>\n",
       "    </tr>\n",
       "  </thead>\n",
       "  <tbody>\n",
       "    <tr>\n",
       "      <th>0</th>\n",
       "      <td>1000</td>\n",
       "      <td>12</td>\n",
       "      <td>16.0</td>\n",
       "      <td>124.0</td>\n",
       "      <td>11.0</td>\n",
       "      <td>2.0</td>\n",
       "    </tr>\n",
       "    <tr>\n",
       "      <th>1</th>\n",
       "      <td>1001</td>\n",
       "      <td>8</td>\n",
       "      <td>27.0</td>\n",
       "      <td>182.0</td>\n",
       "      <td>30.0</td>\n",
       "      <td>7.0</td>\n",
       "    </tr>\n",
       "    <tr>\n",
       "      <th>2</th>\n",
       "      <td>1001</td>\n",
       "      <td>9</td>\n",
       "      <td>49.0</td>\n",
       "      <td>315.0</td>\n",
       "      <td>44.0</td>\n",
       "      <td>14.0</td>\n",
       "    </tr>\n",
       "    <tr>\n",
       "      <th>3</th>\n",
       "      <td>1001</td>\n",
       "      <td>10</td>\n",
       "      <td>65.0</td>\n",
       "      <td>393.0</td>\n",
       "      <td>53.0</td>\n",
       "      <td>22.0</td>\n",
       "    </tr>\n",
       "    <tr>\n",
       "      <th>4</th>\n",
       "      <td>1001</td>\n",
       "      <td>11</td>\n",
       "      <td>64.0</td>\n",
       "      <td>426.0</td>\n",
       "      <td>36.0</td>\n",
       "      <td>19.0</td>\n",
       "    </tr>\n",
       "  </tbody>\n",
       "</table>\n",
       "</div>"
      ],
      "text/plain": [
       "  user_id  months  calls_number  minutes_used_per_user_monthly  \\\n",
       "0    1000      12          16.0                          124.0   \n",
       "1    1001       8          27.0                          182.0   \n",
       "2    1001       9          49.0                          315.0   \n",
       "3    1001      10          65.0                          393.0   \n",
       "4    1001      11          64.0                          426.0   \n",
       "\n",
       "   messages_number_sent_monthly  rounded_gb_used_per_user_monthly  \n",
       "0                          11.0                               2.0  \n",
       "1                          30.0                               7.0  \n",
       "2                          44.0                              14.0  \n",
       "3                          53.0                              22.0  \n",
       "4                          36.0                              19.0  "
      ]
     },
     "execution_count": 42,
     "metadata": {},
     "output_type": "execute_result"
    }
   ],
   "source": [
    "# Fusiona los datos de llamadas, minutos, mensajes e Internet con base en user_id y month\n",
    "# Utilizo el parámetro \"outer\" por que no quiero que se pierda información de consumos realizados\n",
    "# por algunos usuarios que no lo hicieron en todos las variables, esto es, que no consumieron las\n",
    "# 4 variables, de número de llamadas, minutos de llamadas, mensajes enviados y uso de internet.\n",
    "fusion_one = calls_number.merge(calls_minutes_per_user, on=['user_id', 'months'], how='outer') \\\n",
    "                  .merge(messages_sent_per_user, on=['user_id', 'months'], how='outer') \\\n",
    "                  .merge(internet_minutes_per_user, on=['user_id', 'months'], how='outer')\n",
    "fusion_one.head()"
   ]
  },
  {
   "cell_type": "code",
   "execution_count": 43,
   "metadata": {},
   "outputs": [
    {
     "name": "stdout",
     "output_type": "stream",
     "text": [
      "<class 'pandas.core.frame.DataFrame'>\n",
      "Int64Index: 2293 entries, 0 to 2292\n",
      "Data columns (total 6 columns):\n",
      " #   Column                            Non-Null Count  Dtype  \n",
      "---  ------                            --------------  -----  \n",
      " 0   user_id                           2293 non-null   object \n",
      " 1   months                            2293 non-null   int64  \n",
      " 2   calls_number                      2258 non-null   float64\n",
      " 3   minutes_used_per_user_monthly     2258 non-null   float64\n",
      " 4   messages_number_sent_monthly      1806 non-null   float64\n",
      " 5   rounded_gb_used_per_user_monthly  2277 non-null   float64\n",
      "dtypes: float64(4), int64(1), object(1)\n",
      "memory usage: 125.4+ KB\n"
     ]
    }
   ],
   "source": [
    "fusion_one.info()"
   ]
  },
  {
   "cell_type": "code",
   "execution_count": 44,
   "metadata": {},
   "outputs": [],
   "source": [
    "# Relleno los NaNs con cero, ya que los valores ausentes en cada fila representan \"user_id\" sin\n",
    "# consumo en cada columna, ya sea, por llamada, minutos, mensajes o uso de internet\n",
    "fusion_one.fillna({\n",
    "    'calls_number': 0,\n",
    "    'minutes_used_per_user_monthly': 0,\n",
    "    'messages_number_sent_monthly': 0,\n",
    "    'rounded_gb_used_per_user_monthly': 0\n",
    "}, inplace=True)\n"
   ]
  },
  {
   "cell_type": "code",
   "execution_count": 45,
   "metadata": {},
   "outputs": [
    {
     "name": "stdout",
     "output_type": "stream",
     "text": [
      "<class 'pandas.core.frame.DataFrame'>\n",
      "Int64Index: 2293 entries, 0 to 2292\n",
      "Data columns (total 6 columns):\n",
      " #   Column                            Non-Null Count  Dtype  \n",
      "---  ------                            --------------  -----  \n",
      " 0   user_id                           2293 non-null   object \n",
      " 1   months                            2293 non-null   int64  \n",
      " 2   calls_number                      2293 non-null   float64\n",
      " 3   minutes_used_per_user_monthly     2293 non-null   float64\n",
      " 4   messages_number_sent_monthly      2293 non-null   float64\n",
      " 5   rounded_gb_used_per_user_monthly  2293 non-null   float64\n",
      "dtypes: float64(4), int64(1), object(1)\n",
      "memory usage: 125.4+ KB\n"
     ]
    }
   ],
   "source": [
    "fusion_one.info()"
   ]
  },
  {
   "cell_type": "code",
   "execution_count": 46,
   "metadata": {
    "id": "0dNOXHag0q1H"
   },
   "outputs": [
    {
     "name": "stdout",
     "output_type": "stream",
     "text": [
      "<class 'pandas.core.frame.DataFrame'>\n",
      "Int64Index: 500 entries, 0 to 499\n",
      "Data columns (total 11 columns):\n",
      " #   Column                 Non-Null Count  Dtype  \n",
      "---  ------                 --------------  -----  \n",
      " 0   messages_included      500 non-null    int64  \n",
      " 1   mb_per_month_included  500 non-null    int64  \n",
      " 2   minutes_included       500 non-null    int64  \n",
      " 3   usd_monthly_pay        500 non-null    int64  \n",
      " 4   usd_per_gb             500 non-null    int64  \n",
      " 5   usd_per_message        500 non-null    float64\n",
      " 6   usd_per_minute         500 non-null    float64\n",
      " 7   plan_name              500 non-null    object \n",
      " 8   gb_per_month_included  500 non-null    int64  \n",
      " 9   user_id                500 non-null    object \n",
      " 10  city                   500 non-null    object \n",
      "dtypes: float64(2), int64(6), object(3)\n",
      "memory usage: 46.9+ KB\n"
     ]
    }
   ],
   "source": [
    "# Primer paso, realizar la fusión de los dataframes \"plans\" con \"users\", con on en \"plan_name\"\n",
    "# previamente se realizó el cambio de nombre a plan_name en el dataframe \"users\" original\n",
    "# Se traen solo las columnas \"user_id\", \"plan_name\" y \"city\" del dataframe \"users\"\n",
    "fusion_two = plans.merge(users[[\"user_id\", \"plan_name\", \"city\"]], on=\"plan_name\", how=\"inner\")\n",
    "fusion_two.info()    \n",
    "\n"
   ]
  },
  {
   "cell_type": "code",
   "execution_count": 47,
   "metadata": {},
   "outputs": [
    {
     "name": "stdout",
     "output_type": "stream",
     "text": [
      "<class 'pandas.core.frame.DataFrame'>\n",
      "Int64Index: 2293 entries, 0 to 2292\n",
      "Data columns (total 16 columns):\n",
      " #   Column                            Non-Null Count  Dtype  \n",
      "---  ------                            --------------  -----  \n",
      " 0   user_id                           2293 non-null   object \n",
      " 1   months                            2293 non-null   int64  \n",
      " 2   calls_number                      2293 non-null   float64\n",
      " 3   minutes_used_per_user_monthly     2293 non-null   float64\n",
      " 4   messages_number_sent_monthly      2293 non-null   float64\n",
      " 5   rounded_gb_used_per_user_monthly  2293 non-null   float64\n",
      " 6   messages_included                 2293 non-null   int64  \n",
      " 7   mb_per_month_included             2293 non-null   int64  \n",
      " 8   minutes_included                  2293 non-null   int64  \n",
      " 9   usd_monthly_pay                   2293 non-null   int64  \n",
      " 10  usd_per_gb                        2293 non-null   int64  \n",
      " 11  usd_per_message                   2293 non-null   float64\n",
      " 12  usd_per_minute                    2293 non-null   float64\n",
      " 13  plan_name                         2293 non-null   object \n",
      " 14  gb_per_month_included             2293 non-null   int64  \n",
      " 15  city                              2293 non-null   object \n",
      "dtypes: float64(6), int64(7), object(3)\n",
      "memory usage: 304.5+ KB\n"
     ]
    }
   ],
   "source": [
    "# Añade la información de la tarifa\n",
    "# Se realiza la fusión final\n",
    "final_fusion = fusion_one.merge(fusion_two, on=\"user_id\", how=\"left\")\n",
    "final_fusion.info()\n"
   ]
  },
  {
   "cell_type": "code",
   "execution_count": 48,
   "metadata": {},
   "outputs": [
    {
     "name": "stdout",
     "output_type": "stream",
     "text": [
      "<class 'pandas.core.frame.DataFrame'>\n",
      "Int64Index: 2293 entries, 0 to 2292\n",
      "Data columns (total 16 columns):\n",
      " #   Column                            Non-Null Count  Dtype  \n",
      "---  ------                            --------------  -----  \n",
      " 0   user_id                           2293 non-null   object \n",
      " 1   months                            2293 non-null   int64  \n",
      " 2   calls_number                      2293 non-null   int64  \n",
      " 3   minutes_used_per_user_monthly     2293 non-null   int64  \n",
      " 4   messages_number_sent_monthly      2293 non-null   int64  \n",
      " 5   rounded_gb_used_per_user_monthly  2293 non-null   int64  \n",
      " 6   messages_included                 2293 non-null   int64  \n",
      " 7   mb_per_month_included             2293 non-null   int64  \n",
      " 8   minutes_included                  2293 non-null   int64  \n",
      " 9   usd_monthly_pay                   2293 non-null   int64  \n",
      " 10  usd_per_gb                        2293 non-null   int64  \n",
      " 11  usd_per_message                   2293 non-null   float64\n",
      " 12  usd_per_minute                    2293 non-null   float64\n",
      " 13  plan_name                         2293 non-null   object \n",
      " 14  gb_per_month_included             2293 non-null   int64  \n",
      " 15  city                              2293 non-null   object \n",
      "dtypes: float64(2), int64(11), object(3)\n",
      "memory usage: 304.5+ KB\n"
     ]
    }
   ],
   "source": [
    "# Convertir las columnas con índices del 2 al 5 a \"int\"\n",
    "# Lista de nombres de las columnas por índice\n",
    "columnas_a_convertir = final_fusion.columns[2:6]\n",
    "# Convertir esas columnas a int\n",
    "final_fusion[columnas_a_convertir] = final_fusion[columnas_a_convertir].astype(int)\n",
    "# Imprimir los datos generales del dataframe para comprobar los cambios\n",
    "final_fusion.info()"
   ]
  },
  {
   "cell_type": "code",
   "execution_count": 49,
   "metadata": {},
   "outputs": [
    {
     "data": {
      "text/html": [
       "<div>\n",
       "<style scoped>\n",
       "    .dataframe tbody tr th:only-of-type {\n",
       "        vertical-align: middle;\n",
       "    }\n",
       "\n",
       "    .dataframe tbody tr th {\n",
       "        vertical-align: top;\n",
       "    }\n",
       "\n",
       "    .dataframe thead th {\n",
       "        text-align: right;\n",
       "    }\n",
       "</style>\n",
       "<table border=\"1\" class=\"dataframe\">\n",
       "  <thead>\n",
       "    <tr style=\"text-align: right;\">\n",
       "      <th></th>\n",
       "      <th>user_id</th>\n",
       "      <th>months</th>\n",
       "      <th>calls_number</th>\n",
       "      <th>minutes_used_per_user_monthly</th>\n",
       "      <th>messages_number_sent_monthly</th>\n",
       "      <th>rounded_gb_used_per_user_monthly</th>\n",
       "      <th>messages_included</th>\n",
       "      <th>mb_per_month_included</th>\n",
       "      <th>minutes_included</th>\n",
       "      <th>usd_monthly_pay</th>\n",
       "      <th>usd_per_gb</th>\n",
       "      <th>usd_per_message</th>\n",
       "      <th>usd_per_minute</th>\n",
       "      <th>plan_name</th>\n",
       "      <th>gb_per_month_included</th>\n",
       "      <th>city</th>\n",
       "    </tr>\n",
       "  </thead>\n",
       "  <tbody>\n",
       "    <tr>\n",
       "      <th>0</th>\n",
       "      <td>1000</td>\n",
       "      <td>12</td>\n",
       "      <td>16</td>\n",
       "      <td>124</td>\n",
       "      <td>11</td>\n",
       "      <td>2</td>\n",
       "      <td>1000</td>\n",
       "      <td>30720</td>\n",
       "      <td>3000</td>\n",
       "      <td>70</td>\n",
       "      <td>7</td>\n",
       "      <td>0.01</td>\n",
       "      <td>0.01</td>\n",
       "      <td>ultimate</td>\n",
       "      <td>30</td>\n",
       "      <td>Atlanta-Sandy Springs-Roswell, GA MSA</td>\n",
       "    </tr>\n",
       "    <tr>\n",
       "      <th>1</th>\n",
       "      <td>1001</td>\n",
       "      <td>8</td>\n",
       "      <td>27</td>\n",
       "      <td>182</td>\n",
       "      <td>30</td>\n",
       "      <td>7</td>\n",
       "      <td>50</td>\n",
       "      <td>15360</td>\n",
       "      <td>500</td>\n",
       "      <td>20</td>\n",
       "      <td>10</td>\n",
       "      <td>0.03</td>\n",
       "      <td>0.03</td>\n",
       "      <td>surf</td>\n",
       "      <td>15</td>\n",
       "      <td>Seattle-Tacoma-Bellevue, WA MSA</td>\n",
       "    </tr>\n",
       "    <tr>\n",
       "      <th>2</th>\n",
       "      <td>1001</td>\n",
       "      <td>9</td>\n",
       "      <td>49</td>\n",
       "      <td>315</td>\n",
       "      <td>44</td>\n",
       "      <td>14</td>\n",
       "      <td>50</td>\n",
       "      <td>15360</td>\n",
       "      <td>500</td>\n",
       "      <td>20</td>\n",
       "      <td>10</td>\n",
       "      <td>0.03</td>\n",
       "      <td>0.03</td>\n",
       "      <td>surf</td>\n",
       "      <td>15</td>\n",
       "      <td>Seattle-Tacoma-Bellevue, WA MSA</td>\n",
       "    </tr>\n",
       "    <tr>\n",
       "      <th>3</th>\n",
       "      <td>1001</td>\n",
       "      <td>10</td>\n",
       "      <td>65</td>\n",
       "      <td>393</td>\n",
       "      <td>53</td>\n",
       "      <td>22</td>\n",
       "      <td>50</td>\n",
       "      <td>15360</td>\n",
       "      <td>500</td>\n",
       "      <td>20</td>\n",
       "      <td>10</td>\n",
       "      <td>0.03</td>\n",
       "      <td>0.03</td>\n",
       "      <td>surf</td>\n",
       "      <td>15</td>\n",
       "      <td>Seattle-Tacoma-Bellevue, WA MSA</td>\n",
       "    </tr>\n",
       "    <tr>\n",
       "      <th>4</th>\n",
       "      <td>1001</td>\n",
       "      <td>11</td>\n",
       "      <td>64</td>\n",
       "      <td>426</td>\n",
       "      <td>36</td>\n",
       "      <td>19</td>\n",
       "      <td>50</td>\n",
       "      <td>15360</td>\n",
       "      <td>500</td>\n",
       "      <td>20</td>\n",
       "      <td>10</td>\n",
       "      <td>0.03</td>\n",
       "      <td>0.03</td>\n",
       "      <td>surf</td>\n",
       "      <td>15</td>\n",
       "      <td>Seattle-Tacoma-Bellevue, WA MSA</td>\n",
       "    </tr>\n",
       "  </tbody>\n",
       "</table>\n",
       "</div>"
      ],
      "text/plain": [
       "  user_id  months  calls_number  minutes_used_per_user_monthly  \\\n",
       "0    1000      12            16                            124   \n",
       "1    1001       8            27                            182   \n",
       "2    1001       9            49                            315   \n",
       "3    1001      10            65                            393   \n",
       "4    1001      11            64                            426   \n",
       "\n",
       "   messages_number_sent_monthly  rounded_gb_used_per_user_monthly  \\\n",
       "0                            11                                 2   \n",
       "1                            30                                 7   \n",
       "2                            44                                14   \n",
       "3                            53                                22   \n",
       "4                            36                                19   \n",
       "\n",
       "   messages_included  mb_per_month_included  minutes_included  \\\n",
       "0               1000                  30720              3000   \n",
       "1                 50                  15360               500   \n",
       "2                 50                  15360               500   \n",
       "3                 50                  15360               500   \n",
       "4                 50                  15360               500   \n",
       "\n",
       "   usd_monthly_pay  usd_per_gb  usd_per_message  usd_per_minute plan_name  \\\n",
       "0               70           7             0.01            0.01  ultimate   \n",
       "1               20          10             0.03            0.03      surf   \n",
       "2               20          10             0.03            0.03      surf   \n",
       "3               20          10             0.03            0.03      surf   \n",
       "4               20          10             0.03            0.03      surf   \n",
       "\n",
       "   gb_per_month_included                                   city  \n",
       "0                     30  Atlanta-Sandy Springs-Roswell, GA MSA  \n",
       "1                     15        Seattle-Tacoma-Bellevue, WA MSA  \n",
       "2                     15        Seattle-Tacoma-Bellevue, WA MSA  \n",
       "3                     15        Seattle-Tacoma-Bellevue, WA MSA  \n",
       "4                     15        Seattle-Tacoma-Bellevue, WA MSA  "
      ]
     },
     "execution_count": 49,
     "metadata": {},
     "output_type": "execute_result"
    }
   ],
   "source": [
    "# Imprimir las primeras filas del dataframe \"final_fusion\" para ver los detalles generales de\n",
    "# los datos en las columnas, para preparar los siguientes pasos.\n",
    "final_fusion.head(5)"
   ]
  },
  {
   "cell_type": "code",
   "execution_count": 50,
   "metadata": {
    "id": "5FGCf_c60q1I"
   },
   "outputs": [
    {
     "data": {
      "text/html": [
       "<div>\n",
       "<style scoped>\n",
       "    .dataframe tbody tr th:only-of-type {\n",
       "        vertical-align: middle;\n",
       "    }\n",
       "\n",
       "    .dataframe tbody tr th {\n",
       "        vertical-align: top;\n",
       "    }\n",
       "\n",
       "    .dataframe thead th {\n",
       "        text-align: right;\n",
       "    }\n",
       "</style>\n",
       "<table border=\"1\" class=\"dataframe\">\n",
       "  <thead>\n",
       "    <tr style=\"text-align: right;\">\n",
       "      <th></th>\n",
       "      <th>user_id</th>\n",
       "      <th>months</th>\n",
       "      <th>calls_number</th>\n",
       "      <th>minutes_used_per_user_monthly</th>\n",
       "      <th>messages_number_sent_monthly</th>\n",
       "      <th>rounded_gb_used_per_user_monthly</th>\n",
       "      <th>messages_included</th>\n",
       "      <th>mb_per_month_included</th>\n",
       "      <th>minutes_included</th>\n",
       "      <th>usd_monthly_pay</th>\n",
       "      <th>usd_per_gb</th>\n",
       "      <th>usd_per_message</th>\n",
       "      <th>usd_per_minute</th>\n",
       "      <th>plan_name</th>\n",
       "      <th>gb_per_month_included</th>\n",
       "      <th>city</th>\n",
       "      <th>plus_minutes</th>\n",
       "      <th>plus_messages</th>\n",
       "      <th>plus_data_gb</th>\n",
       "    </tr>\n",
       "  </thead>\n",
       "  <tbody>\n",
       "    <tr>\n",
       "      <th>0</th>\n",
       "      <td>1000</td>\n",
       "      <td>12</td>\n",
       "      <td>16</td>\n",
       "      <td>124</td>\n",
       "      <td>11</td>\n",
       "      <td>2</td>\n",
       "      <td>1000</td>\n",
       "      <td>30720</td>\n",
       "      <td>3000</td>\n",
       "      <td>70</td>\n",
       "      <td>7</td>\n",
       "      <td>0.01</td>\n",
       "      <td>0.01</td>\n",
       "      <td>ultimate</td>\n",
       "      <td>30</td>\n",
       "      <td>Atlanta-Sandy Springs-Roswell, GA MSA</td>\n",
       "      <td>-2876</td>\n",
       "      <td>-989</td>\n",
       "      <td>-28</td>\n",
       "    </tr>\n",
       "    <tr>\n",
       "      <th>1</th>\n",
       "      <td>1001</td>\n",
       "      <td>8</td>\n",
       "      <td>27</td>\n",
       "      <td>182</td>\n",
       "      <td>30</td>\n",
       "      <td>7</td>\n",
       "      <td>50</td>\n",
       "      <td>15360</td>\n",
       "      <td>500</td>\n",
       "      <td>20</td>\n",
       "      <td>10</td>\n",
       "      <td>0.03</td>\n",
       "      <td>0.03</td>\n",
       "      <td>surf</td>\n",
       "      <td>15</td>\n",
       "      <td>Seattle-Tacoma-Bellevue, WA MSA</td>\n",
       "      <td>-318</td>\n",
       "      <td>-20</td>\n",
       "      <td>-8</td>\n",
       "    </tr>\n",
       "    <tr>\n",
       "      <th>2</th>\n",
       "      <td>1001</td>\n",
       "      <td>9</td>\n",
       "      <td>49</td>\n",
       "      <td>315</td>\n",
       "      <td>44</td>\n",
       "      <td>14</td>\n",
       "      <td>50</td>\n",
       "      <td>15360</td>\n",
       "      <td>500</td>\n",
       "      <td>20</td>\n",
       "      <td>10</td>\n",
       "      <td>0.03</td>\n",
       "      <td>0.03</td>\n",
       "      <td>surf</td>\n",
       "      <td>15</td>\n",
       "      <td>Seattle-Tacoma-Bellevue, WA MSA</td>\n",
       "      <td>-185</td>\n",
       "      <td>-6</td>\n",
       "      <td>-1</td>\n",
       "    </tr>\n",
       "    <tr>\n",
       "      <th>3</th>\n",
       "      <td>1001</td>\n",
       "      <td>10</td>\n",
       "      <td>65</td>\n",
       "      <td>393</td>\n",
       "      <td>53</td>\n",
       "      <td>22</td>\n",
       "      <td>50</td>\n",
       "      <td>15360</td>\n",
       "      <td>500</td>\n",
       "      <td>20</td>\n",
       "      <td>10</td>\n",
       "      <td>0.03</td>\n",
       "      <td>0.03</td>\n",
       "      <td>surf</td>\n",
       "      <td>15</td>\n",
       "      <td>Seattle-Tacoma-Bellevue, WA MSA</td>\n",
       "      <td>-107</td>\n",
       "      <td>3</td>\n",
       "      <td>7</td>\n",
       "    </tr>\n",
       "    <tr>\n",
       "      <th>4</th>\n",
       "      <td>1001</td>\n",
       "      <td>11</td>\n",
       "      <td>64</td>\n",
       "      <td>426</td>\n",
       "      <td>36</td>\n",
       "      <td>19</td>\n",
       "      <td>50</td>\n",
       "      <td>15360</td>\n",
       "      <td>500</td>\n",
       "      <td>20</td>\n",
       "      <td>10</td>\n",
       "      <td>0.03</td>\n",
       "      <td>0.03</td>\n",
       "      <td>surf</td>\n",
       "      <td>15</td>\n",
       "      <td>Seattle-Tacoma-Bellevue, WA MSA</td>\n",
       "      <td>-74</td>\n",
       "      <td>-14</td>\n",
       "      <td>4</td>\n",
       "    </tr>\n",
       "  </tbody>\n",
       "</table>\n",
       "</div>"
      ],
      "text/plain": [
       "  user_id  months  calls_number  minutes_used_per_user_monthly  \\\n",
       "0    1000      12            16                            124   \n",
       "1    1001       8            27                            182   \n",
       "2    1001       9            49                            315   \n",
       "3    1001      10            65                            393   \n",
       "4    1001      11            64                            426   \n",
       "\n",
       "   messages_number_sent_monthly  rounded_gb_used_per_user_monthly  \\\n",
       "0                            11                                 2   \n",
       "1                            30                                 7   \n",
       "2                            44                                14   \n",
       "3                            53                                22   \n",
       "4                            36                                19   \n",
       "\n",
       "   messages_included  mb_per_month_included  minutes_included  \\\n",
       "0               1000                  30720              3000   \n",
       "1                 50                  15360               500   \n",
       "2                 50                  15360               500   \n",
       "3                 50                  15360               500   \n",
       "4                 50                  15360               500   \n",
       "\n",
       "   usd_monthly_pay  usd_per_gb  usd_per_message  usd_per_minute plan_name  \\\n",
       "0               70           7             0.01            0.01  ultimate   \n",
       "1               20          10             0.03            0.03      surf   \n",
       "2               20          10             0.03            0.03      surf   \n",
       "3               20          10             0.03            0.03      surf   \n",
       "4               20          10             0.03            0.03      surf   \n",
       "\n",
       "   gb_per_month_included                                   city  plus_minutes  \\\n",
       "0                     30  Atlanta-Sandy Springs-Roswell, GA MSA         -2876   \n",
       "1                     15        Seattle-Tacoma-Bellevue, WA MSA          -318   \n",
       "2                     15        Seattle-Tacoma-Bellevue, WA MSA          -185   \n",
       "3                     15        Seattle-Tacoma-Bellevue, WA MSA          -107   \n",
       "4                     15        Seattle-Tacoma-Bellevue, WA MSA           -74   \n",
       "\n",
       "   plus_messages  plus_data_gb  \n",
       "0           -989           -28  \n",
       "1            -20            -8  \n",
       "2             -6            -1  \n",
       "3              3             7  \n",
       "4            -14             4  "
      ]
     },
     "execution_count": 50,
     "metadata": {},
     "output_type": "execute_result"
    }
   ],
   "source": [
    "# Calcula el ingreso mensual para cada usuario\n",
    "# Crear nuevas columnas para los excesos\n",
    "final_fusion['plus_minutes'] = final_fusion['minutes_used_per_user_monthly'] - final_fusion['minutes_included']\n",
    "final_fusion['plus_messages'] = final_fusion['messages_number_sent_monthly'] - final_fusion['messages_included']\n",
    "final_fusion['plus_data_gb'] = final_fusion['rounded_gb_used_per_user_monthly'] - final_fusion['gb_per_month_included']\n",
    "final_fusion.head()\n",
    "\n"
   ]
  },
  {
   "cell_type": "code",
   "execution_count": 51,
   "metadata": {},
   "outputs": [
    {
     "data": {
      "text/html": [
       "<div>\n",
       "<style scoped>\n",
       "    .dataframe tbody tr th:only-of-type {\n",
       "        vertical-align: middle;\n",
       "    }\n",
       "\n",
       "    .dataframe tbody tr th {\n",
       "        vertical-align: top;\n",
       "    }\n",
       "\n",
       "    .dataframe thead th {\n",
       "        text-align: right;\n",
       "    }\n",
       "</style>\n",
       "<table border=\"1\" class=\"dataframe\">\n",
       "  <thead>\n",
       "    <tr style=\"text-align: right;\">\n",
       "      <th></th>\n",
       "      <th>user_id</th>\n",
       "      <th>months</th>\n",
       "      <th>calls_number</th>\n",
       "      <th>minutes_used_per_user_monthly</th>\n",
       "      <th>messages_number_sent_monthly</th>\n",
       "      <th>rounded_gb_used_per_user_monthly</th>\n",
       "      <th>messages_included</th>\n",
       "      <th>mb_per_month_included</th>\n",
       "      <th>minutes_included</th>\n",
       "      <th>usd_monthly_pay</th>\n",
       "      <th>usd_per_gb</th>\n",
       "      <th>usd_per_message</th>\n",
       "      <th>usd_per_minute</th>\n",
       "      <th>plan_name</th>\n",
       "      <th>gb_per_month_included</th>\n",
       "      <th>city</th>\n",
       "      <th>plus_minutes</th>\n",
       "      <th>plus_messages</th>\n",
       "      <th>plus_data_gb</th>\n",
       "    </tr>\n",
       "  </thead>\n",
       "  <tbody>\n",
       "    <tr>\n",
       "      <th>0</th>\n",
       "      <td>1000</td>\n",
       "      <td>12</td>\n",
       "      <td>16</td>\n",
       "      <td>124</td>\n",
       "      <td>11</td>\n",
       "      <td>2</td>\n",
       "      <td>1000</td>\n",
       "      <td>30720</td>\n",
       "      <td>3000</td>\n",
       "      <td>70</td>\n",
       "      <td>7</td>\n",
       "      <td>0.01</td>\n",
       "      <td>0.01</td>\n",
       "      <td>ultimate</td>\n",
       "      <td>30</td>\n",
       "      <td>Atlanta-Sandy Springs-Roswell, GA MSA</td>\n",
       "      <td>0</td>\n",
       "      <td>0</td>\n",
       "      <td>0</td>\n",
       "    </tr>\n",
       "    <tr>\n",
       "      <th>1</th>\n",
       "      <td>1001</td>\n",
       "      <td>8</td>\n",
       "      <td>27</td>\n",
       "      <td>182</td>\n",
       "      <td>30</td>\n",
       "      <td>7</td>\n",
       "      <td>50</td>\n",
       "      <td>15360</td>\n",
       "      <td>500</td>\n",
       "      <td>20</td>\n",
       "      <td>10</td>\n",
       "      <td>0.03</td>\n",
       "      <td>0.03</td>\n",
       "      <td>surf</td>\n",
       "      <td>15</td>\n",
       "      <td>Seattle-Tacoma-Bellevue, WA MSA</td>\n",
       "      <td>0</td>\n",
       "      <td>0</td>\n",
       "      <td>0</td>\n",
       "    </tr>\n",
       "    <tr>\n",
       "      <th>2</th>\n",
       "      <td>1001</td>\n",
       "      <td>9</td>\n",
       "      <td>49</td>\n",
       "      <td>315</td>\n",
       "      <td>44</td>\n",
       "      <td>14</td>\n",
       "      <td>50</td>\n",
       "      <td>15360</td>\n",
       "      <td>500</td>\n",
       "      <td>20</td>\n",
       "      <td>10</td>\n",
       "      <td>0.03</td>\n",
       "      <td>0.03</td>\n",
       "      <td>surf</td>\n",
       "      <td>15</td>\n",
       "      <td>Seattle-Tacoma-Bellevue, WA MSA</td>\n",
       "      <td>0</td>\n",
       "      <td>0</td>\n",
       "      <td>0</td>\n",
       "    </tr>\n",
       "    <tr>\n",
       "      <th>3</th>\n",
       "      <td>1001</td>\n",
       "      <td>10</td>\n",
       "      <td>65</td>\n",
       "      <td>393</td>\n",
       "      <td>53</td>\n",
       "      <td>22</td>\n",
       "      <td>50</td>\n",
       "      <td>15360</td>\n",
       "      <td>500</td>\n",
       "      <td>20</td>\n",
       "      <td>10</td>\n",
       "      <td>0.03</td>\n",
       "      <td>0.03</td>\n",
       "      <td>surf</td>\n",
       "      <td>15</td>\n",
       "      <td>Seattle-Tacoma-Bellevue, WA MSA</td>\n",
       "      <td>0</td>\n",
       "      <td>3</td>\n",
       "      <td>7</td>\n",
       "    </tr>\n",
       "    <tr>\n",
       "      <th>4</th>\n",
       "      <td>1001</td>\n",
       "      <td>11</td>\n",
       "      <td>64</td>\n",
       "      <td>426</td>\n",
       "      <td>36</td>\n",
       "      <td>19</td>\n",
       "      <td>50</td>\n",
       "      <td>15360</td>\n",
       "      <td>500</td>\n",
       "      <td>20</td>\n",
       "      <td>10</td>\n",
       "      <td>0.03</td>\n",
       "      <td>0.03</td>\n",
       "      <td>surf</td>\n",
       "      <td>15</td>\n",
       "      <td>Seattle-Tacoma-Bellevue, WA MSA</td>\n",
       "      <td>0</td>\n",
       "      <td>0</td>\n",
       "      <td>4</td>\n",
       "    </tr>\n",
       "  </tbody>\n",
       "</table>\n",
       "</div>"
      ],
      "text/plain": [
       "  user_id  months  calls_number  minutes_used_per_user_monthly  \\\n",
       "0    1000      12            16                            124   \n",
       "1    1001       8            27                            182   \n",
       "2    1001       9            49                            315   \n",
       "3    1001      10            65                            393   \n",
       "4    1001      11            64                            426   \n",
       "\n",
       "   messages_number_sent_monthly  rounded_gb_used_per_user_monthly  \\\n",
       "0                            11                                 2   \n",
       "1                            30                                 7   \n",
       "2                            44                                14   \n",
       "3                            53                                22   \n",
       "4                            36                                19   \n",
       "\n",
       "   messages_included  mb_per_month_included  minutes_included  \\\n",
       "0               1000                  30720              3000   \n",
       "1                 50                  15360               500   \n",
       "2                 50                  15360               500   \n",
       "3                 50                  15360               500   \n",
       "4                 50                  15360               500   \n",
       "\n",
       "   usd_monthly_pay  usd_per_gb  usd_per_message  usd_per_minute plan_name  \\\n",
       "0               70           7             0.01            0.01  ultimate   \n",
       "1               20          10             0.03            0.03      surf   \n",
       "2               20          10             0.03            0.03      surf   \n",
       "3               20          10             0.03            0.03      surf   \n",
       "4               20          10             0.03            0.03      surf   \n",
       "\n",
       "   gb_per_month_included                                   city  plus_minutes  \\\n",
       "0                     30  Atlanta-Sandy Springs-Roswell, GA MSA             0   \n",
       "1                     15        Seattle-Tacoma-Bellevue, WA MSA             0   \n",
       "2                     15        Seattle-Tacoma-Bellevue, WA MSA             0   \n",
       "3                     15        Seattle-Tacoma-Bellevue, WA MSA             0   \n",
       "4                     15        Seattle-Tacoma-Bellevue, WA MSA             0   \n",
       "\n",
       "   plus_messages  plus_data_gb  \n",
       "0              0             0  \n",
       "1              0             0  \n",
       "2              0             0  \n",
       "3              3             7  \n",
       "4              0             4  "
      ]
     },
     "execution_count": 51,
     "metadata": {},
     "output_type": "execute_result"
    }
   ],
   "source": [
    "# Reemplazar valores negativos por cero (si no hay exceso)\n",
    "final_fusion['plus_minutes'] = final_fusion['plus_minutes'].clip(lower=0)\n",
    "final_fusion['plus_messages'] = final_fusion['plus_messages'].clip(lower=0)\n",
    "final_fusion['plus_data_gb'] = final_fusion['plus_data_gb'].clip(lower=0)\n",
    "final_fusion.head()\n"
   ]
  },
  {
   "cell_type": "code",
   "execution_count": 52,
   "metadata": {},
   "outputs": [
    {
     "data": {
      "text/html": [
       "<div>\n",
       "<style scoped>\n",
       "    .dataframe tbody tr th:only-of-type {\n",
       "        vertical-align: middle;\n",
       "    }\n",
       "\n",
       "    .dataframe tbody tr th {\n",
       "        vertical-align: top;\n",
       "    }\n",
       "\n",
       "    .dataframe thead th {\n",
       "        text-align: right;\n",
       "    }\n",
       "</style>\n",
       "<table border=\"1\" class=\"dataframe\">\n",
       "  <thead>\n",
       "    <tr style=\"text-align: right;\">\n",
       "      <th></th>\n",
       "      <th>user_id</th>\n",
       "      <th>months</th>\n",
       "      <th>calls_number</th>\n",
       "      <th>minutes_used_per_user_monthly</th>\n",
       "      <th>messages_number_sent_monthly</th>\n",
       "      <th>rounded_gb_used_per_user_monthly</th>\n",
       "      <th>messages_included</th>\n",
       "      <th>mb_per_month_included</th>\n",
       "      <th>minutes_included</th>\n",
       "      <th>usd_monthly_pay</th>\n",
       "      <th>...</th>\n",
       "      <th>usd_per_minute</th>\n",
       "      <th>plan_name</th>\n",
       "      <th>gb_per_month_included</th>\n",
       "      <th>city</th>\n",
       "      <th>plus_minutes</th>\n",
       "      <th>plus_messages</th>\n",
       "      <th>plus_data_gb</th>\n",
       "      <th>extra_cost_calls</th>\n",
       "      <th>extra_cost_messages</th>\n",
       "      <th>extra_cost_data</th>\n",
       "    </tr>\n",
       "  </thead>\n",
       "  <tbody>\n",
       "    <tr>\n",
       "      <th>0</th>\n",
       "      <td>1000</td>\n",
       "      <td>12</td>\n",
       "      <td>16</td>\n",
       "      <td>124</td>\n",
       "      <td>11</td>\n",
       "      <td>2</td>\n",
       "      <td>1000</td>\n",
       "      <td>30720</td>\n",
       "      <td>3000</td>\n",
       "      <td>70</td>\n",
       "      <td>...</td>\n",
       "      <td>0.01</td>\n",
       "      <td>ultimate</td>\n",
       "      <td>30</td>\n",
       "      <td>Atlanta-Sandy Springs-Roswell, GA MSA</td>\n",
       "      <td>0</td>\n",
       "      <td>0</td>\n",
       "      <td>0</td>\n",
       "      <td>0.0</td>\n",
       "      <td>0.00</td>\n",
       "      <td>0</td>\n",
       "    </tr>\n",
       "    <tr>\n",
       "      <th>1</th>\n",
       "      <td>1001</td>\n",
       "      <td>8</td>\n",
       "      <td>27</td>\n",
       "      <td>182</td>\n",
       "      <td>30</td>\n",
       "      <td>7</td>\n",
       "      <td>50</td>\n",
       "      <td>15360</td>\n",
       "      <td>500</td>\n",
       "      <td>20</td>\n",
       "      <td>...</td>\n",
       "      <td>0.03</td>\n",
       "      <td>surf</td>\n",
       "      <td>15</td>\n",
       "      <td>Seattle-Tacoma-Bellevue, WA MSA</td>\n",
       "      <td>0</td>\n",
       "      <td>0</td>\n",
       "      <td>0</td>\n",
       "      <td>0.0</td>\n",
       "      <td>0.00</td>\n",
       "      <td>0</td>\n",
       "    </tr>\n",
       "    <tr>\n",
       "      <th>2</th>\n",
       "      <td>1001</td>\n",
       "      <td>9</td>\n",
       "      <td>49</td>\n",
       "      <td>315</td>\n",
       "      <td>44</td>\n",
       "      <td>14</td>\n",
       "      <td>50</td>\n",
       "      <td>15360</td>\n",
       "      <td>500</td>\n",
       "      <td>20</td>\n",
       "      <td>...</td>\n",
       "      <td>0.03</td>\n",
       "      <td>surf</td>\n",
       "      <td>15</td>\n",
       "      <td>Seattle-Tacoma-Bellevue, WA MSA</td>\n",
       "      <td>0</td>\n",
       "      <td>0</td>\n",
       "      <td>0</td>\n",
       "      <td>0.0</td>\n",
       "      <td>0.00</td>\n",
       "      <td>0</td>\n",
       "    </tr>\n",
       "    <tr>\n",
       "      <th>3</th>\n",
       "      <td>1001</td>\n",
       "      <td>10</td>\n",
       "      <td>65</td>\n",
       "      <td>393</td>\n",
       "      <td>53</td>\n",
       "      <td>22</td>\n",
       "      <td>50</td>\n",
       "      <td>15360</td>\n",
       "      <td>500</td>\n",
       "      <td>20</td>\n",
       "      <td>...</td>\n",
       "      <td>0.03</td>\n",
       "      <td>surf</td>\n",
       "      <td>15</td>\n",
       "      <td>Seattle-Tacoma-Bellevue, WA MSA</td>\n",
       "      <td>0</td>\n",
       "      <td>3</td>\n",
       "      <td>7</td>\n",
       "      <td>0.0</td>\n",
       "      <td>0.09</td>\n",
       "      <td>70</td>\n",
       "    </tr>\n",
       "    <tr>\n",
       "      <th>4</th>\n",
       "      <td>1001</td>\n",
       "      <td>11</td>\n",
       "      <td>64</td>\n",
       "      <td>426</td>\n",
       "      <td>36</td>\n",
       "      <td>19</td>\n",
       "      <td>50</td>\n",
       "      <td>15360</td>\n",
       "      <td>500</td>\n",
       "      <td>20</td>\n",
       "      <td>...</td>\n",
       "      <td>0.03</td>\n",
       "      <td>surf</td>\n",
       "      <td>15</td>\n",
       "      <td>Seattle-Tacoma-Bellevue, WA MSA</td>\n",
       "      <td>0</td>\n",
       "      <td>0</td>\n",
       "      <td>4</td>\n",
       "      <td>0.0</td>\n",
       "      <td>0.00</td>\n",
       "      <td>40</td>\n",
       "    </tr>\n",
       "  </tbody>\n",
       "</table>\n",
       "<p>5 rows × 22 columns</p>\n",
       "</div>"
      ],
      "text/plain": [
       "  user_id  months  calls_number  minutes_used_per_user_monthly  \\\n",
       "0    1000      12            16                            124   \n",
       "1    1001       8            27                            182   \n",
       "2    1001       9            49                            315   \n",
       "3    1001      10            65                            393   \n",
       "4    1001      11            64                            426   \n",
       "\n",
       "   messages_number_sent_monthly  rounded_gb_used_per_user_monthly  \\\n",
       "0                            11                                 2   \n",
       "1                            30                                 7   \n",
       "2                            44                                14   \n",
       "3                            53                                22   \n",
       "4                            36                                19   \n",
       "\n",
       "   messages_included  mb_per_month_included  minutes_included  \\\n",
       "0               1000                  30720              3000   \n",
       "1                 50                  15360               500   \n",
       "2                 50                  15360               500   \n",
       "3                 50                  15360               500   \n",
       "4                 50                  15360               500   \n",
       "\n",
       "   usd_monthly_pay  ...  usd_per_minute  plan_name  gb_per_month_included  \\\n",
       "0               70  ...            0.01   ultimate                     30   \n",
       "1               20  ...            0.03       surf                     15   \n",
       "2               20  ...            0.03       surf                     15   \n",
       "3               20  ...            0.03       surf                     15   \n",
       "4               20  ...            0.03       surf                     15   \n",
       "\n",
       "                                    city  plus_minutes plus_messages  \\\n",
       "0  Atlanta-Sandy Springs-Roswell, GA MSA             0             0   \n",
       "1        Seattle-Tacoma-Bellevue, WA MSA             0             0   \n",
       "2        Seattle-Tacoma-Bellevue, WA MSA             0             0   \n",
       "3        Seattle-Tacoma-Bellevue, WA MSA             0             3   \n",
       "4        Seattle-Tacoma-Bellevue, WA MSA             0             0   \n",
       "\n",
       "   plus_data_gb  extra_cost_calls  extra_cost_messages  extra_cost_data  \n",
       "0             0               0.0                 0.00                0  \n",
       "1             0               0.0                 0.00                0  \n",
       "2             0               0.0                 0.00                0  \n",
       "3             7               0.0                 0.09               70  \n",
       "4             4               0.0                 0.00               40  \n",
       "\n",
       "[5 rows x 22 columns]"
      ]
     },
     "execution_count": 52,
     "metadata": {},
     "output_type": "execute_result"
    }
   ],
   "source": [
    "# Nuevas columnas con los costos adicionales, resultado de la multiplicación\n",
    "final_fusion['extra_cost_calls'] = final_fusion['plus_minutes'] * final_fusion['usd_per_minute']\n",
    "final_fusion['extra_cost_messages'] = final_fusion['plus_messages'] * final_fusion['usd_per_message']\n",
    "final_fusion['extra_cost_data'] = final_fusion['plus_data_gb'] * final_fusion['usd_per_gb']\n",
    "final_fusion.head()"
   ]
  },
  {
   "cell_type": "code",
   "execution_count": 53,
   "metadata": {},
   "outputs": [
    {
     "data": {
      "text/html": [
       "<div>\n",
       "<style scoped>\n",
       "    .dataframe tbody tr th:only-of-type {\n",
       "        vertical-align: middle;\n",
       "    }\n",
       "\n",
       "    .dataframe tbody tr th {\n",
       "        vertical-align: top;\n",
       "    }\n",
       "\n",
       "    .dataframe thead th {\n",
       "        text-align: right;\n",
       "    }\n",
       "</style>\n",
       "<table border=\"1\" class=\"dataframe\">\n",
       "  <thead>\n",
       "    <tr style=\"text-align: right;\">\n",
       "      <th></th>\n",
       "      <th>user_id</th>\n",
       "      <th>months</th>\n",
       "      <th>calls_number</th>\n",
       "      <th>minutes_used_per_user_monthly</th>\n",
       "      <th>messages_number_sent_monthly</th>\n",
       "      <th>rounded_gb_used_per_user_monthly</th>\n",
       "      <th>messages_included</th>\n",
       "      <th>mb_per_month_included</th>\n",
       "      <th>minutes_included</th>\n",
       "      <th>usd_monthly_pay</th>\n",
       "      <th>...</th>\n",
       "      <th>plan_name</th>\n",
       "      <th>gb_per_month_included</th>\n",
       "      <th>city</th>\n",
       "      <th>plus_minutes</th>\n",
       "      <th>plus_messages</th>\n",
       "      <th>plus_data_gb</th>\n",
       "      <th>extra_cost_calls</th>\n",
       "      <th>extra_cost_messages</th>\n",
       "      <th>extra_cost_data</th>\n",
       "      <th>users_monthly_earnings</th>\n",
       "    </tr>\n",
       "  </thead>\n",
       "  <tbody>\n",
       "    <tr>\n",
       "      <th>0</th>\n",
       "      <td>1000</td>\n",
       "      <td>12</td>\n",
       "      <td>16</td>\n",
       "      <td>124</td>\n",
       "      <td>11</td>\n",
       "      <td>2</td>\n",
       "      <td>1000</td>\n",
       "      <td>30720</td>\n",
       "      <td>3000</td>\n",
       "      <td>70</td>\n",
       "      <td>...</td>\n",
       "      <td>ultimate</td>\n",
       "      <td>30</td>\n",
       "      <td>Atlanta-Sandy Springs-Roswell, GA MSA</td>\n",
       "      <td>0</td>\n",
       "      <td>0</td>\n",
       "      <td>0</td>\n",
       "      <td>0.0</td>\n",
       "      <td>0.00</td>\n",
       "      <td>0</td>\n",
       "      <td>70.00</td>\n",
       "    </tr>\n",
       "    <tr>\n",
       "      <th>1</th>\n",
       "      <td>1001</td>\n",
       "      <td>8</td>\n",
       "      <td>27</td>\n",
       "      <td>182</td>\n",
       "      <td>30</td>\n",
       "      <td>7</td>\n",
       "      <td>50</td>\n",
       "      <td>15360</td>\n",
       "      <td>500</td>\n",
       "      <td>20</td>\n",
       "      <td>...</td>\n",
       "      <td>surf</td>\n",
       "      <td>15</td>\n",
       "      <td>Seattle-Tacoma-Bellevue, WA MSA</td>\n",
       "      <td>0</td>\n",
       "      <td>0</td>\n",
       "      <td>0</td>\n",
       "      <td>0.0</td>\n",
       "      <td>0.00</td>\n",
       "      <td>0</td>\n",
       "      <td>20.00</td>\n",
       "    </tr>\n",
       "    <tr>\n",
       "      <th>2</th>\n",
       "      <td>1001</td>\n",
       "      <td>9</td>\n",
       "      <td>49</td>\n",
       "      <td>315</td>\n",
       "      <td>44</td>\n",
       "      <td>14</td>\n",
       "      <td>50</td>\n",
       "      <td>15360</td>\n",
       "      <td>500</td>\n",
       "      <td>20</td>\n",
       "      <td>...</td>\n",
       "      <td>surf</td>\n",
       "      <td>15</td>\n",
       "      <td>Seattle-Tacoma-Bellevue, WA MSA</td>\n",
       "      <td>0</td>\n",
       "      <td>0</td>\n",
       "      <td>0</td>\n",
       "      <td>0.0</td>\n",
       "      <td>0.00</td>\n",
       "      <td>0</td>\n",
       "      <td>20.00</td>\n",
       "    </tr>\n",
       "    <tr>\n",
       "      <th>3</th>\n",
       "      <td>1001</td>\n",
       "      <td>10</td>\n",
       "      <td>65</td>\n",
       "      <td>393</td>\n",
       "      <td>53</td>\n",
       "      <td>22</td>\n",
       "      <td>50</td>\n",
       "      <td>15360</td>\n",
       "      <td>500</td>\n",
       "      <td>20</td>\n",
       "      <td>...</td>\n",
       "      <td>surf</td>\n",
       "      <td>15</td>\n",
       "      <td>Seattle-Tacoma-Bellevue, WA MSA</td>\n",
       "      <td>0</td>\n",
       "      <td>3</td>\n",
       "      <td>7</td>\n",
       "      <td>0.0</td>\n",
       "      <td>0.09</td>\n",
       "      <td>70</td>\n",
       "      <td>90.09</td>\n",
       "    </tr>\n",
       "    <tr>\n",
       "      <th>4</th>\n",
       "      <td>1001</td>\n",
       "      <td>11</td>\n",
       "      <td>64</td>\n",
       "      <td>426</td>\n",
       "      <td>36</td>\n",
       "      <td>19</td>\n",
       "      <td>50</td>\n",
       "      <td>15360</td>\n",
       "      <td>500</td>\n",
       "      <td>20</td>\n",
       "      <td>...</td>\n",
       "      <td>surf</td>\n",
       "      <td>15</td>\n",
       "      <td>Seattle-Tacoma-Bellevue, WA MSA</td>\n",
       "      <td>0</td>\n",
       "      <td>0</td>\n",
       "      <td>4</td>\n",
       "      <td>0.0</td>\n",
       "      <td>0.00</td>\n",
       "      <td>40</td>\n",
       "      <td>60.00</td>\n",
       "    </tr>\n",
       "  </tbody>\n",
       "</table>\n",
       "<p>5 rows × 23 columns</p>\n",
       "</div>"
      ],
      "text/plain": [
       "  user_id  months  calls_number  minutes_used_per_user_monthly  \\\n",
       "0    1000      12            16                            124   \n",
       "1    1001       8            27                            182   \n",
       "2    1001       9            49                            315   \n",
       "3    1001      10            65                            393   \n",
       "4    1001      11            64                            426   \n",
       "\n",
       "   messages_number_sent_monthly  rounded_gb_used_per_user_monthly  \\\n",
       "0                            11                                 2   \n",
       "1                            30                                 7   \n",
       "2                            44                                14   \n",
       "3                            53                                22   \n",
       "4                            36                                19   \n",
       "\n",
       "   messages_included  mb_per_month_included  minutes_included  \\\n",
       "0               1000                  30720              3000   \n",
       "1                 50                  15360               500   \n",
       "2                 50                  15360               500   \n",
       "3                 50                  15360               500   \n",
       "4                 50                  15360               500   \n",
       "\n",
       "   usd_monthly_pay  ...  plan_name  gb_per_month_included  \\\n",
       "0               70  ...   ultimate                     30   \n",
       "1               20  ...       surf                     15   \n",
       "2               20  ...       surf                     15   \n",
       "3               20  ...       surf                     15   \n",
       "4               20  ...       surf                     15   \n",
       "\n",
       "                                    city plus_minutes  plus_messages  \\\n",
       "0  Atlanta-Sandy Springs-Roswell, GA MSA            0              0   \n",
       "1        Seattle-Tacoma-Bellevue, WA MSA            0              0   \n",
       "2        Seattle-Tacoma-Bellevue, WA MSA            0              0   \n",
       "3        Seattle-Tacoma-Bellevue, WA MSA            0              3   \n",
       "4        Seattle-Tacoma-Bellevue, WA MSA            0              0   \n",
       "\n",
       "  plus_data_gb  extra_cost_calls  extra_cost_messages  extra_cost_data  \\\n",
       "0            0               0.0                 0.00                0   \n",
       "1            0               0.0                 0.00                0   \n",
       "2            0               0.0                 0.00                0   \n",
       "3            7               0.0                 0.09               70   \n",
       "4            4               0.0                 0.00               40   \n",
       "\n",
       "   users_monthly_earnings  \n",
       "0                   70.00  \n",
       "1                   20.00  \n",
       "2                   20.00  \n",
       "3                   90.09  \n",
       "4                   60.00  \n",
       "\n",
       "[5 rows x 23 columns]"
      ]
     },
     "execution_count": 53,
     "metadata": {},
     "output_type": "execute_result"
    }
   ],
   "source": [
    "# Calcular ingreso mensual total por usuario\n",
    "final_fusion['users_monthly_earnings'] = (\n",
    "    final_fusion['usd_monthly_pay']\n",
    "    + final_fusion['extra_cost_calls']\n",
    "    + final_fusion['extra_cost_messages']\n",
    "    + final_fusion['extra_cost_data']\n",
    ")\n",
    "final_fusion.head()\n"
   ]
  },
  {
   "cell_type": "markdown",
   "metadata": {},
   "source": [
    "<div class=\"alert alert-block alert-danger\">\n",
    "<b>Comentario revisor</b> <a class=\"tocSkip\"></a>\n",
    "\n",
    "\n",
    "Recuerda que para este punto, es necesario que ya tengamos los valores redondeados de la transformación de megabytes a gigabytes. Esto cobra importancia dado que estamos calculando por cuanto se paso cada usuario, entonces el no redondear puede alterar este valor.\n",
    "</div>"
   ]
  },
  {
   "cell_type": "markdown",
   "metadata": {},
   "source": [
    "<div style=\"background-color: #ADD8E6; padding: 10px; border-radius: 5px;\">\n",
    "\n",
    "**Respuesta del estudiante.**\n",
    "\n",
    "Hola Tonatiuh, agradezco tus comentarios y recomendaciones generales a lo largo del proyecto, que me ayudarán en futuros codificaciones y trabajos.\n",
    "\n",
    "Con respecto a este comentario, puedes observar que en la sección 1.10.2 llamada: \"Enriquecer los datos\", en la sección de líneas con número 36, en la segunda línea de código, en el dataframe de “internet”, realice la creación de una columna nueva llamada “gb_used” que resulto de dividir la columna “mb_used” entre 1,024, lo que es equivalente a 1 GB. \n",
    "\n",
    "Despúes en la sección 2.1 llamada: “agregar datos por usuario”, en la sección de línea 41, verás que en 4 códigos, agrupe por \"user_id\" y “months” con la columna “gb_used” para obtener los consumos de internet por usuario y mes, inmediatamente renombre la columna \"gb_used\" por “gb_used_per_user_monthly”. En la segunda línea, redonde los “GB” y en la tercera línea convertí los datos de esta columna a tipo entero. En la cuarta línea cambie el nombre de la columna a “rounded” para advertir que fuera notorio que esta columna ya llevaba el redondeo, quedando el nombre completo de la columna como “rounded_gb_used_per_user_monthly”. Como se puede ver en la última línea al llamar al método “head”, la columna “rounded_gb_used_per_user_monthly, ya tiene el redondeo del consumo mensual en GB por usuario.\n",
    "\n",
    "En las líneas de la sección 50, en la tercer fila de código, esta columna la resté a la columna gb_per_month_included” del dataframe “plans” (en la línea 14, a su vez, ya habia ejecutado la conversión de \"gb\" a \"mb\" de las tarifas bases que ofrecen los planes). \n",
    "\n",
    "En síntesis, los datos de consumo del internet por usuario al mes ya están redondeados en la columnas “rounded_gb_used_per_user_monthly”. Saludos.\n",
    "</div>"
   ]
  },
  {
   "cell_type": "markdown",
   "metadata": {},
   "source": [
    "<div class=\"alert alert-block alert-success\">\n",
    "<b>Comentario del revisor</b> <a class=\"tocSkip\"></a>\n",
    "\n",
    "Gran trabajo con el ajuste! Redondeas de manera perfecta la duración de las llamadas y los gb"
   ]
  },
  {
   "cell_type": "markdown",
   "metadata": {
    "id": "-jtyHzJb0q1I"
   },
   "source": [
    "## Estudia el comportamiento de usuario"
   ]
  },
  {
   "cell_type": "markdown",
   "metadata": {
    "id": "vtW4CJEe0q1J"
   },
   "source": [
    "### Llamadas"
   ]
  },
  {
   "cell_type": "code",
   "execution_count": 54,
   "metadata": {
    "id": "Jf5v5--k0q1J"
   },
   "outputs": [
    {
     "data": {
      "image/png": "[encoded data removed]",
      "text/plain": [
       "<Figure size 800x500 with 1 Axes>"
      ]
     },
     "metadata": {},
     "output_type": "display_data"
    }
   ],
   "source": [
    "# Compara la duración promedio de llamadas por cada plan y por cada mes. Traza un gráfico de barras para visualizarla.\n",
    "\n",
    "# Filtrar los datos por plan\n",
    "plan_surf = final_fusion[final_fusion[\"plan_name\"] == \"surf\"]\n",
    "plan_ultimate = final_fusion[final_fusion[\"plan_name\"] == \"ultimate\"]\n",
    "\n",
    "# Extraer la  información del promedio de duración de llamadas por plan\n",
    "mean_call_surf = plan_surf.groupby(\"months\")[\"minutes_used_per_user_monthly\"].mean() \n",
    "mean_call_ultimate = plan_ultimate.groupby(\"months\")[\"minutes_used_per_user_monthly\"].mean() \n",
    "\n",
    "# Creación de un nuevo Dataframe que una la agrupación del cálculo del promedio de duración de\n",
    "# llamadas por plan\n",
    "compared_mean_calls = pd.DataFrame({\n",
    "    \"Surf\" : mean_call_surf,\n",
    "    \"Ultimate\" : mean_call_ultimate\n",
    "})\n",
    "compared_mean_calls = compared_mean_calls.reset_index()\n",
    "# Reenombrar los datos de los meses de números a nombres.\n",
    "compared_mean_calls[\"months\"] = compared_mean_calls[\"months\"].replace({1 : \"January\", \n",
    "                                                               2 : \"February\", \n",
    "                                                               3 : \"March\", \n",
    "                                                               4 : \"April\",\n",
    "                                                               5 : \"May\",\n",
    "                                                               6 : \"June\",\n",
    "                                                               7 : \"July\",\n",
    "                                                               8 : \"August\",\n",
    "                                                               9 : \"September\",\n",
    "                                                               10 : \"October\",\n",
    "                                                               11 : \"November\",\n",
    "                                                               12 : \"December\"})\n",
    "# Código del gráfico de barras\n",
    "compared_mean_calls.plot(kind=\"bar\",\n",
    "            x=\"months\",\n",
    "            title=\"Duración Promedio de Llamadas en Minutos por Plan y Mes\",\n",
    "            xlabel=\"Mes\",\n",
    "            ylabel=\"Número Promedio de Minutos\",\n",
    "            color=[\"purple\",\"gold\"],\n",
    "            rot=45,\n",
    "            figsize=[8,5])\n",
    "\n",
    "plt.legend([\"Surf\", \"Ultimate\"])\n",
    "plt.show()"
   ]
  },
  {
   "cell_type": "code",
   "execution_count": 55,
   "metadata": {
    "id": "QoLqW1S_0q1J"
   },
   "outputs": [
    {
     "data": {
      "image/png": "[encoded data removed]",
      "text/plain": [
       "<Figure size 800x500 with 1 Axes>"
      ]
     },
     "metadata": {},
     "output_type": "display_data"
    }
   ],
   "source": [
    "# Compara el número de minutos mensuales que necesitan los usuarios de cada plan. Traza un histograma.\n",
    "\n",
    "# Filtrar los datos por plan\n",
    "plan_surf = final_fusion[final_fusion[\"plan_name\"] == \"surf\"]\n",
    "plan_ultimate = final_fusion[final_fusion[\"plan_name\"] == \"ultimate\"]\n",
    "\n",
    "# Código del histograma\n",
    "plt.figure(figsize=[8,5])\n",
    "\n",
    "plan_surf[\"minutes_used_per_user_monthly\"].plot(kind=\"hist\",\n",
    "                                                color=\"purple\",                                        \n",
    "                                                alpha=0.8,\n",
    "                                                bins=30)\n",
    "\n",
    "plan_ultimate[\"minutes_used_per_user_monthly\"].plot(kind=\"hist\",\n",
    "                                                    alpha=0.8,\n",
    "                                                    color=\"gold\",\n",
    "                                                    bins=30)\n",
    "plt.xlabel(\"Minutos Mensuales Utilizados\")\n",
    "plt.ylabel(\"Frecuencia(Número de Usuarios)\")\n",
    "plt.title(\"Distribución del Uso de Minutos Mensuales por Plan\")\n",
    "plt.legend([\"Plan Surf\", \"Plan Ultimate\"])\n",
    "plt.show()"
   ]
  },
  {
   "cell_type": "code",
   "execution_count": 56,
   "metadata": {
    "id": "oSndbAnt0q1K"
   },
   "outputs": [
    {
     "name": "stdout",
     "output_type": "stream",
     "text": [
      "Plan Surf\n",
      "La media de la duración de llamadas del plan surf es: 428.7495232040687\n",
      "La varianza de la duración de llamadas del plan surf es: 54933.334591317485\n",
      "La desviación estándar de la duración de llamadas del plan surf es: 234.37861376695076\n",
      "La mediana de la duración de llamadas del plan surf es: 425.0\n",
      "\n",
      "Plan Ultimate\n",
      "La media de la duración de llamadas del plan ultimate es: 430.45\n",
      "La varianza de la duracion de llamadas del plan ultimate es: 57764.12527777777\n",
      "La desviación estándar de la duración de llamadas del plan ultimate es: 240.34168443650753\n",
      "La mediana de la duración de llamadas del plan ultimate es: 424.0\n"
     ]
    }
   ],
   "source": [
    "# Calcula la media y la varianza de la duración mensual de llamadas por plan\n",
    "# También incluí el cálculo de la desviación estándar y la mediana.\n",
    "\n",
    "# Filtrar los datos por plan\n",
    "plan_surf = final_fusion[final_fusion[\"plan_name\"] == \"surf\"]\n",
    "plan_ultimate = final_fusion[final_fusion[\"plan_name\"] == \"ultimate\"]\n",
    "\n",
    "# Extraer la información de los minutos usados mensualmente\n",
    "call_surf = plan_surf[\"minutes_used_per_user_monthly\"]\n",
    "call_ultimate = plan_ultimate[\"minutes_used_per_user_monthly\"]\n",
    "\n",
    "# Obtener los cálculos del promedio de llamadas mensuales, varianza, desviación estándar y mediana\n",
    "# del plan Surf\n",
    "mean_call_surf = call_surf.mean()\n",
    "var_call_surf = np.var(call_surf)\n",
    "sigma_call_surf = np.std(call_surf)\n",
    "mediam_call_surf = call_surf.median()\n",
    "\n",
    "# Obtener los cálculos del promedio de llamadas mensuales, varianza, desviación estándar y mediana\n",
    "# del plan Ultimate\n",
    "mean_call_ultimate = call_ultimate.mean()\n",
    "var_call_ultimate = np.var(call_ultimate)\n",
    "sigma_call_ultimate = np.std(call_ultimate)\n",
    "mediam_call_ultimate = call_ultimate.median()\n",
    "\n",
    "# Imprimir los resultados de las medidas estadísticas\n",
    "print(\"Plan Surf\")\n",
    "print(\"La media de la duración de llamadas del plan surf es:\", mean_call_surf)\n",
    "print(\"La varianza de la duración de llamadas del plan surf es:\",var_call_surf)\n",
    "print(\"La desviación estándar de la duración de llamadas del plan surf es:\",sigma_call_surf)\n",
    "print(\"La mediana de la duración de llamadas del plan surf es:\",mediam_call_surf)\n",
    "print()\n",
    "print(\"Plan Ultimate\")\n",
    "print(\"La media de la duración de llamadas del plan ultimate es:\",mean_call_ultimate)\n",
    "print(\"La varianza de la duracion de llamadas del plan ultimate es:\",var_call_ultimate)\n",
    "print(\"La desviación estándar de la duración de llamadas del plan ultimate es:\",sigma_call_ultimate)\n",
    "print(\"La mediana de la duración de llamadas del plan ultimate es:\",mediam_call_ultimate)\n"
   ]
  },
  {
   "cell_type": "code",
   "execution_count": 57,
   "metadata": {
    "id": "nZzoRUKc0q1K"
   },
   "outputs": [
    {
     "data": {
      "image/png": "[encoded data removed]",
      "text/plain": [
       "<Figure size 800x500 with 1 Axes>"
      ]
     },
     "metadata": {},
     "output_type": "display_data"
    }
   ],
   "source": [
    "# Traza un diagrama de caja para visualizar la distribución de la duración mensual de llamadas por\n",
    "# plan.\n",
    "\n",
    "# Filtrar los datos por plan\n",
    "plan_surf = final_fusion[final_fusion[\"plan_name\"] == \"surf\"]\n",
    "plan_ultimate = final_fusion[final_fusion[\"plan_name\"] == \"ultimate\"]\n",
    "\n",
    "# Extraer la información de los minutos usados mensualmente\n",
    "call_surf = plan_surf[\"minutes_used_per_user_monthly\"]\n",
    "call_ultimate = plan_ultimate[\"minutes_used_per_user_monthly\"]\n",
    "\n",
    "# Datos\n",
    "data = {\n",
    "    'Duración': pd.concat([call_surf, call_ultimate], ignore_index=True),\n",
    "    'Plan': ['surf'] * len(call_surf) + ['ultimate'] * len(call_ultimate)\n",
    "}\n",
    "# Nuevo Dataframe\n",
    "compared_plans = pd.DataFrame(data)\n",
    "\n",
    "# Crear Gráfico \n",
    "plt.figure(figsize=[8,5])\n",
    "sns.boxplot(x=\"Plan\", y=\"Duración\", data=compared_plans)\n",
    "plt.title(\"Distribución de la Duración Mensual de Llamadas por Plan\")\n",
    "plt.xlabel(\"Plan\")\n",
    "plt.ylabel(\"Minutos utilizados por usuario al mes\")\n",
    "\n",
    "plt.show()\n",
    "\n"
   ]
  },
  {
   "cell_type": "markdown",
   "metadata": {},
   "source": [
    "CONCLUSIONES SOBRE LLAMADAS\n",
    "\n",
    "No existe un claro patrón de diferencia entre los dos planes, cuando se analiza la duración promedio de llamadas en cada mes. Los patrones son similares, existiendo solo un pico considerable en el mes de febrero con el plan Ultimate comparado al plan Surf, pero no represento el tope del año que, para los dos planes, ocurrió en el mes de diciembre. \n",
    "\n",
    "Se puede apreciar que la mayor frecuencia del número de minutos mensuales utilizados en los dos planes oscila entre 450 a 600 minutos. La mayor parte de los clientes que usan el plan Surf están agrupados en torno a los 600 minutos, lo cual indica que tendrían alrededor de un excedente de 100 minutos, ya que rebasan los 500 minutos que ofrece el plan. El plan Ultimate tiene un rango más bajo de uso minutos con menos clientes, y los usuarios no utilizan la totalidad de minutos ofrecidos en el plan base. Entonces podemos decir que un mayor número de clientes utilizan el plan Surf, y por ende, es más popular. \n",
    "\n",
    "Los promedios, varianzas y desviaciones estándar de llamada mensuales de ambos planes son muy similares. Los clientes utilizan en promedio, la misma cantidad de minutos mensuales. Al tener varianzas y desviaciones estándar similares, indican que la variabilidad en el uso de minutos entre los clientes de cada plan es equiparable, si bien el plan Ultimate tiene una dispersión ligeramente mayor. \n",
    "\n",
    "Todo esto se confirma con figuras muy similares observadas en el diagrama de caja y bigotes, esto es, medianas similares alrededor de los 400 minutos en ambos planes; ajas similares, con rangos de Q1 a Q3, y bigotes casi idénticos. Finalmente, se puede observar en el caso del plan Surf, se observan unos pocos valores más dispersos (3 en total), pero los demás valores atípicos se concentran más, comparativamente con el plan Ultimate, donde sus valores tienden a dispersarse ligeramente más.\n",
    "\n"
   ]
  },
  {
   "cell_type": "markdown",
   "metadata": {
    "id": "8idKy8Wh0q1L"
   },
   "source": [
    "### Mensajes"
   ]
  },
  {
   "cell_type": "code",
   "execution_count": 58,
   "metadata": {
    "id": "NXLxiTit0q1L"
   },
   "outputs": [
    {
     "data": {
      "image/png": "[encoded data removed]",
      "text/plain": [
       "<Figure size 800x500 with 1 Axes>"
      ]
     },
     "metadata": {},
     "output_type": "display_data"
    }
   ],
   "source": [
    "# Comprara el número de mensajes que tienden a enviar cada mes los usuarios de cada plan\n",
    "\n",
    "# Filtrar los datos por plan\n",
    "plan_surf = final_fusion[final_fusion[\"plan_name\"] == \"surf\"]\n",
    "plan_ultimate = final_fusion[final_fusion[\"plan_name\"] == \"ultimate\"]\n",
    "\n",
    "# Código del histograma\n",
    "plt.figure(figsize=[8,5])\n",
    "\n",
    "plan_surf[\"messages_number_sent_monthly\"].plot(kind=\"hist\",\n",
    "                                                color=\"purple\",                                        \n",
    "                                                alpha=0.8,\n",
    "                                                bins=30)\n",
    "\n",
    "plan_ultimate[\"messages_number_sent_monthly\"].plot(kind=\"hist\",\n",
    "                                                    alpha=0.8,\n",
    "                                                    color=\"gold\",\n",
    "                                                    bins=30)\n",
    "plt.xlabel(\"Mensajes Enviados\")\n",
    "plt.ylabel(\"Frecuencia(Número de Usuarios)\")\n",
    "plt.title(\"Distribución de Mensajes Enviados Mensualmente por Plan\")\n",
    "plt.legend([\"Plan Surf\", \"Plan Ultimate\"])\n",
    "plt.show()\n"
   ]
  },
  {
   "cell_type": "code",
   "execution_count": 59,
   "metadata": {
    "id": "GRI_R7xF0q1L"
   },
   "outputs": [
    {
     "name": "stdout",
     "output_type": "stream",
     "text": [
      "Plan Surf\n",
      "La media de mensajes enviados mensualmente del plan surf es: 428.7495232040687\n",
      "La varianza de mensajes enviados mensualmente del plan surf es: 54933.334591317485\n",
      "La desviación estándar de mensajes enviados mensualmente del plan surf es: 234.37861376695076\n",
      "La mediana de mensajes enviados mensualmente del plan surf es: 24.0\n",
      "\n",
      "Plan Ultimate\n",
      "La media de mensajes enviados mensualmente del plan ultimate es: 430.45\n",
      "La varianza de mensajes enviados mensualmente del plan ultimate es: 57764.12527777777\n",
      "La desviación estándar de mensajes enviados mensualmente del plan ultimate es: 240.34168443650753\n",
      "La mediana de mensajes enviados mensualmente del plan ultimate es: 30.0\n"
     ]
    }
   ],
   "source": [
    "# Calcula la media y la varianza de los mensajes enviados mensualmente por plan.\n",
    "# También incluí el cálculo de la desviación estándar y la mediana\n",
    "\n",
    "# Filtrar los datos por plan\n",
    "plan_surf = final_fusion[final_fusion[\"plan_name\"] == \"surf\"]\n",
    "plan_ultimate = final_fusion[final_fusion[\"plan_name\"] == \"ultimate\"]\n",
    "\n",
    "# Extraer la información de los mensajes enviados mensualmente por plan\n",
    "messages_surf = plan_surf[\"messages_number_sent_monthly\"]\n",
    "messages_ultimate = plan_ultimate[\"messages_number_sent_monthly\"]\n",
    "\n",
    "# Obtener los cálculos del promedio de mensajes enviados mensualmente, varianza, desviación \n",
    "# estándar y mediana del plan Surf\n",
    "mean_messages_surf = messages_surf.mean()\n",
    "var_messages_surf = np.var(messages_surf)\n",
    "sigma_messages_surf = np.std(messages_surf)\n",
    "mediam_messages_surf = messages_surf.median()\n",
    "\n",
    "# Obtener los cálculos del promedio de mensajes enviados mensualmente, varianza, desviación \n",
    "# estándar y mediana del plan Ultimate\n",
    "mean_messages_ultimate = messages_ultimate.mean()\n",
    "var_messages_ultimate = np.var(messages_ultimate)\n",
    "sigma_messages_ultimate = np.std(messages_ultimate)\n",
    "mediam_messages_ultimate = messages_ultimate.median()\n",
    "\n",
    "# Imprimir los resultados de las medidas estadísticas\n",
    "print(\"Plan Surf\")\n",
    "print(\"La media de mensajes enviados mensualmente del plan surf es:\", mean_call_surf)\n",
    "print(\"La varianza de mensajes enviados mensualmente del plan surf es:\",var_call_surf)\n",
    "print(\"La desviación estándar de mensajes enviados mensualmente del plan surf es:\",sigma_call_surf)\n",
    "print(\"La mediana de mensajes enviados mensualmente del plan surf es:\",mediam_messages_surf)\n",
    "print()\n",
    "print(\"Plan Ultimate\")\n",
    "print(\"La media de mensajes enviados mensualmente del plan ultimate es:\",mean_call_ultimate)\n",
    "print(\"La varianza de mensajes enviados mensualmente del plan ultimate es:\",var_call_ultimate)\n",
    "print(\"La desviación estándar de mensajes enviados mensualmente del plan ultimate es:\",sigma_call_ultimate)\n",
    "print(\"La mediana de mensajes enviados mensualmente del plan ultimate es:\",mediam_messages_ultimate)\n",
    "\n",
    "\n"
   ]
  },
  {
   "cell_type": "code",
   "execution_count": 60,
   "metadata": {
    "id": "dtFwCGAp0q1M"
   },
   "outputs": [
    {
     "data": {
      "image/png": "[encoded data removed]",
      "text/plain": [
       "<Figure size 800x500 with 1 Axes>"
      ]
     },
     "metadata": {},
     "output_type": "display_data"
    }
   ],
   "source": [
    "# Traza un diagrama de caja para visualizar la distribución de los mensajes enviados mensualmente\n",
    "# por plan.\n",
    "\n",
    "# Filtrar los datos por plan\n",
    "plan_surf = final_fusion[final_fusion[\"plan_name\"] == \"surf\"]\n",
    "plan_ultimate = final_fusion[final_fusion[\"plan_name\"] == \"ultimate\"]\n",
    "\n",
    "# Extraer la información de los mensajes enviados mensualmente por plan\n",
    "messages_surf = plan_surf[\"messages_number_sent_monthly\"]\n",
    "messages_ultimate = plan_ultimate[\"messages_number_sent_monthly\"]\n",
    "\n",
    "# Datos\n",
    "data_messages = {\n",
    "    'Mensajes': pd.concat([messages_surf, messages_ultimate], ignore_index=True),\n",
    "    'Plan': ['surf'] * len(messages_surf) + ['ultimate'] * len(messages_ultimate)\n",
    "}\n",
    "# Nuevo Dataframe\n",
    "compared_plan_messages = pd.DataFrame(data_messages)\n",
    "\n",
    "# Crear Gráfico\n",
    "plt.figure(figsize=[8,5])\n",
    "sns.boxplot(x=\"Plan\", y=\"Mensajes\", data=compared_plan_messages)\n",
    "plt.title(\"Distribución del Envío de Mensajes Mensualmente por Plan\")\n",
    "plt.xlabel(\"Plan\")\n",
    "plt.ylabel(\"Mensajes Enviados por usuario al mes\")\n",
    "\n",
    "plt.show()"
   ]
  },
  {
   "cell_type": "markdown",
   "metadata": {},
   "source": [
    "CONCLUSIONES SOBRE MENSAJES ENVIADOS MENSUALMENTE\n",
    "\n",
    "Analizando lo mostrado en el histograma, se puede notar que un mayor número de usuarios no envían mensajes, ya que una mayor cantidad de clientes se concentran en torno al valor cero, y en mayor proporción lo hacen clientes con planes Surf. En ese punto, los usuarios con planes Surf triplican a los usuarios con planes Ultimate en el envío de mensajes. Desde ese punto en adelante, se observa que el número de usuarios que envían un mayor número de mensajes tiende a disminuir fuertemente. Se visualiza que casi no hay usuarios que envían mas de 100 mensajes al mes. Puedo deducir viendo este gráfico que los usuarios de ambos planes no hacen mucho uso de la opción de mensajería, posiblemente por que utilizan más servicios de llamadas y/o de internet. \n",
    "\n",
    "Se observa que las medias de mensajes enviados en ambos planes son similares, alrededor de 429 mensajes, sin embargo, hay una diferencia muy grande con respecto a las medianas de ambos planes con un promedio de 27 para ambas en conjunto, lo que indica una diferencia del promedio 16 veces mayor al valor de la mediana. Esto nos indica que la distribución está muy sesgada hacia valores bajos y hacia la derecha, esto es, la mayor parte de los usuarios envían pocos mensajes, entre 0 y 30, pero hay ciertos clientes con un número alto de mensajes que elevan el promedio. Por último, al tener valores muy altos, tanto las varianzas y desviaciones estándar de cada plan, indican que hay una notoria dispersión en los datos. La similitud en los promedios tanto del plan Surf como del plan Ultimate, hace pensar que el comportamiento general de los usuarios en el envío de mensajes es parecido en ambos planes, sin embargo, existen diferencias marcadas en el consumo de ciertos clientes que crea una marcada dispersión en los datos. \n",
    "\n",
    "Los diagramas de caja y bigotes de cada plan, presentan diferencias en comparación al análisis realizado con las llamadas. El valor de las medianas de cada plan tiene cierta diferencia visual. La forma de las cajas de ambos planes no es igual, los rangos de la caja del plan Ultimate es más grande que la del plan Surf, esto sugiere una mayor dispersión en la cantidad de mensajes enviados; por tanto, los datos del plan de Surf deben estar más concentrados o no tan dispersos. La presencia de 3 valores atípicos muy alejados del bigote superior en el plan Surf puede indicar que 3 usuarios envían una cantidad muy alta de mensajes, o quizás algún error en los datos. \n"
   ]
  },
  {
   "cell_type": "markdown",
   "metadata": {
    "id": "42YSypXz0q1M"
   },
   "source": [
    "### Internet"
   ]
  },
  {
   "cell_type": "code",
   "execution_count": 61,
   "metadata": {
    "id": "lSuKPtjh0q1M"
   },
   "outputs": [
    {
     "data": {
      "image/png": "[encoded data removed]",
      "text/plain": [
       "<Figure size 800x500 with 1 Axes>"
      ]
     },
     "metadata": {},
     "output_type": "display_data"
    }
   ],
   "source": [
    "# Compara la cantidad de tráfico de Internet consumido mensualmente por usuarios por plan en GB\n",
    "\n",
    "# Filtrar los datos por plan\n",
    "plan_surf = final_fusion[final_fusion[\"plan_name\"] == \"surf\"]\n",
    "plan_ultimate = final_fusion[final_fusion[\"plan_name\"] == \"ultimate\"]\n",
    "\n",
    "# Código del histograma\n",
    "plt.figure(figsize=[8,5])\n",
    "\n",
    "plan_surf[\"rounded_gb_used_per_user_monthly\"].plot(kind=\"hist\",\n",
    "                                                color=\"purple\",                                        \n",
    "                                                alpha=0.8,\n",
    "                                                bins=30)\n",
    "\n",
    "plan_ultimate[\"rounded_gb_used_per_user_monthly\"].plot(kind=\"hist\",\n",
    "                                                    alpha=0.8,\n",
    "                                                    color=\"gold\",\n",
    "                                                    bins=30)\n",
    "plt.xlabel(\"Tráfico de Internet Consumido (GB)\")\n",
    "plt.ylabel(\"Frecuencia(Número de Usuarios)\")\n",
    "plt.title(\"Distribución de Tráfico de Internet Consumido Mensualmente por Plan en GB\")\n",
    "plt.legend([\"Plan Surf\", \"Plan Ultimate\"])\n",
    "plt.show()\n"
   ]
  },
  {
   "cell_type": "code",
   "execution_count": 62,
   "metadata": {
    "id": "wnh8jYXi0q1N"
   },
   "outputs": [
    {
     "name": "stdout",
     "output_type": "stream",
     "text": [
      "Plan Surf\n",
      "La media de tráfico de internet consumido mensualmente del plan surf es: 16.670692943420217\n",
      "La varianza de tráfico de internet consumido mensualmente del plan surf es: 61.54444942447023\n",
      "La desviación estándar de tráfico de internet mensualmente del plan surf es: 7.845027050588814\n",
      "La mediana de tráfico de internet consumido mensualmente del plan surf es: 17.0\n",
      "\n",
      "Plan Ultimate\n",
      "La media de tráfico de internet consumido mensualmente del plan ultimate es: 17.306944444444444\n",
      "La varianza de tráfico de internet consumido mensualmente del plan ultimate es: 58.748840663580246\n",
      "La desviación estándar detráfico de internet consumido mensualmente del plan ultimate es: 7.664779231235578\n",
      "La mediana de tráfico de internet consumido mensualmente del plan ultimate es: 17.0\n"
     ]
    }
   ],
   "source": [
    "# Calcula la media y la varianza del tráfico de internet consumido mensualmente por plan en GB\n",
    "# También incluí el cálculo de la desviación estándar y la mediana\n",
    "\n",
    "# Filtrar los datos por plan\n",
    "plan_surf = final_fusion[final_fusion[\"plan_name\"] == \"surf\"]\n",
    "plan_ultimate = final_fusion[final_fusion[\"plan_name\"] == \"ultimate\"]\n",
    "\n",
    "# Extraer la información del tráfico de internet consumido mensualmente por plan en GB\n",
    "internet_surf = plan_surf[\"rounded_gb_used_per_user_monthly\"]\n",
    "internet_ultimate = plan_ultimate[\"rounded_gb_used_per_user_monthly\"]\n",
    "\n",
    "# Obtener los cálculos del promedio de tráfico de internet consumido mensualmente, varianza,  \n",
    "# desviación estándar y mediana del plan Surf\n",
    "mean_internet_surf = internet_surf.mean()\n",
    "var_internet_surf = np.var(internet_surf)\n",
    "sigma_internet_surf = np.std(internet_surf)\n",
    "mediam_internet_surf = internet_surf.median()\n",
    "\n",
    "# Obtener los cálculos del promedio de tráfico de internet consumido mensualmente, varianza,  \n",
    "# desviación estándar y mediana del plan Ultimate\n",
    "mean_internet_ultimate = internet_ultimate.mean()\n",
    "var_internet_ultimate = np.var(internet_ultimate)\n",
    "sigma_internet_ultimate = np.std(internet_ultimate)\n",
    "mediam_internet_ultimate = internet_ultimate.median()\n",
    "\n",
    "# Imprimir los resultados de las medidas estadísticas\n",
    "print(\"Plan Surf\")\n",
    "print(\"La media de tráfico de internet consumido mensualmente del plan surf es:\", mean_internet_surf)\n",
    "print(\"La varianza de tráfico de internet consumido mensualmente del plan surf es:\",var_internet_surf)\n",
    "print(\"La desviación estándar de tráfico de internet mensualmente del plan surf es:\",sigma_internet_surf)\n",
    "print(\"La mediana de tráfico de internet consumido mensualmente del plan surf es:\",mediam_internet_surf)\n",
    "print()\n",
    "print(\"Plan Ultimate\")\n",
    "print(\"La media de tráfico de internet consumido mensualmente del plan ultimate es:\",mean_internet_ultimate)\n",
    "print(\"La varianza de tráfico de internet consumido mensualmente del plan ultimate es:\",var_internet_ultimate)\n",
    "print(\"La desviación estándar detráfico de internet consumido mensualmente del plan ultimate es:\",sigma_internet_ultimate)\n",
    "print(\"La mediana de tráfico de internet consumido mensualmente del plan ultimate es:\",mediam_internet_ultimate)\n"
   ]
  },
  {
   "cell_type": "code",
   "execution_count": 63,
   "metadata": {
    "id": "5VlyJ9ry0q1N"
   },
   "outputs": [
    {
     "data": {
      "image/png": "[encoded data removed]",
      "text/plain": [
       "<Figure size 800x500 with 1 Axes>"
      ]
     },
     "metadata": {},
     "output_type": "display_data"
    }
   ],
   "source": [
    "# Traza un diagrama de caja para visualizar la distribución del tráfico de internet consumido en \n",
    "# GB mensualmente por plan.\n",
    "\n",
    "# Filtrar los datos por plan\n",
    "plan_surf = final_fusion[final_fusion[\"plan_name\"] == \"surf\"]\n",
    "plan_ultimate = final_fusion[final_fusion[\"plan_name\"] == \"ultimate\"]\n",
    "\n",
    "# Extraer la información del tráfico de internet consumido mensualmente por plan en GB\n",
    "internet_surf = plan_surf[\"rounded_gb_used_per_user_monthly\"]\n",
    "internet_ultimate = plan_ultimate[\"rounded_gb_used_per_user_monthly\"]\n",
    "\n",
    "# Datos\n",
    "data_internet = {\n",
    "    'Internet': pd.concat([internet_surf, internet_ultimate], ignore_index=True),\n",
    "    'Plan': ['surf'] * len(internet_surf) + ['ultimate'] * len(internet_ultimate)\n",
    "}\n",
    "# Nuevo Dataframe\n",
    "compared_plan_internet = pd.DataFrame(data_internet)\n",
    "\n",
    "# Crear Gráfico\n",
    "plt.figure(figsize=[8,5])\n",
    "sns.boxplot(x=\"Plan\", y=\"Internet\", data=compared_plan_internet)\n",
    "plt.title(\"Comparación del Consumo de Internet Mensual por Plan\")\n",
    "plt.xlabel(\"Plan\")\n",
    "plt.ylabel(\"Consumo (GB)\")\n",
    "\n",
    "plt.show()\n"
   ]
  },
  {
   "cell_type": "markdown",
   "metadata": {},
   "source": [
    "CONCLUSIONES SOBRE INTERNET CONSUMIDO MENSUALMENTE EN GB\n",
    "\n",
    "Al visualizar el histograma del tráfico del consumo de internet, observo que hay un patrón similar en ambos planes, de aumento y disminución de la cantidad de usuarios a medida que aumenta el consumo de datos en GB, lo que sugiere un comportamiento de uso similar, pero con un mayor número de usuarios en el plan Surf, quizás debido a una mayor base de clientes. Los mayores consumos de datos por usuarios se registran entre 0 y 25 GB consumidos, con picos de consumos por un mayor número de usuarios en alrededor de 15 GB. Pasando el consumo de 40 GB, se registra una caída a casi cero usuarios. Una explicación a esta situación, puede deberse que en el plan Surf el paquete de datos de la tarifa tiene un tope de 15 GB, mientras que en el plan Ultimate es de 30 GB; por esta razón se cae el uso de los datos, porque implica costes adicionales, rebasando las cantidades fijas de los paquetes. Solo unos cuantos usuarios consumen datos después de los 40 GB, por lo que valdría la pena indagar en sus necesidades de consumo. \n",
    "\n",
    "Podemos observar que el promedio de consumo mensual de datos en GB es similar en ambos planes. Los valores de las medianas de ambos planes son similares al promedio, lo que indica que el consumo está centrado en alrededor de los 17 GB. Los valores de las varianzas y las desviaciones estándar son muy similares en ambos planes, con una ligera tendencia a tener más variabilidad en el plan Surf. Entonces podemos concluir, que, basados en la cercanía de los valores de la media y la mediana, no hay diferencias sustanciales en el comportamiento de consumo de datos en ambos grupos. \n",
    "\n",
    "Los diagramas de caja y bigotes de cada plan, nos refuerzan lo que se comento en el párrafo anterior, la tendencia central del consumo es similar la valor de la mediana. Similitud en la forma de las cajas, ligeramente más grande en el plan Surf, lo que indica un mayor grado de dispersión de datos comparado al plan Ultimate, y que existen usuarios con mayores variaciones de consumos, mucho mayores y/o menores.  Los valores de los bigotes son casi idénticos, y finalmente, se observan algunos valores atípicos más alejados del bigote superior en el plan Surf, reforzando la idea una mayor dispersión en ese plan.\n"
   ]
  },
  {
   "cell_type": "markdown",
   "metadata": {
    "id": "tCijq3260q1N"
   },
   "source": [
    "## Ingreso"
   ]
  },
  {
   "cell_type": "code",
   "execution_count": 64,
   "metadata": {},
   "outputs": [
    {
     "data": {
      "image/png": "[encoded data removed]",
      "text/plain": [
       "<Figure size 800x500 with 1 Axes>"
      ]
     },
     "metadata": {},
     "output_type": "display_data"
    }
   ],
   "source": [
    "# Compara los ingresos promedio de cada plan y por cada mes. Traza un gráfico de barras para visualizarla.\n",
    "\n",
    "# Filtrar los datos por plan\n",
    "plan_surf = final_fusion[final_fusion[\"plan_name\"] == \"surf\"]\n",
    "plan_ultimate = final_fusion[final_fusion[\"plan_name\"] == \"ultimate\"]\n",
    "\n",
    "# Extraer la  información de los ingresos promedios por plan\n",
    "mean_income_surf = plan_surf.groupby(\"months\")[\"users_monthly_earnings\"].mean() \n",
    "mean_income_ultimate = plan_ultimate.groupby(\"months\")[\"users_monthly_earnings\"].mean() \n",
    "\n",
    "# Creación de un nuevo Dataframe que une la agrupación del cálculo de los ingresos promedio de cada plan\n",
    "compared_mean_earnings = pd.DataFrame({\n",
    "    \"Surf\" : mean_income_surf,\n",
    "    \"Ultimate\" : mean_income_ultimate\n",
    "})\n",
    "compared_mean_earnings = compared_mean_earnings.reset_index()\n",
    "# Reenombrar los datos de los meses de números a nombres.\n",
    "compared_mean_earnings[\"months\"] = compared_mean_earnings[\"months\"].replace({1 : \"January\", \n",
    "                                                               2 : \"February\", \n",
    "                                                               3 : \"March\", \n",
    "                                                               4 : \"April\",\n",
    "                                                               5 : \"May\",\n",
    "                                                               6 : \"June\",\n",
    "                                                               7 : \"July\",\n",
    "                                                               8 : \"August\",\n",
    "                                                               9 : \"September\",\n",
    "                                                               10 : \"October\",\n",
    "                                                               11 : \"November\",\n",
    "                                                               12 : \"December\"})\n",
    "# Código del gráfico de barras\n",
    "compared_mean_earnings.plot(kind=\"bar\",\n",
    "            x=\"months\",\n",
    "            title=\"Duración Promedio de Llamadas en Minutos por Plan y Mes\",\n",
    "            xlabel=\"Mes\",\n",
    "            ylabel=\"Número Promedio de Minutos\",\n",
    "            color=[\"purple\",\"gold\"],\n",
    "            rot=45,\n",
    "            figsize=[8,5])\n",
    "\n",
    "plt.legend([\"Surf\", \"Ultimate\"])\n",
    "plt.show()"
   ]
  },
  {
   "cell_type": "code",
   "execution_count": 65,
   "metadata": {
    "id": "tz-dq_V00q1O"
   },
   "outputs": [
    {
     "data": {
      "image/png": "[encoded data removed]",
      "text/plain": [
       "<Figure size 800x500 with 1 Axes>"
      ]
     },
     "metadata": {},
     "output_type": "display_data"
    }
   ],
   "source": [
    "# Compara los ingresos mensuales por plan\n",
    "\n",
    "# Filtrar los datos por plan\n",
    "plan_surf = final_fusion[final_fusion[\"plan_name\"] == \"surf\"]\n",
    "plan_ultimate = final_fusion[final_fusion[\"plan_name\"] == \"ultimate\"]\n",
    "\n",
    "# Código del histograma\n",
    "plt.figure(figsize=[8,5])\n",
    "\n",
    "plan_surf[\"users_monthly_earnings\"].plot(kind=\"hist\",\n",
    "                                                color=\"purple\",                                        \n",
    "                                                alpha=0.8,\n",
    "                                                bins=30)\n",
    "\n",
    "plan_ultimate[\"users_monthly_earnings\"].plot(kind=\"hist\",\n",
    "                                                    alpha=0.8,\n",
    "                                                    color=\"gold\",\n",
    "                                                    bins=30)\n",
    "plt.xlabel(\"Ingresos (USD)\")\n",
    "plt.ylabel(\"Frecuencia(Número de Usuarios)\")\n",
    "plt.title(\"Distribución de Ingresos Mensuales por Plan en Dólares\")\n",
    "plt.legend([\"Plan Surf\", \"Plan Ultimate\"])\n",
    "plt.show()\n"
   ]
  },
  {
   "cell_type": "code",
   "execution_count": 66,
   "metadata": {
    "id": "0Y1v8ZUz0q1P"
   },
   "outputs": [
    {
     "name": "stdout",
     "output_type": "stream",
     "text": [
      "Plan Surf\n",
      "La media del ingreso promedio del plan surf es: 60.706408137317226\n",
      "La varianza del ingreso promedio del plan surf es: 3065.8848438690247\n",
      "La desviación estándar del ingreso promedio del plan surf es: 55.37043293915106\n",
      "La mediana del ingreso promedio del plan surf es: 40.36\n",
      "\n",
      "Plan Ultimate\n",
      "La media del ingreso promedio del plan ultimate es: 72.31388888888888\n",
      "La varianza del ingreso promedio del plan ultimate es: 129.66814043209877\n",
      "La desviación estándar del ingreso promedio del plan ultimate es: 11.387191946748715\n",
      "La mediana del ingreso promedio del plan ultimate es: 70.0\n"
     ]
    }
   ],
   "source": [
    "# Calcula la media y la varianza de los ingresos mensuales por plan\n",
    "# También incluí el cálculo de la desviación estándar y la mediana\n",
    "\n",
    "# Filtrar los datos por plan\n",
    "plan_surf = final_fusion[final_fusion[\"plan_name\"] == \"surf\"]\n",
    "plan_ultimate = final_fusion[final_fusion[\"plan_name\"] == \"ultimate\"]\n",
    "\n",
    "# Extraer la información de los ingresos mensuales por plan\n",
    "income_surf = plan_surf[\"users_monthly_earnings\"]\n",
    "income_ultimate = plan_ultimate[\"users_monthly_earnings\"]\n",
    "\n",
    "# Obtener los cálculos del promedio de ingresos mensuales, varianza,desviación estándar y mediana    \n",
    "# del plan Surf\n",
    "mean_income_surf = income_surf.mean()\n",
    "var_income_surf = np.var(income_surf)\n",
    "sigma_income_surf = np.std(income_surf)\n",
    "mediam_income_surf = income_surf.median()\n",
    "\n",
    "# Obtener los cálculos del promedio de ingresos mensuales, varianza,desviación estándar y mediana  \n",
    "# del plan Ultimate\n",
    "mean_income_ultimate = income_ultimate.mean()\n",
    "var_income_ultimate = np.var(income_ultimate)\n",
    "sigma_income_ultimate = np.std(income_ultimate)\n",
    "mediam_income_ultimate = income_ultimate.median()\n",
    "\n",
    "# Imprimir los resultados de las medidas estadísticas\n",
    "print(\"Plan Surf\")\n",
    "print(\"La media del ingreso promedio del plan surf es:\", mean_income_surf)\n",
    "print(\"La varianza del ingreso promedio del plan surf es:\",var_income_surf)\n",
    "print(\"La desviación estándar del ingreso promedio del plan surf es:\",sigma_income_surf)\n",
    "print(\"La mediana del ingreso promedio del plan surf es:\",mediam_income_surf)\n",
    "print()\n",
    "print(\"Plan Ultimate\")\n",
    "print(\"La media del ingreso promedio del plan ultimate es:\",mean_income_ultimate)\n",
    "print(\"La varianza del ingreso promedio del plan ultimate es:\",var_income_ultimate)\n",
    "print(\"La desviación estándar del ingreso promedio del plan ultimate es:\",sigma_income_ultimate)\n",
    "print(\"La mediana del ingreso promedio del plan ultimate es:\",mediam_income_ultimate)\n"
   ]
  },
  {
   "cell_type": "code",
   "execution_count": 67,
   "metadata": {
    "id": "bYmwxyVh0q1P"
   },
   "outputs": [
    {
     "data": {
      "image/png": "[encoded data removed]",
      "text/plain": [
       "<Figure size 800x500 with 1 Axes>"
      ]
     },
     "metadata": {},
     "output_type": "display_data"
    }
   ],
   "source": [
    "# Traza un diagrama de caja para visualizar los ingresos mensuales por plan\n",
    "\n",
    "# Filtrar los datos por plan\n",
    "plan_surf = final_fusion[final_fusion[\"plan_name\"] == \"surf\"]\n",
    "plan_ultimate = final_fusion[final_fusion[\"plan_name\"] == \"ultimate\"]\n",
    "\n",
    "# Extraer la información de los ingresos mensuales por plan\n",
    "income_surf = plan_surf[\"users_monthly_earnings\"]\n",
    "income_ultimate = plan_ultimate[\"users_monthly_earnings\"]\n",
    "\n",
    "# Datos\n",
    "data_income = {\n",
    "    'Income': pd.concat([income_surf, income_ultimate], ignore_index=True),\n",
    "    'Plan': ['surf'] * len(income_surf) + ['ultimate'] * len(income_ultimate)\n",
    "}\n",
    "# Nuevo Dataframe\n",
    "compared_plan_income = pd.DataFrame(data_income)\n",
    "\n",
    "# Crear Gráfico\n",
    "plt.figure(figsize=[8,5])\n",
    "sns.boxplot(x=\"Plan\", y=\"Income\", data=compared_plan_income)\n",
    "plt.title(\"Distribución de los Ingresos Mensuales por Tipo de Plan\")\n",
    "plt.xlabel(\"Plan\")\n",
    "plt.ylabel(\"Ingresos (Dólares)\")\n",
    "\n",
    "plt.show()\n"
   ]
  },
  {
   "cell_type": "markdown",
   "metadata": {},
   "source": [
    "CONCLUSIONES SOBRE LOS INGRESOS MENSUALES\n",
    "\n",
    "Lo primero que salta a la vista al visualizar el histograma de ingresos es que en el plan Ultimate existe una alta concentración de usuarios en torno al ingreso de 70 dólares, lo que sugiere que muchos usuarios pagan la tarifa mensual de 70 dólares. Los puntos dispersos que se ven a la derecha en torno a ingresos alrededor de 100 dólares, indican usuarios con ingresos mayores, pero en menor cantidad. En el plan Surf se observa una distribución sesgada a la derecha, lo que puede indicar que los ingresos varían más entre los usuarios, con una tendencia central entre 20 y 40 dólares, disminuyendo los ingresos al rebasar los 40 dólares. Desde ese punto, los ingresos se siguen dispersando de manera notoria hasta casi 400 dólares, ya con la existencia de muy pocos usuarios. \n",
    "\n",
    "Resulta interesante lo que se desprende del análisis de las medidas estadísticas de los promedios de los ingresos mensuales de los planes, la desviación estándar y de las medianas. La media del plan Surf es mucho mayor que el pago fijo de 20 dólares, lo que indica que hay usuarios con ingresos mayores a ese valor. La mediana alrededor de 40 dólares está también por encima de la tarifa mensual del plan, lo que puede sugerir que muchos usuarios pagan un monto cercanos a esa cifra. La desviación estándar elevada confirma que existe una dispersión considerable de los ingresos, con presencia de valores atípicos extremos como los que se observan en el histograma cercanos a 400 dólares. \n",
    "\n",
    "Respecto al plan Ultimate, y al contrario del plan Surf, el promedio y la mediana están muy cercanas al pago de la tarifa mensual de 70 dólares, lo que indica que la mayoría de los usuarios pagan esa cantidad o alguna cantidad cercana a ese umbral. La varianza y la desviación estándar mucho menores en comparación con el plan Surf, reflejan una distribución más concentrada alrededor de la tarifa mensual, sin tantos valores atípicos. \n",
    "\n",
    "Todo lo observado anteriormente, se visualiza con claridad en el diagrama de caja y bigotes. Se notan la notable dispersión de los ingresos mensuales en el plan Surf, los valores atípicos marcados, y una caja visiblemente más grande. Para el caso, del plan Ultimate todo se concentra a la mediana de 70 dólares de la tarifa mensual, y lo más interesante, es que no existe una caja, ni bigotes. Solo se notan algunos ingresos alrededor de 100 dólares. \n",
    "\n",
    "En conclusión, el plan Ultimate genera ligeramente más ingresos mensuales por usuario (72.31 dólares) que el plan Surf (60.71) dólares. El gráfico de barras ayuda a ratificar la anterior aseveración, ya que se visualizan los ingresos promedio por plan por mes durante el 2018, demostrando que el ingreso promedio del plan Ultimate es mayor que el del plan Surf en todos los meses, pero se concentra alrededor del nivel de 70 dólares de la tarifa mensual del plan en todos los meses, esto implica que en la mayoría de los casos, los usuarios no presentan consumos excedentes.  El plan Surf tiene una mayor dispersión y algunos usuarios con ingresos mucho mayores. \n"
   ]
  },
  {
   "cell_type": "markdown",
   "metadata": {},
   "source": [
    "<div class=\"alert alert-block alert-success\">\n",
    "<b>Comentario revisor</b> <a class=\"tocSkip\"></a>\n",
    "\n",
    " Muy buena prática la de usar distintos tipos de gráficas identificar algunos hallazgos y llegar a conclusiones\n",
    "</div>"
   ]
  },
  {
   "cell_type": "markdown",
   "metadata": {
    "id": "ajJ7VKeI0q1Q"
   },
   "source": [
    "## Prueba las hipótesis estadísticas"
   ]
  },
  {
   "cell_type": "code",
   "execution_count": 68,
   "metadata": {},
   "outputs": [
    {
     "name": "stdout",
     "output_type": "stream",
     "text": [
      "Hipótesis sobre los ingresos promedios de los planes Ultimate y Surf\n",
      "\n",
      "Hipótesis Nula(H₀): Los ingresos promedio procedentes de los usuarios de los planes de llamada\n",
      "Ultimate y Surf son iguales.\n",
      "\n",
      "Hipótesis Alternativa(H₁): los ingresos promedio procedentes de los usuarios de los planes de\n",
      "llamada Ultimate y Surf son diferentes.\n",
      "\n",
      "Prueba Seleccionada: Igualdad de las medias de dos poblaciones de dos colas. Se selecciona esta\n",
      "prueba estadística ya que el objetivo es determinar si hay alguna diferencia en los promedios de\n",
      "los ingresos de los planes sin especificar si es mayor o menor.\n",
      "\n",
      "Valor alpha = 0.05\n"
     ]
    }
   ],
   "source": [
    "# Hipótesis sobre los ingresos promedios de los planes Ultimate y Surf\n",
    "\n",
    "print(\"Hipótesis sobre los ingresos promedios de los planes Ultimate y Surf\")\n",
    "# Hipótesis Nula\n",
    "print()\n",
    "print(\"Hipótesis Nula(H₀): Los ingresos promedio procedentes de los usuarios de los planes de llamada\\nUltimate y Surf son iguales.\")\n",
    "print()\n",
    "# Hipótesis Alternativa\n",
    "print(\"Hipótesis Alternativa(H₁): los ingresos promedio procedentes de los usuarios de los planes de\\nllamada Ultimate y Surf son diferentes.\")\n",
    "print()\n",
    "# Prueba Estadística Seleccionada\n",
    "print(\"Prueba Seleccionada: Igualdad de las medias de dos poblaciones de dos colas. Se selecciona esta\\nprueba estadística ya que el objetivo es determinar si hay alguna diferencia en los promedios de\\nlos ingresos de los planes sin especificar si es mayor o menor.\")\n",
    "print()\n",
    "# Determinar el valor Alfa\n",
    "print(\"Valor alpha = 0.05\")"
   ]
  },
  {
   "cell_type": "markdown",
   "metadata": {},
   "source": [
    "FORMULACION DE LAS HIPOTESIS RESPECTO AL PROMEDIO DE LOS INGRESOS DE LOS PLANES SURF Y ULTIMATE\n",
    "\n",
    "La formulación de mis hipótesis anteriores se basan en que la práctica común, la hipótesis nula plantea una afirmación que se asume verdadera al principio, generalmente, expresa que no hay cambios en lo que se busca comprobar. Por lo tanto, como el planteamiento nos indca comprobar si hay diferencia en los ingresos promedio de los planes Surf y Ultimate. La Hipótesis nula se plantea que no hay diferencias y la hipótesis alternativa que si existen diferencias, ya que es el escenario que queremos comprobar. "
   ]
  },
  {
   "cell_type": "code",
   "execution_count": 69,
   "metadata": {
    "id": "nFoPNlPq0q1R"
   },
   "outputs": [
    {
     "name": "stdout",
     "output_type": "stream",
     "text": [
      "valor p:  3.1703905481135734e-15\n",
      "Rechazamos la hipótesis nula\n"
     ]
    }
   ],
   "source": [
    "# Prueba las hipótesis\n",
    "\n",
    "# Filtrar los datos por plan\n",
    "plan_surf = final_fusion[final_fusion[\"plan_name\"] == \"surf\"]\n",
    "plan_ultimate = final_fusion[final_fusion[\"plan_name\"] == \"ultimate\"]\n",
    "# Extraer los ingresos por plan\n",
    "income_surf = plan_surf[\"users_monthly_earnings\"]\n",
    "income_ultimate = plan_ultimate[\"users_monthly_earnings\"]\n",
    "# Prueba Estadística\n",
    "alpha = 0.05\n",
    "results = st.ttest_ind(income_surf, income_ultimate, equal_var=False)\n",
    "print(\"valor p: \", results.pvalue)\n",
    "if results.pvalue < alpha:\n",
    "    print(\"Rechazamos la hipótesis nula\")\n",
    "else:\n",
    "    print(\"No rechazamos la hipótesis nula\")\n"
   ]
  },
  {
   "cell_type": "code",
   "execution_count": 70,
   "metadata": {},
   "outputs": [
    {
     "name": "stdout",
     "output_type": "stream",
     "text": [
      "Hipótesis sobre los ingresos promedios de usuarios en el área de NY/NJ respecto a otras regiones \n",
      "\n",
      "Hipótesis Nula(H₀): Los ingresos promedio de los usuarios en el área de NY/NJ son iguales respecto al de otras regiones.\n",
      "\n",
      "Hipótesis Alternativa(H₁): los ingresos promedio de los usuarios en el área de NY/NJ son\n",
      "diferentes respecto al de otras regiones.\n",
      "\n",
      "Prueba Seleccionada: Igualdad de las medias de dos poblaciones de dos colas. Se selecciona esta\n",
      "prueba estadística ya que el objetivo es determinar si hay alguna diferencia en los promedios de\n",
      "los ingresos de los planes sin especificar si es mayor o menor.\n",
      "\n",
      "Valor alpha = 0.05\n"
     ]
    }
   ],
   "source": [
    "# Hipótesis sobre los ingresos promedios de usuarios en el área de NY/NJ respecto a otras regiones\n",
    "\n",
    "print(\"Hipótesis sobre los ingresos promedios de usuarios en el área de NY/NJ respecto a otras regiones \")\n",
    "# Hipótesis Nula\n",
    "print()\n",
    "print(\"Hipótesis Nula(H₀): Los ingresos promedio de los usuarios en el área de NY/NJ son iguales respecto al de otras regiones.\")\n",
    "print()\n",
    "# Hipótesis Alternativa\n",
    "print(\"Hipótesis Alternativa(H₁): los ingresos promedio de los usuarios en el área de NY/NJ son\\ndiferentes respecto al de otras regiones.\")\n",
    "print()\n",
    "# Prueba Estadística Seleccionada\n",
    "print(\"Prueba Seleccionada: Igualdad de las medias de dos poblaciones de dos colas. Se selecciona esta\\nprueba estadística ya que el objetivo es determinar si hay alguna diferencia en los promedios de\\nlos ingresos de los planes sin especificar si es mayor o menor.\")\n",
    "print()\n",
    "# Determinar el valor Alfa\n",
    "print(\"Valor alpha = 0.05\")"
   ]
  },
  {
   "cell_type": "markdown",
   "metadata": {},
   "source": [
    "<div class=\"alert alert-block alert-success\">\n",
    "<b>Comentario revisor</b> <a class=\"tocSkip\"></a>\n",
    "\n",
    "Excelente trabajo con el desarrollo de las pruebas de hipótesis. Solamente en futuras ocasiones te recomiendo considerar realizar la prueba de levene para mostrar el supuesto de varianzas iguales. "
   ]
  },
  {
   "cell_type": "markdown",
   "metadata": {},
   "source": [
    "FORMULACION DE LAS HIPOTESIS RESPECTO AL PROMEDIO DE LOS INGRESOS DE LOS USUARIOS DE LA REGION DE NUEVA YORK/NUEVA JERSEY EN COMPARACION CON OTRAS REGIONES DEL PAIS.\n",
    "\n",
    "La formulación de mis hipótesis anteriores se basan en que la práctica común, la hipótesis nula plantea una afirmación que se asume verdadera al principio, generalmente, expresa que no hay cambios en lo que se busca comprobar. Por lo tanto, como el planteamiento nos indca comprobar si hay diferencia en los ingresos promedio de los usuarios del área de Nueva York/Nueva jersey respecto a otras regiones. La Hipótesis nula se plantea que no hay diferencias y la hipótesis alternativa que si existen diferencias, ya que es el escenario que queremos comprobar. "
   ]
  },
  {
   "cell_type": "code",
   "execution_count": 71,
   "metadata": {
    "id": "Cqcj7wrZ0q1S"
   },
   "outputs": [
    {
     "name": "stdout",
     "output_type": "stream",
     "text": [
      "valor p:  0.0335256158853001\n",
      "Rechazamos la hipótesis nula\n"
     ]
    }
   ],
   "source": [
    "# Prueba las hipótesis\n",
    "\n",
    "# Filtrar los datos por regiones\n",
    "users_ny = final_fusion[final_fusion[\"city\"] == \"New York-Newark-Jersey City, NY-NJ-PA MSA\"]\n",
    "users_other_cities = final_fusion[final_fusion[\"city\"] != \"New York-Newark-Jersey City, NY-NJ-PA MSA\"]\n",
    "# Extraer los ingresos por regiones\n",
    "income_ny = users_ny[\"users_monthly_earnings\"]\n",
    "income_others = users_other_cities[\"users_monthly_earnings\"]\n",
    "#Prueba Estadística\n",
    "alpha = 0.05\n",
    "results = st.ttest_ind(income_ny, income_others, equal_var=False)\n",
    "print(\"valor p: \", results.pvalue)\n",
    "if results.pvalue < alpha:\n",
    "    print(\"Rechazamos la hipótesis nula\")\n",
    "else:\n",
    "    print(\"No rechazamos la hipótesis nula\")\n"
   ]
  },
  {
   "cell_type": "code",
   "execution_count": 73,
   "metadata": {},
   "outputs": [
    {
     "data": {
      "image/png": "[encoded data removed]",
      "text/plain": [
       "<Figure size 800x500 with 1 Axes>"
      ]
     },
     "metadata": {},
     "output_type": "display_data"
    }
   ],
   "source": [
    "# Compara los ingresos promedio de cada región y por cada mes. Traza un gráfico de barras para visualizarla.\n",
    "\n",
    "# Filtrar los datos por regiones\n",
    "users_ny = final_fusion[final_fusion[\"city\"] == \"New York-Newark-Jersey City, NY-NJ-PA MSA\"]\n",
    "users_other_cities = final_fusion[final_fusion[\"city\"] != \"New York-Newark-Jersey City, NY-NJ-PA MSA\"]\n",
    "\n",
    "# Extraer la  información de los ingresos promedios por región\n",
    "mean_income_ny = users_ny.groupby(\"months\")[\"users_monthly_earnings\"].mean()\n",
    "mean_income_others = users_other_cities.groupby(\"months\")[\"users_monthly_earnings\"].mean()\n",
    "\n",
    "# Creación de un nuevo Dataframe que une la agrupación del cálculo de los ingresos promedio de cada región\n",
    "compared_mean_regions = pd.DataFrame({\n",
    "    \"ny/nj\" : mean_income_ny,\n",
    "    \"other_regions\" : mean_income_others\n",
    "})\n",
    "compared_mean_regions = compared_mean_regions.reset_index()\n",
    "# Reenombrar los datos de los meses de números a nombres.\n",
    "compared_mean_regions[\"months\"] = compared_mean_regions[\"months\"].replace({1 : \"January\",\n",
    "                                                               2 : \"February\",\n",
    "                                                               3 : \"March\",\n",
    "                                                               4 : \"April\",\n",
    "                                                               5 : \"May\",\n",
    "                                                               6 : \"June\",\n",
    "                                                               7 : \"July\",\n",
    "                                                               8 : \"August\",\n",
    "                                                               9 : \"September\",\n",
    "                                                               10 : \"October\",\n",
    "                                                               11 : \"November\",\n",
    "                                                               12 : \"December\"})\n",
    "# Código del gráfico de barras\n",
    "compared_mean_regions.plot(kind=\"bar\",\n",
    "            x=\"months\",\n",
    "            title=\"Comparativo de Ingreos Promedios por Regiones y Mes\",\n",
    "            xlabel=\"Mes\",\n",
    "            ylabel=\"Promedio de Ingresos en USD\",\n",
    "            color=[\"purple\",\"gold\"],\n",
    "            rot=45,\n",
    "            figsize=[8,5])\n",
    "\n",
    "plt.legend([\"Area NY/NJ\", \"Otras Regiones\"])\n",
    "plt.show()"
   ]
  },
  {
   "cell_type": "code",
   "execution_count": 72,
   "metadata": {},
   "outputs": [
    {
     "name": "stdout",
     "output_type": "stream",
     "text": [
      "Area NY/NJ\n",
      "La media del ingreso promedio de la región NY/NJ es: 59.921352785145885\n",
      "La varianza del ingreso promedio de la región NY/NJ es: 1890.5177172681156\n",
      "La desviación estándar del ingreso promedio de la región NY/NJ es: 43.4800841451361\n",
      "La mediana del ingreso promedio de la región NY/NJ es: 51.769999999999996\n",
      "\n",
      "Otras Regiones\n",
      "La media del ingreso promedio de otras regiones es: 65.2227713987474\n",
      "La varianza del ingreso promedio de otras regiones es: 2223.8866958162175\n",
      "La desviación estándar del ingreso promedio de otras regiones es: 47.15810318297607\n",
      "La mediana del ingreso del promedio de otras regiones es: 70.0\n"
     ]
    }
   ],
   "source": [
    "# Calcula la media y la varianza de los ingresos por regiones NY/NJ, y las otras regiones.\n",
    "# También incluí el cálculo de la desviación estándar y la mediana\n",
    "\n",
    "# Filtrar los datos por regiones\n",
    "users_ny = final_fusion[final_fusion[\"city\"] == \"New York-Newark-Jersey City, NY-NJ-PA MSA\"]\n",
    "users_other_cities = final_fusion[final_fusion[\"city\"] != \"New York-Newark-Jersey City, NY-NJ-PA MSA\"]\n",
    "\n",
    "# Extraer los ingresos por regiones\n",
    "income_ny = users_ny[\"users_monthly_earnings\"]\n",
    "income_others = users_other_cities[\"users_monthly_earnings\"]\n",
    "\n",
    "# Obtener los cálculos del promedio de ingresos mensuales, varianza, desviación estándar y mediana  \n",
    "# del área NY/NJ\n",
    "mean_income_ny = income_ny.mean()\n",
    "var_income_ny = np.var(income_ny)\n",
    "sigma_income_ny = np.std(income_ny)\n",
    "mediam_income_ny = income_ny.median()\n",
    "\n",
    "# Obtener los cálculos del promedio de ingresos mensuales, varianza, desviación estándar y mediana  \n",
    "# de las otras áreas\n",
    "mean_income_others = income_others.mean()\n",
    "var_income_others = np.var(income_others)\n",
    "sigma_income_others = np.std(income_others)\n",
    "mediam_income_others = income_others.median()\n",
    "\n",
    "# Imprimir los resultados de las medidas estadísticas\n",
    "print(\"Area NY/NJ\")\n",
    "print(\"La media del ingreso promedio de la región NY/NJ es:\", mean_income_ny)\n",
    "print(\"La varianza del ingreso promedio de la región NY/NJ es:\",var_income_ny)\n",
    "print(\"La desviación estándar del ingreso promedio de la región NY/NJ es:\",sigma_income_ny)\n",
    "print(\"La mediana del ingreso promedio de la región NY/NJ es:\",mediam_income_ny)\n",
    "print()\n",
    "print(\"Otras Regiones\")\n",
    "print(\"La media del ingreso promedio de otras regiones es:\",mean_income_others)\n",
    "print(\"La varianza del ingreso promedio de otras regiones es:\",var_income_others)\n",
    "print(\"La desviación estándar del ingreso promedio de otras regiones es:\",sigma_income_others)\n",
    "print(\"La mediana del ingreso del promedio de otras regiones es:\",mediam_income_others)\n"
   ]
  },
  {
   "cell_type": "code",
   "execution_count": 74,
   "metadata": {},
   "outputs": [
    {
     "data": {
      "image/png": "[encoded data removed]",
      "text/plain": [
       "<Figure size 800x500 with 1 Axes>"
      ]
     },
     "metadata": {},
     "output_type": "display_data"
    }
   ],
   "source": [
    "# Compara los ingresos por la región de NY/NJ y las otras regiones\n",
    "users_ny = final_fusion[final_fusion[\"city\"] == \"New York-Newark-Jersey City, NY-NJ-PA MSA\"]\n",
    "users_other_cities = final_fusion[final_fusion[\"city\"] != \"New York-Newark-Jersey City, NY-NJ-PA MSA\"]\n",
    "\n",
    "# Código del histograma\n",
    "plt.figure(figsize=[8,5])\n",
    "\n",
    "users_ny[\"users_monthly_earnings\"].plot(kind=\"hist\",\n",
    "                                                color=\"black\",\n",
    "                                                alpha=0.9,\n",
    "                                                bins=[15, 30, 45, 60, 75, 90, 105, 120, 135, 150, 165, 180, 195, 210, 225, 240, 255, 270, 285, 300])\n",
    "users_other_cities[\"users_monthly_earnings\"].plot(kind=\"hist\",\n",
    "                                                    alpha=0.5,\n",
    "                                                    color=\"gold\",\n",
    "                                                    bins=[15, 30, 45, 60, 75, 90, 105, 120, 135, 150, 165, 180, 195, 210, 225, 240, 255, 270, 285, 300])\n",
    "plt.xlabel(\"Ingresos (USD)\")\n",
    "plt.ylabel(\"Frecuencia(Número de Usuarios)\")\n",
    "plt.title(\"Distribución de Ingresos por Región de NY/NJ y el Resto de Regiones\")\n",
    "plt.legend([\"Región NY/NJ\", \"Resto de Regiones\"])\n",
    "plt.show()"
   ]
  },
  {
   "cell_type": "markdown",
   "metadata": {
    "id": "bbTR8UQO0q1T"
   },
   "source": [
    "## Conclusión general\n",
    "\n"
   ]
  },
  {
   "cell_type": "markdown",
   "metadata": {},
   "source": [
    "\n",
    "\n",
    "Al realizar las pruebas estadísticas de las hipótesis planteadas, podemos decir que, en el caso de la primera hipótesis, al ser el valor p mucho menor que 0.05, tenemos suficiente evidencia estadística para rechazar la hipótesis nula y concluir que los ingresos promedio por usuario difieren significativamente entre los dos planes. \n",
    "\n",
    "La diferencia de medias no es producto del azar, esto es, que el promedio de ingresos del plan Ultimate (72.31 USD) es mayor que la del plan Surf (60.71). Entonces, en base a esa diferencia, podemos concluir que los usuarios del plan Ultimate generan en promedio más ingresos que los usuarios del plan Surf. La diferencia significativa en ingresos promedio sugiere que el plan Ultimate puede ser más rentable para Megaline. Sin embargo, se debe tener cuidado en evaluar otros factores, como el número de clientes en cada plan, o si esta tendencia se mantiene con usuarios en ciertas regiones.\n",
    "\n",
    "Respecto a la segunda hipótesis, que plantea si existen diferencias entre el área de Nueva York/Nueva Jersey (NY/NJ) respecto al resto de regiones (p=.0335). Los resultados muestran que hay una diferencia estadísticamente significativa en los ingresos promedio entre los usuarios del área de NY/NJ (59.92) y los de las otras regiones (65.22), por lo que se rechaza la hipótesis nula. \n",
    "\n",
    "El valor de la mediana es menor en el área de NY/NJ (alrededor de 51 dólares), respecto a la mediana a la de otras regiones que es alrededor de 70 dólares, lo que indicaría que la mayoría de los ingresos en NY/NJ tienden a ser más bajos que otras regiones, reflejando variaciones socioeconómicas o demográficas entre las regiones, lo que puede tener un impacto relevante en la toma de decisiones comerciales regionales para Megaline. Adicionalmente, se puede asumir, que las otras regiones tienden a comsumir el plan Ultimate, debido a que el valor de la mediana es cercano a 70 dólares, esta situación se puede observar claramente en los gráficos de barras, donde las barras mensuales  tienden a acercarse al valor de 70 dólares de ingreso promedio, y en el histograma, se visualiza como se concentran la mayor parte de los usuarios en el intervalo cercano a 70 dólares.\n",
    "\n",
    "En conclusión, podemos determinar que el plan Ultimate es el que genera más ingresos, y que otras regiones del país que no sean la de NY/NJ pueden representar mejores oportunidades de negocio para Megaline. Yo recomendaría a la empresa que revisará que tipo de estrategias comerciales y planes de mercadotecnia/publicidad están llevando a cabo en la región de NY/NJ, ya que es demostrado ser una de las áreas con mayores ingreso per cápita en el país, y resulta contradictorio con los resultados obtenidos del análisis, relacionados a los datos asociados a los promedios de ingresos de las regiones.\n",
    "\n",
    "Estos hallazgos resaltan la importancia de que Megaline considere estos patrones y diferencias en sus estrategias comerciales y de marketing. Por ejemplo, la mayor dispersión en los ingresos y el comportamiento de uso en ciertas regiones sugieren que podrían beneficiarse de campañas segmentadas y ofertas personalizadas para maximizar la rentabilidad. Además, la tendencia de menor uso de ciertos servicios, como los mensajes, indica oportunidades para incentivar su uso o promover paquetes que los incluyan.\n"
   ]
  },
  {
   "cell_type": "code",
   "execution_count": null,
   "metadata": {},
   "outputs": [],
   "source": []
  }
 ],
 "metadata": {
  "ExecuteTimeLog": [
   {
    "duration": 828,
    "start_time": "2021-11-16T09:21:11.304Z"
   },
   {
    "duration": 893,
    "start_time": "2021-11-16T09:21:17.728Z"
   },
   {
    "duration": 1150,
    "start_time": "2021-11-16T09:21:29.568Z"
   },
   {
    "duration": 3,
    "start_time": "2021-11-16T09:24:14.495Z"
   },
   {
    "duration": 120,
    "start_time": "2021-11-16T09:24:46.630Z"
   },
   {
    "duration": 3,
    "start_time": "2021-11-16T09:28:27.882Z"
   },
   {
    "duration": 4,
    "start_time": "2021-11-16T09:29:54.281Z"
   },
   {
    "duration": 3,
    "start_time": "2021-11-16T09:30:45.936Z"
   },
   {
    "duration": 4,
    "start_time": "2021-11-16T09:31:06.300Z"
   },
   {
    "duration": 113,
    "start_time": "2021-11-16T09:31:37.208Z"
   },
   {
    "duration": 143,
    "start_time": "2021-11-16T09:31:48.656Z"
   },
   {
    "duration": 98,
    "start_time": "2021-11-16T09:31:55.678Z"
   },
   {
    "duration": 3,
    "start_time": "2021-11-16T09:32:08.535Z"
   },
   {
    "duration": 111,
    "start_time": "2021-11-16T09:32:10.120Z"
   },
   {
    "duration": 3,
    "start_time": "2021-11-16T09:32:15.732Z"
   },
   {
    "duration": 4,
    "start_time": "2021-11-16T09:32:29.423Z"
   },
   {
    "duration": 3,
    "start_time": "2021-11-16T10:03:03.074Z"
   },
   {
    "duration": 3,
    "start_time": "2021-11-16T10:10:01.288Z"
   },
   {
    "duration": 3,
    "start_time": "2021-11-16T10:10:46.923Z"
   },
   {
    "duration": 121,
    "start_time": "2021-11-16T10:37:46.494Z"
   },
   {
    "duration": 125,
    "start_time": "2021-11-16T10:38:20.632Z"
   },
   {
    "duration": 112,
    "start_time": "2021-11-16T10:46:53.001Z"
   },
   {
    "duration": 110,
    "start_time": "2021-11-16T10:48:25.775Z"
   },
   {
    "duration": 3,
    "start_time": "2021-11-16T10:50:18.720Z"
   },
   {
    "duration": 4,
    "start_time": "2021-11-16T10:50:37.649Z"
   },
   {
    "duration": 2,
    "start_time": "2021-11-16T10:50:51.884Z"
   },
   {
    "duration": 3,
    "start_time": "2021-11-16T10:51:56.237Z"
   },
   {
    "duration": 101,
    "start_time": "2021-11-16T10:53:13.791Z"
   },
   {
    "duration": 3,
    "start_time": "2021-11-16T10:55:59.186Z"
   },
   {
    "duration": 3,
    "start_time": "2021-11-16T10:56:10.751Z"
   },
   {
    "duration": 3,
    "start_time": "2021-11-16T10:56:49.038Z"
   },
   {
    "duration": 3,
    "start_time": "2021-11-16T10:56:49.174Z"
   },
   {
    "duration": 4,
    "start_time": "2021-11-16T10:56:49.414Z"
   },
   {
    "duration": 3,
    "start_time": "2021-11-16T10:56:49.680Z"
   },
   {
    "duration": 3,
    "start_time": "2021-11-16T10:56:50.370Z"
   },
   {
    "duration": 114,
    "start_time": "2021-11-16T10:59:34.518Z"
   },
   {
    "duration": 3,
    "start_time": "2021-11-16T11:01:41.201Z"
   },
   {
    "duration": 116,
    "start_time": "2021-11-16T11:01:48.754Z"
   },
   {
    "duration": 3,
    "start_time": "2021-11-16T11:02:16.685Z"
   },
   {
    "duration": 3,
    "start_time": "2021-11-16T11:02:19.479Z"
   },
   {
    "duration": 3,
    "start_time": "2021-11-16T11:02:47.067Z"
   },
   {
    "duration": 3,
    "start_time": "2021-11-16T11:02:49.353Z"
   },
   {
    "duration": 3,
    "start_time": "2021-11-16T11:03:07.835Z"
   },
   {
    "duration": 3,
    "start_time": "2021-11-16T11:03:07.953Z"
   },
   {
    "duration": 112,
    "start_time": "2021-11-16T11:07:52.072Z"
   },
   {
    "duration": 187,
    "start_time": "2021-11-16T11:09:23.468Z"
   },
   {
    "duration": 4,
    "start_time": "2021-11-16T11:10:01.455Z"
   },
   {
    "duration": 3,
    "start_time": "2021-11-16T11:10:05.069Z"
   },
   {
    "duration": 4,
    "start_time": "2021-11-16T11:10:13.376Z"
   },
   {
    "duration": 3,
    "start_time": "2021-11-16T11:10:14.434Z"
   },
   {
    "duration": 3,
    "start_time": "2021-11-16T11:10:22.853Z"
   },
   {
    "duration": 4,
    "start_time": "2021-11-16T11:27:29.279Z"
   },
   {
    "duration": 4,
    "start_time": "2021-11-16T11:29:08.919Z"
   },
   {
    "duration": 118,
    "start_time": "2021-11-16T11:29:46.703Z"
   },
   {
    "duration": 437,
    "start_time": "2021-11-16T11:36:02.181Z"
   },
   {
    "duration": 157,
    "start_time": "2021-11-16T11:36:14.388Z"
   },
   {
    "duration": 207,
    "start_time": "2021-11-16T11:47:15.898Z"
   },
   {
    "duration": 3,
    "start_time": "2021-11-16T11:53:52.092Z"
   },
   {
    "duration": 3,
    "start_time": "2021-11-16T11:53:52.236Z"
   },
   {
    "duration": 3,
    "start_time": "2021-11-16T11:59:12.005Z"
   },
   {
    "duration": 112,
    "start_time": "2021-11-16T12:00:33.446Z"
   },
   {
    "duration": 3,
    "start_time": "2021-11-16T12:02:14.453Z"
   },
   {
    "duration": 3,
    "start_time": "2021-11-16T12:02:39.512Z"
   },
   {
    "duration": 106,
    "start_time": "2021-11-16T12:03:03.460Z"
   },
   {
    "duration": 3,
    "start_time": "2021-11-17T20:37:21.139Z"
   },
   {
    "duration": 3,
    "start_time": "2021-11-17T20:37:22.229Z"
   },
   {
    "duration": 3,
    "start_time": "2021-11-17T20:38:38.806Z"
   },
   {
    "duration": 3,
    "start_time": "2021-11-17T20:38:41.958Z"
   },
   {
    "duration": 3,
    "start_time": "2021-11-17T20:43:46.551Z"
   },
   {
    "duration": 4,
    "start_time": "2021-11-17T20:58:21.835Z"
   },
   {
    "duration": 3,
    "start_time": "2021-11-17T20:59:21.872Z"
   },
   {
    "duration": 4,
    "start_time": "2021-11-17T20:59:45.352Z"
   },
   {
    "duration": 4,
    "start_time": "2021-11-17T20:59:49.646Z"
   },
   {
    "duration": 159,
    "start_time": "2021-11-17T21:02:26.949Z"
   },
   {
    "duration": 3,
    "start_time": "2021-11-17T21:03:53.461Z"
   },
   {
    "duration": 3,
    "start_time": "2021-11-17T21:03:53.694Z"
   },
   {
    "duration": 3,
    "start_time": "2021-11-17T21:05:28.145Z"
   },
   {
    "duration": 116,
    "start_time": "2021-11-17T21:05:57.787Z"
   },
   {
    "duration": 3,
    "start_time": "2021-11-17T21:06:37.993Z"
   },
   {
    "duration": 3,
    "start_time": "2021-11-17T21:06:38.261Z"
   },
   {
    "duration": 3,
    "start_time": "2021-11-17T21:11:54.358Z"
   },
   {
    "duration": 3,
    "start_time": "2021-11-17T21:12:43.846Z"
   },
   {
    "duration": 4,
    "start_time": "2021-11-17T21:13:08.773Z"
   },
   {
    "duration": 3,
    "start_time": "2021-11-17T21:14:44.441Z"
   },
   {
    "duration": 3,
    "start_time": "2021-11-17T21:15:42.059Z"
   },
   {
    "duration": 4,
    "start_time": "2021-11-17T21:15:51.995Z"
   },
   {
    "duration": 3,
    "start_time": "2021-11-17T21:15:53.923Z"
   },
   {
    "duration": 3,
    "start_time": "2021-11-17T21:15:55.282Z"
   },
   {
    "duration": 3,
    "start_time": "2021-11-17T21:16:28.492Z"
   },
   {
    "duration": 3,
    "start_time": "2021-11-17T21:16:32.603Z"
   },
   {
    "duration": 3,
    "start_time": "2021-11-17T21:17:06.941Z"
   },
   {
    "duration": 98,
    "start_time": "2021-11-17T21:18:05.733Z"
   },
   {
    "duration": 4,
    "start_time": "2021-11-17T21:21:35.255Z"
   },
   {
    "duration": 3,
    "start_time": "2021-11-17T21:21:37.804Z"
   },
   {
    "duration": 4,
    "start_time": "2021-11-17T21:23:06.071Z"
   },
   {
    "duration": 3,
    "start_time": "2021-11-17T21:23:24.799Z"
   },
   {
    "duration": 3,
    "start_time": "2021-11-17T21:23:32.591Z"
   },
   {
    "duration": 98,
    "start_time": "2021-11-17T21:28:31.559Z"
   },
   {
    "duration": 3,
    "start_time": "2021-11-17T21:28:45.448Z"
   },
   {
    "duration": 3,
    "start_time": "2021-11-17T21:29:17.303Z"
   },
   {
    "duration": 3,
    "start_time": "2021-11-17T21:29:29.617Z"
   },
   {
    "duration": 3,
    "start_time": "2021-11-17T21:29:32.681Z"
   },
   {
    "duration": 3,
    "start_time": "2021-11-17T21:36:11.474Z"
   },
   {
    "duration": 3,
    "start_time": "2021-11-17T21:36:14.791Z"
   },
   {
    "duration": 3,
    "start_time": "2021-11-17T21:36:53.943Z"
   },
   {
    "duration": 3,
    "start_time": "2021-11-17T21:36:56.165Z"
   },
   {
    "duration": 4,
    "start_time": "2021-11-17T21:37:16.590Z"
   },
   {
    "duration": 3,
    "start_time": "2021-11-17T21:37:22.702Z"
   },
   {
    "duration": 4,
    "start_time": "2021-11-17T21:38:03.479Z"
   },
   {
    "duration": 3,
    "start_time": "2021-11-17T21:38:08.601Z"
   },
   {
    "duration": 3,
    "start_time": "2021-11-17T21:38:12.928Z"
   },
   {
    "duration": 3,
    "start_time": "2021-11-17T21:38:48.896Z"
   },
   {
    "duration": 2,
    "start_time": "2021-11-17T21:38:49.171Z"
   },
   {
    "duration": 4,
    "start_time": "2021-11-17T21:39:57.889Z"
   },
   {
    "duration": 3,
    "start_time": "2021-11-17T21:39:58.057Z"
   },
   {
    "duration": 3,
    "start_time": "2021-11-17T21:41:20.108Z"
   },
   {
    "duration": 3,
    "start_time": "2021-11-17T21:41:20.629Z"
   },
   {
    "duration": 3,
    "start_time": "2021-11-17T21:42:49.136Z"
   },
   {
    "duration": 3,
    "start_time": "2021-11-17T21:43:15.137Z"
   },
   {
    "duration": 4,
    "start_time": "2021-11-17T21:43:16.766Z"
   },
   {
    "duration": 4,
    "start_time": "2021-11-17T21:43:31.711Z"
   },
   {
    "duration": 3,
    "start_time": "2021-11-17T21:43:36.312Z"
   },
   {
    "duration": 4,
    "start_time": "2021-11-17T21:45:08.825Z"
   },
   {
    "duration": 4,
    "start_time": "2021-11-17T21:45:10.119Z"
   },
   {
    "duration": 4,
    "start_time": "2021-11-17T21:45:13.748Z"
   },
   {
    "duration": 3,
    "start_time": "2021-11-17T21:45:22.219Z"
   },
   {
    "duration": 3,
    "start_time": "2021-11-17T21:45:33.412Z"
   },
   {
    "duration": 2,
    "start_time": "2021-11-17T21:46:01.885Z"
   },
   {
    "duration": 3,
    "start_time": "2021-11-17T21:46:03.628Z"
   },
   {
    "duration": 107,
    "start_time": "2021-11-17T21:47:32.512Z"
   },
   {
    "duration": 103,
    "start_time": "2021-11-17T21:50:36.243Z"
   },
   {
    "duration": 3,
    "start_time": "2021-11-18T06:28:31.440Z"
   },
   {
    "duration": 3,
    "start_time": "2021-11-18T06:29:00.168Z"
   },
   {
    "duration": 3,
    "start_time": "2021-11-18T06:31:27.008Z"
   },
   {
    "duration": 2,
    "start_time": "2021-11-18T06:35:34.288Z"
   },
   {
    "duration": 2,
    "start_time": "2021-11-18T06:38:04.527Z"
   }
  ],
  "colab": {
   "provenance": []
  },
  "kernelspec": {
   "display_name": "Python 3 (ipykernel)",
   "language": "python",
   "name": "python3"
  },
  "language_info": {
   "codemirror_mode": {
    "name": "ipython",
    "version": 3
   },
   "file_extension": ".py",
   "mimetype": "text/x-python",
   "name": "python",
   "nbconvert_exporter": "python",
   "pygments_lexer": "ipython3",
   "version": "3.9.23"
  },
  "toc": {
   "base_numbering": 1,
   "nav_menu": {},
   "number_sections": true,
   "sideBar": true,
   "skip_h1_title": false,
   "title_cell": "Table of Contents",
   "title_sidebar": "Contents",
   "toc_cell": false,
   "toc_position": {},
   "toc_section_display": true,
   "toc_window_display": true
  }
 },
 "nbformat": 4,
 "nbformat_minor": 4
}
